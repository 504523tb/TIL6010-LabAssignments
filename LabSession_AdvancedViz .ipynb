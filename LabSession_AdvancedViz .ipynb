{
 "cells": [
  {
   "cell_type": "markdown",
   "id": "0499befa",
   "metadata": {},
   "source": [
    "# Submission\n",
    "\n",
    "Put the ipynb file and html file in the github branch you created in the last assignment and submit the link to the commit in brightspace"
   ]
  },
  {
   "cell_type": "code",
   "execution_count": 1,
   "id": "55a7f233",
   "metadata": {
    "scrolled": false
   },
   "outputs": [
    {
     "data": {
      "text/html": [
       "        <script type=\"text/javascript\">\n",
       "        window.PlotlyConfig = {MathJaxConfig: 'local'};\n",
       "        if (window.MathJax && window.MathJax.Hub && window.MathJax.Hub.Config) {window.MathJax.Hub.Config({SVG: {font: \"STIX-Web\"}});}\n",
       "        if (typeof require !== 'undefined') {\n",
       "        require.undef(\"plotly\");\n",
       "        requirejs.config({\n",
       "            paths: {\n",
       "                'plotly': ['https://cdn.plot.ly/plotly-2.25.2.min']\n",
       "            }\n",
       "        });\n",
       "        require(['plotly'], function(Plotly) {\n",
       "            window._Plotly = Plotly;\n",
       "        });\n",
       "        }\n",
       "        </script>\n",
       "        "
      ]
     },
     "metadata": {},
     "output_type": "display_data"
    }
   ],
   "source": [
    "from plotly.offline import init_notebook_mode\n",
    "import plotly.io as pio\n",
    "import plotly.express as px\n",
    "\n",
    "init_notebook_mode(connected=True)\n",
    "pio.renderers.default = \"plotly_mimetype+notebook\""
   ]
  },
  {
   "cell_type": "code",
   "execution_count": 2,
   "id": "61b8abee",
   "metadata": {},
   "outputs": [
    {
     "data": {
      "text/html": [
       "<div>\n",
       "<style scoped>\n",
       "    .dataframe tbody tr th:only-of-type {\n",
       "        vertical-align: middle;\n",
       "    }\n",
       "\n",
       "    .dataframe tbody tr th {\n",
       "        vertical-align: top;\n",
       "    }\n",
       "\n",
       "    .dataframe thead th {\n",
       "        text-align: right;\n",
       "    }\n",
       "</style>\n",
       "<table border=\"1\" class=\"dataframe\">\n",
       "  <thead>\n",
       "    <tr style=\"text-align: right;\">\n",
       "      <th></th>\n",
       "      <th>country</th>\n",
       "      <th>continent</th>\n",
       "      <th>year</th>\n",
       "      <th>lifeExp</th>\n",
       "      <th>pop</th>\n",
       "      <th>gdpPercap</th>\n",
       "      <th>iso_alpha</th>\n",
       "      <th>iso_num</th>\n",
       "    </tr>\n",
       "  </thead>\n",
       "  <tbody>\n",
       "    <tr>\n",
       "      <th>0</th>\n",
       "      <td>Afghanistan</td>\n",
       "      <td>Asia</td>\n",
       "      <td>1952</td>\n",
       "      <td>28.801</td>\n",
       "      <td>8425333</td>\n",
       "      <td>779.445314</td>\n",
       "      <td>AFG</td>\n",
       "      <td>4</td>\n",
       "    </tr>\n",
       "    <tr>\n",
       "      <th>1</th>\n",
       "      <td>Afghanistan</td>\n",
       "      <td>Asia</td>\n",
       "      <td>1957</td>\n",
       "      <td>30.332</td>\n",
       "      <td>9240934</td>\n",
       "      <td>820.853030</td>\n",
       "      <td>AFG</td>\n",
       "      <td>4</td>\n",
       "    </tr>\n",
       "    <tr>\n",
       "      <th>2</th>\n",
       "      <td>Afghanistan</td>\n",
       "      <td>Asia</td>\n",
       "      <td>1962</td>\n",
       "      <td>31.997</td>\n",
       "      <td>10267083</td>\n",
       "      <td>853.100710</td>\n",
       "      <td>AFG</td>\n",
       "      <td>4</td>\n",
       "    </tr>\n",
       "    <tr>\n",
       "      <th>3</th>\n",
       "      <td>Afghanistan</td>\n",
       "      <td>Asia</td>\n",
       "      <td>1967</td>\n",
       "      <td>34.020</td>\n",
       "      <td>11537966</td>\n",
       "      <td>836.197138</td>\n",
       "      <td>AFG</td>\n",
       "      <td>4</td>\n",
       "    </tr>\n",
       "    <tr>\n",
       "      <th>4</th>\n",
       "      <td>Afghanistan</td>\n",
       "      <td>Asia</td>\n",
       "      <td>1972</td>\n",
       "      <td>36.088</td>\n",
       "      <td>13079460</td>\n",
       "      <td>739.981106</td>\n",
       "      <td>AFG</td>\n",
       "      <td>4</td>\n",
       "    </tr>\n",
       "  </tbody>\n",
       "</table>\n",
       "</div>"
      ],
      "text/plain": [
       "       country continent  year  lifeExp       pop   gdpPercap iso_alpha  \\\n",
       "0  Afghanistan      Asia  1952   28.801   8425333  779.445314       AFG   \n",
       "1  Afghanistan      Asia  1957   30.332   9240934  820.853030       AFG   \n",
       "2  Afghanistan      Asia  1962   31.997  10267083  853.100710       AFG   \n",
       "3  Afghanistan      Asia  1967   34.020  11537966  836.197138       AFG   \n",
       "4  Afghanistan      Asia  1972   36.088  13079460  739.981106       AFG   \n",
       "\n",
       "   iso_num  \n",
       "0        4  \n",
       "1        4  \n",
       "2        4  \n",
       "3        4  \n",
       "4        4  "
      ]
     },
     "execution_count": 2,
     "metadata": {},
     "output_type": "execute_result"
    }
   ],
   "source": [
    "#load data\n",
    "df = px.data.gapminder()\n",
    "df.head()"
   ]
  },
  {
   "cell_type": "markdown",
   "id": "056ae4c9",
   "metadata": {},
   "source": [
    "## Question 1:\n",
    "\n",
    "Recreate the barplot below that shows the population of different continents for the year 2007. \n",
    "\n",
    "*Hints:*\n",
    "\n",
    "- Extract the 2007 year data from the dataframe. You have to process the data accordingly\n",
    "- use [plotly bar](https://plotly.com/python-api-reference/generated/plotly.express.bar)\n",
    "- Add different colors for different continents\n",
    "- Sort the order of the continent for the visualisation. Use [axis layout setting](https://plotly.com/python/reference/layout/xaxis/)\n",
    "- Add text to each bar that represents the population "
   ]
  },
  {
   "cell_type": "code",
   "execution_count": 10,
   "id": "08cbedc6",
   "metadata": {
    "hidden": true
   },
   "outputs": [
    {
     "data": {
      "application/vnd.plotly.v1+json": {
       "config": {
        "plotlyServerURL": "https://plot.ly"
       },
       "data": [
        {
         "alignmentgroup": "True",
         "hovertemplate": "continent=%{y}<br>pop=%{x}<extra></extra>",
         "legendgroup": "Africa",
         "marker": {
          "color": "rgb(228,26,28)",
          "pattern": {
           "shape": ""
          }
         },
         "name": "Africa",
         "offsetgroup": "Africa",
         "orientation": "h",
         "showlegend": false,
         "textposition": "auto",
         "type": "bar",
         "x": [
          929539692
         ],
         "xaxis": "x",
         "y": [
          "Africa"
         ],
         "yaxis": "y"
        },
        {
         "alignmentgroup": "True",
         "hovertemplate": "continent=%{y}<br>pop=%{x}<extra></extra>",
         "legendgroup": "Americas",
         "marker": {
          "color": "rgb(55,126,184)",
          "pattern": {
           "shape": ""
          }
         },
         "name": "Americas",
         "offsetgroup": "Americas",
         "orientation": "h",
         "showlegend": false,
         "textposition": "auto",
         "type": "bar",
         "x": [
          898871184
         ],
         "xaxis": "x",
         "y": [
          "Americas"
         ],
         "yaxis": "y"
        },
        {
         "alignmentgroup": "True",
         "hovertemplate": "continent=%{y}<br>pop=%{x}<extra></extra>",
         "legendgroup": "Asia",
         "marker": {
          "color": "rgb(77,175,74)",
          "pattern": {
           "shape": ""
          }
         },
         "name": "Asia",
         "offsetgroup": "Asia",
         "orientation": "h",
         "showlegend": false,
         "textposition": "auto",
         "type": "bar",
         "x": [
          3811953827
         ],
         "xaxis": "x",
         "y": [
          "Asia"
         ],
         "yaxis": "y"
        },
        {
         "alignmentgroup": "True",
         "hovertemplate": "continent=%{y}<br>pop=%{x}<extra></extra>",
         "legendgroup": "Europe",
         "marker": {
          "color": "rgb(152,78,163)",
          "pattern": {
           "shape": ""
          }
         },
         "name": "Europe",
         "offsetgroup": "Europe",
         "orientation": "h",
         "showlegend": false,
         "textposition": "auto",
         "type": "bar",
         "x": [
          586098529
         ],
         "xaxis": "x",
         "y": [
          "Europe"
         ],
         "yaxis": "y"
        },
        {
         "alignmentgroup": "True",
         "hovertemplate": "continent=%{y}<br>pop=%{x}<extra></extra>",
         "legendgroup": "Oceania",
         "marker": {
          "color": "rgb(255,127,0)",
          "pattern": {
           "shape": ""
          }
         },
         "name": "Oceania",
         "offsetgroup": "Oceania",
         "orientation": "h",
         "showlegend": false,
         "textposition": "auto",
         "type": "bar",
         "x": [
          24549947
         ],
         "xaxis": "x",
         "y": [
          "Oceania"
         ],
         "yaxis": "y"
        }
       ],
       "layout": {
        "barmode": "relative",
        "legend": {
         "title": {
          "text": "continent"
         },
         "tracegroupgap": 0
        },
        "margin": {
         "t": 60
        },
        "template": {
         "data": {
          "bar": [
           {
            "error_x": {
             "color": "#2a3f5f"
            },
            "error_y": {
             "color": "#2a3f5f"
            },
            "marker": {
             "line": {
              "color": "#E5ECF6",
              "width": 0.5
             },
             "pattern": {
              "fillmode": "overlay",
              "size": 10,
              "solidity": 0.2
             }
            },
            "type": "bar"
           }
          ],
          "barpolar": [
           {
            "marker": {
             "line": {
              "color": "#E5ECF6",
              "width": 0.5
             },
             "pattern": {
              "fillmode": "overlay",
              "size": 10,
              "solidity": 0.2
             }
            },
            "type": "barpolar"
           }
          ],
          "carpet": [
           {
            "aaxis": {
             "endlinecolor": "#2a3f5f",
             "gridcolor": "white",
             "linecolor": "white",
             "minorgridcolor": "white",
             "startlinecolor": "#2a3f5f"
            },
            "baxis": {
             "endlinecolor": "#2a3f5f",
             "gridcolor": "white",
             "linecolor": "white",
             "minorgridcolor": "white",
             "startlinecolor": "#2a3f5f"
            },
            "type": "carpet"
           }
          ],
          "choropleth": [
           {
            "colorbar": {
             "outlinewidth": 0,
             "ticks": ""
            },
            "type": "choropleth"
           }
          ],
          "contour": [
           {
            "colorbar": {
             "outlinewidth": 0,
             "ticks": ""
            },
            "colorscale": [
             [
              0,
              "#0d0887"
             ],
             [
              0.1111111111111111,
              "#46039f"
             ],
             [
              0.2222222222222222,
              "#7201a8"
             ],
             [
              0.3333333333333333,
              "#9c179e"
             ],
             [
              0.4444444444444444,
              "#bd3786"
             ],
             [
              0.5555555555555556,
              "#d8576b"
             ],
             [
              0.6666666666666666,
              "#ed7953"
             ],
             [
              0.7777777777777778,
              "#fb9f3a"
             ],
             [
              0.8888888888888888,
              "#fdca26"
             ],
             [
              1,
              "#f0f921"
             ]
            ],
            "type": "contour"
           }
          ],
          "contourcarpet": [
           {
            "colorbar": {
             "outlinewidth": 0,
             "ticks": ""
            },
            "type": "contourcarpet"
           }
          ],
          "heatmap": [
           {
            "colorbar": {
             "outlinewidth": 0,
             "ticks": ""
            },
            "colorscale": [
             [
              0,
              "#0d0887"
             ],
             [
              0.1111111111111111,
              "#46039f"
             ],
             [
              0.2222222222222222,
              "#7201a8"
             ],
             [
              0.3333333333333333,
              "#9c179e"
             ],
             [
              0.4444444444444444,
              "#bd3786"
             ],
             [
              0.5555555555555556,
              "#d8576b"
             ],
             [
              0.6666666666666666,
              "#ed7953"
             ],
             [
              0.7777777777777778,
              "#fb9f3a"
             ],
             [
              0.8888888888888888,
              "#fdca26"
             ],
             [
              1,
              "#f0f921"
             ]
            ],
            "type": "heatmap"
           }
          ],
          "heatmapgl": [
           {
            "colorbar": {
             "outlinewidth": 0,
             "ticks": ""
            },
            "colorscale": [
             [
              0,
              "#0d0887"
             ],
             [
              0.1111111111111111,
              "#46039f"
             ],
             [
              0.2222222222222222,
              "#7201a8"
             ],
             [
              0.3333333333333333,
              "#9c179e"
             ],
             [
              0.4444444444444444,
              "#bd3786"
             ],
             [
              0.5555555555555556,
              "#d8576b"
             ],
             [
              0.6666666666666666,
              "#ed7953"
             ],
             [
              0.7777777777777778,
              "#fb9f3a"
             ],
             [
              0.8888888888888888,
              "#fdca26"
             ],
             [
              1,
              "#f0f921"
             ]
            ],
            "type": "heatmapgl"
           }
          ],
          "histogram": [
           {
            "marker": {
             "pattern": {
              "fillmode": "overlay",
              "size": 10,
              "solidity": 0.2
             }
            },
            "type": "histogram"
           }
          ],
          "histogram2d": [
           {
            "colorbar": {
             "outlinewidth": 0,
             "ticks": ""
            },
            "colorscale": [
             [
              0,
              "#0d0887"
             ],
             [
              0.1111111111111111,
              "#46039f"
             ],
             [
              0.2222222222222222,
              "#7201a8"
             ],
             [
              0.3333333333333333,
              "#9c179e"
             ],
             [
              0.4444444444444444,
              "#bd3786"
             ],
             [
              0.5555555555555556,
              "#d8576b"
             ],
             [
              0.6666666666666666,
              "#ed7953"
             ],
             [
              0.7777777777777778,
              "#fb9f3a"
             ],
             [
              0.8888888888888888,
              "#fdca26"
             ],
             [
              1,
              "#f0f921"
             ]
            ],
            "type": "histogram2d"
           }
          ],
          "histogram2dcontour": [
           {
            "colorbar": {
             "outlinewidth": 0,
             "ticks": ""
            },
            "colorscale": [
             [
              0,
              "#0d0887"
             ],
             [
              0.1111111111111111,
              "#46039f"
             ],
             [
              0.2222222222222222,
              "#7201a8"
             ],
             [
              0.3333333333333333,
              "#9c179e"
             ],
             [
              0.4444444444444444,
              "#bd3786"
             ],
             [
              0.5555555555555556,
              "#d8576b"
             ],
             [
              0.6666666666666666,
              "#ed7953"
             ],
             [
              0.7777777777777778,
              "#fb9f3a"
             ],
             [
              0.8888888888888888,
              "#fdca26"
             ],
             [
              1,
              "#f0f921"
             ]
            ],
            "type": "histogram2dcontour"
           }
          ],
          "mesh3d": [
           {
            "colorbar": {
             "outlinewidth": 0,
             "ticks": ""
            },
            "type": "mesh3d"
           }
          ],
          "parcoords": [
           {
            "line": {
             "colorbar": {
              "outlinewidth": 0,
              "ticks": ""
             }
            },
            "type": "parcoords"
           }
          ],
          "pie": [
           {
            "automargin": true,
            "type": "pie"
           }
          ],
          "scatter": [
           {
            "fillpattern": {
             "fillmode": "overlay",
             "size": 10,
             "solidity": 0.2
            },
            "type": "scatter"
           }
          ],
          "scatter3d": [
           {
            "line": {
             "colorbar": {
              "outlinewidth": 0,
              "ticks": ""
             }
            },
            "marker": {
             "colorbar": {
              "outlinewidth": 0,
              "ticks": ""
             }
            },
            "type": "scatter3d"
           }
          ],
          "scattercarpet": [
           {
            "marker": {
             "colorbar": {
              "outlinewidth": 0,
              "ticks": ""
             }
            },
            "type": "scattercarpet"
           }
          ],
          "scattergeo": [
           {
            "marker": {
             "colorbar": {
              "outlinewidth": 0,
              "ticks": ""
             }
            },
            "type": "scattergeo"
           }
          ],
          "scattergl": [
           {
            "marker": {
             "colorbar": {
              "outlinewidth": 0,
              "ticks": ""
             }
            },
            "type": "scattergl"
           }
          ],
          "scattermapbox": [
           {
            "marker": {
             "colorbar": {
              "outlinewidth": 0,
              "ticks": ""
             }
            },
            "type": "scattermapbox"
           }
          ],
          "scatterpolar": [
           {
            "marker": {
             "colorbar": {
              "outlinewidth": 0,
              "ticks": ""
             }
            },
            "type": "scatterpolar"
           }
          ],
          "scatterpolargl": [
           {
            "marker": {
             "colorbar": {
              "outlinewidth": 0,
              "ticks": ""
             }
            },
            "type": "scatterpolargl"
           }
          ],
          "scatterternary": [
           {
            "marker": {
             "colorbar": {
              "outlinewidth": 0,
              "ticks": ""
             }
            },
            "type": "scatterternary"
           }
          ],
          "surface": [
           {
            "colorbar": {
             "outlinewidth": 0,
             "ticks": ""
            },
            "colorscale": [
             [
              0,
              "#0d0887"
             ],
             [
              0.1111111111111111,
              "#46039f"
             ],
             [
              0.2222222222222222,
              "#7201a8"
             ],
             [
              0.3333333333333333,
              "#9c179e"
             ],
             [
              0.4444444444444444,
              "#bd3786"
             ],
             [
              0.5555555555555556,
              "#d8576b"
             ],
             [
              0.6666666666666666,
              "#ed7953"
             ],
             [
              0.7777777777777778,
              "#fb9f3a"
             ],
             [
              0.8888888888888888,
              "#fdca26"
             ],
             [
              1,
              "#f0f921"
             ]
            ],
            "type": "surface"
           }
          ],
          "table": [
           {
            "cells": {
             "fill": {
              "color": "#EBF0F8"
             },
             "line": {
              "color": "white"
             }
            },
            "header": {
             "fill": {
              "color": "#C8D4E3"
             },
             "line": {
              "color": "white"
             }
            },
            "type": "table"
           }
          ]
         },
         "layout": {
          "annotationdefaults": {
           "arrowcolor": "#2a3f5f",
           "arrowhead": 0,
           "arrowwidth": 1
          },
          "autotypenumbers": "strict",
          "coloraxis": {
           "colorbar": {
            "outlinewidth": 0,
            "ticks": ""
           }
          },
          "colorscale": {
           "diverging": [
            [
             0,
             "#8e0152"
            ],
            [
             0.1,
             "#c51b7d"
            ],
            [
             0.2,
             "#de77ae"
            ],
            [
             0.3,
             "#f1b6da"
            ],
            [
             0.4,
             "#fde0ef"
            ],
            [
             0.5,
             "#f7f7f7"
            ],
            [
             0.6,
             "#e6f5d0"
            ],
            [
             0.7,
             "#b8e186"
            ],
            [
             0.8,
             "#7fbc41"
            ],
            [
             0.9,
             "#4d9221"
            ],
            [
             1,
             "#276419"
            ]
           ],
           "sequential": [
            [
             0,
             "#0d0887"
            ],
            [
             0.1111111111111111,
             "#46039f"
            ],
            [
             0.2222222222222222,
             "#7201a8"
            ],
            [
             0.3333333333333333,
             "#9c179e"
            ],
            [
             0.4444444444444444,
             "#bd3786"
            ],
            [
             0.5555555555555556,
             "#d8576b"
            ],
            [
             0.6666666666666666,
             "#ed7953"
            ],
            [
             0.7777777777777778,
             "#fb9f3a"
            ],
            [
             0.8888888888888888,
             "#fdca26"
            ],
            [
             1,
             "#f0f921"
            ]
           ],
           "sequentialminus": [
            [
             0,
             "#0d0887"
            ],
            [
             0.1111111111111111,
             "#46039f"
            ],
            [
             0.2222222222222222,
             "#7201a8"
            ],
            [
             0.3333333333333333,
             "#9c179e"
            ],
            [
             0.4444444444444444,
             "#bd3786"
            ],
            [
             0.5555555555555556,
             "#d8576b"
            ],
            [
             0.6666666666666666,
             "#ed7953"
            ],
            [
             0.7777777777777778,
             "#fb9f3a"
            ],
            [
             0.8888888888888888,
             "#fdca26"
            ],
            [
             1,
             "#f0f921"
            ]
           ]
          },
          "colorway": [
           "#636efa",
           "#EF553B",
           "#00cc96",
           "#ab63fa",
           "#FFA15A",
           "#19d3f3",
           "#FF6692",
           "#B6E880",
           "#FF97FF",
           "#FECB52"
          ],
          "font": {
           "color": "#2a3f5f"
          },
          "geo": {
           "bgcolor": "white",
           "lakecolor": "white",
           "landcolor": "#E5ECF6",
           "showlakes": true,
           "showland": true,
           "subunitcolor": "white"
          },
          "hoverlabel": {
           "align": "left"
          },
          "hovermode": "closest",
          "mapbox": {
           "style": "light"
          },
          "paper_bgcolor": "white",
          "plot_bgcolor": "#E5ECF6",
          "polar": {
           "angularaxis": {
            "gridcolor": "white",
            "linecolor": "white",
            "ticks": ""
           },
           "bgcolor": "#E5ECF6",
           "radialaxis": {
            "gridcolor": "white",
            "linecolor": "white",
            "ticks": ""
           }
          },
          "scene": {
           "xaxis": {
            "backgroundcolor": "#E5ECF6",
            "gridcolor": "white",
            "gridwidth": 2,
            "linecolor": "white",
            "showbackground": true,
            "ticks": "",
            "zerolinecolor": "white"
           },
           "yaxis": {
            "backgroundcolor": "#E5ECF6",
            "gridcolor": "white",
            "gridwidth": 2,
            "linecolor": "white",
            "showbackground": true,
            "ticks": "",
            "zerolinecolor": "white"
           },
           "zaxis": {
            "backgroundcolor": "#E5ECF6",
            "gridcolor": "white",
            "gridwidth": 2,
            "linecolor": "white",
            "showbackground": true,
            "ticks": "",
            "zerolinecolor": "white"
           }
          },
          "shapedefaults": {
           "line": {
            "color": "#2a3f5f"
           }
          },
          "ternary": {
           "aaxis": {
            "gridcolor": "white",
            "linecolor": "white",
            "ticks": ""
           },
           "baxis": {
            "gridcolor": "white",
            "linecolor": "white",
            "ticks": ""
           },
           "bgcolor": "#E5ECF6",
           "caxis": {
            "gridcolor": "white",
            "linecolor": "white",
            "ticks": ""
           }
          },
          "title": {
           "x": 0.05
          },
          "xaxis": {
           "automargin": true,
           "gridcolor": "white",
           "linecolor": "white",
           "ticks": "",
           "title": {
            "standoff": 15
           },
           "zerolinecolor": "white",
           "zerolinewidth": 2
          },
          "yaxis": {
           "automargin": true,
           "gridcolor": "white",
           "linecolor": "white",
           "ticks": "",
           "title": {
            "standoff": 15
           },
           "zerolinecolor": "white",
           "zerolinewidth": 2
          }
         }
        },
        "xaxis": {
         "anchor": "y",
         "domain": [
          0,
          1
         ],
         "title": {
          "text": "pop"
         }
        },
        "yaxis": {
         "anchor": "x",
         "categoryarray": [
          "Oceania",
          "Europe",
          "Asia",
          "Americas",
          "Africa"
         ],
         "categoryorder": "array",
         "domain": [
          0,
          1
         ],
         "title": {
          "text": "continent"
         }
        }
       }
      },
      "text/html": [
       "<div>                            <div id=\"1dbb4b33-0122-45a5-803c-e8ade2f6ef3e\" class=\"plotly-graph-div\" style=\"height:525px; width:100%;\"></div>            <script type=\"text/javascript\">                require([\"plotly\"], function(Plotly) {                    window.PLOTLYENV=window.PLOTLYENV || {};                                    if (document.getElementById(\"1dbb4b33-0122-45a5-803c-e8ade2f6ef3e\")) {                    Plotly.newPlot(                        \"1dbb4b33-0122-45a5-803c-e8ade2f6ef3e\",                        [{\"alignmentgroup\":\"True\",\"hovertemplate\":\"continent=%{y}\\u003cbr\\u003epop=%{x}\\u003cextra\\u003e\\u003c\\u002fextra\\u003e\",\"legendgroup\":\"Africa\",\"marker\":{\"color\":\"rgb(228,26,28)\",\"pattern\":{\"shape\":\"\"}},\"name\":\"Africa\",\"offsetgroup\":\"Africa\",\"orientation\":\"h\",\"showlegend\":false,\"textposition\":\"auto\",\"x\":[929539692],\"xaxis\":\"x\",\"y\":[\"Africa\"],\"yaxis\":\"y\",\"type\":\"bar\"},{\"alignmentgroup\":\"True\",\"hovertemplate\":\"continent=%{y}\\u003cbr\\u003epop=%{x}\\u003cextra\\u003e\\u003c\\u002fextra\\u003e\",\"legendgroup\":\"Americas\",\"marker\":{\"color\":\"rgb(55,126,184)\",\"pattern\":{\"shape\":\"\"}},\"name\":\"Americas\",\"offsetgroup\":\"Americas\",\"orientation\":\"h\",\"showlegend\":false,\"textposition\":\"auto\",\"x\":[898871184],\"xaxis\":\"x\",\"y\":[\"Americas\"],\"yaxis\":\"y\",\"type\":\"bar\"},{\"alignmentgroup\":\"True\",\"hovertemplate\":\"continent=%{y}\\u003cbr\\u003epop=%{x}\\u003cextra\\u003e\\u003c\\u002fextra\\u003e\",\"legendgroup\":\"Asia\",\"marker\":{\"color\":\"rgb(77,175,74)\",\"pattern\":{\"shape\":\"\"}},\"name\":\"Asia\",\"offsetgroup\":\"Asia\",\"orientation\":\"h\",\"showlegend\":false,\"textposition\":\"auto\",\"x\":[3811953827],\"xaxis\":\"x\",\"y\":[\"Asia\"],\"yaxis\":\"y\",\"type\":\"bar\"},{\"alignmentgroup\":\"True\",\"hovertemplate\":\"continent=%{y}\\u003cbr\\u003epop=%{x}\\u003cextra\\u003e\\u003c\\u002fextra\\u003e\",\"legendgroup\":\"Europe\",\"marker\":{\"color\":\"rgb(152,78,163)\",\"pattern\":{\"shape\":\"\"}},\"name\":\"Europe\",\"offsetgroup\":\"Europe\",\"orientation\":\"h\",\"showlegend\":false,\"textposition\":\"auto\",\"x\":[586098529],\"xaxis\":\"x\",\"y\":[\"Europe\"],\"yaxis\":\"y\",\"type\":\"bar\"},{\"alignmentgroup\":\"True\",\"hovertemplate\":\"continent=%{y}\\u003cbr\\u003epop=%{x}\\u003cextra\\u003e\\u003c\\u002fextra\\u003e\",\"legendgroup\":\"Oceania\",\"marker\":{\"color\":\"rgb(255,127,0)\",\"pattern\":{\"shape\":\"\"}},\"name\":\"Oceania\",\"offsetgroup\":\"Oceania\",\"orientation\":\"h\",\"showlegend\":false,\"textposition\":\"auto\",\"x\":[24549947],\"xaxis\":\"x\",\"y\":[\"Oceania\"],\"yaxis\":\"y\",\"type\":\"bar\"}],                        {\"template\":{\"data\":{\"histogram2dcontour\":[{\"type\":\"histogram2dcontour\",\"colorbar\":{\"outlinewidth\":0,\"ticks\":\"\"},\"colorscale\":[[0.0,\"#0d0887\"],[0.1111111111111111,\"#46039f\"],[0.2222222222222222,\"#7201a8\"],[0.3333333333333333,\"#9c179e\"],[0.4444444444444444,\"#bd3786\"],[0.5555555555555556,\"#d8576b\"],[0.6666666666666666,\"#ed7953\"],[0.7777777777777778,\"#fb9f3a\"],[0.8888888888888888,\"#fdca26\"],[1.0,\"#f0f921\"]]}],\"choropleth\":[{\"type\":\"choropleth\",\"colorbar\":{\"outlinewidth\":0,\"ticks\":\"\"}}],\"histogram2d\":[{\"type\":\"histogram2d\",\"colorbar\":{\"outlinewidth\":0,\"ticks\":\"\"},\"colorscale\":[[0.0,\"#0d0887\"],[0.1111111111111111,\"#46039f\"],[0.2222222222222222,\"#7201a8\"],[0.3333333333333333,\"#9c179e\"],[0.4444444444444444,\"#bd3786\"],[0.5555555555555556,\"#d8576b\"],[0.6666666666666666,\"#ed7953\"],[0.7777777777777778,\"#fb9f3a\"],[0.8888888888888888,\"#fdca26\"],[1.0,\"#f0f921\"]]}],\"heatmap\":[{\"type\":\"heatmap\",\"colorbar\":{\"outlinewidth\":0,\"ticks\":\"\"},\"colorscale\":[[0.0,\"#0d0887\"],[0.1111111111111111,\"#46039f\"],[0.2222222222222222,\"#7201a8\"],[0.3333333333333333,\"#9c179e\"],[0.4444444444444444,\"#bd3786\"],[0.5555555555555556,\"#d8576b\"],[0.6666666666666666,\"#ed7953\"],[0.7777777777777778,\"#fb9f3a\"],[0.8888888888888888,\"#fdca26\"],[1.0,\"#f0f921\"]]}],\"heatmapgl\":[{\"type\":\"heatmapgl\",\"colorbar\":{\"outlinewidth\":0,\"ticks\":\"\"},\"colorscale\":[[0.0,\"#0d0887\"],[0.1111111111111111,\"#46039f\"],[0.2222222222222222,\"#7201a8\"],[0.3333333333333333,\"#9c179e\"],[0.4444444444444444,\"#bd3786\"],[0.5555555555555556,\"#d8576b\"],[0.6666666666666666,\"#ed7953\"],[0.7777777777777778,\"#fb9f3a\"],[0.8888888888888888,\"#fdca26\"],[1.0,\"#f0f921\"]]}],\"contourcarpet\":[{\"type\":\"contourcarpet\",\"colorbar\":{\"outlinewidth\":0,\"ticks\":\"\"}}],\"contour\":[{\"type\":\"contour\",\"colorbar\":{\"outlinewidth\":0,\"ticks\":\"\"},\"colorscale\":[[0.0,\"#0d0887\"],[0.1111111111111111,\"#46039f\"],[0.2222222222222222,\"#7201a8\"],[0.3333333333333333,\"#9c179e\"],[0.4444444444444444,\"#bd3786\"],[0.5555555555555556,\"#d8576b\"],[0.6666666666666666,\"#ed7953\"],[0.7777777777777778,\"#fb9f3a\"],[0.8888888888888888,\"#fdca26\"],[1.0,\"#f0f921\"]]}],\"surface\":[{\"type\":\"surface\",\"colorbar\":{\"outlinewidth\":0,\"ticks\":\"\"},\"colorscale\":[[0.0,\"#0d0887\"],[0.1111111111111111,\"#46039f\"],[0.2222222222222222,\"#7201a8\"],[0.3333333333333333,\"#9c179e\"],[0.4444444444444444,\"#bd3786\"],[0.5555555555555556,\"#d8576b\"],[0.6666666666666666,\"#ed7953\"],[0.7777777777777778,\"#fb9f3a\"],[0.8888888888888888,\"#fdca26\"],[1.0,\"#f0f921\"]]}],\"mesh3d\":[{\"type\":\"mesh3d\",\"colorbar\":{\"outlinewidth\":0,\"ticks\":\"\"}}],\"scatter\":[{\"fillpattern\":{\"fillmode\":\"overlay\",\"size\":10,\"solidity\":0.2},\"type\":\"scatter\"}],\"parcoords\":[{\"type\":\"parcoords\",\"line\":{\"colorbar\":{\"outlinewidth\":0,\"ticks\":\"\"}}}],\"scatterpolargl\":[{\"type\":\"scatterpolargl\",\"marker\":{\"colorbar\":{\"outlinewidth\":0,\"ticks\":\"\"}}}],\"bar\":[{\"error_x\":{\"color\":\"#2a3f5f\"},\"error_y\":{\"color\":\"#2a3f5f\"},\"marker\":{\"line\":{\"color\":\"#E5ECF6\",\"width\":0.5},\"pattern\":{\"fillmode\":\"overlay\",\"size\":10,\"solidity\":0.2}},\"type\":\"bar\"}],\"scattergeo\":[{\"type\":\"scattergeo\",\"marker\":{\"colorbar\":{\"outlinewidth\":0,\"ticks\":\"\"}}}],\"scatterpolar\":[{\"type\":\"scatterpolar\",\"marker\":{\"colorbar\":{\"outlinewidth\":0,\"ticks\":\"\"}}}],\"histogram\":[{\"marker\":{\"pattern\":{\"fillmode\":\"overlay\",\"size\":10,\"solidity\":0.2}},\"type\":\"histogram\"}],\"scattergl\":[{\"type\":\"scattergl\",\"marker\":{\"colorbar\":{\"outlinewidth\":0,\"ticks\":\"\"}}}],\"scatter3d\":[{\"type\":\"scatter3d\",\"line\":{\"colorbar\":{\"outlinewidth\":0,\"ticks\":\"\"}},\"marker\":{\"colorbar\":{\"outlinewidth\":0,\"ticks\":\"\"}}}],\"scattermapbox\":[{\"type\":\"scattermapbox\",\"marker\":{\"colorbar\":{\"outlinewidth\":0,\"ticks\":\"\"}}}],\"scatterternary\":[{\"type\":\"scatterternary\",\"marker\":{\"colorbar\":{\"outlinewidth\":0,\"ticks\":\"\"}}}],\"scattercarpet\":[{\"type\":\"scattercarpet\",\"marker\":{\"colorbar\":{\"outlinewidth\":0,\"ticks\":\"\"}}}],\"carpet\":[{\"aaxis\":{\"endlinecolor\":\"#2a3f5f\",\"gridcolor\":\"white\",\"linecolor\":\"white\",\"minorgridcolor\":\"white\",\"startlinecolor\":\"#2a3f5f\"},\"baxis\":{\"endlinecolor\":\"#2a3f5f\",\"gridcolor\":\"white\",\"linecolor\":\"white\",\"minorgridcolor\":\"white\",\"startlinecolor\":\"#2a3f5f\"},\"type\":\"carpet\"}],\"table\":[{\"cells\":{\"fill\":{\"color\":\"#EBF0F8\"},\"line\":{\"color\":\"white\"}},\"header\":{\"fill\":{\"color\":\"#C8D4E3\"},\"line\":{\"color\":\"white\"}},\"type\":\"table\"}],\"barpolar\":[{\"marker\":{\"line\":{\"color\":\"#E5ECF6\",\"width\":0.5},\"pattern\":{\"fillmode\":\"overlay\",\"size\":10,\"solidity\":0.2}},\"type\":\"barpolar\"}],\"pie\":[{\"automargin\":true,\"type\":\"pie\"}]},\"layout\":{\"autotypenumbers\":\"strict\",\"colorway\":[\"#636efa\",\"#EF553B\",\"#00cc96\",\"#ab63fa\",\"#FFA15A\",\"#19d3f3\",\"#FF6692\",\"#B6E880\",\"#FF97FF\",\"#FECB52\"],\"font\":{\"color\":\"#2a3f5f\"},\"hovermode\":\"closest\",\"hoverlabel\":{\"align\":\"left\"},\"paper_bgcolor\":\"white\",\"plot_bgcolor\":\"#E5ECF6\",\"polar\":{\"bgcolor\":\"#E5ECF6\",\"angularaxis\":{\"gridcolor\":\"white\",\"linecolor\":\"white\",\"ticks\":\"\"},\"radialaxis\":{\"gridcolor\":\"white\",\"linecolor\":\"white\",\"ticks\":\"\"}},\"ternary\":{\"bgcolor\":\"#E5ECF6\",\"aaxis\":{\"gridcolor\":\"white\",\"linecolor\":\"white\",\"ticks\":\"\"},\"baxis\":{\"gridcolor\":\"white\",\"linecolor\":\"white\",\"ticks\":\"\"},\"caxis\":{\"gridcolor\":\"white\",\"linecolor\":\"white\",\"ticks\":\"\"}},\"coloraxis\":{\"colorbar\":{\"outlinewidth\":0,\"ticks\":\"\"}},\"colorscale\":{\"sequential\":[[0.0,\"#0d0887\"],[0.1111111111111111,\"#46039f\"],[0.2222222222222222,\"#7201a8\"],[0.3333333333333333,\"#9c179e\"],[0.4444444444444444,\"#bd3786\"],[0.5555555555555556,\"#d8576b\"],[0.6666666666666666,\"#ed7953\"],[0.7777777777777778,\"#fb9f3a\"],[0.8888888888888888,\"#fdca26\"],[1.0,\"#f0f921\"]],\"sequentialminus\":[[0.0,\"#0d0887\"],[0.1111111111111111,\"#46039f\"],[0.2222222222222222,\"#7201a8\"],[0.3333333333333333,\"#9c179e\"],[0.4444444444444444,\"#bd3786\"],[0.5555555555555556,\"#d8576b\"],[0.6666666666666666,\"#ed7953\"],[0.7777777777777778,\"#fb9f3a\"],[0.8888888888888888,\"#fdca26\"],[1.0,\"#f0f921\"]],\"diverging\":[[0,\"#8e0152\"],[0.1,\"#c51b7d\"],[0.2,\"#de77ae\"],[0.3,\"#f1b6da\"],[0.4,\"#fde0ef\"],[0.5,\"#f7f7f7\"],[0.6,\"#e6f5d0\"],[0.7,\"#b8e186\"],[0.8,\"#7fbc41\"],[0.9,\"#4d9221\"],[1,\"#276419\"]]},\"xaxis\":{\"gridcolor\":\"white\",\"linecolor\":\"white\",\"ticks\":\"\",\"title\":{\"standoff\":15},\"zerolinecolor\":\"white\",\"automargin\":true,\"zerolinewidth\":2},\"yaxis\":{\"gridcolor\":\"white\",\"linecolor\":\"white\",\"ticks\":\"\",\"title\":{\"standoff\":15},\"zerolinecolor\":\"white\",\"automargin\":true,\"zerolinewidth\":2},\"scene\":{\"xaxis\":{\"backgroundcolor\":\"#E5ECF6\",\"gridcolor\":\"white\",\"linecolor\":\"white\",\"showbackground\":true,\"ticks\":\"\",\"zerolinecolor\":\"white\",\"gridwidth\":2},\"yaxis\":{\"backgroundcolor\":\"#E5ECF6\",\"gridcolor\":\"white\",\"linecolor\":\"white\",\"showbackground\":true,\"ticks\":\"\",\"zerolinecolor\":\"white\",\"gridwidth\":2},\"zaxis\":{\"backgroundcolor\":\"#E5ECF6\",\"gridcolor\":\"white\",\"linecolor\":\"white\",\"showbackground\":true,\"ticks\":\"\",\"zerolinecolor\":\"white\",\"gridwidth\":2}},\"shapedefaults\":{\"line\":{\"color\":\"#2a3f5f\"}},\"annotationdefaults\":{\"arrowcolor\":\"#2a3f5f\",\"arrowhead\":0,\"arrowwidth\":1},\"geo\":{\"bgcolor\":\"white\",\"landcolor\":\"#E5ECF6\",\"subunitcolor\":\"white\",\"showland\":true,\"showlakes\":true,\"lakecolor\":\"white\"},\"title\":{\"x\":0.05},\"mapbox\":{\"style\":\"light\"}}},\"xaxis\":{\"anchor\":\"y\",\"domain\":[0.0,1.0],\"title\":{\"text\":\"pop\"}},\"yaxis\":{\"anchor\":\"x\",\"domain\":[0.0,1.0],\"title\":{\"text\":\"continent\"},\"categoryorder\":\"array\",\"categoryarray\":[\"Oceania\",\"Europe\",\"Asia\",\"Americas\",\"Africa\"]},\"legend\":{\"title\":{\"text\":\"continent\"},\"tracegroupgap\":0},\"margin\":{\"t\":60},\"barmode\":\"relative\"},                        {\"responsive\": true}                    ).then(function(){\n",
       "                            \n",
       "var gd = document.getElementById('1dbb4b33-0122-45a5-803c-e8ade2f6ef3e');\n",
       "var x = new MutationObserver(function (mutations, observer) {{\n",
       "        var display = window.getComputedStyle(gd).display;\n",
       "        if (!display || display === 'none') {{\n",
       "            console.log([gd, 'removed!']);\n",
       "            Plotly.purge(gd);\n",
       "            observer.disconnect();\n",
       "        }}\n",
       "}});\n",
       "\n",
       "// Listen for the removal of the full notebook cells\n",
       "var notebookContainer = gd.closest('#notebook-container');\n",
       "if (notebookContainer) {{\n",
       "    x.observe(notebookContainer, {childList: true});\n",
       "}}\n",
       "\n",
       "// Listen for the clearing of the current output cell\n",
       "var outputEl = gd.closest('.output');\n",
       "if (outputEl) {{\n",
       "    x.observe(outputEl, {childList: true});\n",
       "}}\n",
       "\n",
       "                        })                };                });            </script>        </div>"
      ]
     },
     "metadata": {},
     "output_type": "display_data"
    }
   ],
   "source": [
    "# YOUR CODE HERE\n",
    "df = df[df[\"year\"]==2007]\n",
    "\n",
    "grouped_df = df.groupby(\"continent\").agg({\"pop\": \"sum\"}).reset_index()\n",
    "\n",
    "colors = px.colors.qualitative.Set1\n",
    "\n",
    "fig = px.bar(grouped_df, x=\"pop\", y=\"continent\",\n",
    "             color=\"continent\", color_discrete_sequence=colors)\n",
    "\n",
    "fig.update_traces(showlegend=False)\n",
    "\n",
    "fig.show()"
   ]
  },
  {
   "cell_type": "markdown",
   "id": "2b8b4537",
   "metadata": {
    "heading_collapsed": true,
    "hidden": true
   },
   "source": [
    "## Question 2:\n",
    "\n",
    "Sort the order of the continent for the visualisation\n",
    "\n",
    "Hint: Use [axis layout setting](https://plotly.com/python/reference/layout/xaxis/)"
   ]
  },
  {
   "cell_type": "code",
   "execution_count": 16,
   "id": "f333be74",
   "metadata": {
    "hidden": true
   },
   "outputs": [
    {
     "data": {
      "application/vnd.plotly.v1+json": {
       "config": {
        "plotlyServerURL": "https://plot.ly"
       },
       "data": [
        {
         "alignmentgroup": "True",
         "hovertemplate": "continent=%{y}<br>pop=%{x}<extra></extra>",
         "legendgroup": "Africa",
         "marker": {
          "color": "rgb(228,26,28)",
          "pattern": {
           "shape": ""
          }
         },
         "name": "Africa",
         "offsetgroup": "Africa",
         "orientation": "h",
         "showlegend": false,
         "textposition": "auto",
         "type": "bar",
         "x": [
          929539692
         ],
         "xaxis": "x",
         "y": [
          "Africa"
         ],
         "yaxis": "y"
        },
        {
         "alignmentgroup": "True",
         "hovertemplate": "continent=%{y}<br>pop=%{x}<extra></extra>",
         "legendgroup": "Americas",
         "marker": {
          "color": "rgb(55,126,184)",
          "pattern": {
           "shape": ""
          }
         },
         "name": "Americas",
         "offsetgroup": "Americas",
         "orientation": "h",
         "showlegend": false,
         "textposition": "auto",
         "type": "bar",
         "x": [
          898871184
         ],
         "xaxis": "x",
         "y": [
          "Americas"
         ],
         "yaxis": "y"
        },
        {
         "alignmentgroup": "True",
         "hovertemplate": "continent=%{y}<br>pop=%{x}<extra></extra>",
         "legendgroup": "Asia",
         "marker": {
          "color": "rgb(77,175,74)",
          "pattern": {
           "shape": ""
          }
         },
         "name": "Asia",
         "offsetgroup": "Asia",
         "orientation": "h",
         "showlegend": false,
         "textposition": "auto",
         "type": "bar",
         "x": [
          3811953827
         ],
         "xaxis": "x",
         "y": [
          "Asia"
         ],
         "yaxis": "y"
        },
        {
         "alignmentgroup": "True",
         "hovertemplate": "continent=%{y}<br>pop=%{x}<extra></extra>",
         "legendgroup": "Europe",
         "marker": {
          "color": "rgb(152,78,163)",
          "pattern": {
           "shape": ""
          }
         },
         "name": "Europe",
         "offsetgroup": "Europe",
         "orientation": "h",
         "showlegend": false,
         "textposition": "auto",
         "type": "bar",
         "x": [
          586098529
         ],
         "xaxis": "x",
         "y": [
          "Europe"
         ],
         "yaxis": "y"
        },
        {
         "alignmentgroup": "True",
         "hovertemplate": "continent=%{y}<br>pop=%{x}<extra></extra>",
         "legendgroup": "Oceania",
         "marker": {
          "color": "rgb(255,127,0)",
          "pattern": {
           "shape": ""
          }
         },
         "name": "Oceania",
         "offsetgroup": "Oceania",
         "orientation": "h",
         "showlegend": false,
         "textposition": "auto",
         "type": "bar",
         "x": [
          24549947
         ],
         "xaxis": "x",
         "y": [
          "Oceania"
         ],
         "yaxis": "y"
        }
       ],
       "layout": {
        "barmode": "relative",
        "legend": {
         "title": {
          "text": "continent"
         },
         "tracegroupgap": 0
        },
        "margin": {
         "t": 60
        },
        "template": {
         "data": {
          "bar": [
           {
            "error_x": {
             "color": "#2a3f5f"
            },
            "error_y": {
             "color": "#2a3f5f"
            },
            "marker": {
             "line": {
              "color": "#E5ECF6",
              "width": 0.5
             },
             "pattern": {
              "fillmode": "overlay",
              "size": 10,
              "solidity": 0.2
             }
            },
            "type": "bar"
           }
          ],
          "barpolar": [
           {
            "marker": {
             "line": {
              "color": "#E5ECF6",
              "width": 0.5
             },
             "pattern": {
              "fillmode": "overlay",
              "size": 10,
              "solidity": 0.2
             }
            },
            "type": "barpolar"
           }
          ],
          "carpet": [
           {
            "aaxis": {
             "endlinecolor": "#2a3f5f",
             "gridcolor": "white",
             "linecolor": "white",
             "minorgridcolor": "white",
             "startlinecolor": "#2a3f5f"
            },
            "baxis": {
             "endlinecolor": "#2a3f5f",
             "gridcolor": "white",
             "linecolor": "white",
             "minorgridcolor": "white",
             "startlinecolor": "#2a3f5f"
            },
            "type": "carpet"
           }
          ],
          "choropleth": [
           {
            "colorbar": {
             "outlinewidth": 0,
             "ticks": ""
            },
            "type": "choropleth"
           }
          ],
          "contour": [
           {
            "colorbar": {
             "outlinewidth": 0,
             "ticks": ""
            },
            "colorscale": [
             [
              0,
              "#0d0887"
             ],
             [
              0.1111111111111111,
              "#46039f"
             ],
             [
              0.2222222222222222,
              "#7201a8"
             ],
             [
              0.3333333333333333,
              "#9c179e"
             ],
             [
              0.4444444444444444,
              "#bd3786"
             ],
             [
              0.5555555555555556,
              "#d8576b"
             ],
             [
              0.6666666666666666,
              "#ed7953"
             ],
             [
              0.7777777777777778,
              "#fb9f3a"
             ],
             [
              0.8888888888888888,
              "#fdca26"
             ],
             [
              1,
              "#f0f921"
             ]
            ],
            "type": "contour"
           }
          ],
          "contourcarpet": [
           {
            "colorbar": {
             "outlinewidth": 0,
             "ticks": ""
            },
            "type": "contourcarpet"
           }
          ],
          "heatmap": [
           {
            "colorbar": {
             "outlinewidth": 0,
             "ticks": ""
            },
            "colorscale": [
             [
              0,
              "#0d0887"
             ],
             [
              0.1111111111111111,
              "#46039f"
             ],
             [
              0.2222222222222222,
              "#7201a8"
             ],
             [
              0.3333333333333333,
              "#9c179e"
             ],
             [
              0.4444444444444444,
              "#bd3786"
             ],
             [
              0.5555555555555556,
              "#d8576b"
             ],
             [
              0.6666666666666666,
              "#ed7953"
             ],
             [
              0.7777777777777778,
              "#fb9f3a"
             ],
             [
              0.8888888888888888,
              "#fdca26"
             ],
             [
              1,
              "#f0f921"
             ]
            ],
            "type": "heatmap"
           }
          ],
          "heatmapgl": [
           {
            "colorbar": {
             "outlinewidth": 0,
             "ticks": ""
            },
            "colorscale": [
             [
              0,
              "#0d0887"
             ],
             [
              0.1111111111111111,
              "#46039f"
             ],
             [
              0.2222222222222222,
              "#7201a8"
             ],
             [
              0.3333333333333333,
              "#9c179e"
             ],
             [
              0.4444444444444444,
              "#bd3786"
             ],
             [
              0.5555555555555556,
              "#d8576b"
             ],
             [
              0.6666666666666666,
              "#ed7953"
             ],
             [
              0.7777777777777778,
              "#fb9f3a"
             ],
             [
              0.8888888888888888,
              "#fdca26"
             ],
             [
              1,
              "#f0f921"
             ]
            ],
            "type": "heatmapgl"
           }
          ],
          "histogram": [
           {
            "marker": {
             "pattern": {
              "fillmode": "overlay",
              "size": 10,
              "solidity": 0.2
             }
            },
            "type": "histogram"
           }
          ],
          "histogram2d": [
           {
            "colorbar": {
             "outlinewidth": 0,
             "ticks": ""
            },
            "colorscale": [
             [
              0,
              "#0d0887"
             ],
             [
              0.1111111111111111,
              "#46039f"
             ],
             [
              0.2222222222222222,
              "#7201a8"
             ],
             [
              0.3333333333333333,
              "#9c179e"
             ],
             [
              0.4444444444444444,
              "#bd3786"
             ],
             [
              0.5555555555555556,
              "#d8576b"
             ],
             [
              0.6666666666666666,
              "#ed7953"
             ],
             [
              0.7777777777777778,
              "#fb9f3a"
             ],
             [
              0.8888888888888888,
              "#fdca26"
             ],
             [
              1,
              "#f0f921"
             ]
            ],
            "type": "histogram2d"
           }
          ],
          "histogram2dcontour": [
           {
            "colorbar": {
             "outlinewidth": 0,
             "ticks": ""
            },
            "colorscale": [
             [
              0,
              "#0d0887"
             ],
             [
              0.1111111111111111,
              "#46039f"
             ],
             [
              0.2222222222222222,
              "#7201a8"
             ],
             [
              0.3333333333333333,
              "#9c179e"
             ],
             [
              0.4444444444444444,
              "#bd3786"
             ],
             [
              0.5555555555555556,
              "#d8576b"
             ],
             [
              0.6666666666666666,
              "#ed7953"
             ],
             [
              0.7777777777777778,
              "#fb9f3a"
             ],
             [
              0.8888888888888888,
              "#fdca26"
             ],
             [
              1,
              "#f0f921"
             ]
            ],
            "type": "histogram2dcontour"
           }
          ],
          "mesh3d": [
           {
            "colorbar": {
             "outlinewidth": 0,
             "ticks": ""
            },
            "type": "mesh3d"
           }
          ],
          "parcoords": [
           {
            "line": {
             "colorbar": {
              "outlinewidth": 0,
              "ticks": ""
             }
            },
            "type": "parcoords"
           }
          ],
          "pie": [
           {
            "automargin": true,
            "type": "pie"
           }
          ],
          "scatter": [
           {
            "fillpattern": {
             "fillmode": "overlay",
             "size": 10,
             "solidity": 0.2
            },
            "type": "scatter"
           }
          ],
          "scatter3d": [
           {
            "line": {
             "colorbar": {
              "outlinewidth": 0,
              "ticks": ""
             }
            },
            "marker": {
             "colorbar": {
              "outlinewidth": 0,
              "ticks": ""
             }
            },
            "type": "scatter3d"
           }
          ],
          "scattercarpet": [
           {
            "marker": {
             "colorbar": {
              "outlinewidth": 0,
              "ticks": ""
             }
            },
            "type": "scattercarpet"
           }
          ],
          "scattergeo": [
           {
            "marker": {
             "colorbar": {
              "outlinewidth": 0,
              "ticks": ""
             }
            },
            "type": "scattergeo"
           }
          ],
          "scattergl": [
           {
            "marker": {
             "colorbar": {
              "outlinewidth": 0,
              "ticks": ""
             }
            },
            "type": "scattergl"
           }
          ],
          "scattermapbox": [
           {
            "marker": {
             "colorbar": {
              "outlinewidth": 0,
              "ticks": ""
             }
            },
            "type": "scattermapbox"
           }
          ],
          "scatterpolar": [
           {
            "marker": {
             "colorbar": {
              "outlinewidth": 0,
              "ticks": ""
             }
            },
            "type": "scatterpolar"
           }
          ],
          "scatterpolargl": [
           {
            "marker": {
             "colorbar": {
              "outlinewidth": 0,
              "ticks": ""
             }
            },
            "type": "scatterpolargl"
           }
          ],
          "scatterternary": [
           {
            "marker": {
             "colorbar": {
              "outlinewidth": 0,
              "ticks": ""
             }
            },
            "type": "scatterternary"
           }
          ],
          "surface": [
           {
            "colorbar": {
             "outlinewidth": 0,
             "ticks": ""
            },
            "colorscale": [
             [
              0,
              "#0d0887"
             ],
             [
              0.1111111111111111,
              "#46039f"
             ],
             [
              0.2222222222222222,
              "#7201a8"
             ],
             [
              0.3333333333333333,
              "#9c179e"
             ],
             [
              0.4444444444444444,
              "#bd3786"
             ],
             [
              0.5555555555555556,
              "#d8576b"
             ],
             [
              0.6666666666666666,
              "#ed7953"
             ],
             [
              0.7777777777777778,
              "#fb9f3a"
             ],
             [
              0.8888888888888888,
              "#fdca26"
             ],
             [
              1,
              "#f0f921"
             ]
            ],
            "type": "surface"
           }
          ],
          "table": [
           {
            "cells": {
             "fill": {
              "color": "#EBF0F8"
             },
             "line": {
              "color": "white"
             }
            },
            "header": {
             "fill": {
              "color": "#C8D4E3"
             },
             "line": {
              "color": "white"
             }
            },
            "type": "table"
           }
          ]
         },
         "layout": {
          "annotationdefaults": {
           "arrowcolor": "#2a3f5f",
           "arrowhead": 0,
           "arrowwidth": 1
          },
          "autotypenumbers": "strict",
          "coloraxis": {
           "colorbar": {
            "outlinewidth": 0,
            "ticks": ""
           }
          },
          "colorscale": {
           "diverging": [
            [
             0,
             "#8e0152"
            ],
            [
             0.1,
             "#c51b7d"
            ],
            [
             0.2,
             "#de77ae"
            ],
            [
             0.3,
             "#f1b6da"
            ],
            [
             0.4,
             "#fde0ef"
            ],
            [
             0.5,
             "#f7f7f7"
            ],
            [
             0.6,
             "#e6f5d0"
            ],
            [
             0.7,
             "#b8e186"
            ],
            [
             0.8,
             "#7fbc41"
            ],
            [
             0.9,
             "#4d9221"
            ],
            [
             1,
             "#276419"
            ]
           ],
           "sequential": [
            [
             0,
             "#0d0887"
            ],
            [
             0.1111111111111111,
             "#46039f"
            ],
            [
             0.2222222222222222,
             "#7201a8"
            ],
            [
             0.3333333333333333,
             "#9c179e"
            ],
            [
             0.4444444444444444,
             "#bd3786"
            ],
            [
             0.5555555555555556,
             "#d8576b"
            ],
            [
             0.6666666666666666,
             "#ed7953"
            ],
            [
             0.7777777777777778,
             "#fb9f3a"
            ],
            [
             0.8888888888888888,
             "#fdca26"
            ],
            [
             1,
             "#f0f921"
            ]
           ],
           "sequentialminus": [
            [
             0,
             "#0d0887"
            ],
            [
             0.1111111111111111,
             "#46039f"
            ],
            [
             0.2222222222222222,
             "#7201a8"
            ],
            [
             0.3333333333333333,
             "#9c179e"
            ],
            [
             0.4444444444444444,
             "#bd3786"
            ],
            [
             0.5555555555555556,
             "#d8576b"
            ],
            [
             0.6666666666666666,
             "#ed7953"
            ],
            [
             0.7777777777777778,
             "#fb9f3a"
            ],
            [
             0.8888888888888888,
             "#fdca26"
            ],
            [
             1,
             "#f0f921"
            ]
           ]
          },
          "colorway": [
           "#636efa",
           "#EF553B",
           "#00cc96",
           "#ab63fa",
           "#FFA15A",
           "#19d3f3",
           "#FF6692",
           "#B6E880",
           "#FF97FF",
           "#FECB52"
          ],
          "font": {
           "color": "#2a3f5f"
          },
          "geo": {
           "bgcolor": "white",
           "lakecolor": "white",
           "landcolor": "#E5ECF6",
           "showlakes": true,
           "showland": true,
           "subunitcolor": "white"
          },
          "hoverlabel": {
           "align": "left"
          },
          "hovermode": "closest",
          "mapbox": {
           "style": "light"
          },
          "paper_bgcolor": "white",
          "plot_bgcolor": "#E5ECF6",
          "polar": {
           "angularaxis": {
            "gridcolor": "white",
            "linecolor": "white",
            "ticks": ""
           },
           "bgcolor": "#E5ECF6",
           "radialaxis": {
            "gridcolor": "white",
            "linecolor": "white",
            "ticks": ""
           }
          },
          "scene": {
           "xaxis": {
            "backgroundcolor": "#E5ECF6",
            "gridcolor": "white",
            "gridwidth": 2,
            "linecolor": "white",
            "showbackground": true,
            "ticks": "",
            "zerolinecolor": "white"
           },
           "yaxis": {
            "backgroundcolor": "#E5ECF6",
            "gridcolor": "white",
            "gridwidth": 2,
            "linecolor": "white",
            "showbackground": true,
            "ticks": "",
            "zerolinecolor": "white"
           },
           "zaxis": {
            "backgroundcolor": "#E5ECF6",
            "gridcolor": "white",
            "gridwidth": 2,
            "linecolor": "white",
            "showbackground": true,
            "ticks": "",
            "zerolinecolor": "white"
           }
          },
          "shapedefaults": {
           "line": {
            "color": "#2a3f5f"
           }
          },
          "ternary": {
           "aaxis": {
            "gridcolor": "white",
            "linecolor": "white",
            "ticks": ""
           },
           "baxis": {
            "gridcolor": "white",
            "linecolor": "white",
            "ticks": ""
           },
           "bgcolor": "#E5ECF6",
           "caxis": {
            "gridcolor": "white",
            "linecolor": "white",
            "ticks": ""
           }
          },
          "title": {
           "x": 0.05
          },
          "xaxis": {
           "automargin": true,
           "gridcolor": "white",
           "linecolor": "white",
           "ticks": "",
           "title": {
            "standoff": 15
           },
           "zerolinecolor": "white",
           "zerolinewidth": 2
          },
          "yaxis": {
           "automargin": true,
           "gridcolor": "white",
           "linecolor": "white",
           "ticks": "",
           "title": {
            "standoff": 15
           },
           "zerolinecolor": "white",
           "zerolinewidth": 2
          }
         }
        },
        "xaxis": {
         "anchor": "y",
         "domain": [
          0,
          1
         ],
         "title": {
          "text": "pop"
         }
        },
        "yaxis": {
         "anchor": "x",
         "categoryarray": [
          "Oceania",
          "Europe",
          "Asia",
          "Americas",
          "Africa"
         ],
         "categoryorder": "total ascending",
         "domain": [
          0,
          1
         ],
         "title": {
          "text": "continent"
         }
        }
       }
      },
      "text/html": [
       "<div>                            <div id=\"e902ae15-8884-4c79-918d-626fe548dada\" class=\"plotly-graph-div\" style=\"height:525px; width:100%;\"></div>            <script type=\"text/javascript\">                require([\"plotly\"], function(Plotly) {                    window.PLOTLYENV=window.PLOTLYENV || {};                                    if (document.getElementById(\"e902ae15-8884-4c79-918d-626fe548dada\")) {                    Plotly.newPlot(                        \"e902ae15-8884-4c79-918d-626fe548dada\",                        [{\"alignmentgroup\":\"True\",\"hovertemplate\":\"continent=%{y}\\u003cbr\\u003epop=%{x}\\u003cextra\\u003e\\u003c\\u002fextra\\u003e\",\"legendgroup\":\"Africa\",\"marker\":{\"color\":\"rgb(228,26,28)\",\"pattern\":{\"shape\":\"\"}},\"name\":\"Africa\",\"offsetgroup\":\"Africa\",\"orientation\":\"h\",\"showlegend\":false,\"textposition\":\"auto\",\"x\":[929539692],\"xaxis\":\"x\",\"y\":[\"Africa\"],\"yaxis\":\"y\",\"type\":\"bar\"},{\"alignmentgroup\":\"True\",\"hovertemplate\":\"continent=%{y}\\u003cbr\\u003epop=%{x}\\u003cextra\\u003e\\u003c\\u002fextra\\u003e\",\"legendgroup\":\"Americas\",\"marker\":{\"color\":\"rgb(55,126,184)\",\"pattern\":{\"shape\":\"\"}},\"name\":\"Americas\",\"offsetgroup\":\"Americas\",\"orientation\":\"h\",\"showlegend\":false,\"textposition\":\"auto\",\"x\":[898871184],\"xaxis\":\"x\",\"y\":[\"Americas\"],\"yaxis\":\"y\",\"type\":\"bar\"},{\"alignmentgroup\":\"True\",\"hovertemplate\":\"continent=%{y}\\u003cbr\\u003epop=%{x}\\u003cextra\\u003e\\u003c\\u002fextra\\u003e\",\"legendgroup\":\"Asia\",\"marker\":{\"color\":\"rgb(77,175,74)\",\"pattern\":{\"shape\":\"\"}},\"name\":\"Asia\",\"offsetgroup\":\"Asia\",\"orientation\":\"h\",\"showlegend\":false,\"textposition\":\"auto\",\"x\":[3811953827],\"xaxis\":\"x\",\"y\":[\"Asia\"],\"yaxis\":\"y\",\"type\":\"bar\"},{\"alignmentgroup\":\"True\",\"hovertemplate\":\"continent=%{y}\\u003cbr\\u003epop=%{x}\\u003cextra\\u003e\\u003c\\u002fextra\\u003e\",\"legendgroup\":\"Europe\",\"marker\":{\"color\":\"rgb(152,78,163)\",\"pattern\":{\"shape\":\"\"}},\"name\":\"Europe\",\"offsetgroup\":\"Europe\",\"orientation\":\"h\",\"showlegend\":false,\"textposition\":\"auto\",\"x\":[586098529],\"xaxis\":\"x\",\"y\":[\"Europe\"],\"yaxis\":\"y\",\"type\":\"bar\"},{\"alignmentgroup\":\"True\",\"hovertemplate\":\"continent=%{y}\\u003cbr\\u003epop=%{x}\\u003cextra\\u003e\\u003c\\u002fextra\\u003e\",\"legendgroup\":\"Oceania\",\"marker\":{\"color\":\"rgb(255,127,0)\",\"pattern\":{\"shape\":\"\"}},\"name\":\"Oceania\",\"offsetgroup\":\"Oceania\",\"orientation\":\"h\",\"showlegend\":false,\"textposition\":\"auto\",\"x\":[24549947],\"xaxis\":\"x\",\"y\":[\"Oceania\"],\"yaxis\":\"y\",\"type\":\"bar\"}],                        {\"template\":{\"data\":{\"histogram2dcontour\":[{\"type\":\"histogram2dcontour\",\"colorbar\":{\"outlinewidth\":0,\"ticks\":\"\"},\"colorscale\":[[0.0,\"#0d0887\"],[0.1111111111111111,\"#46039f\"],[0.2222222222222222,\"#7201a8\"],[0.3333333333333333,\"#9c179e\"],[0.4444444444444444,\"#bd3786\"],[0.5555555555555556,\"#d8576b\"],[0.6666666666666666,\"#ed7953\"],[0.7777777777777778,\"#fb9f3a\"],[0.8888888888888888,\"#fdca26\"],[1.0,\"#f0f921\"]]}],\"choropleth\":[{\"type\":\"choropleth\",\"colorbar\":{\"outlinewidth\":0,\"ticks\":\"\"}}],\"histogram2d\":[{\"type\":\"histogram2d\",\"colorbar\":{\"outlinewidth\":0,\"ticks\":\"\"},\"colorscale\":[[0.0,\"#0d0887\"],[0.1111111111111111,\"#46039f\"],[0.2222222222222222,\"#7201a8\"],[0.3333333333333333,\"#9c179e\"],[0.4444444444444444,\"#bd3786\"],[0.5555555555555556,\"#d8576b\"],[0.6666666666666666,\"#ed7953\"],[0.7777777777777778,\"#fb9f3a\"],[0.8888888888888888,\"#fdca26\"],[1.0,\"#f0f921\"]]}],\"heatmap\":[{\"type\":\"heatmap\",\"colorbar\":{\"outlinewidth\":0,\"ticks\":\"\"},\"colorscale\":[[0.0,\"#0d0887\"],[0.1111111111111111,\"#46039f\"],[0.2222222222222222,\"#7201a8\"],[0.3333333333333333,\"#9c179e\"],[0.4444444444444444,\"#bd3786\"],[0.5555555555555556,\"#d8576b\"],[0.6666666666666666,\"#ed7953\"],[0.7777777777777778,\"#fb9f3a\"],[0.8888888888888888,\"#fdca26\"],[1.0,\"#f0f921\"]]}],\"heatmapgl\":[{\"type\":\"heatmapgl\",\"colorbar\":{\"outlinewidth\":0,\"ticks\":\"\"},\"colorscale\":[[0.0,\"#0d0887\"],[0.1111111111111111,\"#46039f\"],[0.2222222222222222,\"#7201a8\"],[0.3333333333333333,\"#9c179e\"],[0.4444444444444444,\"#bd3786\"],[0.5555555555555556,\"#d8576b\"],[0.6666666666666666,\"#ed7953\"],[0.7777777777777778,\"#fb9f3a\"],[0.8888888888888888,\"#fdca26\"],[1.0,\"#f0f921\"]]}],\"contourcarpet\":[{\"type\":\"contourcarpet\",\"colorbar\":{\"outlinewidth\":0,\"ticks\":\"\"}}],\"contour\":[{\"type\":\"contour\",\"colorbar\":{\"outlinewidth\":0,\"ticks\":\"\"},\"colorscale\":[[0.0,\"#0d0887\"],[0.1111111111111111,\"#46039f\"],[0.2222222222222222,\"#7201a8\"],[0.3333333333333333,\"#9c179e\"],[0.4444444444444444,\"#bd3786\"],[0.5555555555555556,\"#d8576b\"],[0.6666666666666666,\"#ed7953\"],[0.7777777777777778,\"#fb9f3a\"],[0.8888888888888888,\"#fdca26\"],[1.0,\"#f0f921\"]]}],\"surface\":[{\"type\":\"surface\",\"colorbar\":{\"outlinewidth\":0,\"ticks\":\"\"},\"colorscale\":[[0.0,\"#0d0887\"],[0.1111111111111111,\"#46039f\"],[0.2222222222222222,\"#7201a8\"],[0.3333333333333333,\"#9c179e\"],[0.4444444444444444,\"#bd3786\"],[0.5555555555555556,\"#d8576b\"],[0.6666666666666666,\"#ed7953\"],[0.7777777777777778,\"#fb9f3a\"],[0.8888888888888888,\"#fdca26\"],[1.0,\"#f0f921\"]]}],\"mesh3d\":[{\"type\":\"mesh3d\",\"colorbar\":{\"outlinewidth\":0,\"ticks\":\"\"}}],\"scatter\":[{\"fillpattern\":{\"fillmode\":\"overlay\",\"size\":10,\"solidity\":0.2},\"type\":\"scatter\"}],\"parcoords\":[{\"type\":\"parcoords\",\"line\":{\"colorbar\":{\"outlinewidth\":0,\"ticks\":\"\"}}}],\"scatterpolargl\":[{\"type\":\"scatterpolargl\",\"marker\":{\"colorbar\":{\"outlinewidth\":0,\"ticks\":\"\"}}}],\"bar\":[{\"error_x\":{\"color\":\"#2a3f5f\"},\"error_y\":{\"color\":\"#2a3f5f\"},\"marker\":{\"line\":{\"color\":\"#E5ECF6\",\"width\":0.5},\"pattern\":{\"fillmode\":\"overlay\",\"size\":10,\"solidity\":0.2}},\"type\":\"bar\"}],\"scattergeo\":[{\"type\":\"scattergeo\",\"marker\":{\"colorbar\":{\"outlinewidth\":0,\"ticks\":\"\"}}}],\"scatterpolar\":[{\"type\":\"scatterpolar\",\"marker\":{\"colorbar\":{\"outlinewidth\":0,\"ticks\":\"\"}}}],\"histogram\":[{\"marker\":{\"pattern\":{\"fillmode\":\"overlay\",\"size\":10,\"solidity\":0.2}},\"type\":\"histogram\"}],\"scattergl\":[{\"type\":\"scattergl\",\"marker\":{\"colorbar\":{\"outlinewidth\":0,\"ticks\":\"\"}}}],\"scatter3d\":[{\"type\":\"scatter3d\",\"line\":{\"colorbar\":{\"outlinewidth\":0,\"ticks\":\"\"}},\"marker\":{\"colorbar\":{\"outlinewidth\":0,\"ticks\":\"\"}}}],\"scattermapbox\":[{\"type\":\"scattermapbox\",\"marker\":{\"colorbar\":{\"outlinewidth\":0,\"ticks\":\"\"}}}],\"scatterternary\":[{\"type\":\"scatterternary\",\"marker\":{\"colorbar\":{\"outlinewidth\":0,\"ticks\":\"\"}}}],\"scattercarpet\":[{\"type\":\"scattercarpet\",\"marker\":{\"colorbar\":{\"outlinewidth\":0,\"ticks\":\"\"}}}],\"carpet\":[{\"aaxis\":{\"endlinecolor\":\"#2a3f5f\",\"gridcolor\":\"white\",\"linecolor\":\"white\",\"minorgridcolor\":\"white\",\"startlinecolor\":\"#2a3f5f\"},\"baxis\":{\"endlinecolor\":\"#2a3f5f\",\"gridcolor\":\"white\",\"linecolor\":\"white\",\"minorgridcolor\":\"white\",\"startlinecolor\":\"#2a3f5f\"},\"type\":\"carpet\"}],\"table\":[{\"cells\":{\"fill\":{\"color\":\"#EBF0F8\"},\"line\":{\"color\":\"white\"}},\"header\":{\"fill\":{\"color\":\"#C8D4E3\"},\"line\":{\"color\":\"white\"}},\"type\":\"table\"}],\"barpolar\":[{\"marker\":{\"line\":{\"color\":\"#E5ECF6\",\"width\":0.5},\"pattern\":{\"fillmode\":\"overlay\",\"size\":10,\"solidity\":0.2}},\"type\":\"barpolar\"}],\"pie\":[{\"automargin\":true,\"type\":\"pie\"}]},\"layout\":{\"autotypenumbers\":\"strict\",\"colorway\":[\"#636efa\",\"#EF553B\",\"#00cc96\",\"#ab63fa\",\"#FFA15A\",\"#19d3f3\",\"#FF6692\",\"#B6E880\",\"#FF97FF\",\"#FECB52\"],\"font\":{\"color\":\"#2a3f5f\"},\"hovermode\":\"closest\",\"hoverlabel\":{\"align\":\"left\"},\"paper_bgcolor\":\"white\",\"plot_bgcolor\":\"#E5ECF6\",\"polar\":{\"bgcolor\":\"#E5ECF6\",\"angularaxis\":{\"gridcolor\":\"white\",\"linecolor\":\"white\",\"ticks\":\"\"},\"radialaxis\":{\"gridcolor\":\"white\",\"linecolor\":\"white\",\"ticks\":\"\"}},\"ternary\":{\"bgcolor\":\"#E5ECF6\",\"aaxis\":{\"gridcolor\":\"white\",\"linecolor\":\"white\",\"ticks\":\"\"},\"baxis\":{\"gridcolor\":\"white\",\"linecolor\":\"white\",\"ticks\":\"\"},\"caxis\":{\"gridcolor\":\"white\",\"linecolor\":\"white\",\"ticks\":\"\"}},\"coloraxis\":{\"colorbar\":{\"outlinewidth\":0,\"ticks\":\"\"}},\"colorscale\":{\"sequential\":[[0.0,\"#0d0887\"],[0.1111111111111111,\"#46039f\"],[0.2222222222222222,\"#7201a8\"],[0.3333333333333333,\"#9c179e\"],[0.4444444444444444,\"#bd3786\"],[0.5555555555555556,\"#d8576b\"],[0.6666666666666666,\"#ed7953\"],[0.7777777777777778,\"#fb9f3a\"],[0.8888888888888888,\"#fdca26\"],[1.0,\"#f0f921\"]],\"sequentialminus\":[[0.0,\"#0d0887\"],[0.1111111111111111,\"#46039f\"],[0.2222222222222222,\"#7201a8\"],[0.3333333333333333,\"#9c179e\"],[0.4444444444444444,\"#bd3786\"],[0.5555555555555556,\"#d8576b\"],[0.6666666666666666,\"#ed7953\"],[0.7777777777777778,\"#fb9f3a\"],[0.8888888888888888,\"#fdca26\"],[1.0,\"#f0f921\"]],\"diverging\":[[0,\"#8e0152\"],[0.1,\"#c51b7d\"],[0.2,\"#de77ae\"],[0.3,\"#f1b6da\"],[0.4,\"#fde0ef\"],[0.5,\"#f7f7f7\"],[0.6,\"#e6f5d0\"],[0.7,\"#b8e186\"],[0.8,\"#7fbc41\"],[0.9,\"#4d9221\"],[1,\"#276419\"]]},\"xaxis\":{\"gridcolor\":\"white\",\"linecolor\":\"white\",\"ticks\":\"\",\"title\":{\"standoff\":15},\"zerolinecolor\":\"white\",\"automargin\":true,\"zerolinewidth\":2},\"yaxis\":{\"gridcolor\":\"white\",\"linecolor\":\"white\",\"ticks\":\"\",\"title\":{\"standoff\":15},\"zerolinecolor\":\"white\",\"automargin\":true,\"zerolinewidth\":2},\"scene\":{\"xaxis\":{\"backgroundcolor\":\"#E5ECF6\",\"gridcolor\":\"white\",\"linecolor\":\"white\",\"showbackground\":true,\"ticks\":\"\",\"zerolinecolor\":\"white\",\"gridwidth\":2},\"yaxis\":{\"backgroundcolor\":\"#E5ECF6\",\"gridcolor\":\"white\",\"linecolor\":\"white\",\"showbackground\":true,\"ticks\":\"\",\"zerolinecolor\":\"white\",\"gridwidth\":2},\"zaxis\":{\"backgroundcolor\":\"#E5ECF6\",\"gridcolor\":\"white\",\"linecolor\":\"white\",\"showbackground\":true,\"ticks\":\"\",\"zerolinecolor\":\"white\",\"gridwidth\":2}},\"shapedefaults\":{\"line\":{\"color\":\"#2a3f5f\"}},\"annotationdefaults\":{\"arrowcolor\":\"#2a3f5f\",\"arrowhead\":0,\"arrowwidth\":1},\"geo\":{\"bgcolor\":\"white\",\"landcolor\":\"#E5ECF6\",\"subunitcolor\":\"white\",\"showland\":true,\"showlakes\":true,\"lakecolor\":\"white\"},\"title\":{\"x\":0.05},\"mapbox\":{\"style\":\"light\"}}},\"xaxis\":{\"anchor\":\"y\",\"domain\":[0.0,1.0],\"title\":{\"text\":\"pop\"}},\"yaxis\":{\"anchor\":\"x\",\"domain\":[0.0,1.0],\"title\":{\"text\":\"continent\"},\"categoryorder\":\"total ascending\",\"categoryarray\":[\"Oceania\",\"Europe\",\"Asia\",\"Americas\",\"Africa\"]},\"legend\":{\"title\":{\"text\":\"continent\"},\"tracegroupgap\":0},\"margin\":{\"t\":60},\"barmode\":\"relative\"},                        {\"responsive\": true}                    ).then(function(){\n",
       "                            \n",
       "var gd = document.getElementById('e902ae15-8884-4c79-918d-626fe548dada');\n",
       "var x = new MutationObserver(function (mutations, observer) {{\n",
       "        var display = window.getComputedStyle(gd).display;\n",
       "        if (!display || display === 'none') {{\n",
       "            console.log([gd, 'removed!']);\n",
       "            Plotly.purge(gd);\n",
       "            observer.disconnect();\n",
       "        }}\n",
       "}});\n",
       "\n",
       "// Listen for the removal of the full notebook cells\n",
       "var notebookContainer = gd.closest('#notebook-container');\n",
       "if (notebookContainer) {{\n",
       "    x.observe(notebookContainer, {childList: true});\n",
       "}}\n",
       "\n",
       "// Listen for the clearing of the current output cell\n",
       "var outputEl = gd.closest('.output');\n",
       "if (outputEl) {{\n",
       "    x.observe(outputEl, {childList: true});\n",
       "}}\n",
       "\n",
       "                        })                };                });            </script>        </div>"
      ]
     },
     "metadata": {},
     "output_type": "display_data"
    }
   ],
   "source": [
    "# YOUR CODE HERE\n",
    "fig = px.bar(grouped_df, x=\"pop\", y=\"continent\",\n",
    "             color=\"continent\", color_discrete_sequence=colors)\n",
    "\n",
    "fig.update_traces(selector=dict(type='bar'))\n",
    "fig.update_yaxes(categoryorder='total ascending')\n",
    "fig.update_traces(showlegend=False)\n",
    "\n",
    "fig.show()"
   ]
  },
  {
   "cell_type": "markdown",
   "id": "89d270dd",
   "metadata": {
    "heading_collapsed": true,
    "hidden": true
   },
   "source": [
    "## Question 3:\n",
    "\n",
    "Add text to each bar that represents the population "
   ]
  },
  {
   "cell_type": "code",
   "execution_count": 33,
   "id": "470ce3e3",
   "metadata": {
    "hidden": true
   },
   "outputs": [
    {
     "data": {
      "application/vnd.plotly.v1+json": {
       "config": {
        "plotlyServerURL": "https://plot.ly"
       },
       "data": [
        {
         "alignmentgroup": "True",
         "hovertemplate": "continent=%{y}<br>pop=%{x}<br>Population_Text=%{text}<extra></extra>",
         "legendgroup": "Africa",
         "marker": {
          "color": "rgb(228,26,28)",
          "pattern": {
           "shape": ""
          }
         },
         "name": "Africa",
         "offsetgroup": "Africa",
         "orientation": "h",
         "showlegend": false,
         "text": [
          "930M"
         ],
         "textposition": "outside",
         "type": "bar",
         "x": [
          929539692
         ],
         "xaxis": "x",
         "y": [
          "Africa"
         ],
         "yaxis": "y"
        },
        {
         "alignmentgroup": "True",
         "hovertemplate": "continent=%{y}<br>pop=%{x}<br>Population_Text=%{text}<extra></extra>",
         "legendgroup": "Americas",
         "marker": {
          "color": "rgb(55,126,184)",
          "pattern": {
           "shape": ""
          }
         },
         "name": "Americas",
         "offsetgroup": "Americas",
         "orientation": "h",
         "showlegend": false,
         "text": [
          "899M"
         ],
         "textposition": "outside",
         "type": "bar",
         "x": [
          898871184
         ],
         "xaxis": "x",
         "y": [
          "Americas"
         ],
         "yaxis": "y"
        },
        {
         "alignmentgroup": "True",
         "hovertemplate": "continent=%{y}<br>pop=%{x}<br>Population_Text=%{text}<extra></extra>",
         "legendgroup": "Asia",
         "marker": {
          "color": "rgb(77,175,74)",
          "pattern": {
           "shape": ""
          }
         },
         "name": "Asia",
         "offsetgroup": "Asia",
         "orientation": "h",
         "showlegend": false,
         "text": [
          "3.8B"
         ],
         "textposition": "outside",
         "type": "bar",
         "x": [
          3811953827
         ],
         "xaxis": "x",
         "y": [
          "Asia"
         ],
         "yaxis": "y"
        },
        {
         "alignmentgroup": "True",
         "hovertemplate": "continent=%{y}<br>pop=%{x}<br>Population_Text=%{text}<extra></extra>",
         "legendgroup": "Europe",
         "marker": {
          "color": "rgb(152,78,163)",
          "pattern": {
           "shape": ""
          }
         },
         "name": "Europe",
         "offsetgroup": "Europe",
         "orientation": "h",
         "showlegend": false,
         "text": [
          "586M"
         ],
         "textposition": "outside",
         "type": "bar",
         "x": [
          586098529
         ],
         "xaxis": "x",
         "y": [
          "Europe"
         ],
         "yaxis": "y"
        },
        {
         "alignmentgroup": "True",
         "hovertemplate": "continent=%{y}<br>pop=%{x}<br>Population_Text=%{text}<extra></extra>",
         "legendgroup": "Oceania",
         "marker": {
          "color": "rgb(255,127,0)",
          "pattern": {
           "shape": ""
          }
         },
         "name": "Oceania",
         "offsetgroup": "Oceania",
         "orientation": "h",
         "showlegend": false,
         "text": [
          "25M"
         ],
         "textposition": "outside",
         "type": "bar",
         "x": [
          24549947
         ],
         "xaxis": "x",
         "y": [
          "Oceania"
         ],
         "yaxis": "y"
        }
       ],
       "layout": {
        "barmode": "relative",
        "legend": {
         "title": {
          "text": "continent"
         },
         "tracegroupgap": 0
        },
        "margin": {
         "t": 60
        },
        "template": {
         "data": {
          "bar": [
           {
            "error_x": {
             "color": "#2a3f5f"
            },
            "error_y": {
             "color": "#2a3f5f"
            },
            "marker": {
             "line": {
              "color": "#E5ECF6",
              "width": 0.5
             },
             "pattern": {
              "fillmode": "overlay",
              "size": 10,
              "solidity": 0.2
             }
            },
            "type": "bar"
           }
          ],
          "barpolar": [
           {
            "marker": {
             "line": {
              "color": "#E5ECF6",
              "width": 0.5
             },
             "pattern": {
              "fillmode": "overlay",
              "size": 10,
              "solidity": 0.2
             }
            },
            "type": "barpolar"
           }
          ],
          "carpet": [
           {
            "aaxis": {
             "endlinecolor": "#2a3f5f",
             "gridcolor": "white",
             "linecolor": "white",
             "minorgridcolor": "white",
             "startlinecolor": "#2a3f5f"
            },
            "baxis": {
             "endlinecolor": "#2a3f5f",
             "gridcolor": "white",
             "linecolor": "white",
             "minorgridcolor": "white",
             "startlinecolor": "#2a3f5f"
            },
            "type": "carpet"
           }
          ],
          "choropleth": [
           {
            "colorbar": {
             "outlinewidth": 0,
             "ticks": ""
            },
            "type": "choropleth"
           }
          ],
          "contour": [
           {
            "colorbar": {
             "outlinewidth": 0,
             "ticks": ""
            },
            "colorscale": [
             [
              0,
              "#0d0887"
             ],
             [
              0.1111111111111111,
              "#46039f"
             ],
             [
              0.2222222222222222,
              "#7201a8"
             ],
             [
              0.3333333333333333,
              "#9c179e"
             ],
             [
              0.4444444444444444,
              "#bd3786"
             ],
             [
              0.5555555555555556,
              "#d8576b"
             ],
             [
              0.6666666666666666,
              "#ed7953"
             ],
             [
              0.7777777777777778,
              "#fb9f3a"
             ],
             [
              0.8888888888888888,
              "#fdca26"
             ],
             [
              1,
              "#f0f921"
             ]
            ],
            "type": "contour"
           }
          ],
          "contourcarpet": [
           {
            "colorbar": {
             "outlinewidth": 0,
             "ticks": ""
            },
            "type": "contourcarpet"
           }
          ],
          "heatmap": [
           {
            "colorbar": {
             "outlinewidth": 0,
             "ticks": ""
            },
            "colorscale": [
             [
              0,
              "#0d0887"
             ],
             [
              0.1111111111111111,
              "#46039f"
             ],
             [
              0.2222222222222222,
              "#7201a8"
             ],
             [
              0.3333333333333333,
              "#9c179e"
             ],
             [
              0.4444444444444444,
              "#bd3786"
             ],
             [
              0.5555555555555556,
              "#d8576b"
             ],
             [
              0.6666666666666666,
              "#ed7953"
             ],
             [
              0.7777777777777778,
              "#fb9f3a"
             ],
             [
              0.8888888888888888,
              "#fdca26"
             ],
             [
              1,
              "#f0f921"
             ]
            ],
            "type": "heatmap"
           }
          ],
          "heatmapgl": [
           {
            "colorbar": {
             "outlinewidth": 0,
             "ticks": ""
            },
            "colorscale": [
             [
              0,
              "#0d0887"
             ],
             [
              0.1111111111111111,
              "#46039f"
             ],
             [
              0.2222222222222222,
              "#7201a8"
             ],
             [
              0.3333333333333333,
              "#9c179e"
             ],
             [
              0.4444444444444444,
              "#bd3786"
             ],
             [
              0.5555555555555556,
              "#d8576b"
             ],
             [
              0.6666666666666666,
              "#ed7953"
             ],
             [
              0.7777777777777778,
              "#fb9f3a"
             ],
             [
              0.8888888888888888,
              "#fdca26"
             ],
             [
              1,
              "#f0f921"
             ]
            ],
            "type": "heatmapgl"
           }
          ],
          "histogram": [
           {
            "marker": {
             "pattern": {
              "fillmode": "overlay",
              "size": 10,
              "solidity": 0.2
             }
            },
            "type": "histogram"
           }
          ],
          "histogram2d": [
           {
            "colorbar": {
             "outlinewidth": 0,
             "ticks": ""
            },
            "colorscale": [
             [
              0,
              "#0d0887"
             ],
             [
              0.1111111111111111,
              "#46039f"
             ],
             [
              0.2222222222222222,
              "#7201a8"
             ],
             [
              0.3333333333333333,
              "#9c179e"
             ],
             [
              0.4444444444444444,
              "#bd3786"
             ],
             [
              0.5555555555555556,
              "#d8576b"
             ],
             [
              0.6666666666666666,
              "#ed7953"
             ],
             [
              0.7777777777777778,
              "#fb9f3a"
             ],
             [
              0.8888888888888888,
              "#fdca26"
             ],
             [
              1,
              "#f0f921"
             ]
            ],
            "type": "histogram2d"
           }
          ],
          "histogram2dcontour": [
           {
            "colorbar": {
             "outlinewidth": 0,
             "ticks": ""
            },
            "colorscale": [
             [
              0,
              "#0d0887"
             ],
             [
              0.1111111111111111,
              "#46039f"
             ],
             [
              0.2222222222222222,
              "#7201a8"
             ],
             [
              0.3333333333333333,
              "#9c179e"
             ],
             [
              0.4444444444444444,
              "#bd3786"
             ],
             [
              0.5555555555555556,
              "#d8576b"
             ],
             [
              0.6666666666666666,
              "#ed7953"
             ],
             [
              0.7777777777777778,
              "#fb9f3a"
             ],
             [
              0.8888888888888888,
              "#fdca26"
             ],
             [
              1,
              "#f0f921"
             ]
            ],
            "type": "histogram2dcontour"
           }
          ],
          "mesh3d": [
           {
            "colorbar": {
             "outlinewidth": 0,
             "ticks": ""
            },
            "type": "mesh3d"
           }
          ],
          "parcoords": [
           {
            "line": {
             "colorbar": {
              "outlinewidth": 0,
              "ticks": ""
             }
            },
            "type": "parcoords"
           }
          ],
          "pie": [
           {
            "automargin": true,
            "type": "pie"
           }
          ],
          "scatter": [
           {
            "fillpattern": {
             "fillmode": "overlay",
             "size": 10,
             "solidity": 0.2
            },
            "type": "scatter"
           }
          ],
          "scatter3d": [
           {
            "line": {
             "colorbar": {
              "outlinewidth": 0,
              "ticks": ""
             }
            },
            "marker": {
             "colorbar": {
              "outlinewidth": 0,
              "ticks": ""
             }
            },
            "type": "scatter3d"
           }
          ],
          "scattercarpet": [
           {
            "marker": {
             "colorbar": {
              "outlinewidth": 0,
              "ticks": ""
             }
            },
            "type": "scattercarpet"
           }
          ],
          "scattergeo": [
           {
            "marker": {
             "colorbar": {
              "outlinewidth": 0,
              "ticks": ""
             }
            },
            "type": "scattergeo"
           }
          ],
          "scattergl": [
           {
            "marker": {
             "colorbar": {
              "outlinewidth": 0,
              "ticks": ""
             }
            },
            "type": "scattergl"
           }
          ],
          "scattermapbox": [
           {
            "marker": {
             "colorbar": {
              "outlinewidth": 0,
              "ticks": ""
             }
            },
            "type": "scattermapbox"
           }
          ],
          "scatterpolar": [
           {
            "marker": {
             "colorbar": {
              "outlinewidth": 0,
              "ticks": ""
             }
            },
            "type": "scatterpolar"
           }
          ],
          "scatterpolargl": [
           {
            "marker": {
             "colorbar": {
              "outlinewidth": 0,
              "ticks": ""
             }
            },
            "type": "scatterpolargl"
           }
          ],
          "scatterternary": [
           {
            "marker": {
             "colorbar": {
              "outlinewidth": 0,
              "ticks": ""
             }
            },
            "type": "scatterternary"
           }
          ],
          "surface": [
           {
            "colorbar": {
             "outlinewidth": 0,
             "ticks": ""
            },
            "colorscale": [
             [
              0,
              "#0d0887"
             ],
             [
              0.1111111111111111,
              "#46039f"
             ],
             [
              0.2222222222222222,
              "#7201a8"
             ],
             [
              0.3333333333333333,
              "#9c179e"
             ],
             [
              0.4444444444444444,
              "#bd3786"
             ],
             [
              0.5555555555555556,
              "#d8576b"
             ],
             [
              0.6666666666666666,
              "#ed7953"
             ],
             [
              0.7777777777777778,
              "#fb9f3a"
             ],
             [
              0.8888888888888888,
              "#fdca26"
             ],
             [
              1,
              "#f0f921"
             ]
            ],
            "type": "surface"
           }
          ],
          "table": [
           {
            "cells": {
             "fill": {
              "color": "#EBF0F8"
             },
             "line": {
              "color": "white"
             }
            },
            "header": {
             "fill": {
              "color": "#C8D4E3"
             },
             "line": {
              "color": "white"
             }
            },
            "type": "table"
           }
          ]
         },
         "layout": {
          "annotationdefaults": {
           "arrowcolor": "#2a3f5f",
           "arrowhead": 0,
           "arrowwidth": 1
          },
          "autotypenumbers": "strict",
          "coloraxis": {
           "colorbar": {
            "outlinewidth": 0,
            "ticks": ""
           }
          },
          "colorscale": {
           "diverging": [
            [
             0,
             "#8e0152"
            ],
            [
             0.1,
             "#c51b7d"
            ],
            [
             0.2,
             "#de77ae"
            ],
            [
             0.3,
             "#f1b6da"
            ],
            [
             0.4,
             "#fde0ef"
            ],
            [
             0.5,
             "#f7f7f7"
            ],
            [
             0.6,
             "#e6f5d0"
            ],
            [
             0.7,
             "#b8e186"
            ],
            [
             0.8,
             "#7fbc41"
            ],
            [
             0.9,
             "#4d9221"
            ],
            [
             1,
             "#276419"
            ]
           ],
           "sequential": [
            [
             0,
             "#0d0887"
            ],
            [
             0.1111111111111111,
             "#46039f"
            ],
            [
             0.2222222222222222,
             "#7201a8"
            ],
            [
             0.3333333333333333,
             "#9c179e"
            ],
            [
             0.4444444444444444,
             "#bd3786"
            ],
            [
             0.5555555555555556,
             "#d8576b"
            ],
            [
             0.6666666666666666,
             "#ed7953"
            ],
            [
             0.7777777777777778,
             "#fb9f3a"
            ],
            [
             0.8888888888888888,
             "#fdca26"
            ],
            [
             1,
             "#f0f921"
            ]
           ],
           "sequentialminus": [
            [
             0,
             "#0d0887"
            ],
            [
             0.1111111111111111,
             "#46039f"
            ],
            [
             0.2222222222222222,
             "#7201a8"
            ],
            [
             0.3333333333333333,
             "#9c179e"
            ],
            [
             0.4444444444444444,
             "#bd3786"
            ],
            [
             0.5555555555555556,
             "#d8576b"
            ],
            [
             0.6666666666666666,
             "#ed7953"
            ],
            [
             0.7777777777777778,
             "#fb9f3a"
            ],
            [
             0.8888888888888888,
             "#fdca26"
            ],
            [
             1,
             "#f0f921"
            ]
           ]
          },
          "colorway": [
           "#636efa",
           "#EF553B",
           "#00cc96",
           "#ab63fa",
           "#FFA15A",
           "#19d3f3",
           "#FF6692",
           "#B6E880",
           "#FF97FF",
           "#FECB52"
          ],
          "font": {
           "color": "#2a3f5f"
          },
          "geo": {
           "bgcolor": "white",
           "lakecolor": "white",
           "landcolor": "#E5ECF6",
           "showlakes": true,
           "showland": true,
           "subunitcolor": "white"
          },
          "hoverlabel": {
           "align": "left"
          },
          "hovermode": "closest",
          "mapbox": {
           "style": "light"
          },
          "paper_bgcolor": "white",
          "plot_bgcolor": "#E5ECF6",
          "polar": {
           "angularaxis": {
            "gridcolor": "white",
            "linecolor": "white",
            "ticks": ""
           },
           "bgcolor": "#E5ECF6",
           "radialaxis": {
            "gridcolor": "white",
            "linecolor": "white",
            "ticks": ""
           }
          },
          "scene": {
           "xaxis": {
            "backgroundcolor": "#E5ECF6",
            "gridcolor": "white",
            "gridwidth": 2,
            "linecolor": "white",
            "showbackground": true,
            "ticks": "",
            "zerolinecolor": "white"
           },
           "yaxis": {
            "backgroundcolor": "#E5ECF6",
            "gridcolor": "white",
            "gridwidth": 2,
            "linecolor": "white",
            "showbackground": true,
            "ticks": "",
            "zerolinecolor": "white"
           },
           "zaxis": {
            "backgroundcolor": "#E5ECF6",
            "gridcolor": "white",
            "gridwidth": 2,
            "linecolor": "white",
            "showbackground": true,
            "ticks": "",
            "zerolinecolor": "white"
           }
          },
          "shapedefaults": {
           "line": {
            "color": "#2a3f5f"
           }
          },
          "ternary": {
           "aaxis": {
            "gridcolor": "white",
            "linecolor": "white",
            "ticks": ""
           },
           "baxis": {
            "gridcolor": "white",
            "linecolor": "white",
            "ticks": ""
           },
           "bgcolor": "#E5ECF6",
           "caxis": {
            "gridcolor": "white",
            "linecolor": "white",
            "ticks": ""
           }
          },
          "title": {
           "x": 0.05
          },
          "xaxis": {
           "automargin": true,
           "gridcolor": "white",
           "linecolor": "white",
           "ticks": "",
           "title": {
            "standoff": 15
           },
           "zerolinecolor": "white",
           "zerolinewidth": 2
          },
          "yaxis": {
           "automargin": true,
           "gridcolor": "white",
           "linecolor": "white",
           "ticks": "",
           "title": {
            "standoff": 15
           },
           "zerolinecolor": "white",
           "zerolinewidth": 2
          }
         }
        },
        "xaxis": {
         "anchor": "y",
         "domain": [
          0,
          1
         ],
         "title": {
          "text": "pop"
         }
        },
        "yaxis": {
         "anchor": "x",
         "categoryarray": [
          "Oceania",
          "Europe",
          "Asia",
          "Americas",
          "Africa"
         ],
         "categoryorder": "total ascending",
         "domain": [
          0,
          1
         ],
         "title": {
          "text": "continent"
         }
        }
       }
      },
      "text/html": [
       "<div>                            <div id=\"9b91db78-59ed-4e51-b377-5ad51e0809dc\" class=\"plotly-graph-div\" style=\"height:525px; width:100%;\"></div>            <script type=\"text/javascript\">                require([\"plotly\"], function(Plotly) {                    window.PLOTLYENV=window.PLOTLYENV || {};                                    if (document.getElementById(\"9b91db78-59ed-4e51-b377-5ad51e0809dc\")) {                    Plotly.newPlot(                        \"9b91db78-59ed-4e51-b377-5ad51e0809dc\",                        [{\"alignmentgroup\":\"True\",\"hovertemplate\":\"continent=%{y}\\u003cbr\\u003epop=%{x}\\u003cbr\\u003ePopulation_Text=%{text}\\u003cextra\\u003e\\u003c\\u002fextra\\u003e\",\"legendgroup\":\"Africa\",\"marker\":{\"color\":\"rgb(228,26,28)\",\"pattern\":{\"shape\":\"\"}},\"name\":\"Africa\",\"offsetgroup\":\"Africa\",\"orientation\":\"h\",\"showlegend\":false,\"text\":[\"930M\"],\"textposition\":\"outside\",\"x\":[929539692],\"xaxis\":\"x\",\"y\":[\"Africa\"],\"yaxis\":\"y\",\"type\":\"bar\"},{\"alignmentgroup\":\"True\",\"hovertemplate\":\"continent=%{y}\\u003cbr\\u003epop=%{x}\\u003cbr\\u003ePopulation_Text=%{text}\\u003cextra\\u003e\\u003c\\u002fextra\\u003e\",\"legendgroup\":\"Americas\",\"marker\":{\"color\":\"rgb(55,126,184)\",\"pattern\":{\"shape\":\"\"}},\"name\":\"Americas\",\"offsetgroup\":\"Americas\",\"orientation\":\"h\",\"showlegend\":false,\"text\":[\"899M\"],\"textposition\":\"outside\",\"x\":[898871184],\"xaxis\":\"x\",\"y\":[\"Americas\"],\"yaxis\":\"y\",\"type\":\"bar\"},{\"alignmentgroup\":\"True\",\"hovertemplate\":\"continent=%{y}\\u003cbr\\u003epop=%{x}\\u003cbr\\u003ePopulation_Text=%{text}\\u003cextra\\u003e\\u003c\\u002fextra\\u003e\",\"legendgroup\":\"Asia\",\"marker\":{\"color\":\"rgb(77,175,74)\",\"pattern\":{\"shape\":\"\"}},\"name\":\"Asia\",\"offsetgroup\":\"Asia\",\"orientation\":\"h\",\"showlegend\":false,\"text\":[\"3.8B\"],\"textposition\":\"outside\",\"x\":[3811953827],\"xaxis\":\"x\",\"y\":[\"Asia\"],\"yaxis\":\"y\",\"type\":\"bar\"},{\"alignmentgroup\":\"True\",\"hovertemplate\":\"continent=%{y}\\u003cbr\\u003epop=%{x}\\u003cbr\\u003ePopulation_Text=%{text}\\u003cextra\\u003e\\u003c\\u002fextra\\u003e\",\"legendgroup\":\"Europe\",\"marker\":{\"color\":\"rgb(152,78,163)\",\"pattern\":{\"shape\":\"\"}},\"name\":\"Europe\",\"offsetgroup\":\"Europe\",\"orientation\":\"h\",\"showlegend\":false,\"text\":[\"586M\"],\"textposition\":\"outside\",\"x\":[586098529],\"xaxis\":\"x\",\"y\":[\"Europe\"],\"yaxis\":\"y\",\"type\":\"bar\"},{\"alignmentgroup\":\"True\",\"hovertemplate\":\"continent=%{y}\\u003cbr\\u003epop=%{x}\\u003cbr\\u003ePopulation_Text=%{text}\\u003cextra\\u003e\\u003c\\u002fextra\\u003e\",\"legendgroup\":\"Oceania\",\"marker\":{\"color\":\"rgb(255,127,0)\",\"pattern\":{\"shape\":\"\"}},\"name\":\"Oceania\",\"offsetgroup\":\"Oceania\",\"orientation\":\"h\",\"showlegend\":false,\"text\":[\"25M\"],\"textposition\":\"outside\",\"x\":[24549947],\"xaxis\":\"x\",\"y\":[\"Oceania\"],\"yaxis\":\"y\",\"type\":\"bar\"}],                        {\"template\":{\"data\":{\"histogram2dcontour\":[{\"type\":\"histogram2dcontour\",\"colorbar\":{\"outlinewidth\":0,\"ticks\":\"\"},\"colorscale\":[[0.0,\"#0d0887\"],[0.1111111111111111,\"#46039f\"],[0.2222222222222222,\"#7201a8\"],[0.3333333333333333,\"#9c179e\"],[0.4444444444444444,\"#bd3786\"],[0.5555555555555556,\"#d8576b\"],[0.6666666666666666,\"#ed7953\"],[0.7777777777777778,\"#fb9f3a\"],[0.8888888888888888,\"#fdca26\"],[1.0,\"#f0f921\"]]}],\"choropleth\":[{\"type\":\"choropleth\",\"colorbar\":{\"outlinewidth\":0,\"ticks\":\"\"}}],\"histogram2d\":[{\"type\":\"histogram2d\",\"colorbar\":{\"outlinewidth\":0,\"ticks\":\"\"},\"colorscale\":[[0.0,\"#0d0887\"],[0.1111111111111111,\"#46039f\"],[0.2222222222222222,\"#7201a8\"],[0.3333333333333333,\"#9c179e\"],[0.4444444444444444,\"#bd3786\"],[0.5555555555555556,\"#d8576b\"],[0.6666666666666666,\"#ed7953\"],[0.7777777777777778,\"#fb9f3a\"],[0.8888888888888888,\"#fdca26\"],[1.0,\"#f0f921\"]]}],\"heatmap\":[{\"type\":\"heatmap\",\"colorbar\":{\"outlinewidth\":0,\"ticks\":\"\"},\"colorscale\":[[0.0,\"#0d0887\"],[0.1111111111111111,\"#46039f\"],[0.2222222222222222,\"#7201a8\"],[0.3333333333333333,\"#9c179e\"],[0.4444444444444444,\"#bd3786\"],[0.5555555555555556,\"#d8576b\"],[0.6666666666666666,\"#ed7953\"],[0.7777777777777778,\"#fb9f3a\"],[0.8888888888888888,\"#fdca26\"],[1.0,\"#f0f921\"]]}],\"heatmapgl\":[{\"type\":\"heatmapgl\",\"colorbar\":{\"outlinewidth\":0,\"ticks\":\"\"},\"colorscale\":[[0.0,\"#0d0887\"],[0.1111111111111111,\"#46039f\"],[0.2222222222222222,\"#7201a8\"],[0.3333333333333333,\"#9c179e\"],[0.4444444444444444,\"#bd3786\"],[0.5555555555555556,\"#d8576b\"],[0.6666666666666666,\"#ed7953\"],[0.7777777777777778,\"#fb9f3a\"],[0.8888888888888888,\"#fdca26\"],[1.0,\"#f0f921\"]]}],\"contourcarpet\":[{\"type\":\"contourcarpet\",\"colorbar\":{\"outlinewidth\":0,\"ticks\":\"\"}}],\"contour\":[{\"type\":\"contour\",\"colorbar\":{\"outlinewidth\":0,\"ticks\":\"\"},\"colorscale\":[[0.0,\"#0d0887\"],[0.1111111111111111,\"#46039f\"],[0.2222222222222222,\"#7201a8\"],[0.3333333333333333,\"#9c179e\"],[0.4444444444444444,\"#bd3786\"],[0.5555555555555556,\"#d8576b\"],[0.6666666666666666,\"#ed7953\"],[0.7777777777777778,\"#fb9f3a\"],[0.8888888888888888,\"#fdca26\"],[1.0,\"#f0f921\"]]}],\"surface\":[{\"type\":\"surface\",\"colorbar\":{\"outlinewidth\":0,\"ticks\":\"\"},\"colorscale\":[[0.0,\"#0d0887\"],[0.1111111111111111,\"#46039f\"],[0.2222222222222222,\"#7201a8\"],[0.3333333333333333,\"#9c179e\"],[0.4444444444444444,\"#bd3786\"],[0.5555555555555556,\"#d8576b\"],[0.6666666666666666,\"#ed7953\"],[0.7777777777777778,\"#fb9f3a\"],[0.8888888888888888,\"#fdca26\"],[1.0,\"#f0f921\"]]}],\"mesh3d\":[{\"type\":\"mesh3d\",\"colorbar\":{\"outlinewidth\":0,\"ticks\":\"\"}}],\"scatter\":[{\"fillpattern\":{\"fillmode\":\"overlay\",\"size\":10,\"solidity\":0.2},\"type\":\"scatter\"}],\"parcoords\":[{\"type\":\"parcoords\",\"line\":{\"colorbar\":{\"outlinewidth\":0,\"ticks\":\"\"}}}],\"scatterpolargl\":[{\"type\":\"scatterpolargl\",\"marker\":{\"colorbar\":{\"outlinewidth\":0,\"ticks\":\"\"}}}],\"bar\":[{\"error_x\":{\"color\":\"#2a3f5f\"},\"error_y\":{\"color\":\"#2a3f5f\"},\"marker\":{\"line\":{\"color\":\"#E5ECF6\",\"width\":0.5},\"pattern\":{\"fillmode\":\"overlay\",\"size\":10,\"solidity\":0.2}},\"type\":\"bar\"}],\"scattergeo\":[{\"type\":\"scattergeo\",\"marker\":{\"colorbar\":{\"outlinewidth\":0,\"ticks\":\"\"}}}],\"scatterpolar\":[{\"type\":\"scatterpolar\",\"marker\":{\"colorbar\":{\"outlinewidth\":0,\"ticks\":\"\"}}}],\"histogram\":[{\"marker\":{\"pattern\":{\"fillmode\":\"overlay\",\"size\":10,\"solidity\":0.2}},\"type\":\"histogram\"}],\"scattergl\":[{\"type\":\"scattergl\",\"marker\":{\"colorbar\":{\"outlinewidth\":0,\"ticks\":\"\"}}}],\"scatter3d\":[{\"type\":\"scatter3d\",\"line\":{\"colorbar\":{\"outlinewidth\":0,\"ticks\":\"\"}},\"marker\":{\"colorbar\":{\"outlinewidth\":0,\"ticks\":\"\"}}}],\"scattermapbox\":[{\"type\":\"scattermapbox\",\"marker\":{\"colorbar\":{\"outlinewidth\":0,\"ticks\":\"\"}}}],\"scatterternary\":[{\"type\":\"scatterternary\",\"marker\":{\"colorbar\":{\"outlinewidth\":0,\"ticks\":\"\"}}}],\"scattercarpet\":[{\"type\":\"scattercarpet\",\"marker\":{\"colorbar\":{\"outlinewidth\":0,\"ticks\":\"\"}}}],\"carpet\":[{\"aaxis\":{\"endlinecolor\":\"#2a3f5f\",\"gridcolor\":\"white\",\"linecolor\":\"white\",\"minorgridcolor\":\"white\",\"startlinecolor\":\"#2a3f5f\"},\"baxis\":{\"endlinecolor\":\"#2a3f5f\",\"gridcolor\":\"white\",\"linecolor\":\"white\",\"minorgridcolor\":\"white\",\"startlinecolor\":\"#2a3f5f\"},\"type\":\"carpet\"}],\"table\":[{\"cells\":{\"fill\":{\"color\":\"#EBF0F8\"},\"line\":{\"color\":\"white\"}},\"header\":{\"fill\":{\"color\":\"#C8D4E3\"},\"line\":{\"color\":\"white\"}},\"type\":\"table\"}],\"barpolar\":[{\"marker\":{\"line\":{\"color\":\"#E5ECF6\",\"width\":0.5},\"pattern\":{\"fillmode\":\"overlay\",\"size\":10,\"solidity\":0.2}},\"type\":\"barpolar\"}],\"pie\":[{\"automargin\":true,\"type\":\"pie\"}]},\"layout\":{\"autotypenumbers\":\"strict\",\"colorway\":[\"#636efa\",\"#EF553B\",\"#00cc96\",\"#ab63fa\",\"#FFA15A\",\"#19d3f3\",\"#FF6692\",\"#B6E880\",\"#FF97FF\",\"#FECB52\"],\"font\":{\"color\":\"#2a3f5f\"},\"hovermode\":\"closest\",\"hoverlabel\":{\"align\":\"left\"},\"paper_bgcolor\":\"white\",\"plot_bgcolor\":\"#E5ECF6\",\"polar\":{\"bgcolor\":\"#E5ECF6\",\"angularaxis\":{\"gridcolor\":\"white\",\"linecolor\":\"white\",\"ticks\":\"\"},\"radialaxis\":{\"gridcolor\":\"white\",\"linecolor\":\"white\",\"ticks\":\"\"}},\"ternary\":{\"bgcolor\":\"#E5ECF6\",\"aaxis\":{\"gridcolor\":\"white\",\"linecolor\":\"white\",\"ticks\":\"\"},\"baxis\":{\"gridcolor\":\"white\",\"linecolor\":\"white\",\"ticks\":\"\"},\"caxis\":{\"gridcolor\":\"white\",\"linecolor\":\"white\",\"ticks\":\"\"}},\"coloraxis\":{\"colorbar\":{\"outlinewidth\":0,\"ticks\":\"\"}},\"colorscale\":{\"sequential\":[[0.0,\"#0d0887\"],[0.1111111111111111,\"#46039f\"],[0.2222222222222222,\"#7201a8\"],[0.3333333333333333,\"#9c179e\"],[0.4444444444444444,\"#bd3786\"],[0.5555555555555556,\"#d8576b\"],[0.6666666666666666,\"#ed7953\"],[0.7777777777777778,\"#fb9f3a\"],[0.8888888888888888,\"#fdca26\"],[1.0,\"#f0f921\"]],\"sequentialminus\":[[0.0,\"#0d0887\"],[0.1111111111111111,\"#46039f\"],[0.2222222222222222,\"#7201a8\"],[0.3333333333333333,\"#9c179e\"],[0.4444444444444444,\"#bd3786\"],[0.5555555555555556,\"#d8576b\"],[0.6666666666666666,\"#ed7953\"],[0.7777777777777778,\"#fb9f3a\"],[0.8888888888888888,\"#fdca26\"],[1.0,\"#f0f921\"]],\"diverging\":[[0,\"#8e0152\"],[0.1,\"#c51b7d\"],[0.2,\"#de77ae\"],[0.3,\"#f1b6da\"],[0.4,\"#fde0ef\"],[0.5,\"#f7f7f7\"],[0.6,\"#e6f5d0\"],[0.7,\"#b8e186\"],[0.8,\"#7fbc41\"],[0.9,\"#4d9221\"],[1,\"#276419\"]]},\"xaxis\":{\"gridcolor\":\"white\",\"linecolor\":\"white\",\"ticks\":\"\",\"title\":{\"standoff\":15},\"zerolinecolor\":\"white\",\"automargin\":true,\"zerolinewidth\":2},\"yaxis\":{\"gridcolor\":\"white\",\"linecolor\":\"white\",\"ticks\":\"\",\"title\":{\"standoff\":15},\"zerolinecolor\":\"white\",\"automargin\":true,\"zerolinewidth\":2},\"scene\":{\"xaxis\":{\"backgroundcolor\":\"#E5ECF6\",\"gridcolor\":\"white\",\"linecolor\":\"white\",\"showbackground\":true,\"ticks\":\"\",\"zerolinecolor\":\"white\",\"gridwidth\":2},\"yaxis\":{\"backgroundcolor\":\"#E5ECF6\",\"gridcolor\":\"white\",\"linecolor\":\"white\",\"showbackground\":true,\"ticks\":\"\",\"zerolinecolor\":\"white\",\"gridwidth\":2},\"zaxis\":{\"backgroundcolor\":\"#E5ECF6\",\"gridcolor\":\"white\",\"linecolor\":\"white\",\"showbackground\":true,\"ticks\":\"\",\"zerolinecolor\":\"white\",\"gridwidth\":2}},\"shapedefaults\":{\"line\":{\"color\":\"#2a3f5f\"}},\"annotationdefaults\":{\"arrowcolor\":\"#2a3f5f\",\"arrowhead\":0,\"arrowwidth\":1},\"geo\":{\"bgcolor\":\"white\",\"landcolor\":\"#E5ECF6\",\"subunitcolor\":\"white\",\"showland\":true,\"showlakes\":true,\"lakecolor\":\"white\"},\"title\":{\"x\":0.05},\"mapbox\":{\"style\":\"light\"}}},\"xaxis\":{\"anchor\":\"y\",\"domain\":[0.0,1.0],\"title\":{\"text\":\"pop\"}},\"yaxis\":{\"anchor\":\"x\",\"domain\":[0.0,1.0],\"title\":{\"text\":\"continent\"},\"categoryorder\":\"total ascending\",\"categoryarray\":[\"Oceania\",\"Europe\",\"Asia\",\"Americas\",\"Africa\"]},\"legend\":{\"title\":{\"text\":\"continent\"},\"tracegroupgap\":0},\"margin\":{\"t\":60},\"barmode\":\"relative\"},                        {\"responsive\": true}                    ).then(function(){\n",
       "                            \n",
       "var gd = document.getElementById('9b91db78-59ed-4e51-b377-5ad51e0809dc');\n",
       "var x = new MutationObserver(function (mutations, observer) {{\n",
       "        var display = window.getComputedStyle(gd).display;\n",
       "        if (!display || display === 'none') {{\n",
       "            console.log([gd, 'removed!']);\n",
       "            Plotly.purge(gd);\n",
       "            observer.disconnect();\n",
       "        }}\n",
       "}});\n",
       "\n",
       "// Listen for the removal of the full notebook cells\n",
       "var notebookContainer = gd.closest('#notebook-container');\n",
       "if (notebookContainer) {{\n",
       "    x.observe(notebookContainer, {childList: true});\n",
       "}}\n",
       "\n",
       "// Listen for the clearing of the current output cell\n",
       "var outputEl = gd.closest('.output');\n",
       "if (outputEl) {{\n",
       "    x.observe(outputEl, {childList: true});\n",
       "}}\n",
       "\n",
       "                        })                };                });            </script>        </div>"
      ]
     },
     "metadata": {},
     "output_type": "display_data"
    }
   ],
   "source": [
    "# YOUR CODE HERE\n",
    "def format_population(value):\n",
    "    if value >= 1_000_000_000:\n",
    "        return f'{value / 1_000_000_000:.1f}B'\n",
    "    elif value >= 1_000_000:\n",
    "        return f'{value / 1_000_000:.0f}M'\n",
    "    else:\n",
    "        return f'{value}'\n",
    "    \n",
    "grouped_df['Population_Text'] = grouped_df['pop'].apply(format_population)\n",
    "\n",
    "fig = px.bar(grouped_df, x=\"pop\", y=\"continent\", text=\"Population_Text\",\n",
    "             color=\"continent\", color_discrete_sequence=colors)\n",
    "\n",
    "fig.update_traces(selector=dict(type='bar'))\n",
    "fig.update_yaxes(categoryorder='total ascending')\n",
    "fig.update_traces(showlegend=False)\n",
    "\n",
    "fig.update_traces(textposition='outside')\n",
    "fig.show()\n",
    "\n",
    "\n",
    "\n"
   ]
  },
  {
   "cell_type": "markdown",
   "id": "93778c99",
   "metadata": {
    "heading_collapsed": true
   },
   "source": [
    "## Question 4:\n",
    "\n",
    "Thus far we looked at data from one year (2007). Lets create an animation to see the population growth of the continents through the years\n"
   ]
  },
  {
   "cell_type": "code",
   "execution_count": 85,
   "id": "cfb1dbf7",
   "metadata": {
    "hidden": true
   },
   "outputs": [
    {
     "data": {
      "application/vnd.plotly.v1+json": {
       "config": {
        "plotlyServerURL": "https://plot.ly"
       },
       "data": [
        {
         "marker": {
          "color": [
           "rgb(255, 165, 0)",
           "rgb(31, 119, 180)",
           "rgb(255, 0, 0)",
           "rgb(148, 0, 211)",
           "rgb(44, 160, 44)"
          ]
         },
         "name": "1952",
         "orientation": "h",
         "type": "bar",
         "x": [
          10686006,
          237640501,
          345152446,
          418120846,
          1395357351
         ],
         "y": [
          "Oceania",
          "Africa",
          "Americas",
          "Europe",
          "Asia"
         ]
        },
        {
         "marker": {
          "color": [
           "rgb(255, 165, 0)",
           "rgb(31, 119, 180)",
           "rgb(255, 0, 0)",
           "rgb(148, 0, 211)",
           "rgb(44, 160, 44)"
          ]
         },
         "name": "1957",
         "orientation": "h",
         "type": "bar",
         "x": [
          11941976,
          264837738,
          386953916,
          437890351,
          1562780599
         ],
         "y": [
          "Oceania",
          "Africa",
          "Americas",
          "Europe",
          "Asia"
         ]
        },
        {
         "marker": {
          "color": [
           "rgb(255, 165, 0)",
           "rgb(31, 119, 180)",
           "rgb(255, 0, 0)",
           "rgb(148, 0, 211)",
           "rgb(44, 160, 44)"
          ]
         },
         "name": "1962",
         "orientation": "h",
         "type": "bar",
         "x": [
          13283518,
          296516865,
          433270254,
          460355155,
          1696357182
         ],
         "y": [
          "Oceania",
          "Africa",
          "Americas",
          "Europe",
          "Asia"
         ]
        },
        {
         "marker": {
          "color": [
           "rgb(255, 165, 0)",
           "rgb(31, 119, 180)",
           "rgb(255, 0, 0)",
           "rgb(148, 0, 211)",
           "rgb(44, 160, 44)"
          ]
         },
         "name": "1967",
         "orientation": "h",
         "type": "bar",
         "x": [
          14600414,
          335289489,
          480746623,
          481178958,
          1905662900
         ],
         "y": [
          "Oceania",
          "Africa",
          "Americas",
          "Europe",
          "Asia"
         ]
        },
        {
         "marker": {
          "color": [
           "rgb(255, 165, 0)",
           "rgb(31, 119, 180)",
           "rgb(148, 0, 211)",
           "rgb(255, 0, 0)",
           "rgb(44, 160, 44)"
          ]
         },
         "name": "1972",
         "orientation": "h",
         "type": "bar",
         "x": [
          16106100,
          379879541,
          500635059,
          529384210,
          2150972248
         ],
         "y": [
          "Oceania",
          "Africa",
          "Europe",
          "Americas",
          "Asia"
         ]
        },
        {
         "marker": {
          "color": [
           "rgb(255, 165, 0)",
           "rgb(31, 119, 180)",
           "rgb(148, 0, 211)",
           "rgb(255, 0, 0)",
           "rgb(44, 160, 44)"
          ]
         },
         "name": "1977",
         "orientation": "h",
         "type": "bar",
         "x": [
          17239000,
          433061021,
          517164531,
          578067699,
          2384513556
         ],
         "y": [
          "Oceania",
          "Africa",
          "Europe",
          "Americas",
          "Asia"
         ]
        },
        {
         "marker": {
          "color": [
           "rgb(255, 165, 0)",
           "rgb(31, 119, 180)",
           "rgb(148, 0, 211)",
           "rgb(255, 0, 0)",
           "rgb(44, 160, 44)"
          ]
         },
         "name": "1982",
         "orientation": "h",
         "type": "bar",
         "x": [
          18394850,
          499348587,
          531266901,
          630290920,
          2610135582
         ],
         "y": [
          "Oceania",
          "Africa",
          "Europe",
          "Americas",
          "Asia"
         ]
        },
        {
         "marker": {
          "color": [
           "rgb(255, 165, 0)",
           "rgb(148, 0, 211)",
           "rgb(31, 119, 180)",
           "rgb(255, 0, 0)",
           "rgb(44, 160, 44)"
          ]
         },
         "name": "1987",
         "orientation": "h",
         "type": "bar",
         "x": [
          19574415,
          543094160,
          574834110,
          682753971,
          2871220762
         ],
         "y": [
          "Oceania",
          "Europe",
          "Africa",
          "Americas",
          "Asia"
         ]
        },
        {
         "marker": {
          "color": [
           "rgb(255, 165, 0)",
           "rgb(148, 0, 211)",
           "rgb(31, 119, 180)",
           "rgb(255, 0, 0)",
           "rgb(44, 160, 44)"
          ]
         },
         "name": "1992",
         "orientation": "h",
         "type": "bar",
         "x": [
          20919651,
          558142797,
          659081517,
          739274104,
          3133292191
         ],
         "y": [
          "Oceania",
          "Europe",
          "Africa",
          "Americas",
          "Asia"
         ]
        },
        {
         "marker": {
          "color": [
           "rgb(255, 165, 0)",
           "rgb(148, 0, 211)",
           "rgb(31, 119, 180)",
           "rgb(255, 0, 0)",
           "rgb(44, 160, 44)"
          ]
         },
         "name": "1997",
         "orientation": "h",
         "type": "bar",
         "x": [
          22241430,
          568944148,
          743832984,
          796900410,
          3383285500
         ],
         "y": [
          "Oceania",
          "Europe",
          "Africa",
          "Americas",
          "Asia"
         ]
        },
        {
         "marker": {
          "color": [
           "rgb(255, 165, 0)",
           "rgb(148, 0, 211)",
           "rgb(31, 119, 180)",
           "rgb(255, 0, 0)",
           "rgb(44, 160, 44)"
          ]
         },
         "name": "2002",
         "orientation": "h",
         "type": "bar",
         "visible": true,
         "x": [
          23454829,
          578223869,
          833723916,
          849772762,
          3601802203
         ],
         "y": [
          "Oceania",
          "Europe",
          "Africa",
          "Americas",
          "Asia"
         ]
        },
        {
         "marker": {
          "color": [
           "rgb(255, 165, 0)",
           "rgb(148, 0, 211)",
           "rgb(255, 0, 0)",
           "rgb(31, 119, 180)",
           "rgb(44, 160, 44)"
          ]
         },
         "name": "2007",
         "orientation": "h",
         "type": "bar",
         "x": [
          24549947,
          586098529,
          898871184,
          929539692,
          3811953827
         ],
         "y": [
          "Oceania",
          "Europe",
          "Americas",
          "Africa",
          "Asia"
         ]
        }
       ],
       "layout": {
        "sliders": [
         {
          "active": 10,
          "currentvalue": {
           "prefix": "Year: "
          },
          "pad": {
           "t": 50
          },
          "steps": [
           {
            "args": [
             "visible",
             [
              true,
              false,
              false,
              false,
              false,
              false,
              false,
              false,
              false,
              false,
              false,
              false
             ]
            ],
            "label": "1952",
            "method": "restyle"
           },
           {
            "args": [
             "visible",
             [
              false,
              true,
              false,
              false,
              false,
              false,
              false,
              false,
              false,
              false,
              false,
              false
             ]
            ],
            "label": "1957",
            "method": "restyle"
           },
           {
            "args": [
             "visible",
             [
              false,
              false,
              true,
              false,
              false,
              false,
              false,
              false,
              false,
              false,
              false,
              false
             ]
            ],
            "label": "1962",
            "method": "restyle"
           },
           {
            "args": [
             "visible",
             [
              false,
              false,
              false,
              true,
              false,
              false,
              false,
              false,
              false,
              false,
              false,
              false
             ]
            ],
            "label": "1967",
            "method": "restyle"
           },
           {
            "args": [
             "visible",
             [
              false,
              false,
              false,
              false,
              true,
              false,
              false,
              false,
              false,
              false,
              false,
              false
             ]
            ],
            "label": "1972",
            "method": "restyle"
           },
           {
            "args": [
             "visible",
             [
              false,
              false,
              false,
              false,
              false,
              true,
              false,
              false,
              false,
              false,
              false,
              false
             ]
            ],
            "label": "1977",
            "method": "restyle"
           },
           {
            "args": [
             "visible",
             [
              false,
              false,
              false,
              false,
              false,
              false,
              true,
              false,
              false,
              false,
              false,
              false
             ]
            ],
            "label": "1982",
            "method": "restyle"
           },
           {
            "args": [
             "visible",
             [
              false,
              false,
              false,
              false,
              false,
              false,
              false,
              true,
              false,
              false,
              false,
              false
             ]
            ],
            "label": "1987",
            "method": "restyle"
           },
           {
            "args": [
             "visible",
             [
              false,
              false,
              false,
              false,
              false,
              false,
              false,
              false,
              true,
              false,
              false,
              false
             ]
            ],
            "label": "1992",
            "method": "restyle"
           },
           {
            "args": [
             "visible",
             [
              false,
              false,
              false,
              false,
              false,
              false,
              false,
              false,
              false,
              true,
              false,
              false
             ]
            ],
            "label": "1997",
            "method": "restyle"
           },
           {
            "args": [
             "visible",
             [
              false,
              false,
              false,
              false,
              false,
              false,
              false,
              false,
              false,
              false,
              true,
              false
             ]
            ],
            "label": "2002",
            "method": "restyle"
           },
           {
            "args": [
             "visible",
             [
              false,
              false,
              false,
              false,
              false,
              false,
              false,
              false,
              false,
              false,
              false,
              true
             ]
            ],
            "label": "2007",
            "method": "restyle"
           }
          ]
         }
        ],
        "template": {
         "data": {
          "bar": [
           {
            "error_x": {
             "color": "#2a3f5f"
            },
            "error_y": {
             "color": "#2a3f5f"
            },
            "marker": {
             "line": {
              "color": "#E5ECF6",
              "width": 0.5
             },
             "pattern": {
              "fillmode": "overlay",
              "size": 10,
              "solidity": 0.2
             }
            },
            "type": "bar"
           }
          ],
          "barpolar": [
           {
            "marker": {
             "line": {
              "color": "#E5ECF6",
              "width": 0.5
             },
             "pattern": {
              "fillmode": "overlay",
              "size": 10,
              "solidity": 0.2
             }
            },
            "type": "barpolar"
           }
          ],
          "carpet": [
           {
            "aaxis": {
             "endlinecolor": "#2a3f5f",
             "gridcolor": "white",
             "linecolor": "white",
             "minorgridcolor": "white",
             "startlinecolor": "#2a3f5f"
            },
            "baxis": {
             "endlinecolor": "#2a3f5f",
             "gridcolor": "white",
             "linecolor": "white",
             "minorgridcolor": "white",
             "startlinecolor": "#2a3f5f"
            },
            "type": "carpet"
           }
          ],
          "choropleth": [
           {
            "colorbar": {
             "outlinewidth": 0,
             "ticks": ""
            },
            "type": "choropleth"
           }
          ],
          "contour": [
           {
            "colorbar": {
             "outlinewidth": 0,
             "ticks": ""
            },
            "colorscale": [
             [
              0,
              "#0d0887"
             ],
             [
              0.1111111111111111,
              "#46039f"
             ],
             [
              0.2222222222222222,
              "#7201a8"
             ],
             [
              0.3333333333333333,
              "#9c179e"
             ],
             [
              0.4444444444444444,
              "#bd3786"
             ],
             [
              0.5555555555555556,
              "#d8576b"
             ],
             [
              0.6666666666666666,
              "#ed7953"
             ],
             [
              0.7777777777777778,
              "#fb9f3a"
             ],
             [
              0.8888888888888888,
              "#fdca26"
             ],
             [
              1,
              "#f0f921"
             ]
            ],
            "type": "contour"
           }
          ],
          "contourcarpet": [
           {
            "colorbar": {
             "outlinewidth": 0,
             "ticks": ""
            },
            "type": "contourcarpet"
           }
          ],
          "heatmap": [
           {
            "colorbar": {
             "outlinewidth": 0,
             "ticks": ""
            },
            "colorscale": [
             [
              0,
              "#0d0887"
             ],
             [
              0.1111111111111111,
              "#46039f"
             ],
             [
              0.2222222222222222,
              "#7201a8"
             ],
             [
              0.3333333333333333,
              "#9c179e"
             ],
             [
              0.4444444444444444,
              "#bd3786"
             ],
             [
              0.5555555555555556,
              "#d8576b"
             ],
             [
              0.6666666666666666,
              "#ed7953"
             ],
             [
              0.7777777777777778,
              "#fb9f3a"
             ],
             [
              0.8888888888888888,
              "#fdca26"
             ],
             [
              1,
              "#f0f921"
             ]
            ],
            "type": "heatmap"
           }
          ],
          "heatmapgl": [
           {
            "colorbar": {
             "outlinewidth": 0,
             "ticks": ""
            },
            "colorscale": [
             [
              0,
              "#0d0887"
             ],
             [
              0.1111111111111111,
              "#46039f"
             ],
             [
              0.2222222222222222,
              "#7201a8"
             ],
             [
              0.3333333333333333,
              "#9c179e"
             ],
             [
              0.4444444444444444,
              "#bd3786"
             ],
             [
              0.5555555555555556,
              "#d8576b"
             ],
             [
              0.6666666666666666,
              "#ed7953"
             ],
             [
              0.7777777777777778,
              "#fb9f3a"
             ],
             [
              0.8888888888888888,
              "#fdca26"
             ],
             [
              1,
              "#f0f921"
             ]
            ],
            "type": "heatmapgl"
           }
          ],
          "histogram": [
           {
            "marker": {
             "pattern": {
              "fillmode": "overlay",
              "size": 10,
              "solidity": 0.2
             }
            },
            "type": "histogram"
           }
          ],
          "histogram2d": [
           {
            "colorbar": {
             "outlinewidth": 0,
             "ticks": ""
            },
            "colorscale": [
             [
              0,
              "#0d0887"
             ],
             [
              0.1111111111111111,
              "#46039f"
             ],
             [
              0.2222222222222222,
              "#7201a8"
             ],
             [
              0.3333333333333333,
              "#9c179e"
             ],
             [
              0.4444444444444444,
              "#bd3786"
             ],
             [
              0.5555555555555556,
              "#d8576b"
             ],
             [
              0.6666666666666666,
              "#ed7953"
             ],
             [
              0.7777777777777778,
              "#fb9f3a"
             ],
             [
              0.8888888888888888,
              "#fdca26"
             ],
             [
              1,
              "#f0f921"
             ]
            ],
            "type": "histogram2d"
           }
          ],
          "histogram2dcontour": [
           {
            "colorbar": {
             "outlinewidth": 0,
             "ticks": ""
            },
            "colorscale": [
             [
              0,
              "#0d0887"
             ],
             [
              0.1111111111111111,
              "#46039f"
             ],
             [
              0.2222222222222222,
              "#7201a8"
             ],
             [
              0.3333333333333333,
              "#9c179e"
             ],
             [
              0.4444444444444444,
              "#bd3786"
             ],
             [
              0.5555555555555556,
              "#d8576b"
             ],
             [
              0.6666666666666666,
              "#ed7953"
             ],
             [
              0.7777777777777778,
              "#fb9f3a"
             ],
             [
              0.8888888888888888,
              "#fdca26"
             ],
             [
              1,
              "#f0f921"
             ]
            ],
            "type": "histogram2dcontour"
           }
          ],
          "mesh3d": [
           {
            "colorbar": {
             "outlinewidth": 0,
             "ticks": ""
            },
            "type": "mesh3d"
           }
          ],
          "parcoords": [
           {
            "line": {
             "colorbar": {
              "outlinewidth": 0,
              "ticks": ""
             }
            },
            "type": "parcoords"
           }
          ],
          "pie": [
           {
            "automargin": true,
            "type": "pie"
           }
          ],
          "scatter": [
           {
            "fillpattern": {
             "fillmode": "overlay",
             "size": 10,
             "solidity": 0.2
            },
            "type": "scatter"
           }
          ],
          "scatter3d": [
           {
            "line": {
             "colorbar": {
              "outlinewidth": 0,
              "ticks": ""
             }
            },
            "marker": {
             "colorbar": {
              "outlinewidth": 0,
              "ticks": ""
             }
            },
            "type": "scatter3d"
           }
          ],
          "scattercarpet": [
           {
            "marker": {
             "colorbar": {
              "outlinewidth": 0,
              "ticks": ""
             }
            },
            "type": "scattercarpet"
           }
          ],
          "scattergeo": [
           {
            "marker": {
             "colorbar": {
              "outlinewidth": 0,
              "ticks": ""
             }
            },
            "type": "scattergeo"
           }
          ],
          "scattergl": [
           {
            "marker": {
             "colorbar": {
              "outlinewidth": 0,
              "ticks": ""
             }
            },
            "type": "scattergl"
           }
          ],
          "scattermapbox": [
           {
            "marker": {
             "colorbar": {
              "outlinewidth": 0,
              "ticks": ""
             }
            },
            "type": "scattermapbox"
           }
          ],
          "scatterpolar": [
           {
            "marker": {
             "colorbar": {
              "outlinewidth": 0,
              "ticks": ""
             }
            },
            "type": "scatterpolar"
           }
          ],
          "scatterpolargl": [
           {
            "marker": {
             "colorbar": {
              "outlinewidth": 0,
              "ticks": ""
             }
            },
            "type": "scatterpolargl"
           }
          ],
          "scatterternary": [
           {
            "marker": {
             "colorbar": {
              "outlinewidth": 0,
              "ticks": ""
             }
            },
            "type": "scatterternary"
           }
          ],
          "surface": [
           {
            "colorbar": {
             "outlinewidth": 0,
             "ticks": ""
            },
            "colorscale": [
             [
              0,
              "#0d0887"
             ],
             [
              0.1111111111111111,
              "#46039f"
             ],
             [
              0.2222222222222222,
              "#7201a8"
             ],
             [
              0.3333333333333333,
              "#9c179e"
             ],
             [
              0.4444444444444444,
              "#bd3786"
             ],
             [
              0.5555555555555556,
              "#d8576b"
             ],
             [
              0.6666666666666666,
              "#ed7953"
             ],
             [
              0.7777777777777778,
              "#fb9f3a"
             ],
             [
              0.8888888888888888,
              "#fdca26"
             ],
             [
              1,
              "#f0f921"
             ]
            ],
            "type": "surface"
           }
          ],
          "table": [
           {
            "cells": {
             "fill": {
              "color": "#EBF0F8"
             },
             "line": {
              "color": "white"
             }
            },
            "header": {
             "fill": {
              "color": "#C8D4E3"
             },
             "line": {
              "color": "white"
             }
            },
            "type": "table"
           }
          ]
         },
         "layout": {
          "annotationdefaults": {
           "arrowcolor": "#2a3f5f",
           "arrowhead": 0,
           "arrowwidth": 1
          },
          "autotypenumbers": "strict",
          "coloraxis": {
           "colorbar": {
            "outlinewidth": 0,
            "ticks": ""
           }
          },
          "colorscale": {
           "diverging": [
            [
             0,
             "#8e0152"
            ],
            [
             0.1,
             "#c51b7d"
            ],
            [
             0.2,
             "#de77ae"
            ],
            [
             0.3,
             "#f1b6da"
            ],
            [
             0.4,
             "#fde0ef"
            ],
            [
             0.5,
             "#f7f7f7"
            ],
            [
             0.6,
             "#e6f5d0"
            ],
            [
             0.7,
             "#b8e186"
            ],
            [
             0.8,
             "#7fbc41"
            ],
            [
             0.9,
             "#4d9221"
            ],
            [
             1,
             "#276419"
            ]
           ],
           "sequential": [
            [
             0,
             "#0d0887"
            ],
            [
             0.1111111111111111,
             "#46039f"
            ],
            [
             0.2222222222222222,
             "#7201a8"
            ],
            [
             0.3333333333333333,
             "#9c179e"
            ],
            [
             0.4444444444444444,
             "#bd3786"
            ],
            [
             0.5555555555555556,
             "#d8576b"
            ],
            [
             0.6666666666666666,
             "#ed7953"
            ],
            [
             0.7777777777777778,
             "#fb9f3a"
            ],
            [
             0.8888888888888888,
             "#fdca26"
            ],
            [
             1,
             "#f0f921"
            ]
           ],
           "sequentialminus": [
            [
             0,
             "#0d0887"
            ],
            [
             0.1111111111111111,
             "#46039f"
            ],
            [
             0.2222222222222222,
             "#7201a8"
            ],
            [
             0.3333333333333333,
             "#9c179e"
            ],
            [
             0.4444444444444444,
             "#bd3786"
            ],
            [
             0.5555555555555556,
             "#d8576b"
            ],
            [
             0.6666666666666666,
             "#ed7953"
            ],
            [
             0.7777777777777778,
             "#fb9f3a"
            ],
            [
             0.8888888888888888,
             "#fdca26"
            ],
            [
             1,
             "#f0f921"
            ]
           ]
          },
          "colorway": [
           "#636efa",
           "#EF553B",
           "#00cc96",
           "#ab63fa",
           "#FFA15A",
           "#19d3f3",
           "#FF6692",
           "#B6E880",
           "#FF97FF",
           "#FECB52"
          ],
          "font": {
           "color": "#2a3f5f"
          },
          "geo": {
           "bgcolor": "white",
           "lakecolor": "white",
           "landcolor": "#E5ECF6",
           "showlakes": true,
           "showland": true,
           "subunitcolor": "white"
          },
          "hoverlabel": {
           "align": "left"
          },
          "hovermode": "closest",
          "mapbox": {
           "style": "light"
          },
          "paper_bgcolor": "white",
          "plot_bgcolor": "#E5ECF6",
          "polar": {
           "angularaxis": {
            "gridcolor": "white",
            "linecolor": "white",
            "ticks": ""
           },
           "bgcolor": "#E5ECF6",
           "radialaxis": {
            "gridcolor": "white",
            "linecolor": "white",
            "ticks": ""
           }
          },
          "scene": {
           "xaxis": {
            "backgroundcolor": "#E5ECF6",
            "gridcolor": "white",
            "gridwidth": 2,
            "linecolor": "white",
            "showbackground": true,
            "ticks": "",
            "zerolinecolor": "white"
           },
           "yaxis": {
            "backgroundcolor": "#E5ECF6",
            "gridcolor": "white",
            "gridwidth": 2,
            "linecolor": "white",
            "showbackground": true,
            "ticks": "",
            "zerolinecolor": "white"
           },
           "zaxis": {
            "backgroundcolor": "#E5ECF6",
            "gridcolor": "white",
            "gridwidth": 2,
            "linecolor": "white",
            "showbackground": true,
            "ticks": "",
            "zerolinecolor": "white"
           }
          },
          "shapedefaults": {
           "line": {
            "color": "#2a3f5f"
           }
          },
          "ternary": {
           "aaxis": {
            "gridcolor": "white",
            "linecolor": "white",
            "ticks": ""
           },
           "baxis": {
            "gridcolor": "white",
            "linecolor": "white",
            "ticks": ""
           },
           "bgcolor": "#E5ECF6",
           "caxis": {
            "gridcolor": "white",
            "linecolor": "white",
            "ticks": ""
           }
          },
          "title": {
           "x": 0.05
          },
          "xaxis": {
           "automargin": true,
           "gridcolor": "white",
           "linecolor": "white",
           "ticks": "",
           "title": {
            "standoff": 15
           },
           "zerolinecolor": "white",
           "zerolinewidth": 2
          },
          "yaxis": {
           "automargin": true,
           "gridcolor": "white",
           "linecolor": "white",
           "ticks": "",
           "title": {
            "standoff": 15
           },
           "zerolinecolor": "white",
           "zerolinewidth": 2
          }
         }
        },
        "xaxis": {
         "range": [
          0,
          4193149209.7000003
         ],
         "title": {
          "text": "Population"
         }
        },
        "yaxis": {
         "title": {
          "text": "Continent"
         }
        }
       }
      },
      "text/html": [
       "<div>                            <div id=\"abfdff93-4cb2-437b-84cc-78d2f17146e7\" class=\"plotly-graph-div\" style=\"height:525px; width:100%;\"></div>            <script type=\"text/javascript\">                require([\"plotly\"], function(Plotly) {                    window.PLOTLYENV=window.PLOTLYENV || {};                                    if (document.getElementById(\"abfdff93-4cb2-437b-84cc-78d2f17146e7\")) {                    Plotly.newPlot(                        \"abfdff93-4cb2-437b-84cc-78d2f17146e7\",                        [{\"marker\":{\"color\":[\"rgb(255, 165, 0)\",\"rgb(31, 119, 180)\",\"rgb(255, 0, 0)\",\"rgb(148, 0, 211)\",\"rgb(44, 160, 44)\"]},\"name\":\"1952\",\"orientation\":\"h\",\"x\":[10686006,237640501,345152446,418120846,1395357351],\"y\":[\"Oceania\",\"Africa\",\"Americas\",\"Europe\",\"Asia\"],\"type\":\"bar\"},{\"marker\":{\"color\":[\"rgb(255, 165, 0)\",\"rgb(31, 119, 180)\",\"rgb(255, 0, 0)\",\"rgb(148, 0, 211)\",\"rgb(44, 160, 44)\"]},\"name\":\"1957\",\"orientation\":\"h\",\"x\":[11941976,264837738,386953916,437890351,1562780599],\"y\":[\"Oceania\",\"Africa\",\"Americas\",\"Europe\",\"Asia\"],\"type\":\"bar\"},{\"marker\":{\"color\":[\"rgb(255, 165, 0)\",\"rgb(31, 119, 180)\",\"rgb(255, 0, 0)\",\"rgb(148, 0, 211)\",\"rgb(44, 160, 44)\"]},\"name\":\"1962\",\"orientation\":\"h\",\"x\":[13283518,296516865,433270254,460355155,1696357182],\"y\":[\"Oceania\",\"Africa\",\"Americas\",\"Europe\",\"Asia\"],\"type\":\"bar\"},{\"marker\":{\"color\":[\"rgb(255, 165, 0)\",\"rgb(31, 119, 180)\",\"rgb(255, 0, 0)\",\"rgb(148, 0, 211)\",\"rgb(44, 160, 44)\"]},\"name\":\"1967\",\"orientation\":\"h\",\"x\":[14600414,335289489,480746623,481178958,1905662900],\"y\":[\"Oceania\",\"Africa\",\"Americas\",\"Europe\",\"Asia\"],\"type\":\"bar\"},{\"marker\":{\"color\":[\"rgb(255, 165, 0)\",\"rgb(31, 119, 180)\",\"rgb(148, 0, 211)\",\"rgb(255, 0, 0)\",\"rgb(44, 160, 44)\"]},\"name\":\"1972\",\"orientation\":\"h\",\"x\":[16106100,379879541,500635059,529384210,2150972248],\"y\":[\"Oceania\",\"Africa\",\"Europe\",\"Americas\",\"Asia\"],\"type\":\"bar\"},{\"marker\":{\"color\":[\"rgb(255, 165, 0)\",\"rgb(31, 119, 180)\",\"rgb(148, 0, 211)\",\"rgb(255, 0, 0)\",\"rgb(44, 160, 44)\"]},\"name\":\"1977\",\"orientation\":\"h\",\"x\":[17239000,433061021,517164531,578067699,2384513556],\"y\":[\"Oceania\",\"Africa\",\"Europe\",\"Americas\",\"Asia\"],\"type\":\"bar\"},{\"marker\":{\"color\":[\"rgb(255, 165, 0)\",\"rgb(31, 119, 180)\",\"rgb(148, 0, 211)\",\"rgb(255, 0, 0)\",\"rgb(44, 160, 44)\"]},\"name\":\"1982\",\"orientation\":\"h\",\"x\":[18394850,499348587,531266901,630290920,2610135582],\"y\":[\"Oceania\",\"Africa\",\"Europe\",\"Americas\",\"Asia\"],\"type\":\"bar\"},{\"marker\":{\"color\":[\"rgb(255, 165, 0)\",\"rgb(148, 0, 211)\",\"rgb(31, 119, 180)\",\"rgb(255, 0, 0)\",\"rgb(44, 160, 44)\"]},\"name\":\"1987\",\"orientation\":\"h\",\"x\":[19574415,543094160,574834110,682753971,2871220762],\"y\":[\"Oceania\",\"Europe\",\"Africa\",\"Americas\",\"Asia\"],\"type\":\"bar\"},{\"marker\":{\"color\":[\"rgb(255, 165, 0)\",\"rgb(148, 0, 211)\",\"rgb(31, 119, 180)\",\"rgb(255, 0, 0)\",\"rgb(44, 160, 44)\"]},\"name\":\"1992\",\"orientation\":\"h\",\"x\":[20919651,558142797,659081517,739274104,3133292191],\"y\":[\"Oceania\",\"Europe\",\"Africa\",\"Americas\",\"Asia\"],\"type\":\"bar\"},{\"marker\":{\"color\":[\"rgb(255, 165, 0)\",\"rgb(148, 0, 211)\",\"rgb(31, 119, 180)\",\"rgb(255, 0, 0)\",\"rgb(44, 160, 44)\"]},\"name\":\"1997\",\"orientation\":\"h\",\"x\":[22241430,568944148,743832984,796900410,3383285500],\"y\":[\"Oceania\",\"Europe\",\"Africa\",\"Americas\",\"Asia\"],\"type\":\"bar\"},{\"marker\":{\"color\":[\"rgb(255, 165, 0)\",\"rgb(148, 0, 211)\",\"rgb(31, 119, 180)\",\"rgb(255, 0, 0)\",\"rgb(44, 160, 44)\"]},\"name\":\"2002\",\"orientation\":\"h\",\"x\":[23454829,578223869,833723916,849772762,3601802203],\"y\":[\"Oceania\",\"Europe\",\"Africa\",\"Americas\",\"Asia\"],\"type\":\"bar\",\"visible\":true},{\"marker\":{\"color\":[\"rgb(255, 165, 0)\",\"rgb(148, 0, 211)\",\"rgb(255, 0, 0)\",\"rgb(31, 119, 180)\",\"rgb(44, 160, 44)\"]},\"name\":\"2007\",\"orientation\":\"h\",\"x\":[24549947,586098529,898871184,929539692,3811953827],\"y\":[\"Oceania\",\"Europe\",\"Americas\",\"Africa\",\"Asia\"],\"type\":\"bar\"}],                        {\"template\":{\"data\":{\"histogram2dcontour\":[{\"type\":\"histogram2dcontour\",\"colorbar\":{\"outlinewidth\":0,\"ticks\":\"\"},\"colorscale\":[[0.0,\"#0d0887\"],[0.1111111111111111,\"#46039f\"],[0.2222222222222222,\"#7201a8\"],[0.3333333333333333,\"#9c179e\"],[0.4444444444444444,\"#bd3786\"],[0.5555555555555556,\"#d8576b\"],[0.6666666666666666,\"#ed7953\"],[0.7777777777777778,\"#fb9f3a\"],[0.8888888888888888,\"#fdca26\"],[1.0,\"#f0f921\"]]}],\"choropleth\":[{\"type\":\"choropleth\",\"colorbar\":{\"outlinewidth\":0,\"ticks\":\"\"}}],\"histogram2d\":[{\"type\":\"histogram2d\",\"colorbar\":{\"outlinewidth\":0,\"ticks\":\"\"},\"colorscale\":[[0.0,\"#0d0887\"],[0.1111111111111111,\"#46039f\"],[0.2222222222222222,\"#7201a8\"],[0.3333333333333333,\"#9c179e\"],[0.4444444444444444,\"#bd3786\"],[0.5555555555555556,\"#d8576b\"],[0.6666666666666666,\"#ed7953\"],[0.7777777777777778,\"#fb9f3a\"],[0.8888888888888888,\"#fdca26\"],[1.0,\"#f0f921\"]]}],\"heatmap\":[{\"type\":\"heatmap\",\"colorbar\":{\"outlinewidth\":0,\"ticks\":\"\"},\"colorscale\":[[0.0,\"#0d0887\"],[0.1111111111111111,\"#46039f\"],[0.2222222222222222,\"#7201a8\"],[0.3333333333333333,\"#9c179e\"],[0.4444444444444444,\"#bd3786\"],[0.5555555555555556,\"#d8576b\"],[0.6666666666666666,\"#ed7953\"],[0.7777777777777778,\"#fb9f3a\"],[0.8888888888888888,\"#fdca26\"],[1.0,\"#f0f921\"]]}],\"heatmapgl\":[{\"type\":\"heatmapgl\",\"colorbar\":{\"outlinewidth\":0,\"ticks\":\"\"},\"colorscale\":[[0.0,\"#0d0887\"],[0.1111111111111111,\"#46039f\"],[0.2222222222222222,\"#7201a8\"],[0.3333333333333333,\"#9c179e\"],[0.4444444444444444,\"#bd3786\"],[0.5555555555555556,\"#d8576b\"],[0.6666666666666666,\"#ed7953\"],[0.7777777777777778,\"#fb9f3a\"],[0.8888888888888888,\"#fdca26\"],[1.0,\"#f0f921\"]]}],\"contourcarpet\":[{\"type\":\"contourcarpet\",\"colorbar\":{\"outlinewidth\":0,\"ticks\":\"\"}}],\"contour\":[{\"type\":\"contour\",\"colorbar\":{\"outlinewidth\":0,\"ticks\":\"\"},\"colorscale\":[[0.0,\"#0d0887\"],[0.1111111111111111,\"#46039f\"],[0.2222222222222222,\"#7201a8\"],[0.3333333333333333,\"#9c179e\"],[0.4444444444444444,\"#bd3786\"],[0.5555555555555556,\"#d8576b\"],[0.6666666666666666,\"#ed7953\"],[0.7777777777777778,\"#fb9f3a\"],[0.8888888888888888,\"#fdca26\"],[1.0,\"#f0f921\"]]}],\"surface\":[{\"type\":\"surface\",\"colorbar\":{\"outlinewidth\":0,\"ticks\":\"\"},\"colorscale\":[[0.0,\"#0d0887\"],[0.1111111111111111,\"#46039f\"],[0.2222222222222222,\"#7201a8\"],[0.3333333333333333,\"#9c179e\"],[0.4444444444444444,\"#bd3786\"],[0.5555555555555556,\"#d8576b\"],[0.6666666666666666,\"#ed7953\"],[0.7777777777777778,\"#fb9f3a\"],[0.8888888888888888,\"#fdca26\"],[1.0,\"#f0f921\"]]}],\"mesh3d\":[{\"type\":\"mesh3d\",\"colorbar\":{\"outlinewidth\":0,\"ticks\":\"\"}}],\"scatter\":[{\"fillpattern\":{\"fillmode\":\"overlay\",\"size\":10,\"solidity\":0.2},\"type\":\"scatter\"}],\"parcoords\":[{\"type\":\"parcoords\",\"line\":{\"colorbar\":{\"outlinewidth\":0,\"ticks\":\"\"}}}],\"scatterpolargl\":[{\"type\":\"scatterpolargl\",\"marker\":{\"colorbar\":{\"outlinewidth\":0,\"ticks\":\"\"}}}],\"bar\":[{\"error_x\":{\"color\":\"#2a3f5f\"},\"error_y\":{\"color\":\"#2a3f5f\"},\"marker\":{\"line\":{\"color\":\"#E5ECF6\",\"width\":0.5},\"pattern\":{\"fillmode\":\"overlay\",\"size\":10,\"solidity\":0.2}},\"type\":\"bar\"}],\"scattergeo\":[{\"type\":\"scattergeo\",\"marker\":{\"colorbar\":{\"outlinewidth\":0,\"ticks\":\"\"}}}],\"scatterpolar\":[{\"type\":\"scatterpolar\",\"marker\":{\"colorbar\":{\"outlinewidth\":0,\"ticks\":\"\"}}}],\"histogram\":[{\"marker\":{\"pattern\":{\"fillmode\":\"overlay\",\"size\":10,\"solidity\":0.2}},\"type\":\"histogram\"}],\"scattergl\":[{\"type\":\"scattergl\",\"marker\":{\"colorbar\":{\"outlinewidth\":0,\"ticks\":\"\"}}}],\"scatter3d\":[{\"type\":\"scatter3d\",\"line\":{\"colorbar\":{\"outlinewidth\":0,\"ticks\":\"\"}},\"marker\":{\"colorbar\":{\"outlinewidth\":0,\"ticks\":\"\"}}}],\"scattermapbox\":[{\"type\":\"scattermapbox\",\"marker\":{\"colorbar\":{\"outlinewidth\":0,\"ticks\":\"\"}}}],\"scatterternary\":[{\"type\":\"scatterternary\",\"marker\":{\"colorbar\":{\"outlinewidth\":0,\"ticks\":\"\"}}}],\"scattercarpet\":[{\"type\":\"scattercarpet\",\"marker\":{\"colorbar\":{\"outlinewidth\":0,\"ticks\":\"\"}}}],\"carpet\":[{\"aaxis\":{\"endlinecolor\":\"#2a3f5f\",\"gridcolor\":\"white\",\"linecolor\":\"white\",\"minorgridcolor\":\"white\",\"startlinecolor\":\"#2a3f5f\"},\"baxis\":{\"endlinecolor\":\"#2a3f5f\",\"gridcolor\":\"white\",\"linecolor\":\"white\",\"minorgridcolor\":\"white\",\"startlinecolor\":\"#2a3f5f\"},\"type\":\"carpet\"}],\"table\":[{\"cells\":{\"fill\":{\"color\":\"#EBF0F8\"},\"line\":{\"color\":\"white\"}},\"header\":{\"fill\":{\"color\":\"#C8D4E3\"},\"line\":{\"color\":\"white\"}},\"type\":\"table\"}],\"barpolar\":[{\"marker\":{\"line\":{\"color\":\"#E5ECF6\",\"width\":0.5},\"pattern\":{\"fillmode\":\"overlay\",\"size\":10,\"solidity\":0.2}},\"type\":\"barpolar\"}],\"pie\":[{\"automargin\":true,\"type\":\"pie\"}]},\"layout\":{\"autotypenumbers\":\"strict\",\"colorway\":[\"#636efa\",\"#EF553B\",\"#00cc96\",\"#ab63fa\",\"#FFA15A\",\"#19d3f3\",\"#FF6692\",\"#B6E880\",\"#FF97FF\",\"#FECB52\"],\"font\":{\"color\":\"#2a3f5f\"},\"hovermode\":\"closest\",\"hoverlabel\":{\"align\":\"left\"},\"paper_bgcolor\":\"white\",\"plot_bgcolor\":\"#E5ECF6\",\"polar\":{\"bgcolor\":\"#E5ECF6\",\"angularaxis\":{\"gridcolor\":\"white\",\"linecolor\":\"white\",\"ticks\":\"\"},\"radialaxis\":{\"gridcolor\":\"white\",\"linecolor\":\"white\",\"ticks\":\"\"}},\"ternary\":{\"bgcolor\":\"#E5ECF6\",\"aaxis\":{\"gridcolor\":\"white\",\"linecolor\":\"white\",\"ticks\":\"\"},\"baxis\":{\"gridcolor\":\"white\",\"linecolor\":\"white\",\"ticks\":\"\"},\"caxis\":{\"gridcolor\":\"white\",\"linecolor\":\"white\",\"ticks\":\"\"}},\"coloraxis\":{\"colorbar\":{\"outlinewidth\":0,\"ticks\":\"\"}},\"colorscale\":{\"sequential\":[[0.0,\"#0d0887\"],[0.1111111111111111,\"#46039f\"],[0.2222222222222222,\"#7201a8\"],[0.3333333333333333,\"#9c179e\"],[0.4444444444444444,\"#bd3786\"],[0.5555555555555556,\"#d8576b\"],[0.6666666666666666,\"#ed7953\"],[0.7777777777777778,\"#fb9f3a\"],[0.8888888888888888,\"#fdca26\"],[1.0,\"#f0f921\"]],\"sequentialminus\":[[0.0,\"#0d0887\"],[0.1111111111111111,\"#46039f\"],[0.2222222222222222,\"#7201a8\"],[0.3333333333333333,\"#9c179e\"],[0.4444444444444444,\"#bd3786\"],[0.5555555555555556,\"#d8576b\"],[0.6666666666666666,\"#ed7953\"],[0.7777777777777778,\"#fb9f3a\"],[0.8888888888888888,\"#fdca26\"],[1.0,\"#f0f921\"]],\"diverging\":[[0,\"#8e0152\"],[0.1,\"#c51b7d\"],[0.2,\"#de77ae\"],[0.3,\"#f1b6da\"],[0.4,\"#fde0ef\"],[0.5,\"#f7f7f7\"],[0.6,\"#e6f5d0\"],[0.7,\"#b8e186\"],[0.8,\"#7fbc41\"],[0.9,\"#4d9221\"],[1,\"#276419\"]]},\"xaxis\":{\"gridcolor\":\"white\",\"linecolor\":\"white\",\"ticks\":\"\",\"title\":{\"standoff\":15},\"zerolinecolor\":\"white\",\"automargin\":true,\"zerolinewidth\":2},\"yaxis\":{\"gridcolor\":\"white\",\"linecolor\":\"white\",\"ticks\":\"\",\"title\":{\"standoff\":15},\"zerolinecolor\":\"white\",\"automargin\":true,\"zerolinewidth\":2},\"scene\":{\"xaxis\":{\"backgroundcolor\":\"#E5ECF6\",\"gridcolor\":\"white\",\"linecolor\":\"white\",\"showbackground\":true,\"ticks\":\"\",\"zerolinecolor\":\"white\",\"gridwidth\":2},\"yaxis\":{\"backgroundcolor\":\"#E5ECF6\",\"gridcolor\":\"white\",\"linecolor\":\"white\",\"showbackground\":true,\"ticks\":\"\",\"zerolinecolor\":\"white\",\"gridwidth\":2},\"zaxis\":{\"backgroundcolor\":\"#E5ECF6\",\"gridcolor\":\"white\",\"linecolor\":\"white\",\"showbackground\":true,\"ticks\":\"\",\"zerolinecolor\":\"white\",\"gridwidth\":2}},\"shapedefaults\":{\"line\":{\"color\":\"#2a3f5f\"}},\"annotationdefaults\":{\"arrowcolor\":\"#2a3f5f\",\"arrowhead\":0,\"arrowwidth\":1},\"geo\":{\"bgcolor\":\"white\",\"landcolor\":\"#E5ECF6\",\"subunitcolor\":\"white\",\"showland\":true,\"showlakes\":true,\"lakecolor\":\"white\"},\"title\":{\"x\":0.05},\"mapbox\":{\"style\":\"light\"}}},\"xaxis\":{\"title\":{\"text\":\"Population\"},\"range\":[0,4193149209.7000003]},\"sliders\":[{\"active\":10,\"currentvalue\":{\"prefix\":\"Year: \"},\"pad\":{\"t\":50},\"steps\":[{\"args\":[\"visible\",[true,false,false,false,false,false,false,false,false,false,false,false]],\"label\":\"1952\",\"method\":\"restyle\"},{\"args\":[\"visible\",[false,true,false,false,false,false,false,false,false,false,false,false]],\"label\":\"1957\",\"method\":\"restyle\"},{\"args\":[\"visible\",[false,false,true,false,false,false,false,false,false,false,false,false]],\"label\":\"1962\",\"method\":\"restyle\"},{\"args\":[\"visible\",[false,false,false,true,false,false,false,false,false,false,false,false]],\"label\":\"1967\",\"method\":\"restyle\"},{\"args\":[\"visible\",[false,false,false,false,true,false,false,false,false,false,false,false]],\"label\":\"1972\",\"method\":\"restyle\"},{\"args\":[\"visible\",[false,false,false,false,false,true,false,false,false,false,false,false]],\"label\":\"1977\",\"method\":\"restyle\"},{\"args\":[\"visible\",[false,false,false,false,false,false,true,false,false,false,false,false]],\"label\":\"1982\",\"method\":\"restyle\"},{\"args\":[\"visible\",[false,false,false,false,false,false,false,true,false,false,false,false]],\"label\":\"1987\",\"method\":\"restyle\"},{\"args\":[\"visible\",[false,false,false,false,false,false,false,false,true,false,false,false]],\"label\":\"1992\",\"method\":\"restyle\"},{\"args\":[\"visible\",[false,false,false,false,false,false,false,false,false,true,false,false]],\"label\":\"1997\",\"method\":\"restyle\"},{\"args\":[\"visible\",[false,false,false,false,false,false,false,false,false,false,true,false]],\"label\":\"2002\",\"method\":\"restyle\"},{\"args\":[\"visible\",[false,false,false,false,false,false,false,false,false,false,false,true]],\"label\":\"2007\",\"method\":\"restyle\"}]}],\"yaxis\":{\"title\":{\"text\":\"Continent\"}}},                        {\"responsive\": true}                    ).then(function(){\n",
       "                            \n",
       "var gd = document.getElementById('abfdff93-4cb2-437b-84cc-78d2f17146e7');\n",
       "var x = new MutationObserver(function (mutations, observer) {{\n",
       "        var display = window.getComputedStyle(gd).display;\n",
       "        if (!display || display === 'none') {{\n",
       "            console.log([gd, 'removed!']);\n",
       "            Plotly.purge(gd);\n",
       "            observer.disconnect();\n",
       "        }}\n",
       "}});\n",
       "\n",
       "// Listen for the removal of the full notebook cells\n",
       "var notebookContainer = gd.closest('#notebook-container');\n",
       "if (notebookContainer) {{\n",
       "    x.observe(notebookContainer, {childList: true});\n",
       "}}\n",
       "\n",
       "// Listen for the clearing of the current output cell\n",
       "var outputEl = gd.closest('.output');\n",
       "if (outputEl) {{\n",
       "    x.observe(outputEl, {childList: true});\n",
       "}}\n",
       "\n",
       "                        })                };                });            </script>        </div>"
      ]
     },
     "metadata": {},
     "output_type": "display_data"
    }
   ],
   "source": [
    "# YOUR CODE HERE\n",
    "import plotly.graph_objects as go\n",
    "import numpy as np\n",
    "\n",
    "\n",
    "fig = go.Figure()\n",
    "\n",
    "\n",
    "continent_colors = {\n",
    "    \"Asia\": \"rgb(44, 160, 44)\",    \n",
    "    \"Americas\": \"rgb(255, 0, 0)\",   \n",
    "    \"Africa\": \"rgb(31, 119, 180)\",  \n",
    "    \"Europe\": \"rgb(148, 0, 211)\",   \n",
    "    \"Oceania\": \"rgb(255, 165, 0)\"   \n",
    "}\n",
    "\n",
    "for year in np.arange(1952, 2008, 5):\n",
    "    df = px.data.gapminder()\n",
    "    df = df[df[\"year\"] == year]\n",
    "    grouped_df = df.groupby(\"continent\").agg({\"pop\": \"sum\"}).reset_index()\n",
    "    \n",
    "    sorted_df = grouped_df.sort_values(by=\"pop\", ascending=True)\n",
    "    colors = [continent_colors[continent] for continent in sorted_df[\"continent\"]]\n",
    "\n",
    "    fig.add_trace(\n",
    "        go.Bar(\n",
    "            x=sorted_df[\"pop\"],\n",
    "            y=sorted_df[\"continent\"],\n",
    "            orientation='h',\n",
    "            name=str(year),\n",
    "            marker_color=colors\n",
    "        ) \n",
    "    )\n",
    "    \n",
    "\n",
    "fig.data[10].visible = True\n",
    "\n",
    "steps = []\n",
    "for i in range(len(fig.data)):\n",
    "    step = dict(\n",
    "        method=\"restyle\",\n",
    "        args=[\"visible\", [False] * len(fig.data)],\n",
    "        label=str(1952 + 5*i)\n",
    "    )\n",
    "    step[\"args\"][1][i] = True \n",
    "    steps.append(step)\n",
    "\n",
    "sliders = [dict(\n",
    "    active=10,\n",
    "    steps=steps,\n",
    "    pad={\"t\": 50},\n",
    "    currentvalue={\"prefix\": \"Year: \"}\n",
    ")]\n",
    "\n",
    "xaxis_range = [0, sorted_df[\"pop\"].max() * 1.1] \n",
    "\n",
    "fig.update_layout(\n",
    "    sliders=sliders,\n",
    "    xaxis_title=\"Population\",\n",
    "    yaxis_title=\"Continent\",\n",
    "    xaxis=dict(range=xaxis_range)\n",
    ")\n",
    "\n",
    "\n",
    "fig.show()"
   ]
  },
  {
   "cell_type": "markdown",
   "id": "afcd4aa2",
   "metadata": {
    "heading_collapsed": true
   },
   "source": [
    "## Question 5:\n",
    "\n",
    "Instead of the continents, lets look at individual countries. Create an animation that shows the population growth of the countries through the years"
   ]
  },
  {
   "cell_type": "code",
   "execution_count": 105,
   "id": "b3e7149e",
   "metadata": {
    "hidden": true,
    "scrolled": true
   },
   "outputs": [
    {
     "name": "stdout",
     "output_type": "stream",
     "text": [
      "{'Afghanistan': 'rgb(95, 88, 46)', 'Albania': 'rgb(23, 10, 213)', 'Algeria': 'rgb(63, 73, 236)', 'Angola': 'rgb(44, 17, 37)', 'Argentina': 'rgb(160, 119, 17)', 'Australia': 'rgb(175, 41, 81)', 'Austria': 'rgb(216, 159, 197)', 'Bahrain': 'rgb(228, 43, 212)', 'Bangladesh': 'rgb(25, 165, 29)', 'Belgium': 'rgb(190, 42, 67)', 'Benin': 'rgb(119, 0, 143)', 'Bolivia': 'rgb(176, 146, 85)', 'Bosnia and Herzegovina': 'rgb(39, 86, 255)', 'Botswana': 'rgb(88, 51, 168)', 'Brazil': 'rgb(235, 51, 192)', 'Bulgaria': 'rgb(189, 229, 65)', 'Burkina Faso': 'rgb(32, 83, 38)', 'Burundi': 'rgb(115, 219, 219)', 'Cambodia': 'rgb(3, 145, 133)', 'Cameroon': 'rgb(73, 8, 231)', 'Canada': 'rgb(8, 13, 247)', 'Central African Republic': 'rgb(243, 5, 191)', 'Chad': 'rgb(177, 155, 212)', 'Chile': 'rgb(146, 7, 173)', 'China': 'rgb(60, 70, 145)', 'Colombia': 'rgb(253, 64, 109)', 'Comoros': 'rgb(20, 245, 226)', 'Congo, Dem. Rep.': 'rgb(44, 66, 213)', 'Congo, Rep.': 'rgb(219, 29, 56)', 'Costa Rica': 'rgb(120, 242, 206)', \"Cote d'Ivoire\": 'rgb(166, 166, 174)', 'Croatia': 'rgb(146, 200, 84)', 'Cuba': 'rgb(178, 120, 170)', 'Czech Republic': 'rgb(188, 184, 222)', 'Denmark': 'rgb(177, 32, 137)', 'Djibouti': 'rgb(200, 80, 65)', 'Dominican Republic': 'rgb(103, 53, 151)', 'Ecuador': 'rgb(133, 54, 152)', 'Egypt': 'rgb(124, 249, 102)', 'El Salvador': 'rgb(150, 125, 212)', 'Equatorial Guinea': 'rgb(241, 28, 62)', 'Eritrea': 'rgb(15, 69, 183)', 'Ethiopia': 'rgb(62, 141, 126)', 'Finland': 'rgb(235, 235, 188)', 'France': 'rgb(41, 219, 87)', 'Gabon': 'rgb(125, 239, 65)', 'Gambia': 'rgb(151, 20, 12)', 'Germany': 'rgb(64, 130, 228)', 'Ghana': 'rgb(99, 58, 33)', 'Greece': 'rgb(200, 164, 80)', 'Guatemala': 'rgb(10, 45, 127)', 'Guinea': 'rgb(181, 20, 35)', 'Guinea-Bissau': 'rgb(155, 34, 57)', 'Haiti': 'rgb(208, 90, 9)', 'Honduras': 'rgb(171, 105, 35)', 'Hong Kong, China': 'rgb(101, 141, 253)', 'Hungary': 'rgb(232, 237, 134)', 'Iceland': 'rgb(228, 170, 225)', 'India': 'rgb(73, 154, 131)', 'Indonesia': 'rgb(114, 185, 160)', 'Iran': 'rgb(187, 90, 203)', 'Iraq': 'rgb(165, 136, 21)', 'Ireland': 'rgb(222, 5, 24)', 'Israel': 'rgb(181, 13, 68)', 'Italy': 'rgb(206, 217, 48)', 'Jamaica': 'rgb(76, 181, 51)', 'Japan': 'rgb(216, 7, 99)', 'Jordan': 'rgb(245, 114, 246)', 'Kenya': 'rgb(222, 0, 149)', 'Korea, Dem. Rep.': 'rgb(133, 93, 149)', 'Korea, Rep.': 'rgb(156, 228, 54)', 'Kuwait': 'rgb(132, 206, 236)', 'Lebanon': 'rgb(40, 153, 103)', 'Lesotho': 'rgb(117, 207, 105)', 'Liberia': 'rgb(159, 145, 19)', 'Libya': 'rgb(234, 224, 251)', 'Madagascar': 'rgb(89, 242, 115)', 'Malawi': 'rgb(30, 225, 136)', 'Malaysia': 'rgb(23, 95, 155)', 'Mali': 'rgb(127, 218, 147)', 'Mauritania': 'rgb(109, 158, 163)', 'Mauritius': 'rgb(186, 158, 218)', 'Mexico': 'rgb(194, 232, 183)', 'Mongolia': 'rgb(22, 151, 96)', 'Montenegro': 'rgb(160, 78, 19)', 'Morocco': 'rgb(226, 222, 183)', 'Mozambique': 'rgb(183, 104, 58)', 'Myanmar': 'rgb(84, 216, 251)', 'Namibia': 'rgb(168, 220, 118)', 'Nepal': 'rgb(29, 170, 225)', 'Netherlands': 'rgb(231, 62, 56)', 'New Zealand': 'rgb(37, 16, 125)', 'Nicaragua': 'rgb(54, 54, 219)', 'Niger': 'rgb(86, 4, 212)', 'Nigeria': 'rgb(180, 20, 6)', 'Norway': 'rgb(61, 148, 101)', 'Oman': 'rgb(224, 27, 238)', 'Pakistan': 'rgb(78, 118, 248)', 'Panama': 'rgb(158, 176, 210)', 'Paraguay': 'rgb(24, 175, 142)', 'Peru': 'rgb(94, 155, 46)', 'Philippines': 'rgb(98, 102, 157)', 'Poland': 'rgb(118, 123, 61)', 'Portugal': 'rgb(111, 27, 92)', 'Puerto Rico': 'rgb(2, 163, 0)', 'Reunion': 'rgb(140, 134, 132)', 'Romania': 'rgb(135, 170, 33)', 'Rwanda': 'rgb(196, 230, 71)', 'Sao Tome and Principe': 'rgb(226, 23, 105)', 'Saudi Arabia': 'rgb(13, 142, 46)', 'Senegal': 'rgb(102, 171, 79)', 'Serbia': 'rgb(180, 29, 180)', 'Sierra Leone': 'rgb(71, 129, 175)', 'Singapore': 'rgb(140, 154, 46)', 'Slovak Republic': 'rgb(18, 246, 14)', 'Slovenia': 'rgb(205, 2, 222)', 'Somalia': 'rgb(140, 87, 144)', 'South Africa': 'rgb(45, 171, 80)', 'Spain': 'rgb(26, 205, 226)', 'Sri Lanka': 'rgb(137, 13, 203)', 'Sudan': 'rgb(106, 155, 142)', 'Swaziland': 'rgb(181, 211, 242)', 'Sweden': 'rgb(199, 101, 208)', 'Switzerland': 'rgb(7, 64, 108)', 'Syria': 'rgb(79, 117, 45)', 'Taiwan': 'rgb(103, 36, 132)', 'Tanzania': 'rgb(177, 232, 165)', 'Thailand': 'rgb(94, 41, 232)', 'Togo': 'rgb(55, 231, 131)', 'Trinidad and Tobago': 'rgb(224, 47, 165)', 'Tunisia': 'rgb(205, 160, 234)', 'Turkey': 'rgb(201, 151, 145)', 'Uganda': 'rgb(213, 143, 38)', 'United Kingdom': 'rgb(19, 119, 108)', 'United States': 'rgb(51, 45, 128)', 'Uruguay': 'rgb(41, 229, 250)', 'Venezuela': 'rgb(159, 85, 90)', 'Vietnam': 'rgb(178, 31, 152)', 'West Bank and Gaza': 'rgb(234, 86, 108)', 'Yemen, Rep.': 'rgb(243, 151, 217)', 'Zambia': 'rgb(176, 166, 181)', 'Zimbabwe': 'rgb(81, 106, 187)'}\n"
     ]
    },
    {
     "data": {
      "application/vnd.plotly.v1+json": {
       "config": {
        "plotlyServerURL": "https://plot.ly"
       },
       "data": [
        {
         "marker": {
          "color": [
           "rgb(226, 23, 105)",
           "rgb(200, 80, 65)",
           "rgb(228, 43, 212)",
           "rgb(228, 170, 225)",
           "rgb(20, 245, 226)",
           "rgb(132, 206, 236)",
           "rgb(241, 28, 62)",
           "rgb(140, 134, 132)",
           "rgb(151, 20, 12)",
           "rgb(181, 211, 242)",
           "rgb(160, 78, 19)",
           "rgb(125, 239, 65)",
           "rgb(88, 51, 168)",
           "rgb(168, 220, 118)",
           "rgb(224, 27, 238)",
           "rgb(186, 158, 218)",
           "rgb(155, 34, 57)",
           "rgb(245, 114, 246)",
           "rgb(224, 47, 165)",
           "rgb(117, 207, 105)",
           "rgb(22, 151, 96)",
           "rgb(219, 29, 56)",
           "rgb(159, 145, 19)",
           "rgb(120, 242, 206)",
           "rgb(158, 176, 210)",
           "rgb(234, 224, 251)",
           "rgb(109, 158, 163)",
           "rgb(234, 86, 108)",
           "rgb(140, 154, 46)",
           "rgb(54, 54, 219)",
           "rgb(55, 231, 131)",
           "rgb(23, 10, 213)",
           "rgb(243, 5, 191)",
           "rgb(76, 181, 51)",
           "rgb(15, 69, 183)",
           "rgb(40, 153, 103)",
           "rgb(205, 2, 222)",
           "rgb(171, 105, 35)",
           "rgb(24, 175, 142)",
           "rgb(181, 13, 68)",
           "rgb(119, 0, 143)",
           "rgb(37, 16, 125)",
           "rgb(150, 125, 212)",
           "rgb(101, 141, 253)",
           "rgb(71, 129, 175)",
           "rgb(2, 163, 0)",
           "rgb(41, 229, 250)",
           "rgb(115, 219, 219)",
           "rgb(103, 53, 151)",
           "rgb(140, 87, 144)",
           "rgb(196, 230, 71)",
           "rgb(181, 20, 35)",
           "rgb(176, 166, 181)",
           "rgb(177, 155, 212)",
           "rgb(102, 171, 79)",
           "rgb(39, 86, 255)",
           "rgb(176, 146, 85)",
           "rgb(30, 225, 136)",
           "rgb(222, 5, 24)",
           "rgb(166, 166, 174)",
           "rgb(81, 106, 187)",
           "rgb(10, 45, 127)",
           "rgb(208, 90, 9)",
           "rgb(61, 148, 101)",
           "rgb(86, 4, 212)",
           "rgb(133, 54, 152)",
           "rgb(18, 246, 14)",
           "rgb(205, 160, 234)",
           "rgb(79, 117, 45)",
           "rgb(127, 218, 147)",
           "rgb(146, 200, 84)",
           "rgb(13, 142, 46)",
           "rgb(235, 235, 188)",
           "rgb(44, 17, 37)",
           "rgb(177, 32, 137)",
           "rgb(32, 83, 38)",
           "rgb(3, 145, 133)",
           "rgb(89, 242, 115)",
           "rgb(7, 64, 108)",
           "rgb(243, 151, 217)",
           "rgb(73, 8, 231)",
           "rgb(159, 85, 90)",
           "rgb(165, 136, 21)",
           "rgb(99, 58, 33)",
           "rgb(213, 143, 38)",
           "rgb(178, 120, 170)",
           "rgb(146, 7, 173)",
           "rgb(183, 104, 58)",
           "rgb(222, 0, 149)",
           "rgb(23, 95, 155)",
           "rgb(180, 29, 180)",
           "rgb(216, 159, 197)",
           "rgb(199, 101, 208)",
           "rgb(189, 229, 65)",
           "rgb(200, 164, 80)",
           "rgb(137, 13, 203)",
           "rgb(94, 155, 46)",
           "rgb(177, 232, 165)",
           "rgb(95, 88, 46)",
           "rgb(106, 155, 142)",
           "rgb(111, 27, 92)",
           "rgb(103, 36, 132)",
           "rgb(175, 41, 81)",
           "rgb(190, 42, 67)",
           "rgb(133, 93, 149)",
           "rgb(188, 184, 222)",
           "rgb(29, 170, 225)",
           "rgb(63, 73, 236)",
           "rgb(232, 237, 134)",
           "rgb(226, 222, 183)",
           "rgb(231, 62, 56)",
           "rgb(253, 64, 109)",
           "rgb(44, 66, 213)",
           "rgb(45, 171, 80)",
           "rgb(8, 13, 247)",
           "rgb(135, 170, 33)",
           "rgb(187, 90, 203)",
           "rgb(160, 119, 17)",
           "rgb(84, 216, 251)",
           "rgb(62, 141, 126)",
           "rgb(156, 228, 54)",
           "rgb(94, 41, 232)",
           "rgb(124, 249, 102)",
           "rgb(201, 151, 145)",
           "rgb(98, 102, 157)",
           "rgb(118, 123, 61)",
           "rgb(178, 31, 152)",
           "rgb(26, 205, 226)",
           "rgb(194, 232, 183)",
           "rgb(180, 20, 6)",
           "rgb(78, 118, 248)",
           "rgb(41, 219, 87)",
           "rgb(25, 165, 29)",
           "rgb(206, 217, 48)",
           "rgb(19, 119, 108)",
           "rgb(235, 51, 192)",
           "rgb(64, 130, 228)",
           "rgb(114, 185, 160)",
           "rgb(216, 7, 99)",
           "rgb(51, 45, 128)",
           "rgb(73, 154, 131)",
           "rgb(60, 70, 145)"
          ]
         },
         "name": "1952",
         "orientation": "h",
         "type": "bar",
         "x": [
          60011,
          63149,
          120447,
          147962,
          153936,
          160000,
          216964,
          257700,
          284320,
          290243,
          413834,
          420702,
          442308,
          485831,
          507833,
          516556,
          580653,
          607914,
          662850,
          748747,
          800663,
          854885,
          863308,
          926317,
          940080,
          1019729,
          1022556,
          1030585,
          1127000,
          1165790,
          1219113,
          1282697,
          1291695,
          1426095,
          1438760,
          1439529,
          1489518,
          1517453,
          1555876,
          1620914,
          1738315,
          1994794,
          2042865,
          2125900,
          2143249,
          2227000,
          2252965,
          2445618,
          2491346,
          2526994,
          2534927,
          2664249,
          2672000,
          2682462,
          2755589,
          2791000,
          2883315,
          2917802,
          2952156,
          2977019,
          3080907,
          3146381,
          3201488,
          3327728,
          3379468,
          3548753,
          3558137,
          3647735,
          3661549,
          3838168,
          3882229,
          4005677,
          4090500,
          4232095,
          4334000,
          4469979,
          4693836,
          4762912,
          4815000,
          4963829,
          5009067,
          5439568,
          5441766,
          5581001,
          5824797,
          6007797,
          6377619,
          6446316,
          6464046,
          6748378,
          6860147,
          6927772,
          7124673,
          7274900,
          7733250,
          7982342,
          8025700,
          8322925,
          8425333,
          8504667,
          8526050,
          8550362,
          8691212,
          8730405,
          8865488,
          9125183,
          9182536,
          9279525,
          9504000,
          9939217,
          10381988,
          12350771,
          14100005,
          14264935,
          14785584,
          16630000,
          17272000,
          17876956,
          20092996,
          20860941,
          20947571,
          21289402,
          22223309,
          22235677,
          22438691,
          25730551,
          26246839,
          28549870,
          30144317,
          33119096,
          41346560,
          42459667,
          46886859,
          47666000,
          50430000,
          56602560,
          69145952,
          82052000,
          86459025,
          157553000,
          372000000,
          556263527
         ],
         "y": [
          "Sao Tome and Principe",
          "Djibouti",
          "Bahrain",
          "Iceland",
          "Comoros",
          "Kuwait",
          "Equatorial Guinea",
          "Reunion",
          "Gambia",
          "Swaziland",
          "Montenegro",
          "Gabon",
          "Botswana",
          "Namibia",
          "Oman",
          "Mauritius",
          "Guinea-Bissau",
          "Jordan",
          "Trinidad and Tobago",
          "Lesotho",
          "Mongolia",
          "Congo, Rep.",
          "Liberia",
          "Costa Rica",
          "Panama",
          "Libya",
          "Mauritania",
          "West Bank and Gaza",
          "Singapore",
          "Nicaragua",
          "Togo",
          "Albania",
          "Central African Republic",
          "Jamaica",
          "Eritrea",
          "Lebanon",
          "Slovenia",
          "Honduras",
          "Paraguay",
          "Israel",
          "Benin",
          "New Zealand",
          "El Salvador",
          "Hong Kong, China",
          "Sierra Leone",
          "Puerto Rico",
          "Uruguay",
          "Burundi",
          "Dominican Republic",
          "Somalia",
          "Rwanda",
          "Guinea",
          "Zambia",
          "Chad",
          "Senegal",
          "Bosnia and Herzegovina",
          "Bolivia",
          "Malawi",
          "Ireland",
          "Cote d'Ivoire",
          "Zimbabwe",
          "Guatemala",
          "Haiti",
          "Norway",
          "Niger",
          "Ecuador",
          "Slovak Republic",
          "Tunisia",
          "Syria",
          "Mali",
          "Croatia",
          "Saudi Arabia",
          "Finland",
          "Angola",
          "Denmark",
          "Burkina Faso",
          "Cambodia",
          "Madagascar",
          "Switzerland",
          "Yemen, Rep.",
          "Cameroon",
          "Venezuela",
          "Iraq",
          "Ghana",
          "Uganda",
          "Cuba",
          "Chile",
          "Mozambique",
          "Kenya",
          "Malaysia",
          "Serbia",
          "Austria",
          "Sweden",
          "Bulgaria",
          "Greece",
          "Sri Lanka",
          "Peru",
          "Tanzania",
          "Afghanistan",
          "Sudan",
          "Portugal",
          "Taiwan",
          "Australia",
          "Belgium",
          "Korea, Dem. Rep.",
          "Czech Republic",
          "Nepal",
          "Algeria",
          "Hungary",
          "Morocco",
          "Netherlands",
          "Colombia",
          "Congo, Dem. Rep.",
          "South Africa",
          "Canada",
          "Romania",
          "Iran",
          "Argentina",
          "Myanmar",
          "Ethiopia",
          "Korea, Rep.",
          "Thailand",
          "Egypt",
          "Turkey",
          "Philippines",
          "Poland",
          "Vietnam",
          "Spain",
          "Mexico",
          "Nigeria",
          "Pakistan",
          "France",
          "Bangladesh",
          "Italy",
          "United Kingdom",
          "Brazil",
          "Germany",
          "Indonesia",
          "Japan",
          "United States",
          "India",
          "China"
         ]
        },
        {
         "marker": {
          "color": [
           "rgb(226, 23, 105)",
           "rgb(200, 80, 65)",
           "rgb(228, 43, 212)",
           "rgb(228, 170, 225)",
           "rgb(20, 245, 226)",
           "rgb(132, 206, 236)",
           "rgb(241, 28, 62)",
           "rgb(140, 134, 132)",
           "rgb(151, 20, 12)",
           "rgb(181, 211, 242)",
           "rgb(125, 239, 65)",
           "rgb(160, 78, 19)",
           "rgb(88, 51, 168)",
           "rgb(168, 220, 118)",
           "rgb(224, 27, 238)",
           "rgb(155, 34, 57)",
           "rgb(186, 158, 218)",
           "rgb(245, 114, 246)",
           "rgb(224, 47, 165)",
           "rgb(117, 207, 105)",
           "rgb(22, 151, 96)",
           "rgb(219, 29, 56)",
           "rgb(159, 145, 19)",
           "rgb(158, 176, 210)",
           "rgb(234, 86, 108)",
           "rgb(109, 158, 163)",
           "rgb(120, 242, 206)",
           "rgb(234, 224, 251)",
           "rgb(55, 231, 131)",
           "rgb(54, 54, 219)",
           "rgb(243, 5, 191)",
           "rgb(140, 154, 46)",
           "rgb(23, 10, 213)",
           "rgb(205, 2, 222)",
           "rgb(76, 181, 51)",
           "rgb(15, 69, 183)",
           "rgb(40, 153, 103)",
           "rgb(171, 105, 35)",
           "rgb(24, 175, 142)",
           "rgb(119, 0, 143)",
           "rgb(181, 13, 68)",
           "rgb(37, 16, 125)",
           "rgb(2, 163, 0)",
           "rgb(71, 129, 175)",
           "rgb(150, 125, 212)",
           "rgb(41, 229, 250)",
           "rgb(115, 219, 219)",
           "rgb(101, 141, 253)",
           "rgb(140, 87, 144)",
           "rgb(196, 230, 71)",
           "rgb(181, 20, 35)",
           "rgb(222, 5, 24)",
           "rgb(177, 155, 212)",
           "rgb(103, 53, 151)",
           "rgb(176, 166, 181)",
           "rgb(102, 171, 79)",
           "rgb(39, 86, 255)",
           "rgb(176, 146, 85)",
           "rgb(30, 225, 136)",
           "rgb(166, 166, 174)",
           "rgb(61, 148, 101)",
           "rgb(208, 90, 9)",
           "rgb(10, 45, 127)",
           "rgb(81, 106, 187)",
           "rgb(86, 4, 212)",
           "rgb(18, 246, 14)",
           "rgb(205, 160, 234)",
           "rgb(146, 200, 84)",
           "rgb(133, 54, 152)",
           "rgb(79, 117, 45)",
           "rgb(127, 218, 147)",
           "rgb(235, 235, 188)",
           "rgb(13, 142, 46)",
           "rgb(177, 32, 137)",
           "rgb(44, 17, 37)",
           "rgb(32, 83, 38)",
           "rgb(7, 64, 108)",
           "rgb(89, 242, 115)",
           "rgb(3, 145, 133)",
           "rgb(73, 8, 231)",
           "rgb(243, 151, 217)",
           "rgb(165, 136, 21)",
           "rgb(99, 58, 33)",
           "rgb(178, 120, 170)",
           "rgb(213, 143, 38)",
           "rgb(159, 85, 90)",
           "rgb(216, 159, 197)",
           "rgb(183, 104, 58)",
           "rgb(146, 7, 173)",
           "rgb(180, 29, 180)",
           "rgb(199, 101, 208)",
           "rgb(222, 0, 149)",
           "rgb(189, 229, 65)",
           "rgb(23, 95, 155)",
           "rgb(200, 164, 80)",
           "rgb(111, 27, 92)",
           "rgb(190, 42, 67)",
           "rgb(137, 13, 203)",
           "rgb(94, 155, 46)",
           "rgb(95, 88, 46)",
           "rgb(133, 93, 149)",
           "rgb(177, 232, 165)",
           "rgb(188, 184, 222)",
           "rgb(29, 170, 225)",
           "rgb(175, 41, 81)",
           "rgb(106, 155, 142)",
           "rgb(232, 237, 134)",
           "rgb(103, 36, 132)",
           "rgb(63, 73, 236)",
           "rgb(231, 62, 56)",
           "rgb(226, 222, 183)",
           "rgb(253, 64, 109)",
           "rgb(44, 66, 213)",
           "rgb(45, 171, 80)",
           "rgb(8, 13, 247)",
           "rgb(135, 170, 33)",
           "rgb(160, 119, 17)",
           "rgb(187, 90, 203)",
           "rgb(84, 216, 251)",
           "rgb(156, 228, 54)",
           "rgb(62, 141, 126)",
           "rgb(124, 249, 102)",
           "rgb(94, 41, 232)",
           "rgb(201, 151, 145)",
           "rgb(98, 102, 157)",
           "rgb(118, 123, 61)",
           "rgb(178, 31, 152)",
           "rgb(26, 205, 226)",
           "rgb(194, 232, 183)",
           "rgb(180, 20, 6)",
           "rgb(41, 219, 87)",
           "rgb(78, 118, 248)",
           "rgb(206, 217, 48)",
           "rgb(25, 165, 29)",
           "rgb(19, 119, 108)",
           "rgb(235, 51, 192)",
           "rgb(64, 130, 228)",
           "rgb(114, 185, 160)",
           "rgb(216, 7, 99)",
           "rgb(51, 45, 128)",
           "rgb(73, 154, 131)",
           "rgb(60, 70, 145)"
          ]
         },
         "name": "1957",
         "orientation": "h",
         "type": "bar",
         "x": [
          61325,
          71851,
          138655,
          165110,
          170928,
          212846,
          232922,
          308700,
          323150,
          326741,
          434904,
          442829,
          474639,
          548080,
          561977,
          601095,
          609816,
          746559,
          764900,
          813338,
          882134,
          940458,
          975950,
          1063506,
          1070439,
          1076852,
          1112300,
          1201578,
          1357445,
          1358828,
          1392284,
          1445929,
          1476505,
          1533070,
          1535090,
          1542611,
          1647412,
          1770390,
          1770902,
          1925173,
          1944401,
          2229407,
          2260000,
          2295678,
          2355805,
          2424959,
          2667518,
          2736300,
          2780415,
          2822082,
          2876726,
          2878220,
          2894855,
          2923186,
          3016000,
          3054547,
          3076000,
          3211738,
          3221238,
          3300000,
          3491938,
          3507701,
          3640876,
          3646340,
          3692184,
          3844277,
          3950849,
          3991242,
          4058385,
          4149908,
          4241884,
          4324000,
          4419650,
          4487831,
          4561361,
          4713416,
          5126000,
          5181679,
          5322536,
          5359923,
          5498090,
          6248643,
          6391288,
          6640752,
          6675501,
          6702668,
          6965860,
          7038035,
          7048426,
          7271135,
          7363802,
          7454779,
          7651254,
          7739235,
          8096218,
          8817650,
          8989111,
          9128546,
          9146100,
          9240934,
          9411381,
          9452826,
          9513758,
          9682338,
          9712569,
          9753392,
          9839000,
          10164215,
          10270856,
          11026383,
          11406350,
          14485993,
          15577932,
          16151549,
          17010154,
          17829327,
          19610538,
          19792000,
          21731844,
          22611552,
          22815614,
          25009741,
          25041917,
          25670939,
          26072194,
          28235346,
          28998543,
          29841614,
          35015548,
          37173340,
          44310863,
          46679944,
          49182000,
          51365468,
          51430000,
          65551171,
          71019069,
          90124000,
          91563009,
          171984000,
          409000000,
          637408000
         ],
         "y": [
          "Sao Tome and Principe",
          "Djibouti",
          "Bahrain",
          "Iceland",
          "Comoros",
          "Kuwait",
          "Equatorial Guinea",
          "Reunion",
          "Gambia",
          "Swaziland",
          "Gabon",
          "Montenegro",
          "Botswana",
          "Namibia",
          "Oman",
          "Guinea-Bissau",
          "Mauritius",
          "Jordan",
          "Trinidad and Tobago",
          "Lesotho",
          "Mongolia",
          "Congo, Rep.",
          "Liberia",
          "Panama",
          "West Bank and Gaza",
          "Mauritania",
          "Costa Rica",
          "Libya",
          "Togo",
          "Nicaragua",
          "Central African Republic",
          "Singapore",
          "Albania",
          "Slovenia",
          "Jamaica",
          "Eritrea",
          "Lebanon",
          "Honduras",
          "Paraguay",
          "Benin",
          "Israel",
          "New Zealand",
          "Puerto Rico",
          "Sierra Leone",
          "El Salvador",
          "Uruguay",
          "Burundi",
          "Hong Kong, China",
          "Somalia",
          "Rwanda",
          "Guinea",
          "Ireland",
          "Chad",
          "Dominican Republic",
          "Zambia",
          "Senegal",
          "Bosnia and Herzegovina",
          "Bolivia",
          "Malawi",
          "Cote d'Ivoire",
          "Norway",
          "Haiti",
          "Guatemala",
          "Zimbabwe",
          "Niger",
          "Slovak Republic",
          "Tunisia",
          "Croatia",
          "Ecuador",
          "Syria",
          "Mali",
          "Finland",
          "Saudi Arabia",
          "Denmark",
          "Angola",
          "Burkina Faso",
          "Switzerland",
          "Madagascar",
          "Cambodia",
          "Cameroon",
          "Yemen, Rep.",
          "Iraq",
          "Ghana",
          "Cuba",
          "Uganda",
          "Venezuela",
          "Austria",
          "Mozambique",
          "Chile",
          "Serbia",
          "Sweden",
          "Kenya",
          "Bulgaria",
          "Malaysia",
          "Greece",
          "Portugal",
          "Belgium",
          "Sri Lanka",
          "Peru",
          "Afghanistan",
          "Korea, Dem. Rep.",
          "Tanzania",
          "Czech Republic",
          "Nepal",
          "Australia",
          "Sudan",
          "Hungary",
          "Taiwan",
          "Algeria",
          "Netherlands",
          "Morocco",
          "Colombia",
          "Congo, Dem. Rep.",
          "South Africa",
          "Canada",
          "Romania",
          "Argentina",
          "Iran",
          "Myanmar",
          "Korea, Rep.",
          "Ethiopia",
          "Egypt",
          "Thailand",
          "Turkey",
          "Philippines",
          "Poland",
          "Vietnam",
          "Spain",
          "Mexico",
          "Nigeria",
          "France",
          "Pakistan",
          "Italy",
          "Bangladesh",
          "United Kingdom",
          "Brazil",
          "Germany",
          "Indonesia",
          "Japan",
          "United States",
          "India",
          "China"
         ]
        },
        {
         "marker": {
          "color": [
           "rgb(226, 23, 105)",
           "rgb(200, 80, 65)",
           "rgb(228, 43, 212)",
           "rgb(228, 170, 225)",
           "rgb(20, 245, 226)",
           "rgb(241, 28, 62)",
           "rgb(132, 206, 236)",
           "rgb(140, 134, 132)",
           "rgb(181, 211, 242)",
           "rgb(151, 20, 12)",
           "rgb(125, 239, 65)",
           "rgb(160, 78, 19)",
           "rgb(88, 51, 168)",
           "rgb(168, 220, 118)",
           "rgb(155, 34, 57)",
           "rgb(224, 27, 238)",
           "rgb(186, 158, 218)",
           "rgb(224, 47, 165)",
           "rgb(117, 207, 105)",
           "rgb(245, 114, 246)",
           "rgb(22, 151, 96)",
           "rgb(219, 29, 56)",
           "rgb(159, 145, 19)",
           "rgb(234, 86, 108)",
           "rgb(109, 158, 163)",
           "rgb(158, 176, 210)",
           "rgb(120, 242, 206)",
           "rgb(234, 224, 251)",
           "rgb(243, 5, 191)",
           "rgb(55, 231, 131)",
           "rgb(205, 2, 222)",
           "rgb(54, 54, 219)",
           "rgb(76, 181, 51)",
           "rgb(15, 69, 183)",
           "rgb(23, 10, 213)",
           "rgb(140, 154, 46)",
           "rgb(40, 153, 103)",
           "rgb(24, 175, 142)",
           "rgb(171, 105, 35)",
           "rgb(119, 0, 143)",
           "rgb(181, 13, 68)",
           "rgb(2, 163, 0)",
           "rgb(71, 129, 175)",
           "rgb(37, 16, 125)",
           "rgb(41, 229, 250)",
           "rgb(150, 125, 212)",
           "rgb(222, 5, 24)",
           "rgb(115, 219, 219)",
           "rgb(196, 230, 71)",
           "rgb(140, 87, 144)",
           "rgb(181, 20, 35)",
           "rgb(177, 155, 212)",
           "rgb(101, 141, 253)",
           "rgb(39, 86, 255)",
           "rgb(176, 166, 181)",
           "rgb(102, 171, 79)",
           "rgb(103, 53, 151)",
           "rgb(176, 146, 85)",
           "rgb(30, 225, 136)",
           "rgb(61, 148, 101)",
           "rgb(166, 166, 174)",
           "rgb(208, 90, 9)",
           "rgb(86, 4, 212)",
           "rgb(146, 200, 84)",
           "rgb(10, 45, 127)",
           "rgb(18, 246, 14)",
           "rgb(81, 106, 187)",
           "rgb(205, 160, 234)",
           "rgb(235, 235, 188)",
           "rgb(177, 32, 137)",
           "rgb(133, 54, 152)",
           "rgb(127, 218, 147)",
           "rgb(44, 17, 37)",
           "rgb(79, 117, 45)",
           "rgb(32, 83, 38)",
           "rgb(13, 142, 46)",
           "rgb(7, 64, 108)",
           "rgb(89, 242, 115)",
           "rgb(73, 8, 231)",
           "rgb(3, 145, 133)",
           "rgb(243, 151, 217)",
           "rgb(216, 159, 197)",
           "rgb(165, 136, 21)",
           "rgb(178, 120, 170)",
           "rgb(99, 58, 33)",
           "rgb(199, 101, 208)",
           "rgb(180, 29, 180)",
           "rgb(213, 143, 38)",
           "rgb(183, 104, 58)",
           "rgb(146, 7, 173)",
           "rgb(189, 229, 65)",
           "rgb(159, 85, 90)",
           "rgb(200, 164, 80)",
           "rgb(222, 0, 149)",
           "rgb(23, 95, 155)",
           "rgb(111, 27, 92)",
           "rgb(190, 42, 67)",
           "rgb(188, 184, 222)",
           "rgb(232, 237, 134)",
           "rgb(95, 88, 46)",
           "rgb(29, 170, 225)",
           "rgb(137, 13, 203)",
           "rgb(94, 155, 46)",
           "rgb(175, 41, 81)",
           "rgb(177, 232, 165)",
           "rgb(133, 93, 149)",
           "rgb(63, 73, 236)",
           "rgb(106, 155, 142)",
           "rgb(231, 62, 56)",
           "rgb(103, 36, 132)",
           "rgb(226, 222, 183)",
           "rgb(253, 64, 109)",
           "rgb(44, 66, 213)",
           "rgb(45, 171, 80)",
           "rgb(135, 170, 33)",
           "rgb(8, 13, 247)",
           "rgb(160, 119, 17)",
           "rgb(187, 90, 203)",
           "rgb(84, 216, 251)",
           "rgb(62, 141, 126)",
           "rgb(156, 228, 54)",
           "rgb(124, 249, 102)",
           "rgb(94, 41, 232)",
           "rgb(201, 151, 145)",
           "rgb(98, 102, 157)",
           "rgb(118, 123, 61)",
           "rgb(26, 205, 226)",
           "rgb(178, 31, 152)",
           "rgb(194, 232, 183)",
           "rgb(180, 20, 6)",
           "rgb(41, 219, 87)",
           "rgb(206, 217, 48)",
           "rgb(78, 118, 248)",
           "rgb(19, 119, 108)",
           "rgb(25, 165, 29)",
           "rgb(64, 130, 228)",
           "rgb(235, 51, 192)",
           "rgb(216, 7, 99)",
           "rgb(114, 185, 160)",
           "rgb(51, 45, 128)",
           "rgb(73, 154, 131)",
           "rgb(60, 70, 145)"
          ]
         },
         "name": "1962",
         "orientation": "h",
         "type": "bar",
         "x": [
          65345,
          89898,
          171863,
          182053,
          191689,
          249220,
          358266,
          358900,
          370006,
          374020,
          455661,
          474528,
          512764,
          621392,
          627820,
          628164,
          701016,
          887498,
          893143,
          933559,
          1010280,
          1047924,
          1112796,
          1133134,
          1146757,
          1215725,
          1345187,
          1441863,
          1523478,
          1528098,
          1582962,
          1590597,
          1665128,
          1666618,
          1728137,
          1750200,
          1886848,
          2009813,
          2090162,
          2151895,
          2310904,
          2448046,
          2467895,
          2488550,
          2598466,
          2747687,
          2830000,
          2961915,
          3051242,
          3080153,
          3140003,
          3150417,
          3305200,
          3349000,
          3421000,
          3430243,
          3453434,
          3593918,
          3628608,
          3638919,
          3832408,
          3880130,
          4076008,
          4076557,
          4208858,
          4237384,
          4277736,
          4286552,
          4491443,
          4646899,
          4681707,
          4690372,
          4826015,
          4834621,
          4919632,
          4943029,
          5666000,
          5703324,
          5793633,
          6083619,
          6120081,
          7129864,
          7240260,
          7254373,
          7355248,
          7561588,
          7616060,
          7688797,
          7788944,
          7961258,
          8012946,
          8143375,
          8448233,
          8678557,
          8906385,
          9019800,
          9218400,
          9620282,
          10063000,
          10267083,
          10332057,
          10421936,
          10516500,
          10794968,
          10863958,
          10917494,
          11000948,
          11183227,
          11805689,
          11918938,
          13056604,
          17009885,
          17486434,
          18356657,
          18680721,
          18985849,
          21283783,
          22874000,
          23634436,
          25145372,
          26420307,
          28173309,
          29263397,
          29788695,
          30325264,
          30329617,
          31158061,
          33796140,
          41121485,
          41871351,
          47124000,
          50843200,
          53100671,
          53292000,
          56839289,
          73739117,
          76039390,
          95831757,
          99028000,
          186538000,
          454000000,
          665770000
         ],
         "y": [
          "Sao Tome and Principe",
          "Djibouti",
          "Bahrain",
          "Iceland",
          "Comoros",
          "Equatorial Guinea",
          "Kuwait",
          "Reunion",
          "Swaziland",
          "Gambia",
          "Gabon",
          "Montenegro",
          "Botswana",
          "Namibia",
          "Guinea-Bissau",
          "Oman",
          "Mauritius",
          "Trinidad and Tobago",
          "Lesotho",
          "Jordan",
          "Mongolia",
          "Congo, Rep.",
          "Liberia",
          "West Bank and Gaza",
          "Mauritania",
          "Panama",
          "Costa Rica",
          "Libya",
          "Central African Republic",
          "Togo",
          "Slovenia",
          "Nicaragua",
          "Jamaica",
          "Eritrea",
          "Albania",
          "Singapore",
          "Lebanon",
          "Paraguay",
          "Honduras",
          "Benin",
          "Israel",
          "Puerto Rico",
          "Sierra Leone",
          "New Zealand",
          "Uruguay",
          "El Salvador",
          "Ireland",
          "Burundi",
          "Rwanda",
          "Somalia",
          "Guinea",
          "Chad",
          "Hong Kong, China",
          "Bosnia and Herzegovina",
          "Zambia",
          "Senegal",
          "Dominican Republic",
          "Bolivia",
          "Malawi",
          "Norway",
          "Cote d'Ivoire",
          "Haiti",
          "Niger",
          "Croatia",
          "Guatemala",
          "Slovak Republic",
          "Zimbabwe",
          "Tunisia",
          "Finland",
          "Denmark",
          "Ecuador",
          "Mali",
          "Angola",
          "Syria",
          "Burkina Faso",
          "Saudi Arabia",
          "Switzerland",
          "Madagascar",
          "Cameroon",
          "Cambodia",
          "Yemen, Rep.",
          "Austria",
          "Iraq",
          "Cuba",
          "Ghana",
          "Sweden",
          "Serbia",
          "Uganda",
          "Mozambique",
          "Chile",
          "Bulgaria",
          "Venezuela",
          "Greece",
          "Kenya",
          "Malaysia",
          "Portugal",
          "Belgium",
          "Czech Republic",
          "Hungary",
          "Afghanistan",
          "Nepal",
          "Sri Lanka",
          "Peru",
          "Australia",
          "Tanzania",
          "Korea, Dem. Rep.",
          "Algeria",
          "Sudan",
          "Netherlands",
          "Taiwan",
          "Morocco",
          "Colombia",
          "Congo, Dem. Rep.",
          "South Africa",
          "Romania",
          "Canada",
          "Argentina",
          "Iran",
          "Myanmar",
          "Ethiopia",
          "Korea, Rep.",
          "Egypt",
          "Thailand",
          "Turkey",
          "Philippines",
          "Poland",
          "Spain",
          "Vietnam",
          "Mexico",
          "Nigeria",
          "France",
          "Italy",
          "Pakistan",
          "United Kingdom",
          "Bangladesh",
          "Germany",
          "Brazil",
          "Japan",
          "Indonesia",
          "United States",
          "India",
          "China"
         ]
        },
        {
         "marker": {
          "color": [
           "rgb(226, 23, 105)",
           "rgb(200, 80, 65)",
           "rgb(228, 170, 225)",
           "rgb(228, 43, 212)",
           "rgb(20, 245, 226)",
           "rgb(241, 28, 62)",
           "rgb(140, 134, 132)",
           "rgb(181, 211, 242)",
           "rgb(151, 20, 12)",
           "rgb(125, 239, 65)",
           "rgb(160, 78, 19)",
           "rgb(88, 51, 168)",
           "rgb(132, 206, 236)",
           "rgb(155, 34, 57)",
           "rgb(168, 220, 118)",
           "rgb(224, 27, 238)",
           "rgb(186, 158, 218)",
           "rgb(224, 47, 165)",
           "rgb(117, 207, 105)",
           "rgb(234, 86, 108)",
           "rgb(22, 151, 96)",
           "rgb(219, 29, 56)",
           "rgb(109, 158, 163)",
           "rgb(245, 114, 246)",
           "rgb(159, 145, 19)",
           "rgb(158, 176, 210)",
           "rgb(120, 242, 206)",
           "rgb(205, 2, 222)",
           "rgb(243, 5, 191)",
           "rgb(55, 231, 131)",
           "rgb(234, 224, 251)",
           "rgb(15, 69, 183)",
           "rgb(76, 181, 51)",
           "rgb(54, 54, 219)",
           "rgb(140, 154, 46)",
           "rgb(23, 10, 213)",
           "rgb(40, 153, 103)",
           "rgb(24, 175, 142)",
           "rgb(119, 0, 143)",
           "rgb(171, 105, 35)",
           "rgb(2, 163, 0)",
           "rgb(71, 129, 175)",
           "rgb(181, 13, 68)",
           "rgb(37, 16, 125)",
           "rgb(41, 229, 250)",
           "rgb(222, 5, 24)",
           "rgb(150, 125, 212)",
           "rgb(115, 219, 219)",
           "rgb(140, 87, 144)",
           "rgb(196, 230, 71)",
           "rgb(181, 20, 35)",
           "rgb(177, 155, 212)",
           "rgb(39, 86, 255)",
           "rgb(101, 141, 253)",
           "rgb(61, 148, 101)",
           "rgb(176, 166, 181)",
           "rgb(102, 171, 79)",
           "rgb(176, 146, 85)",
           "rgb(103, 53, 151)",
           "rgb(30, 225, 136)",
           "rgb(146, 200, 84)",
           "rgb(208, 90, 9)",
           "rgb(18, 246, 14)",
           "rgb(86, 4, 212)",
           "rgb(235, 235, 188)",
           "rgb(10, 45, 127)",
           "rgb(166, 166, 174)",
           "rgb(205, 160, 234)",
           "rgb(177, 32, 137)",
           "rgb(81, 106, 187)",
           "rgb(32, 83, 38)",
           "rgb(127, 218, 147)",
           "rgb(44, 17, 37)",
           "rgb(133, 54, 152)",
           "rgb(13, 142, 46)",
           "rgb(79, 117, 45)",
           "rgb(7, 64, 108)",
           "rgb(89, 242, 115)",
           "rgb(73, 8, 231)",
           "rgb(243, 151, 217)",
           "rgb(3, 145, 133)",
           "rgb(216, 159, 197)",
           "rgb(199, 101, 208)",
           "rgb(180, 29, 180)",
           "rgb(178, 120, 170)",
           "rgb(189, 229, 65)",
           "rgb(99, 58, 33)",
           "rgb(165, 136, 21)",
           "rgb(183, 104, 58)",
           "rgb(200, 164, 80)",
           "rgb(146, 7, 173)",
           "rgb(213, 143, 38)",
           "rgb(111, 27, 92)",
           "rgb(190, 42, 67)",
           "rgb(159, 85, 90)",
           "rgb(188, 184, 222)",
           "rgb(23, 95, 155)",
           "rgb(222, 0, 149)",
           "rgb(232, 237, 134)",
           "rgb(29, 170, 225)",
           "rgb(95, 88, 46)",
           "rgb(137, 13, 203)",
           "rgb(175, 41, 81)",
           "rgb(94, 155, 46)",
           "rgb(231, 62, 56)",
           "rgb(177, 232, 165)",
           "rgb(133, 93, 149)",
           "rgb(106, 155, 142)",
           "rgb(63, 73, 236)",
           "rgb(103, 36, 132)",
           "rgb(226, 222, 183)",
           "rgb(135, 170, 33)",
           "rgb(253, 64, 109)",
           "rgb(44, 66, 213)",
           "rgb(8, 13, 247)",
           "rgb(45, 171, 80)",
           "rgb(160, 119, 17)",
           "rgb(84, 216, 251)",
           "rgb(187, 90, 203)",
           "rgb(62, 141, 126)",
           "rgb(156, 228, 54)",
           "rgb(124, 249, 102)",
           "rgb(118, 123, 61)",
           "rgb(26, 205, 226)",
           "rgb(201, 151, 145)",
           "rgb(94, 41, 232)",
           "rgb(98, 102, 157)",
           "rgb(178, 31, 152)",
           "rgb(180, 20, 6)",
           "rgb(194, 232, 183)",
           "rgb(41, 219, 87)",
           "rgb(206, 217, 48)",
           "rgb(19, 119, 108)",
           "rgb(78, 118, 248)",
           "rgb(25, 165, 29)",
           "rgb(64, 130, 228)",
           "rgb(235, 51, 192)",
           "rgb(216, 7, 99)",
           "rgb(114, 185, 160)",
           "rgb(51, 45, 128)",
           "rgb(73, 154, 131)",
           "rgb(60, 70, 145)"
          ]
         },
         "name": "1967",
         "orientation": "h",
         "type": "bar",
         "x": [
          70787,
          127617,
          198676,
          202182,
          217378,
          259864,
          414024,
          420690,
          439593,
          489004,
          501035,
          553541,
          575003,
          601287,
          706640,
          714775,
          789309,
          960155,
          996380,
          1142636,
          1149500,
          1179760,
          1230542,
          1255058,
          1279406,
          1405486,
          1588717,
          1646912,
          1733638,
          1735550,
          1759224,
          1820319,
          1861096,
          1865490,
          1977600,
          1984060,
          2186894,
          2287985,
          2427334,
          2500689,
          2648961,
          2662190,
          2693585,
          2728150,
          2748579,
          2900100,
          3232927,
          3330989,
          3428839,
          3451079,
          3451418,
          3495967,
          3585000,
          3722800,
          3786019,
          3900000,
          3965841,
          4040665,
          4049146,
          4147252,
          4174366,
          4318137,
          4442238,
          4534062,
          4605744,
          4690773,
          4744870,
          4786986,
          4838800,
          4995432,
          5127935,
          5212416,
          5247469,
          5432424,
          5618198,
          5680812,
          6063000,
          6334556,
          6335506,
          6740785,
          6960067,
          7376998,
          7867931,
          7971222,
          8139332,
          8310226,
          8490213,
          8519282,
          8680909,
          8716441,
          8858908,
          8900294,
          9103000,
          9556500,
          9709552,
          9835109,
          10154878,
          10191512,
          10223422,
          11261690,
          11537966,
          11737396,
          11872264,
          12132200,
          12596822,
          12607312,
          12617009,
          12716129,
          12760499,
          13648692,
          14770296,
          19284814,
          19764027,
          19941073,
          20819767,
          20997321,
          22934225,
          25870271,
          26538000,
          27860297,
          30131000,
          31681188,
          31785378,
          32850275,
          33411317,
          34024249,
          35356600,
          39463910,
          47287752,
          47995559,
          49569000,
          52667100,
          54959000,
          60641899,
          62821884,
          76368453,
          88049823,
          100825279,
          109343000,
          198712000,
          506000000,
          754550000
         ],
         "y": [
          "Sao Tome and Principe",
          "Djibouti",
          "Iceland",
          "Bahrain",
          "Comoros",
          "Equatorial Guinea",
          "Reunion",
          "Swaziland",
          "Gambia",
          "Gabon",
          "Montenegro",
          "Botswana",
          "Kuwait",
          "Guinea-Bissau",
          "Namibia",
          "Oman",
          "Mauritius",
          "Trinidad and Tobago",
          "Lesotho",
          "West Bank and Gaza",
          "Mongolia",
          "Congo, Rep.",
          "Mauritania",
          "Jordan",
          "Liberia",
          "Panama",
          "Costa Rica",
          "Slovenia",
          "Central African Republic",
          "Togo",
          "Libya",
          "Eritrea",
          "Jamaica",
          "Nicaragua",
          "Singapore",
          "Albania",
          "Lebanon",
          "Paraguay",
          "Benin",
          "Honduras",
          "Puerto Rico",
          "Sierra Leone",
          "Israel",
          "New Zealand",
          "Uruguay",
          "Ireland",
          "El Salvador",
          "Burundi",
          "Somalia",
          "Rwanda",
          "Guinea",
          "Chad",
          "Bosnia and Herzegovina",
          "Hong Kong, China",
          "Norway",
          "Zambia",
          "Senegal",
          "Bolivia",
          "Dominican Republic",
          "Malawi",
          "Croatia",
          "Haiti",
          "Slovak Republic",
          "Niger",
          "Finland",
          "Guatemala",
          "Cote d'Ivoire",
          "Tunisia",
          "Denmark",
          "Zimbabwe",
          "Burkina Faso",
          "Mali",
          "Angola",
          "Ecuador",
          "Saudi Arabia",
          "Syria",
          "Switzerland",
          "Madagascar",
          "Cameroon",
          "Yemen, Rep.",
          "Cambodia",
          "Austria",
          "Sweden",
          "Serbia",
          "Cuba",
          "Bulgaria",
          "Ghana",
          "Iraq",
          "Mozambique",
          "Greece",
          "Chile",
          "Uganda",
          "Portugal",
          "Belgium",
          "Venezuela",
          "Czech Republic",
          "Malaysia",
          "Kenya",
          "Hungary",
          "Nepal",
          "Afghanistan",
          "Sri Lanka",
          "Australia",
          "Peru",
          "Netherlands",
          "Tanzania",
          "Korea, Dem. Rep.",
          "Sudan",
          "Algeria",
          "Taiwan",
          "Morocco",
          "Romania",
          "Colombia",
          "Congo, Dem. Rep.",
          "Canada",
          "South Africa",
          "Argentina",
          "Myanmar",
          "Iran",
          "Ethiopia",
          "Korea, Rep.",
          "Egypt",
          "Poland",
          "Spain",
          "Turkey",
          "Thailand",
          "Philippines",
          "Vietnam",
          "Nigeria",
          "Mexico",
          "France",
          "Italy",
          "United Kingdom",
          "Pakistan",
          "Bangladesh",
          "Germany",
          "Brazil",
          "Japan",
          "Indonesia",
          "United States",
          "India",
          "China"
         ]
        },
        {
         "marker": {
          "color": [
           "rgb(226, 23, 105)",
           "rgb(200, 80, 65)",
           "rgb(228, 170, 225)",
           "rgb(228, 43, 212)",
           "rgb(20, 245, 226)",
           "rgb(241, 28, 62)",
           "rgb(140, 134, 132)",
           "rgb(181, 211, 242)",
           "rgb(151, 20, 12)",
           "rgb(160, 78, 19)",
           "rgb(125, 239, 65)",
           "rgb(88, 51, 168)",
           "rgb(155, 34, 57)",
           "rgb(168, 220, 118)",
           "rgb(224, 27, 238)",
           "rgb(132, 206, 236)",
           "rgb(186, 158, 218)",
           "rgb(224, 47, 165)",
           "rgb(234, 86, 108)",
           "rgb(117, 207, 105)",
           "rgb(22, 151, 96)",
           "rgb(109, 158, 163)",
           "rgb(219, 29, 56)",
           "rgb(159, 145, 19)",
           "rgb(245, 114, 246)",
           "rgb(158, 176, 210)",
           "rgb(205, 2, 222)",
           "rgb(120, 242, 206)",
           "rgb(243, 5, 191)",
           "rgb(76, 181, 51)",
           "rgb(55, 231, 131)",
           "rgb(140, 154, 46)",
           "rgb(54, 54, 219)",
           "rgb(234, 224, 251)",
           "rgb(15, 69, 183)",
           "rgb(23, 10, 213)",
           "rgb(24, 175, 142)",
           "rgb(40, 153, 103)",
           "rgb(119, 0, 143)",
           "rgb(41, 229, 250)",
           "rgb(2, 163, 0)",
           "rgb(71, 129, 175)",
           "rgb(37, 16, 125)",
           "rgb(171, 105, 35)",
           "rgb(222, 5, 24)",
           "rgb(181, 13, 68)",
           "rgb(115, 219, 219)",
           "rgb(150, 125, 212)",
           "rgb(181, 20, 35)",
           "rgb(39, 86, 255)",
           "rgb(140, 87, 144)",
           "rgb(177, 155, 212)",
           "rgb(61, 148, 101)",
           "rgb(196, 230, 71)",
           "rgb(101, 141, 253)",
           "rgb(146, 200, 84)",
           "rgb(176, 166, 181)",
           "rgb(176, 146, 85)",
           "rgb(102, 171, 79)",
           "rgb(18, 246, 14)",
           "rgb(235, 235, 188)",
           "rgb(103, 53, 151)",
           "rgb(208, 90, 9)",
           "rgb(30, 225, 136)",
           "rgb(177, 32, 137)",
           "rgb(86, 4, 212)",
           "rgb(10, 45, 127)",
           "rgb(205, 160, 234)",
           "rgb(32, 83, 38)",
           "rgb(127, 218, 147)",
           "rgb(81, 106, 187)",
           "rgb(44, 17, 37)",
           "rgb(166, 166, 174)",
           "rgb(133, 54, 152)",
           "rgb(7, 64, 108)",
           "rgb(13, 142, 46)",
           "rgb(79, 117, 45)",
           "rgb(73, 8, 231)",
           "rgb(89, 242, 115)",
           "rgb(243, 151, 217)",
           "rgb(3, 145, 133)",
           "rgb(216, 159, 197)",
           "rgb(199, 101, 208)",
           "rgb(180, 29, 180)",
           "rgb(189, 229, 65)",
           "rgb(178, 120, 170)",
           "rgb(200, 164, 80)",
           "rgb(111, 27, 92)",
           "rgb(99, 58, 33)",
           "rgb(190, 42, 67)",
           "rgb(146, 7, 173)",
           "rgb(183, 104, 58)",
           "rgb(188, 184, 222)",
           "rgb(165, 136, 21)",
           "rgb(213, 143, 38)",
           "rgb(232, 237, 134)",
           "rgb(23, 95, 155)",
           "rgb(159, 85, 90)",
           "rgb(222, 0, 149)",
           "rgb(29, 170, 225)",
           "rgb(137, 13, 203)",
           "rgb(95, 88, 46)",
           "rgb(175, 41, 81)",
           "rgb(231, 62, 56)",
           "rgb(94, 155, 46)",
           "rgb(106, 155, 142)",
           "rgb(177, 232, 165)",
           "rgb(63, 73, 236)",
           "rgb(133, 93, 149)",
           "rgb(103, 36, 132)",
           "rgb(226, 222, 183)",
           "rgb(135, 170, 33)",
           "rgb(8, 13, 247)",
           "rgb(253, 64, 109)",
           "rgb(44, 66, 213)",
           "rgb(45, 171, 80)",
           "rgb(160, 119, 17)",
           "rgb(84, 216, 251)",
           "rgb(187, 90, 203)",
           "rgb(62, 141, 126)",
           "rgb(118, 123, 61)",
           "rgb(156, 228, 54)",
           "rgb(26, 205, 226)",
           "rgb(124, 249, 102)",
           "rgb(201, 151, 145)",
           "rgb(94, 41, 232)",
           "rgb(98, 102, 157)",
           "rgb(178, 31, 152)",
           "rgb(41, 219, 87)",
           "rgb(180, 20, 6)",
           "rgb(206, 217, 48)",
           "rgb(194, 232, 183)",
           "rgb(19, 119, 108)",
           "rgb(78, 118, 248)",
           "rgb(25, 165, 29)",
           "rgb(64, 130, 228)",
           "rgb(235, 51, 192)",
           "rgb(216, 7, 99)",
           "rgb(114, 185, 160)",
           "rgb(51, 45, 128)",
           "rgb(73, 154, 131)",
           "rgb(60, 70, 145)"
          ]
         },
         "name": "1972",
         "orientation": "h",
         "type": "bar",
         "x": [
          76595,
          178848,
          209275,
          230800,
          250027,
          277603,
          461633,
          480105,
          517101,
          527678,
          537977,
          619351,
          625361,
          821782,
          829050,
          841934,
          851334,
          975199,
          1089572,
          1116779,
          1320500,
          1332786,
          1340458,
          1482628,
          1613551,
          1616384,
          1694510,
          1834796,
          1927260,
          1997616,
          2056351,
          2152400,
          2182908,
          2183877,
          2260187,
          2263554,
          2614104,
          2680018,
          2761407,
          2829526,
          2847132,
          2879013,
          2929100,
          2965146,
          3024400,
          3095893,
          3529983,
          3790903,
          3811387,
          3819000,
          3840161,
          3899068,
          3933004,
          3992121,
          4115700,
          4225310,
          4506497,
          4565872,
          4588696,
          4593433,
          4639657,
          4671329,
          4698301,
          4730997,
          4991596,
          5060262,
          5149581,
          5303507,
          5433886,
          5828158,
          5861135,
          5894858,
          6071696,
          6298651,
          6401400,
          6472756,
          6701172,
          7021028,
          7082430,
          7407075,
          7450606,
          7544201,
          8122293,
          8313288,
          8576200,
          8831348,
          8888628,
          8970450,
          9354120,
          9709100,
          9717524,
          9809596,
          9862158,
          10061506,
          10190285,
          10394091,
          11441462,
          11515649,
          12044785,
          12412593,
          13016733,
          13079460,
          13177000,
          13329874,
          13954700,
          14597019,
          14706593,
          14760787,
          14781241,
          15226039,
          16660670,
          20662648,
          22284500,
          22542890,
          23007669,
          23935810,
          24779799,
          28466390,
          30614000,
          30770372,
          33039545,
          33505000,
          34513161,
          34807417,
          37492953,
          39276153,
          40850141,
          44655014,
          51732000,
          53740085,
          54365564,
          55984294,
          56079000,
          69325921,
          70759295,
          78717088,
          100840058,
          107188273,
          121282000,
          209896000,
          567000000,
          862030000
         ],
         "y": [
          "Sao Tome and Principe",
          "Djibouti",
          "Iceland",
          "Bahrain",
          "Comoros",
          "Equatorial Guinea",
          "Reunion",
          "Swaziland",
          "Gambia",
          "Montenegro",
          "Gabon",
          "Botswana",
          "Guinea-Bissau",
          "Namibia",
          "Oman",
          "Kuwait",
          "Mauritius",
          "Trinidad and Tobago",
          "West Bank and Gaza",
          "Lesotho",
          "Mongolia",
          "Mauritania",
          "Congo, Rep.",
          "Liberia",
          "Jordan",
          "Panama",
          "Slovenia",
          "Costa Rica",
          "Central African Republic",
          "Jamaica",
          "Togo",
          "Singapore",
          "Nicaragua",
          "Libya",
          "Eritrea",
          "Albania",
          "Paraguay",
          "Lebanon",
          "Benin",
          "Uruguay",
          "Puerto Rico",
          "Sierra Leone",
          "New Zealand",
          "Honduras",
          "Ireland",
          "Israel",
          "Burundi",
          "El Salvador",
          "Guinea",
          "Bosnia and Herzegovina",
          "Somalia",
          "Chad",
          "Norway",
          "Rwanda",
          "Hong Kong, China",
          "Croatia",
          "Zambia",
          "Bolivia",
          "Senegal",
          "Slovak Republic",
          "Finland",
          "Dominican Republic",
          "Haiti",
          "Malawi",
          "Denmark",
          "Niger",
          "Guatemala",
          "Tunisia",
          "Burkina Faso",
          "Mali",
          "Zimbabwe",
          "Angola",
          "Cote d'Ivoire",
          "Ecuador",
          "Switzerland",
          "Saudi Arabia",
          "Syria",
          "Cameroon",
          "Madagascar",
          "Yemen, Rep.",
          "Cambodia",
          "Austria",
          "Sweden",
          "Serbia",
          "Bulgaria",
          "Cuba",
          "Greece",
          "Portugal",
          "Ghana",
          "Belgium",
          "Chile",
          "Mozambique",
          "Czech Republic",
          "Iraq",
          "Uganda",
          "Hungary",
          "Malaysia",
          "Venezuela",
          "Kenya",
          "Nepal",
          "Sri Lanka",
          "Afghanistan",
          "Australia",
          "Netherlands",
          "Peru",
          "Sudan",
          "Tanzania",
          "Algeria",
          "Korea, Dem. Rep.",
          "Taiwan",
          "Morocco",
          "Romania",
          "Canada",
          "Colombia",
          "Congo, Dem. Rep.",
          "South Africa",
          "Argentina",
          "Myanmar",
          "Iran",
          "Ethiopia",
          "Poland",
          "Korea, Rep.",
          "Spain",
          "Egypt",
          "Turkey",
          "Thailand",
          "Philippines",
          "Vietnam",
          "France",
          "Nigeria",
          "Italy",
          "Mexico",
          "United Kingdom",
          "Pakistan",
          "Bangladesh",
          "Germany",
          "Brazil",
          "Japan",
          "Indonesia",
          "United States",
          "India",
          "China"
         ]
        },
        {
         "marker": {
          "color": [
           "rgb(226, 23, 105)",
           "rgb(241, 28, 62)",
           "rgb(228, 170, 225)",
           "rgb(200, 80, 65)",
           "rgb(228, 43, 212)",
           "rgb(20, 245, 226)",
           "rgb(140, 134, 132)",
           "rgb(181, 211, 242)",
           "rgb(160, 78, 19)",
           "rgb(151, 20, 12)",
           "rgb(125, 239, 65)",
           "rgb(155, 34, 57)",
           "rgb(88, 51, 168)",
           "rgb(186, 158, 218)",
           "rgb(168, 220, 118)",
           "rgb(224, 27, 238)",
           "rgb(224, 47, 165)",
           "rgb(132, 206, 236)",
           "rgb(117, 207, 105)",
           "rgb(234, 86, 108)",
           "rgb(109, 158, 163)",
           "rgb(22, 151, 96)",
           "rgb(219, 29, 56)",
           "rgb(159, 145, 19)",
           "rgb(205, 2, 222)",
           "rgb(158, 176, 210)",
           "rgb(245, 114, 246)",
           "rgb(120, 242, 206)",
           "rgb(76, 181, 51)",
           "rgb(243, 5, 191)",
           "rgb(55, 231, 131)",
           "rgb(140, 154, 46)",
           "rgb(23, 10, 213)",
           "rgb(15, 69, 183)",
           "rgb(54, 54, 219)",
           "rgb(234, 224, 251)",
           "rgb(41, 229, 250)",
           "rgb(24, 175, 142)",
           "rgb(171, 105, 35)",
           "rgb(2, 163, 0)",
           "rgb(40, 153, 103)",
           "rgb(71, 129, 175)",
           "rgb(37, 16, 125)",
           "rgb(119, 0, 143)",
           "rgb(222, 5, 24)",
           "rgb(181, 13, 68)",
           "rgb(115, 219, 219)",
           "rgb(61, 148, 101)",
           "rgb(39, 86, 255)",
           "rgb(181, 20, 35)",
           "rgb(150, 125, 212)",
           "rgb(146, 200, 84)",
           "rgb(140, 87, 144)",
           "rgb(177, 155, 212)",
           "rgb(101, 141, 253)",
           "rgb(196, 230, 71)",
           "rgb(235, 235, 188)",
           "rgb(18, 246, 14)",
           "rgb(208, 90, 9)",
           "rgb(176, 146, 85)",
           "rgb(177, 32, 137)",
           "rgb(176, 166, 181)",
           "rgb(102, 171, 79)",
           "rgb(103, 53, 151)",
           "rgb(30, 225, 136)",
           "rgb(86, 4, 212)",
           "rgb(10, 45, 127)",
           "rgb(32, 83, 38)",
           "rgb(205, 160, 234)",
           "rgb(44, 17, 37)",
           "rgb(7, 64, 108)",
           "rgb(127, 218, 147)",
           "rgb(81, 106, 187)",
           "rgb(3, 145, 133)",
           "rgb(133, 54, 152)",
           "rgb(166, 166, 174)",
           "rgb(216, 159, 197)",
           "rgb(79, 117, 45)",
           "rgb(73, 8, 231)",
           "rgb(89, 242, 115)",
           "rgb(13, 142, 46)",
           "rgb(199, 101, 208)",
           "rgb(243, 151, 217)",
           "rgb(180, 29, 180)",
           "rgb(189, 229, 65)",
           "rgb(200, 164, 80)",
           "rgb(178, 120, 170)",
           "rgb(111, 27, 92)",
           "rgb(190, 42, 67)",
           "rgb(188, 184, 222)",
           "rgb(99, 58, 33)",
           "rgb(146, 7, 173)",
           "rgb(232, 237, 134)",
           "rgb(183, 104, 58)",
           "rgb(213, 143, 38)",
           "rgb(165, 136, 21)",
           "rgb(23, 95, 155)",
           "rgb(159, 85, 90)",
           "rgb(231, 62, 56)",
           "rgb(29, 170, 225)",
           "rgb(175, 41, 81)",
           "rgb(137, 13, 203)",
           "rgb(222, 0, 149)",
           "rgb(95, 88, 46)",
           "rgb(94, 155, 46)",
           "rgb(133, 93, 149)",
           "rgb(103, 36, 132)",
           "rgb(106, 155, 142)",
           "rgb(177, 232, 165)",
           "rgb(63, 73, 236)",
           "rgb(226, 222, 183)",
           "rgb(135, 170, 33)",
           "rgb(8, 13, 247)",
           "rgb(253, 64, 109)",
           "rgb(44, 66, 213)",
           "rgb(160, 119, 17)",
           "rgb(45, 171, 80)",
           "rgb(84, 216, 251)",
           "rgb(62, 141, 126)",
           "rgb(118, 123, 61)",
           "rgb(187, 90, 203)",
           "rgb(156, 228, 54)",
           "rgb(26, 205, 226)",
           "rgb(124, 249, 102)",
           "rgb(201, 151, 145)",
           "rgb(94, 41, 232)",
           "rgb(98, 102, 157)",
           "rgb(178, 31, 152)",
           "rgb(41, 219, 87)",
           "rgb(206, 217, 48)",
           "rgb(19, 119, 108)",
           "rgb(180, 20, 6)",
           "rgb(194, 232, 183)",
           "rgb(78, 118, 248)",
           "rgb(64, 130, 228)",
           "rgb(25, 165, 29)",
           "rgb(216, 7, 99)",
           "rgb(235, 51, 192)",
           "rgb(114, 185, 160)",
           "rgb(51, 45, 128)",
           "rgb(73, 154, 131)",
           "rgb(60, 70, 145)"
          ]
         },
         "name": "1977",
         "orientation": "h",
         "type": "bar",
         "x": [
          86796,
          192675,
          221823,
          228694,
          297410,
          304739,
          492095,
          551425,
          560073,
          608274,
          706367,
          745228,
          781472,
          913025,
          977026,
          1004533,
          1039009,
          1140357,
          1251524,
          1261091,
          1456688,
          1528000,
          1536769,
          1703617,
          1746919,
          1839782,
          1937652,
          2108457,
          2156814,
          2167533,
          2308582,
          2325300,
          2509048,
          2512642,
          2554598,
          2721783,
          2873520,
          2984494,
          3055235,
          3080828,
          3115787,
          3140897,
          3164900,
          3168267,
          3271900,
          3495918,
          3834415,
          4043205,
          4086000,
          4227026,
          4282586,
          4318673,
          4353666,
          4388260,
          4583700,
          4657072,
          4738902,
          4827803,
          4908554,
          5079716,
          5088419,
          5216550,
          5260855,
          5302800,
          5637246,
          5682086,
          5703430,
          5889574,
          6005061,
          6162675,
          6316424,
          6491649,
          6642107,
          6978607,
          7278866,
          7459574,
          7568430,
          7932503,
          7959865,
          8007166,
          8128505,
          8251648,
          8403990,
          8686367,
          8797022,
          9308479,
          9537988,
          9662600,
          9821800,
          10161915,
          10538093,
          10599793,
          10637171,
          11127868,
          11457758,
          11882916,
          12845381,
          13503563,
          13852989,
          13933198,
          14074100,
          14116836,
          14500404,
          14880372,
          15990099,
          16325320,
          16785196,
          17104986,
          17129565,
          17152804,
          18396941,
          21658597,
          23796400,
          25094412,
          26480870,
          26983828,
          27129932,
          31528087,
          34617799,
          34621254,
          35480679,
          36436000,
          36439000,
          38783863,
          42404033,
          44148285,
          46850962,
          50533506,
          53165019,
          56059245,
          56179000,
          62209173,
          63759976,
          78152686,
          78160773,
          80428306,
          113872473,
          114313951,
          136725000,
          220239000,
          634000000,
          943455000
         ],
         "y": [
          "Sao Tome and Principe",
          "Equatorial Guinea",
          "Iceland",
          "Djibouti",
          "Bahrain",
          "Comoros",
          "Reunion",
          "Swaziland",
          "Montenegro",
          "Gambia",
          "Gabon",
          "Guinea-Bissau",
          "Botswana",
          "Mauritius",
          "Namibia",
          "Oman",
          "Trinidad and Tobago",
          "Kuwait",
          "Lesotho",
          "West Bank and Gaza",
          "Mauritania",
          "Mongolia",
          "Congo, Rep.",
          "Liberia",
          "Slovenia",
          "Panama",
          "Jordan",
          "Costa Rica",
          "Jamaica",
          "Central African Republic",
          "Togo",
          "Singapore",
          "Albania",
          "Eritrea",
          "Nicaragua",
          "Libya",
          "Uruguay",
          "Paraguay",
          "Honduras",
          "Puerto Rico",
          "Lebanon",
          "Sierra Leone",
          "New Zealand",
          "Benin",
          "Ireland",
          "Israel",
          "Burundi",
          "Norway",
          "Bosnia and Herzegovina",
          "Guinea",
          "El Salvador",
          "Croatia",
          "Somalia",
          "Chad",
          "Hong Kong, China",
          "Rwanda",
          "Finland",
          "Slovak Republic",
          "Haiti",
          "Bolivia",
          "Denmark",
          "Zambia",
          "Senegal",
          "Dominican Republic",
          "Malawi",
          "Niger",
          "Guatemala",
          "Burkina Faso",
          "Tunisia",
          "Angola",
          "Switzerland",
          "Mali",
          "Zimbabwe",
          "Cambodia",
          "Ecuador",
          "Cote d'Ivoire",
          "Austria",
          "Syria",
          "Cameroon",
          "Madagascar",
          "Saudi Arabia",
          "Sweden",
          "Yemen, Rep.",
          "Serbia",
          "Bulgaria",
          "Greece",
          "Cuba",
          "Portugal",
          "Belgium",
          "Czech Republic",
          "Ghana",
          "Chile",
          "Hungary",
          "Mozambique",
          "Uganda",
          "Iraq",
          "Malaysia",
          "Venezuela",
          "Netherlands",
          "Nepal",
          "Australia",
          "Sri Lanka",
          "Kenya",
          "Afghanistan",
          "Peru",
          "Korea, Dem. Rep.",
          "Taiwan",
          "Sudan",
          "Tanzania",
          "Algeria",
          "Morocco",
          "Romania",
          "Canada",
          "Colombia",
          "Congo, Dem. Rep.",
          "Argentina",
          "South Africa",
          "Myanmar",
          "Ethiopia",
          "Poland",
          "Iran",
          "Korea, Rep.",
          "Spain",
          "Egypt",
          "Turkey",
          "Thailand",
          "Philippines",
          "Vietnam",
          "France",
          "Italy",
          "United Kingdom",
          "Nigeria",
          "Mexico",
          "Pakistan",
          "Germany",
          "Bangladesh",
          "Japan",
          "Brazil",
          "Indonesia",
          "United States",
          "India",
          "China"
         ]
        },
        {
         "marker": {
          "color": [
           "rgb(226, 23, 105)",
           "rgb(228, 170, 225)",
           "rgb(241, 28, 62)",
           "rgb(200, 80, 65)",
           "rgb(20, 245, 226)",
           "rgb(228, 43, 212)",
           "rgb(140, 134, 132)",
           "rgb(160, 78, 19)",
           "rgb(181, 211, 242)",
           "rgb(151, 20, 12)",
           "rgb(125, 239, 65)",
           "rgb(155, 34, 57)",
           "rgb(88, 51, 168)",
           "rgb(186, 158, 218)",
           "rgb(168, 220, 118)",
           "rgb(224, 47, 165)",
           "rgb(224, 27, 238)",
           "rgb(117, 207, 105)",
           "rgb(234, 86, 108)",
           "rgb(132, 206, 236)",
           "rgb(109, 158, 163)",
           "rgb(22, 151, 96)",
           "rgb(219, 29, 56)",
           "rgb(205, 2, 222)",
           "rgb(159, 145, 19)",
           "rgb(158, 176, 210)",
           "rgb(76, 181, 51)",
           "rgb(245, 114, 246)",
           "rgb(120, 242, 206)",
           "rgb(243, 5, 191)",
           "rgb(15, 69, 183)",
           "rgb(55, 231, 131)",
           "rgb(140, 154, 46)",
           "rgb(23, 10, 213)",
           "rgb(41, 229, 250)",
           "rgb(54, 54, 219)",
           "rgb(40, 153, 103)",
           "rgb(37, 16, 125)",
           "rgb(2, 163, 0)",
           "rgb(234, 224, 251)",
           "rgb(24, 175, 142)",
           "rgb(71, 129, 175)",
           "rgb(222, 5, 24)",
           "rgb(119, 0, 143)",
           "rgb(171, 105, 35)",
           "rgb(181, 13, 68)",
           "rgb(61, 148, 101)",
           "rgb(39, 86, 255)",
           "rgb(146, 200, 84)",
           "rgb(150, 125, 212)",
           "rgb(115, 219, 219)",
           "rgb(181, 20, 35)",
           "rgb(235, 235, 188)",
           "rgb(177, 155, 212)",
           "rgb(18, 246, 14)",
           "rgb(177, 32, 137)",
           "rgb(208, 90, 9)",
           "rgb(101, 141, 253)",
           "rgb(196, 230, 71)",
           "rgb(176, 146, 85)",
           "rgb(140, 87, 144)",
           "rgb(103, 53, 151)",
           "rgb(176, 166, 181)",
           "rgb(102, 171, 79)",
           "rgb(10, 45, 127)",
           "rgb(86, 4, 212)",
           "rgb(7, 64, 108)",
           "rgb(30, 225, 136)",
           "rgb(32, 83, 38)",
           "rgb(205, 160, 234)",
           "rgb(127, 218, 147)",
           "rgb(44, 17, 37)",
           "rgb(3, 145, 133)",
           "rgb(216, 159, 197)",
           "rgb(81, 106, 187)",
           "rgb(199, 101, 208)",
           "rgb(133, 54, 152)",
           "rgb(189, 229, 65)",
           "rgb(166, 166, 174)",
           "rgb(180, 29, 180)",
           "rgb(89, 242, 115)",
           "rgb(73, 8, 231)",
           "rgb(79, 117, 45)",
           "rgb(243, 151, 217)",
           "rgb(200, 164, 80)",
           "rgb(178, 120, 170)",
           "rgb(190, 42, 67)",
           "rgb(111, 27, 92)",
           "rgb(188, 184, 222)",
           "rgb(232, 237, 134)",
           "rgb(13, 142, 46)",
           "rgb(99, 58, 33)",
           "rgb(146, 7, 173)",
           "rgb(183, 104, 58)",
           "rgb(95, 88, 46)",
           "rgb(213, 143, 38)",
           "rgb(165, 136, 21)",
           "rgb(231, 62, 56)",
           "rgb(23, 95, 155)",
           "rgb(175, 41, 81)",
           "rgb(137, 13, 203)",
           "rgb(159, 85, 90)",
           "rgb(29, 170, 225)",
           "rgb(133, 93, 149)",
           "rgb(222, 0, 149)",
           "rgb(94, 155, 46)",
           "rgb(103, 36, 132)",
           "rgb(177, 232, 165)",
           "rgb(63, 73, 236)",
           "rgb(226, 222, 183)",
           "rgb(106, 155, 142)",
           "rgb(135, 170, 33)",
           "rgb(8, 13, 247)",
           "rgb(253, 64, 109)",
           "rgb(160, 119, 17)",
           "rgb(44, 66, 213)",
           "rgb(45, 171, 80)",
           "rgb(84, 216, 251)",
           "rgb(118, 123, 61)",
           "rgb(26, 205, 226)",
           "rgb(62, 141, 126)",
           "rgb(156, 228, 54)",
           "rgb(187, 90, 203)",
           "rgb(124, 249, 102)",
           "rgb(201, 151, 145)",
           "rgb(94, 41, 232)",
           "rgb(98, 102, 157)",
           "rgb(41, 219, 87)",
           "rgb(178, 31, 152)",
           "rgb(19, 119, 108)",
           "rgb(206, 217, 48)",
           "rgb(194, 232, 183)",
           "rgb(180, 20, 6)",
           "rgb(64, 130, 228)",
           "rgb(78, 118, 248)",
           "rgb(25, 165, 29)",
           "rgb(216, 7, 99)",
           "rgb(235, 51, 192)",
           "rgb(114, 185, 160)",
           "rgb(51, 45, 128)",
           "rgb(73, 154, 131)",
           "rgb(60, 70, 145)"
          ]
         },
         "name": "1982",
         "orientation": "h",
         "type": "bar",
         "x": [
          98593,
          233997,
          285483,
          305991,
          348643,
          377967,
          517810,
          562548,
          649901,
          715523,
          753874,
          825987,
          970347,
          992040,
          1099010,
          1116479,
          1301048,
          1411807,
          1425876,
          1497494,
          1622136,
          1756032,
          1774735,
          1861252,
          1956875,
          2036305,
          2298309,
          2347031,
          2424367,
          2476971,
          2637297,
          2644765,
          2651869,
          2780097,
          2953997,
          2979423,
          3086876,
          3210650,
          3279001,
          3344074,
          3366439,
          3464522,
          3480000,
          3641603,
          3669448,
          3858421,
          4114787,
          4172693,
          4413368,
          4474873,
          4580410,
          4710497,
          4826933,
          4875118,
          5048043,
          5117810,
          5198399,
          5264500,
          5507565,
          5642224,
          5828892,
          5968349,
          6100407,
          6147783,
          6395630,
          6437188,
          6468126,
          6502825,
          6634596,
          6734098,
          6998256,
          7016384,
          7272485,
          7574613,
          7636524,
          8325260,
          8365850,
          8892098,
          9025951,
          9032824,
          9171477,
          9250831,
          9410494,
          9657618,
          9786480,
          9789224,
          9856303,
          9859650,
          10303704,
          10705535,
          11254672,
          11400338,
          11487112,
          12587223,
          12881816,
          12939400,
          14173318,
          14310401,
          14441916,
          15184200,
          15410151,
          15620766,
          15796314,
          17647518,
          17661452,
          18125129,
          18501390,
          19844382,
          20033753,
          20198730,
          20367053,
          22356726,
          25201900,
          27764644,
          29341374,
          30646495,
          31140029,
          34680442,
          36227381,
          37983310,
          38111756,
          39326000,
          43072751,
          45681811,
          47328791,
          48827160,
          53456774,
          54433565,
          56142181,
          56339704,
          56535636,
          71640904,
          73039376,
          78335266,
          91462088,
          93074406,
          118454974,
          128962939,
          153343000,
          232187835,
          708000000,
          1000281000
         ],
         "y": [
          "Sao Tome and Principe",
          "Iceland",
          "Equatorial Guinea",
          "Djibouti",
          "Comoros",
          "Bahrain",
          "Reunion",
          "Montenegro",
          "Swaziland",
          "Gambia",
          "Gabon",
          "Guinea-Bissau",
          "Botswana",
          "Mauritius",
          "Namibia",
          "Trinidad and Tobago",
          "Oman",
          "Lesotho",
          "West Bank and Gaza",
          "Kuwait",
          "Mauritania",
          "Mongolia",
          "Congo, Rep.",
          "Slovenia",
          "Liberia",
          "Panama",
          "Jamaica",
          "Jordan",
          "Costa Rica",
          "Central African Republic",
          "Eritrea",
          "Togo",
          "Singapore",
          "Albania",
          "Uruguay",
          "Nicaragua",
          "Lebanon",
          "New Zealand",
          "Puerto Rico",
          "Libya",
          "Paraguay",
          "Sierra Leone",
          "Ireland",
          "Benin",
          "Honduras",
          "Israel",
          "Norway",
          "Bosnia and Herzegovina",
          "Croatia",
          "El Salvador",
          "Burundi",
          "Guinea",
          "Finland",
          "Chad",
          "Slovak Republic",
          "Denmark",
          "Haiti",
          "Hong Kong, China",
          "Rwanda",
          "Bolivia",
          "Somalia",
          "Dominican Republic",
          "Zambia",
          "Senegal",
          "Guatemala",
          "Niger",
          "Switzerland",
          "Malawi",
          "Burkina Faso",
          "Tunisia",
          "Mali",
          "Angola",
          "Cambodia",
          "Austria",
          "Zimbabwe",
          "Sweden",
          "Ecuador",
          "Bulgaria",
          "Cote d'Ivoire",
          "Serbia",
          "Madagascar",
          "Cameroon",
          "Syria",
          "Yemen, Rep.",
          "Greece",
          "Cuba",
          "Belgium",
          "Portugal",
          "Czech Republic",
          "Hungary",
          "Saudi Arabia",
          "Ghana",
          "Chile",
          "Mozambique",
          "Afghanistan",
          "Uganda",
          "Iraq",
          "Netherlands",
          "Malaysia",
          "Australia",
          "Sri Lanka",
          "Venezuela",
          "Nepal",
          "Korea, Dem. Rep.",
          "Kenya",
          "Peru",
          "Taiwan",
          "Tanzania",
          "Algeria",
          "Morocco",
          "Sudan",
          "Romania",
          "Canada",
          "Colombia",
          "Argentina",
          "Congo, Dem. Rep.",
          "South Africa",
          "Myanmar",
          "Poland",
          "Spain",
          "Ethiopia",
          "Korea, Rep.",
          "Iran",
          "Egypt",
          "Turkey",
          "Thailand",
          "Philippines",
          "France",
          "Vietnam",
          "United Kingdom",
          "Italy",
          "Mexico",
          "Nigeria",
          "Germany",
          "Pakistan",
          "Bangladesh",
          "Japan",
          "Brazil",
          "Indonesia",
          "United States",
          "India",
          "China"
         ]
        },
        {
         "marker": {
          "color": [
           "rgb(226, 23, 105)",
           "rgb(228, 170, 225)",
           "rgb(200, 80, 65)",
           "rgb(241, 28, 62)",
           "rgb(20, 245, 226)",
           "rgb(228, 43, 212)",
           "rgb(140, 134, 132)",
           "rgb(160, 78, 19)",
           "rgb(181, 211, 242)",
           "rgb(151, 20, 12)",
           "rgb(125, 239, 65)",
           "rgb(155, 34, 57)",
           "rgb(186, 158, 218)",
           "rgb(88, 51, 168)",
           "rgb(224, 47, 165)",
           "rgb(168, 220, 118)",
           "rgb(224, 27, 238)",
           "rgb(117, 207, 105)",
           "rgb(234, 86, 108)",
           "rgb(109, 158, 163)",
           "rgb(132, 206, 236)",
           "rgb(205, 2, 222)",
           "rgb(22, 151, 96)",
           "rgb(219, 29, 56)",
           "rgb(158, 176, 210)",
           "rgb(159, 145, 19)",
           "rgb(76, 181, 51)",
           "rgb(140, 154, 46)",
           "rgb(120, 242, 206)",
           "rgb(245, 114, 246)",
           "rgb(243, 5, 191)",
           "rgb(15, 69, 183)",
           "rgb(41, 229, 250)",
           "rgb(23, 10, 213)",
           "rgb(40, 153, 103)",
           "rgb(55, 231, 131)",
           "rgb(37, 16, 125)",
           "rgb(54, 54, 219)",
           "rgb(2, 163, 0)",
           "rgb(222, 5, 24)",
           "rgb(234, 224, 251)",
           "rgb(71, 129, 175)",
           "rgb(24, 175, 142)",
           "rgb(61, 148, 101)",
           "rgb(181, 13, 68)",
           "rgb(119, 0, 143)",
           "rgb(39, 86, 255)",
           "rgb(171, 105, 35)",
           "rgb(146, 200, 84)",
           "rgb(150, 125, 212)",
           "rgb(235, 235, 188)",
           "rgb(115, 219, 219)",
           "rgb(177, 32, 137)",
           "rgb(18, 246, 14)",
           "rgb(177, 155, 212)",
           "rgb(101, 141, 253)",
           "rgb(181, 20, 35)",
           "rgb(208, 90, 9)",
           "rgb(176, 146, 85)",
           "rgb(196, 230, 71)",
           "rgb(7, 64, 108)",
           "rgb(103, 53, 151)",
           "rgb(140, 87, 144)",
           "rgb(102, 171, 79)",
           "rgb(176, 166, 181)",
           "rgb(10, 45, 127)",
           "rgb(86, 4, 212)",
           "rgb(216, 159, 197)",
           "rgb(32, 83, 38)",
           "rgb(127, 218, 147)",
           "rgb(205, 160, 234)",
           "rgb(30, 225, 136)",
           "rgb(44, 17, 37)",
           "rgb(3, 145, 133)",
           "rgb(199, 101, 208)",
           "rgb(189, 229, 65)",
           "rgb(81, 106, 187)",
           "rgb(180, 29, 180)",
           "rgb(133, 54, 152)",
           "rgb(190, 42, 67)",
           "rgb(111, 27, 92)",
           "rgb(200, 164, 80)",
           "rgb(178, 120, 170)",
           "rgb(188, 184, 222)",
           "rgb(89, 242, 115)",
           "rgb(232, 237, 134)",
           "rgb(166, 166, 174)",
           "rgb(73, 8, 231)",
           "rgb(243, 151, 217)",
           "rgb(79, 117, 45)",
           "rgb(146, 7, 173)",
           "rgb(183, 104, 58)",
           "rgb(95, 88, 46)",
           "rgb(99, 58, 33)",
           "rgb(13, 142, 46)",
           "rgb(231, 62, 56)",
           "rgb(213, 143, 38)",
           "rgb(175, 41, 81)",
           "rgb(23, 95, 155)",
           "rgb(137, 13, 203)",
           "rgb(165, 136, 21)",
           "rgb(159, 85, 90)",
           "rgb(29, 170, 225)",
           "rgb(133, 93, 149)",
           "rgb(103, 36, 132)",
           "rgb(94, 155, 46)",
           "rgb(222, 0, 149)",
           "rgb(135, 170, 33)",
           "rgb(226, 222, 183)",
           "rgb(177, 232, 165)",
           "rgb(63, 73, 236)",
           "rgb(106, 155, 142)",
           "rgb(8, 13, 247)",
           "rgb(253, 64, 109)",
           "rgb(160, 119, 17)",
           "rgb(44, 66, 213)",
           "rgb(45, 171, 80)",
           "rgb(118, 123, 61)",
           "rgb(84, 216, 251)",
           "rgb(26, 205, 226)",
           "rgb(156, 228, 54)",
           "rgb(62, 141, 126)",
           "rgb(187, 90, 203)",
           "rgb(124, 249, 102)",
           "rgb(201, 151, 145)",
           "rgb(94, 41, 232)",
           "rgb(41, 219, 87)",
           "rgb(206, 217, 48)",
           "rgb(19, 119, 108)",
           "rgb(98, 102, 157)",
           "rgb(178, 31, 152)",
           "rgb(64, 130, 228)",
           "rgb(194, 232, 183)",
           "rgb(180, 20, 6)",
           "rgb(25, 165, 29)",
           "rgb(78, 118, 248)",
           "rgb(216, 7, 99)",
           "rgb(235, 51, 192)",
           "rgb(114, 185, 160)",
           "rgb(51, 45, 128)",
           "rgb(73, 154, 131)",
           "rgb(60, 70, 145)"
          ]
         },
         "name": "1987",
         "orientation": "h",
         "type": "bar",
         "x": [
          110812,
          244676,
          311025,
          341244,
          395114,
          454612,
          562035,
          569473,
          779348,
          848406,
          880397,
          927524,
          1042663,
          1151184,
          1191336,
          1278184,
          1593882,
          1599200,
          1691210,
          1841240,
          1891487,
          1945870,
          2015133,
          2064095,
          2253639,
          2269414,
          2326606,
          2794552,
          2799811,
          2820042,
          2840009,
          2915959,
          3045153,
          3075321,
          3089353,
          3154264,
          3317166,
          3344353,
          3444468,
          3539900,
          3799845,
          3868905,
          3886512,
          4186147,
          4203148,
          4243788,
          4338977,
          4372203,
          4484310,
          4842194,
          4931729,
          5126023,
          5127024,
          5199318,
          5498955,
          5584510,
          5650262,
          5756203,
          6156369,
          6349365,
          6649942,
          6655297,
          6921858,
          7171347,
          7272406,
          7326406,
          7332638,
          7578903,
          7586551,
          7634008,
          7724976,
          7824747,
          7874230,
          8371791,
          8421403,
          8971958,
          9216418,
          9230783,
          9545158,
          9870200,
          9915289,
          9974490,
          10239839,
          10311597,
          10568642,
          10612740,
          10761098,
          10780667,
          11219340,
          11242847,
          12463354,
          12891952,
          13867957,
          14168101,
          14619745,
          14665278,
          15283050,
          16257249,
          16331785,
          16495304,
          16543189,
          17910182,
          17917180,
          19067554,
          19757799,
          20195924,
          21198082,
          22686371,
          22987397,
          23040630,
          23254956,
          24725960,
          26549700,
          30964245,
          31620918,
          35481645,
          35933379,
          37740710,
          38028578,
          38880702,
          41622000,
          42999530,
          51889696,
          52799062,
          52881328,
          52910342,
          55630100,
          56729703,
          56981620,
          60017788,
          62826491,
          77718298,
          80122492,
          81551520,
          103764241,
          105186881,
          122091325,
          142938076,
          169276000,
          242803533,
          788000000,
          1084035000
         ],
         "y": [
          "Sao Tome and Principe",
          "Iceland",
          "Djibouti",
          "Equatorial Guinea",
          "Comoros",
          "Bahrain",
          "Reunion",
          "Montenegro",
          "Swaziland",
          "Gambia",
          "Gabon",
          "Guinea-Bissau",
          "Mauritius",
          "Botswana",
          "Trinidad and Tobago",
          "Namibia",
          "Oman",
          "Lesotho",
          "West Bank and Gaza",
          "Mauritania",
          "Kuwait",
          "Slovenia",
          "Mongolia",
          "Congo, Rep.",
          "Panama",
          "Liberia",
          "Jamaica",
          "Singapore",
          "Costa Rica",
          "Jordan",
          "Central African Republic",
          "Eritrea",
          "Uruguay",
          "Albania",
          "Lebanon",
          "Togo",
          "New Zealand",
          "Nicaragua",
          "Puerto Rico",
          "Ireland",
          "Libya",
          "Sierra Leone",
          "Paraguay",
          "Norway",
          "Israel",
          "Benin",
          "Bosnia and Herzegovina",
          "Honduras",
          "Croatia",
          "El Salvador",
          "Finland",
          "Burundi",
          "Denmark",
          "Slovak Republic",
          "Chad",
          "Hong Kong, China",
          "Guinea",
          "Haiti",
          "Bolivia",
          "Rwanda",
          "Switzerland",
          "Dominican Republic",
          "Somalia",
          "Senegal",
          "Zambia",
          "Guatemala",
          "Niger",
          "Austria",
          "Burkina Faso",
          "Mali",
          "Tunisia",
          "Malawi",
          "Angola",
          "Cambodia",
          "Sweden",
          "Bulgaria",
          "Zimbabwe",
          "Serbia",
          "Ecuador",
          "Belgium",
          "Portugal",
          "Greece",
          "Cuba",
          "Czech Republic",
          "Madagascar",
          "Hungary",
          "Cote d'Ivoire",
          "Cameroon",
          "Yemen, Rep.",
          "Syria",
          "Chile",
          "Mozambique",
          "Afghanistan",
          "Ghana",
          "Saudi Arabia",
          "Netherlands",
          "Uganda",
          "Australia",
          "Malaysia",
          "Sri Lanka",
          "Iraq",
          "Venezuela",
          "Nepal",
          "Korea, Dem. Rep.",
          "Taiwan",
          "Peru",
          "Kenya",
          "Romania",
          "Morocco",
          "Tanzania",
          "Algeria",
          "Sudan",
          "Canada",
          "Colombia",
          "Argentina",
          "Congo, Dem. Rep.",
          "South Africa",
          "Poland",
          "Myanmar",
          "Spain",
          "Korea, Rep.",
          "Ethiopia",
          "Iran",
          "Egypt",
          "Turkey",
          "Thailand",
          "France",
          "Italy",
          "United Kingdom",
          "Philippines",
          "Vietnam",
          "Germany",
          "Mexico",
          "Nigeria",
          "Bangladesh",
          "Pakistan",
          "Japan",
          "Brazil",
          "Indonesia",
          "United States",
          "India",
          "China"
         ]
        },
        {
         "marker": {
          "color": [
           "rgb(226, 23, 105)",
           "rgb(228, 170, 225)",
           "rgb(200, 80, 65)",
           "rgb(241, 28, 62)",
           "rgb(20, 245, 226)",
           "rgb(228, 43, 212)",
           "rgb(160, 78, 19)",
           "rgb(140, 134, 132)",
           "rgb(181, 211, 242)",
           "rgb(125, 239, 65)",
           "rgb(151, 20, 12)",
           "rgb(155, 34, 57)",
           "rgb(186, 158, 218)",
           "rgb(224, 47, 165)",
           "rgb(88, 51, 168)",
           "rgb(132, 206, 236)",
           "rgb(168, 220, 118)",
           "rgb(117, 207, 105)",
           "rgb(159, 145, 19)",
           "rgb(224, 27, 238)",
           "rgb(205, 2, 222)",
           "rgb(234, 86, 108)",
           "rgb(109, 158, 163)",
           "rgb(22, 151, 96)",
           "rgb(76, 181, 51)",
           "rgb(219, 29, 56)",
           "rgb(158, 176, 210)",
           "rgb(41, 229, 250)",
           "rgb(120, 242, 206)",
           "rgb(40, 153, 103)",
           "rgb(140, 154, 46)",
           "rgb(243, 5, 191)",
           "rgb(23, 10, 213)",
           "rgb(37, 16, 125)",
           "rgb(222, 5, 24)",
           "rgb(2, 163, 0)",
           "rgb(15, 69, 183)",
           "rgb(55, 231, 131)",
           "rgb(245, 114, 246)",
           "rgb(54, 54, 219)",
           "rgb(39, 86, 255)",
           "rgb(71, 129, 175)",
           "rgb(61, 148, 101)",
           "rgb(234, 224, 251)",
           "rgb(24, 175, 142)",
           "rgb(146, 200, 84)",
           "rgb(181, 13, 68)",
           "rgb(119, 0, 143)",
           "rgb(235, 235, 188)",
           "rgb(171, 105, 35)",
           "rgb(177, 32, 137)",
           "rgb(150, 125, 212)",
           "rgb(18, 246, 14)",
           "rgb(115, 219, 219)",
           "rgb(101, 141, 253)",
           "rgb(140, 87, 144)",
           "rgb(208, 90, 9)",
           "rgb(177, 155, 212)",
           "rgb(176, 146, 85)",
           "rgb(181, 20, 35)",
           "rgb(7, 64, 108)",
           "rgb(196, 230, 71)",
           "rgb(103, 53, 151)",
           "rgb(216, 159, 197)",
           "rgb(102, 171, 79)",
           "rgb(176, 166, 181)",
           "rgb(86, 4, 212)",
           "rgb(127, 218, 147)",
           "rgb(10, 45, 127)",
           "rgb(205, 160, 234)",
           "rgb(189, 229, 65)",
           "rgb(199, 101, 208)",
           "rgb(44, 17, 37)",
           "rgb(32, 83, 38)",
           "rgb(180, 29, 180)",
           "rgb(111, 27, 92)",
           "rgb(30, 225, 136)",
           "rgb(190, 42, 67)",
           "rgb(3, 145, 133)",
           "rgb(188, 184, 222)",
           "rgb(200, 164, 80)",
           "rgb(232, 237, 134)",
           "rgb(81, 106, 187)",
           "rgb(178, 120, 170)",
           "rgb(133, 54, 152)",
           "rgb(89, 242, 115)",
           "rgb(73, 8, 231)",
           "rgb(166, 166, 174)",
           "rgb(183, 104, 58)",
           "rgb(79, 117, 45)",
           "rgb(243, 151, 217)",
           "rgb(146, 7, 173)",
           "rgb(231, 62, 56)",
           "rgb(99, 58, 33)",
           "rgb(95, 88, 46)",
           "rgb(13, 142, 46)",
           "rgb(175, 41, 81)",
           "rgb(137, 13, 203)",
           "rgb(165, 136, 21)",
           "rgb(213, 143, 38)",
           "rgb(23, 95, 155)",
           "rgb(159, 85, 90)",
           "rgb(29, 170, 225)",
           "rgb(103, 36, 132)",
           "rgb(133, 93, 149)",
           "rgb(94, 155, 46)",
           "rgb(135, 170, 33)",
           "rgb(222, 0, 149)",
           "rgb(226, 222, 183)",
           "rgb(63, 73, 236)",
           "rgb(177, 232, 165)",
           "rgb(106, 155, 142)",
           "rgb(8, 13, 247)",
           "rgb(160, 119, 17)",
           "rgb(253, 64, 109)",
           "rgb(118, 123, 61)",
           "rgb(26, 205, 226)",
           "rgb(45, 171, 80)",
           "rgb(84, 216, 251)",
           "rgb(44, 66, 213)",
           "rgb(156, 228, 54)",
           "rgb(62, 141, 126)",
           "rgb(94, 41, 232)",
           "rgb(206, 217, 48)",
           "rgb(41, 219, 87)",
           "rgb(19, 119, 108)",
           "rgb(201, 151, 145)",
           "rgb(124, 249, 102)",
           "rgb(187, 90, 203)",
           "rgb(98, 102, 157)",
           "rgb(178, 31, 152)",
           "rgb(64, 130, 228)",
           "rgb(194, 232, 183)",
           "rgb(180, 20, 6)",
           "rgb(25, 165, 29)",
           "rgb(78, 118, 248)",
           "rgb(216, 7, 99)",
           "rgb(235, 51, 192)",
           "rgb(114, 185, 160)",
           "rgb(51, 45, 128)",
           "rgb(73, 154, 131)",
           "rgb(60, 70, 145)"
          ]
         },
         "name": "1992",
         "orientation": "h",
         "type": "bar",
         "x": [
          125911,
          259012,
          384156,
          387838,
          454429,
          529491,
          621621,
          622191,
          962344,
          985739,
          1025384,
          1050938,
          1096202,
          1183669,
          1342614,
          1418095,
          1554253,
          1803195,
          1912974,
          1915208,
          1999210,
          2104779,
          2119465,
          2312802,
          2378618,
          2409073,
          2484997,
          3149262,
          3173216,
          3219994,
          3235865,
          3265124,
          3326498,
          3437674,
          3557761,
          3585176,
          3668440,
          3747553,
          3867409,
          4017939,
          4256013,
          4260884,
          4286357,
          4364501,
          4483945,
          4494013,
          4936550,
          4981671,
          5041039,
          5077347,
          5171393,
          5274649,
          5302888,
          5809236,
          5829696,
          6099799,
          6326682,
          6429417,
          6893451,
          6990574,
          6995447,
          7290203,
          7351181,
          7914969,
          8307920,
          8381163,
          8392818,
          8416215,
          8486949,
          8523077,
          8658506,
          8718867,
          8735988,
          8878303,
          9826397,
          9927680,
          10014249,
          10045622,
          10150094,
          10315702,
          10325429,
          10348684,
          10704340,
          10723260,
          10748394,
          12210395,
          12467171,
          12772596,
          13160731,
          13219062,
          13367997,
          13572994,
          15174244,
          16278738,
          16317921,
          16945857,
          17481977,
          17587060,
          17861905,
          18252190,
          18319502,
          20265563,
          20326209,
          20686918,
          20711375,
          22430449,
          22797027,
          25020539,
          25798239,
          26298373,
          26605473,
          28227588,
          28523502,
          33958947,
          34202721,
          38370697,
          39549438,
          39964159,
          40546538,
          41672143,
          43805450,
          52088559,
          56667095,
          56840847,
          57374179,
          57866349,
          58179144,
          59402198,
          60397973,
          67185766,
          69940728,
          80597764,
          88111030,
          93364244,
          113704579,
          120065004,
          124329269,
          155975974,
          184816000,
          256894189,
          872000000,
          1164970000
         ],
         "y": [
          "Sao Tome and Principe",
          "Iceland",
          "Djibouti",
          "Equatorial Guinea",
          "Comoros",
          "Bahrain",
          "Montenegro",
          "Reunion",
          "Swaziland",
          "Gabon",
          "Gambia",
          "Guinea-Bissau",
          "Mauritius",
          "Trinidad and Tobago",
          "Botswana",
          "Kuwait",
          "Namibia",
          "Lesotho",
          "Liberia",
          "Oman",
          "Slovenia",
          "West Bank and Gaza",
          "Mauritania",
          "Mongolia",
          "Jamaica",
          "Congo, Rep.",
          "Panama",
          "Uruguay",
          "Costa Rica",
          "Lebanon",
          "Singapore",
          "Central African Republic",
          "Albania",
          "New Zealand",
          "Ireland",
          "Puerto Rico",
          "Eritrea",
          "Togo",
          "Jordan",
          "Nicaragua",
          "Bosnia and Herzegovina",
          "Sierra Leone",
          "Norway",
          "Libya",
          "Paraguay",
          "Croatia",
          "Israel",
          "Benin",
          "Finland",
          "Honduras",
          "Denmark",
          "El Salvador",
          "Slovak Republic",
          "Burundi",
          "Hong Kong, China",
          "Somalia",
          "Haiti",
          "Chad",
          "Bolivia",
          "Guinea",
          "Switzerland",
          "Rwanda",
          "Dominican Republic",
          "Austria",
          "Senegal",
          "Zambia",
          "Niger",
          "Mali",
          "Guatemala",
          "Tunisia",
          "Bulgaria",
          "Sweden",
          "Angola",
          "Burkina Faso",
          "Serbia",
          "Portugal",
          "Malawi",
          "Belgium",
          "Cambodia",
          "Czech Republic",
          "Greece",
          "Hungary",
          "Zimbabwe",
          "Cuba",
          "Ecuador",
          "Madagascar",
          "Cameroon",
          "Cote d'Ivoire",
          "Mozambique",
          "Syria",
          "Yemen, Rep.",
          "Chile",
          "Netherlands",
          "Ghana",
          "Afghanistan",
          "Saudi Arabia",
          "Australia",
          "Sri Lanka",
          "Iraq",
          "Uganda",
          "Malaysia",
          "Venezuela",
          "Nepal",
          "Taiwan",
          "Korea, Dem. Rep.",
          "Peru",
          "Romania",
          "Kenya",
          "Morocco",
          "Algeria",
          "Tanzania",
          "Sudan",
          "Canada",
          "Argentina",
          "Colombia",
          "Poland",
          "Spain",
          "South Africa",
          "Myanmar",
          "Congo, Dem. Rep.",
          "Korea, Rep.",
          "Ethiopia",
          "Thailand",
          "Italy",
          "France",
          "United Kingdom",
          "Turkey",
          "Egypt",
          "Iran",
          "Philippines",
          "Vietnam",
          "Germany",
          "Mexico",
          "Nigeria",
          "Bangladesh",
          "Pakistan",
          "Japan",
          "Brazil",
          "Indonesia",
          "United States",
          "India",
          "China"
         ]
        },
        {
         "marker": {
          "color": [
           "rgb(226, 23, 105)",
           "rgb(228, 170, 225)",
           "rgb(200, 80, 65)",
           "rgb(241, 28, 62)",
           "rgb(20, 245, 226)",
           "rgb(228, 43, 212)",
           "rgb(140, 134, 132)",
           "rgb(160, 78, 19)",
           "rgb(181, 211, 242)",
           "rgb(125, 239, 65)",
           "rgb(224, 47, 165)",
           "rgb(186, 158, 218)",
           "rgb(155, 34, 57)",
           "rgb(151, 20, 12)",
           "rgb(88, 51, 168)",
           "rgb(132, 206, 236)",
           "rgb(168, 220, 118)",
           "rgb(117, 207, 105)",
           "rgb(205, 2, 222)",
           "rgb(159, 145, 19)",
           "rgb(224, 27, 238)",
           "rgb(109, 158, 163)",
           "rgb(22, 151, 96)",
           "rgb(76, 181, 51)",
           "rgb(158, 176, 210)",
           "rgb(219, 29, 56)",
           "rgb(234, 86, 108)",
           "rgb(41, 229, 250)",
           "rgb(23, 10, 213)",
           "rgb(40, 153, 103)",
           "rgb(120, 242, 206)",
           "rgb(39, 86, 255)",
           "rgb(222, 5, 24)",
           "rgb(37, 16, 125)",
           "rgb(243, 5, 191)",
           "rgb(2, 163, 0)",
           "rgb(140, 154, 46)",
           "rgb(15, 69, 183)",
           "rgb(55, 231, 131)",
           "rgb(61, 148, 101)",
           "rgb(146, 200, 84)",
           "rgb(245, 114, 246)",
           "rgb(71, 129, 175)",
           "rgb(54, 54, 219)",
           "rgb(234, 224, 251)",
           "rgb(235, 235, 188)",
           "rgb(24, 175, 142)",
           "rgb(177, 32, 137)",
           "rgb(18, 246, 14)",
           "rgb(181, 13, 68)",
           "rgb(150, 125, 212)",
           "rgb(171, 105, 35)",
           "rgb(119, 0, 143)",
           "rgb(115, 219, 219)",
           "rgb(101, 141, 253)",
           "rgb(140, 87, 144)",
           "rgb(208, 90, 9)",
           "rgb(7, 64, 108)",
           "rgb(196, 230, 71)",
           "rgb(177, 155, 212)",
           "rgb(176, 146, 85)",
           "rgb(103, 53, 151)",
           "rgb(181, 20, 35)",
           "rgb(189, 229, 65)",
           "rgb(216, 159, 197)",
           "rgb(199, 101, 208)",
           "rgb(205, 160, 234)",
           "rgb(127, 218, 147)",
           "rgb(176, 166, 181)",
           "rgb(102, 171, 79)",
           "rgb(86, 4, 212)",
           "rgb(10, 45, 127)",
           "rgb(44, 17, 37)",
           "rgb(111, 27, 92)",
           "rgb(190, 42, 67)",
           "rgb(232, 237, 134)",
           "rgb(188, 184, 222)",
           "rgb(180, 29, 180)",
           "rgb(32, 83, 38)",
           "rgb(30, 225, 136)",
           "rgb(200, 164, 80)",
           "rgb(178, 120, 170)",
           "rgb(81, 106, 187)",
           "rgb(3, 145, 133)",
           "rgb(133, 54, 152)",
           "rgb(89, 242, 115)",
           "rgb(73, 8, 231)",
           "rgb(146, 7, 173)",
           "rgb(166, 166, 174)",
           "rgb(79, 117, 45)",
           "rgb(231, 62, 56)",
           "rgb(243, 151, 217)",
           "rgb(183, 104, 58)",
           "rgb(99, 58, 33)",
           "rgb(175, 41, 81)",
           "rgb(137, 13, 203)",
           "rgb(23, 95, 155)",
           "rgb(165, 136, 21)",
           "rgb(213, 143, 38)",
           "rgb(13, 142, 46)",
           "rgb(133, 93, 149)",
           "rgb(103, 36, 132)",
           "rgb(95, 88, 46)",
           "rgb(159, 85, 90)",
           "rgb(135, 170, 33)",
           "rgb(29, 170, 225)",
           "rgb(94, 155, 46)",
           "rgb(222, 0, 149)",
           "rgb(226, 222, 183)",
           "rgb(63, 73, 236)",
           "rgb(8, 13, 247)",
           "rgb(177, 232, 165)",
           "rgb(106, 155, 142)",
           "rgb(160, 119, 17)",
           "rgb(253, 64, 109)",
           "rgb(118, 123, 61)",
           "rgb(26, 205, 226)",
           "rgb(45, 171, 80)",
           "rgb(84, 216, 251)",
           "rgb(156, 228, 54)",
           "rgb(44, 66, 213)",
           "rgb(206, 217, 48)",
           "rgb(41, 219, 87)",
           "rgb(19, 119, 108)",
           "rgb(62, 141, 126)",
           "rgb(94, 41, 232)",
           "rgb(201, 151, 145)",
           "rgb(187, 90, 203)",
           "rgb(124, 249, 102)",
           "rgb(98, 102, 157)",
           "rgb(178, 31, 152)",
           "rgb(64, 130, 228)",
           "rgb(194, 232, 183)",
           "rgb(180, 20, 6)",
           "rgb(25, 165, 29)",
           "rgb(216, 7, 99)",
           "rgb(78, 118, 248)",
           "rgb(235, 51, 192)",
           "rgb(114, 185, 160)",
           "rgb(51, 45, 128)",
           "rgb(73, 154, 131)",
           "rgb(60, 70, 145)"
          ]
         },
         "name": "1997",
         "orientation": "h",
         "type": "bar",
         "x": [
          145608,
          271192,
          417908,
          439971,
          527982,
          598561,
          684810,
          692651,
          1054486,
          1126189,
          1138101,
          1149818,
          1193708,
          1235767,
          1536536,
          1765345,
          1774766,
          1982823,
          2011612,
          2200725,
          2283635,
          2444741,
          2494803,
          2531311,
          2734531,
          2800947,
          2826046,
          3262838,
          3428038,
          3430388,
          3518107,
          3607000,
          3667233,
          3676187,
          3696513,
          3759430,
          3802309,
          4058319,
          4320890,
          4405672,
          4444595,
          4526235,
          4578212,
          4609572,
          4759670,
          5134406,
          5154123,
          5283663,
          5383010,
          5531387,
          5783439,
          5867957,
          6066080,
          6121610,
          6495918,
          6633514,
          6913545,
          7193761,
          7212583,
          7562011,
          7693188,
          7992357,
          8048834,
          8066057,
          8069876,
          8897619,
          9231669,
          9384984,
          9417789,
          9535314,
          9666252,
          9803875,
          9875024,
          10156415,
          10199787,
          10244684,
          10300707,
          10336594,
          10352843,
          10419991,
          10502372,
          10983007,
          11404948,
          11782962,
          11911819,
          14165114,
          14195809,
          14599929,
          14625967,
          15081016,
          15604464,
          15826497,
          16603334,
          18418288,
          18565243,
          18698655,
          20476091,
          20775703,
          21210254,
          21229759,
          21585105,
          21628605,
          22227415,
          22374398,
          22562458,
          23001113,
          24748122,
          28263827,
          28529501,
          29072015,
          30305843,
          30686889,
          32160729,
          36203463,
          37657830,
          38654957,
          39855442,
          42835005,
          43247867,
          46173816,
          47798986,
          57479469,
          58623428,
          58808266,
          59861301,
          60216677,
          63047647,
          63327987,
          66134291,
          75012988,
          76048996,
          82011073,
          95895146,
          106207839,
          123315288,
          125956499,
          135564834,
          168546719,
          199278000,
          272911760,
          959000000,
          1230075000
         ],
         "y": [
          "Sao Tome and Principe",
          "Iceland",
          "Djibouti",
          "Equatorial Guinea",
          "Comoros",
          "Bahrain",
          "Reunion",
          "Montenegro",
          "Swaziland",
          "Gabon",
          "Trinidad and Tobago",
          "Mauritius",
          "Guinea-Bissau",
          "Gambia",
          "Botswana",
          "Kuwait",
          "Namibia",
          "Lesotho",
          "Slovenia",
          "Liberia",
          "Oman",
          "Mauritania",
          "Mongolia",
          "Jamaica",
          "Panama",
          "Congo, Rep.",
          "West Bank and Gaza",
          "Uruguay",
          "Albania",
          "Lebanon",
          "Costa Rica",
          "Bosnia and Herzegovina",
          "Ireland",
          "New Zealand",
          "Central African Republic",
          "Puerto Rico",
          "Singapore",
          "Eritrea",
          "Togo",
          "Norway",
          "Croatia",
          "Jordan",
          "Sierra Leone",
          "Nicaragua",
          "Libya",
          "Finland",
          "Paraguay",
          "Denmark",
          "Slovak Republic",
          "Israel",
          "El Salvador",
          "Honduras",
          "Benin",
          "Burundi",
          "Hong Kong, China",
          "Somalia",
          "Haiti",
          "Switzerland",
          "Rwanda",
          "Chad",
          "Bolivia",
          "Dominican Republic",
          "Guinea",
          "Bulgaria",
          "Austria",
          "Sweden",
          "Tunisia",
          "Mali",
          "Zambia",
          "Senegal",
          "Niger",
          "Guatemala",
          "Angola",
          "Portugal",
          "Belgium",
          "Hungary",
          "Czech Republic",
          "Serbia",
          "Burkina Faso",
          "Malawi",
          "Greece",
          "Cuba",
          "Zimbabwe",
          "Cambodia",
          "Ecuador",
          "Madagascar",
          "Cameroon",
          "Chile",
          "Cote d'Ivoire",
          "Syria",
          "Netherlands",
          "Yemen, Rep.",
          "Mozambique",
          "Ghana",
          "Australia",
          "Sri Lanka",
          "Malaysia",
          "Iraq",
          "Uganda",
          "Saudi Arabia",
          "Korea, Dem. Rep.",
          "Taiwan",
          "Afghanistan",
          "Venezuela",
          "Romania",
          "Nepal",
          "Peru",
          "Kenya",
          "Morocco",
          "Algeria",
          "Canada",
          "Tanzania",
          "Sudan",
          "Argentina",
          "Colombia",
          "Poland",
          "Spain",
          "South Africa",
          "Myanmar",
          "Korea, Rep.",
          "Congo, Dem. Rep.",
          "Italy",
          "France",
          "United Kingdom",
          "Ethiopia",
          "Thailand",
          "Turkey",
          "Iran",
          "Egypt",
          "Philippines",
          "Vietnam",
          "Germany",
          "Mexico",
          "Nigeria",
          "Bangladesh",
          "Japan",
          "Pakistan",
          "Brazil",
          "Indonesia",
          "United States",
          "India",
          "China"
         ]
        },
        {
         "marker": {
          "color": [
           "rgb(226, 23, 105)",
           "rgb(228, 170, 225)",
           "rgb(200, 80, 65)",
           "rgb(241, 28, 62)",
           "rgb(20, 245, 226)",
           "rgb(228, 43, 212)",
           "rgb(160, 78, 19)",
           "rgb(140, 134, 132)",
           "rgb(224, 47, 165)",
           "rgb(181, 211, 242)",
           "rgb(186, 158, 218)",
           "rgb(125, 239, 65)",
           "rgb(155, 34, 57)",
           "rgb(151, 20, 12)",
           "rgb(88, 51, 168)",
           "rgb(168, 220, 118)",
           "rgb(205, 2, 222)",
           "rgb(117, 207, 105)",
           "rgb(132, 206, 236)",
           "rgb(76, 181, 51)",
           "rgb(22, 151, 96)",
           "rgb(224, 27, 238)",
           "rgb(159, 145, 19)",
           "rgb(109, 158, 163)",
           "rgb(158, 176, 210)",
           "rgb(219, 29, 56)",
           "rgb(41, 229, 250)",
           "rgb(234, 86, 108)",
           "rgb(23, 10, 213)",
           "rgb(40, 153, 103)",
           "rgb(120, 242, 206)",
           "rgb(2, 163, 0)",
           "rgb(222, 5, 24)",
           "rgb(37, 16, 125)",
           "rgb(243, 5, 191)",
           "rgb(39, 86, 255)",
           "rgb(140, 154, 46)",
           "rgb(15, 69, 183)",
           "rgb(146, 200, 84)",
           "rgb(61, 148, 101)",
           "rgb(55, 231, 131)",
           "rgb(54, 54, 219)",
           "rgb(235, 235, 188)",
           "rgb(245, 114, 246)",
           "rgb(71, 129, 175)",
           "rgb(234, 224, 251)",
           "rgb(177, 32, 137)",
           "rgb(18, 246, 14)",
           "rgb(24, 175, 142)",
           "rgb(181, 13, 68)",
           "rgb(150, 125, 212)",
           "rgb(171, 105, 35)",
           "rgb(101, 141, 253)",
           "rgb(115, 219, 219)",
           "rgb(119, 0, 143)",
           "rgb(7, 64, 108)",
           "rgb(208, 90, 9)",
           "rgb(189, 229, 65)",
           "rgb(140, 87, 144)",
           "rgb(196, 230, 71)",
           "rgb(216, 159, 197)",
           "rgb(176, 146, 85)",
           "rgb(103, 53, 151)",
           "rgb(181, 20, 35)",
           "rgb(177, 155, 212)",
           "rgb(199, 101, 208)",
           "rgb(205, 160, 234)",
           "rgb(232, 237, 134)",
           "rgb(180, 29, 180)",
           "rgb(188, 184, 222)",
           "rgb(190, 42, 67)",
           "rgb(111, 27, 92)",
           "rgb(127, 218, 147)",
           "rgb(176, 166, 181)",
           "rgb(200, 164, 80)",
           "rgb(44, 17, 37)",
           "rgb(102, 171, 79)",
           "rgb(86, 4, 212)",
           "rgb(10, 45, 127)",
           "rgb(178, 120, 170)",
           "rgb(30, 225, 136)",
           "rgb(81, 106, 187)",
           "rgb(32, 83, 38)",
           "rgb(133, 54, 152)",
           "rgb(3, 145, 133)",
           "rgb(146, 7, 173)",
           "rgb(73, 8, 231)",
           "rgb(231, 62, 56)",
           "rgb(166, 166, 174)",
           "rgb(89, 242, 115)",
           "rgb(79, 117, 45)",
           "rgb(183, 104, 58)",
           "rgb(243, 151, 217)",
           "rgb(175, 41, 81)",
           "rgb(137, 13, 203)",
           "rgb(99, 58, 33)",
           "rgb(133, 93, 149)",
           "rgb(135, 170, 33)",
           "rgb(103, 36, 132)",
           "rgb(23, 95, 155)",
           "rgb(165, 136, 21)",
           "rgb(159, 85, 90)",
           "rgb(13, 142, 46)",
           "rgb(213, 143, 38)",
           "rgb(95, 88, 46)",
           "rgb(29, 170, 225)",
           "rgb(94, 155, 46)",
           "rgb(226, 222, 183)",
           "rgb(63, 73, 236)",
           "rgb(222, 0, 149)",
           "rgb(8, 13, 247)",
           "rgb(177, 232, 165)",
           "rgb(106, 155, 142)",
           "rgb(160, 119, 17)",
           "rgb(118, 123, 61)",
           "rgb(26, 205, 226)",
           "rgb(253, 64, 109)",
           "rgb(45, 171, 80)",
           "rgb(84, 216, 251)",
           "rgb(156, 228, 54)",
           "rgb(44, 66, 213)",
           "rgb(206, 217, 48)",
           "rgb(19, 119, 108)",
           "rgb(41, 219, 87)",
           "rgb(94, 41, 232)",
           "rgb(187, 90, 203)",
           "rgb(201, 151, 145)",
           "rgb(62, 141, 126)",
           "rgb(124, 249, 102)",
           "rgb(178, 31, 152)",
           "rgb(64, 130, 228)",
           "rgb(98, 102, 157)",
           "rgb(194, 232, 183)",
           "rgb(180, 20, 6)",
           "rgb(216, 7, 99)",
           "rgb(25, 165, 29)",
           "rgb(78, 118, 248)",
           "rgb(235, 51, 192)",
           "rgb(114, 185, 160)",
           "rgb(51, 45, 128)",
           "rgb(73, 154, 131)",
           "rgb(60, 70, 145)"
          ]
         },
         "name": "2002",
         "orientation": "h",
         "type": "bar",
         "visible": true,
         "x": [
          170372,
          288030,
          447416,
          495627,
          614382,
          656397,
          720230,
          743981,
          1101832,
          1130269,
          1200206,
          1299304,
          1332459,
          1457766,
          1630347,
          1972153,
          2011497,
          2046772,
          2111561,
          2664659,
          2674234,
          2713462,
          2814651,
          2828858,
          2990875,
          3328795,
          3363085,
          3389578,
          3508512,
          3677780,
          3834934,
          3859606,
          3879155,
          3908037,
          4048013,
          4165416,
          4197776,
          4414865,
          4481020,
          4535591,
          4977378,
          5146848,
          5193039,
          5307470,
          5359092,
          5368585,
          5374693,
          5410052,
          5884491,
          6029529,
          6353681,
          6677328,
          6762476,
          7021078,
          7026113,
          7361757,
          7607651,
          7661799,
          7753310,
          7852401,
          8148312,
          8445134,
          8650322,
          8807818,
          8835739,
          8954175,
          9770575,
          10083313,
          10111559,
          10256295,
          10311970,
          10433867,
          10580176,
          10595811,
          10603863,
          10866106,
          10870037,
          11140655,
          11178650,
          11226999,
          11824495,
          11926563,
          12251209,
          12921234,
          12926707,
          15497046,
          15929988,
          16122830,
          16252726,
          16473477,
          17155814,
          18473780,
          18701257,
          19546792,
          19576783,
          20550751,
          22215365,
          22404337,
          22454239,
          22662365,
          24001816,
          24287670,
          24501530,
          24739869,
          25268405,
          25873917,
          26769436,
          31167783,
          31287142,
          31386842,
          31902268,
          34593779,
          37090298,
          38331121,
          38625976,
          40152517,
          41008227,
          44433622,
          45598081,
          47969150,
          55379852,
          57926999,
          59912431,
          59925035,
          62806748,
          66907826,
          67308928,
          67946797,
          73312559,
          80908147,
          82350671,
          82995088,
          102479927,
          119901274,
          127065841,
          135656790,
          153403524,
          179914212,
          211060000,
          287675526,
          1034172547,
          1280400000
         ],
         "y": [
          "Sao Tome and Principe",
          "Iceland",
          "Djibouti",
          "Equatorial Guinea",
          "Comoros",
          "Bahrain",
          "Montenegro",
          "Reunion",
          "Trinidad and Tobago",
          "Swaziland",
          "Mauritius",
          "Gabon",
          "Guinea-Bissau",
          "Gambia",
          "Botswana",
          "Namibia",
          "Slovenia",
          "Lesotho",
          "Kuwait",
          "Jamaica",
          "Mongolia",
          "Oman",
          "Liberia",
          "Mauritania",
          "Panama",
          "Congo, Rep.",
          "Uruguay",
          "West Bank and Gaza",
          "Albania",
          "Lebanon",
          "Costa Rica",
          "Puerto Rico",
          "Ireland",
          "New Zealand",
          "Central African Republic",
          "Bosnia and Herzegovina",
          "Singapore",
          "Eritrea",
          "Croatia",
          "Norway",
          "Togo",
          "Nicaragua",
          "Finland",
          "Jordan",
          "Sierra Leone",
          "Libya",
          "Denmark",
          "Slovak Republic",
          "Paraguay",
          "Israel",
          "El Salvador",
          "Honduras",
          "Hong Kong, China",
          "Burundi",
          "Benin",
          "Switzerland",
          "Haiti",
          "Bulgaria",
          "Somalia",
          "Rwanda",
          "Austria",
          "Bolivia",
          "Dominican Republic",
          "Guinea",
          "Chad",
          "Sweden",
          "Tunisia",
          "Hungary",
          "Serbia",
          "Czech Republic",
          "Belgium",
          "Portugal",
          "Mali",
          "Zambia",
          "Greece",
          "Angola",
          "Senegal",
          "Niger",
          "Guatemala",
          "Cuba",
          "Malawi",
          "Zimbabwe",
          "Burkina Faso",
          "Ecuador",
          "Cambodia",
          "Chile",
          "Cameroon",
          "Netherlands",
          "Cote d'Ivoire",
          "Madagascar",
          "Syria",
          "Mozambique",
          "Yemen, Rep.",
          "Australia",
          "Sri Lanka",
          "Ghana",
          "Korea, Dem. Rep.",
          "Romania",
          "Taiwan",
          "Malaysia",
          "Iraq",
          "Venezuela",
          "Saudi Arabia",
          "Uganda",
          "Afghanistan",
          "Nepal",
          "Peru",
          "Morocco",
          "Algeria",
          "Kenya",
          "Canada",
          "Tanzania",
          "Sudan",
          "Argentina",
          "Poland",
          "Spain",
          "Colombia",
          "South Africa",
          "Myanmar",
          "Korea, Rep.",
          "Congo, Dem. Rep.",
          "Italy",
          "United Kingdom",
          "France",
          "Thailand",
          "Iran",
          "Turkey",
          "Ethiopia",
          "Egypt",
          "Vietnam",
          "Germany",
          "Philippines",
          "Mexico",
          "Nigeria",
          "Japan",
          "Bangladesh",
          "Pakistan",
          "Brazil",
          "Indonesia",
          "United States",
          "India",
          "China"
         ]
        },
        {
         "marker": {
          "color": [
           "rgb(226, 23, 105)",
           "rgb(228, 170, 225)",
           "rgb(200, 80, 65)",
           "rgb(241, 28, 62)",
           "rgb(160, 78, 19)",
           "rgb(228, 43, 212)",
           "rgb(20, 245, 226)",
           "rgb(140, 134, 132)",
           "rgb(224, 47, 165)",
           "rgb(181, 211, 242)",
           "rgb(186, 158, 218)",
           "rgb(125, 239, 65)",
           "rgb(155, 34, 57)",
           "rgb(88, 51, 168)",
           "rgb(151, 20, 12)",
           "rgb(205, 2, 222)",
           "rgb(117, 207, 105)",
           "rgb(168, 220, 118)",
           "rgb(132, 206, 236)",
           "rgb(76, 181, 51)",
           "rgb(22, 151, 96)",
           "rgb(159, 145, 19)",
           "rgb(224, 27, 238)",
           "rgb(158, 176, 210)",
           "rgb(109, 158, 163)",
           "rgb(41, 229, 250)",
           "rgb(23, 10, 213)",
           "rgb(219, 29, 56)",
           "rgb(40, 153, 103)",
           "rgb(2, 163, 0)",
           "rgb(234, 86, 108)",
           "rgb(222, 5, 24)",
           "rgb(37, 16, 125)",
           "rgb(120, 242, 206)",
           "rgb(243, 5, 191)",
           "rgb(146, 200, 84)",
           "rgb(39, 86, 255)",
           "rgb(140, 154, 46)",
           "rgb(61, 148, 101)",
           "rgb(15, 69, 183)",
           "rgb(235, 235, 188)",
           "rgb(18, 246, 14)",
           "rgb(177, 32, 137)",
           "rgb(54, 54, 219)",
           "rgb(55, 231, 131)",
           "rgb(234, 224, 251)",
           "rgb(245, 114, 246)",
           "rgb(71, 129, 175)",
           "rgb(181, 13, 68)",
           "rgb(24, 175, 142)",
           "rgb(150, 125, 212)",
           "rgb(101, 141, 253)",
           "rgb(189, 229, 65)",
           "rgb(171, 105, 35)",
           "rgb(7, 64, 108)",
           "rgb(119, 0, 143)",
           "rgb(216, 159, 197)",
           "rgb(115, 219, 219)",
           "rgb(208, 90, 9)",
           "rgb(196, 230, 71)",
           "rgb(199, 101, 208)",
           "rgb(140, 87, 144)",
           "rgb(176, 146, 85)",
           "rgb(103, 53, 151)",
           "rgb(181, 20, 35)",
           "rgb(232, 237, 134)",
           "rgb(180, 29, 180)",
           "rgb(188, 184, 222)",
           "rgb(177, 155, 212)",
           "rgb(205, 160, 234)",
           "rgb(190, 42, 67)",
           "rgb(111, 27, 92)",
           "rgb(200, 164, 80)",
           "rgb(178, 120, 170)",
           "rgb(176, 166, 181)",
           "rgb(127, 218, 147)",
           "rgb(102, 171, 79)",
           "rgb(81, 106, 187)",
           "rgb(44, 17, 37)",
           "rgb(10, 45, 127)",
           "rgb(86, 4, 212)",
           "rgb(30, 225, 136)",
           "rgb(133, 54, 152)",
           "rgb(3, 145, 133)",
           "rgb(32, 83, 38)",
           "rgb(146, 7, 173)",
           "rgb(231, 62, 56)",
           "rgb(73, 8, 231)",
           "rgb(166, 166, 174)",
           "rgb(89, 242, 115)",
           "rgb(79, 117, 45)",
           "rgb(183, 104, 58)",
           "rgb(137, 13, 203)",
           "rgb(175, 41, 81)",
           "rgb(243, 151, 217)",
           "rgb(135, 170, 33)",
           "rgb(99, 58, 33)",
           "rgb(103, 36, 132)",
           "rgb(133, 93, 149)",
           "rgb(23, 95, 155)",
           "rgb(159, 85, 90)",
           "rgb(165, 136, 21)",
           "rgb(13, 142, 46)",
           "rgb(94, 155, 46)",
           "rgb(29, 170, 225)",
           "rgb(213, 143, 38)",
           "rgb(95, 88, 46)",
           "rgb(63, 73, 236)",
           "rgb(8, 13, 247)",
           "rgb(226, 222, 183)",
           "rgb(222, 0, 149)",
           "rgb(177, 232, 165)",
           "rgb(118, 123, 61)",
           "rgb(160, 119, 17)",
           "rgb(26, 205, 226)",
           "rgb(106, 155, 142)",
           "rgb(45, 171, 80)",
           "rgb(253, 64, 109)",
           "rgb(84, 216, 251)",
           "rgb(156, 228, 54)",
           "rgb(206, 217, 48)",
           "rgb(19, 119, 108)",
           "rgb(41, 219, 87)",
           "rgb(44, 66, 213)",
           "rgb(94, 41, 232)",
           "rgb(187, 90, 203)",
           "rgb(201, 151, 145)",
           "rgb(62, 141, 126)",
           "rgb(124, 249, 102)",
           "rgb(64, 130, 228)",
           "rgb(178, 31, 152)",
           "rgb(98, 102, 157)",
           "rgb(194, 232, 183)",
           "rgb(216, 7, 99)",
           "rgb(180, 20, 6)",
           "rgb(25, 165, 29)",
           "rgb(78, 118, 248)",
           "rgb(235, 51, 192)",
           "rgb(114, 185, 160)",
           "rgb(51, 45, 128)",
           "rgb(73, 154, 131)",
           "rgb(60, 70, 145)"
          ]
         },
         "name": "2007",
         "orientation": "h",
         "type": "bar",
         "x": [
          199579,
          301931,
          496374,
          551201,
          684736,
          708573,
          710960,
          798094,
          1056608,
          1133066,
          1250882,
          1454867,
          1472041,
          1639131,
          1688359,
          2009245,
          2012649,
          2055080,
          2505559,
          2780132,
          2874127,
          3193942,
          3204897,
          3242173,
          3270065,
          3447496,
          3600523,
          3800610,
          3921278,
          3942491,
          4018332,
          4109086,
          4115771,
          4133884,
          4369038,
          4493312,
          4552198,
          4553009,
          4627926,
          4906585,
          5238460,
          5447502,
          5468120,
          5675356,
          5701579,
          6036914,
          6053193,
          6144562,
          6426679,
          6667147,
          6939688,
          6980412,
          7322858,
          7483763,
          7554661,
          8078314,
          8199783,
          8390505,
          8502814,
          8860588,
          9031088,
          9118773,
          9119152,
          9319622,
          9947814,
          9956108,
          10150265,
          10228744,
          10238807,
          10276158,
          10392226,
          10642836,
          10706290,
          11416987,
          11746035,
          12031795,
          12267493,
          12311143,
          12420476,
          12572928,
          12894865,
          13327079,
          13755680,
          14131858,
          14326203,
          16284741,
          16570613,
          17696293,
          18013409,
          19167654,
          19314747,
          19951656,
          20378239,
          20434176,
          22211743,
          22276056,
          22873338,
          23174294,
          23301725,
          24821286,
          26084662,
          27499638,
          27601038,
          28674757,
          28901790,
          29170398,
          31889923,
          33333216,
          33390141,
          33757175,
          35610177,
          38139640,
          38518241,
          40301927,
          40448191,
          42292929,
          43997828,
          44227550,
          47761980,
          49044790,
          58147733,
          60776238,
          61083916,
          64606759,
          65068149,
          69453570,
          71158647,
          76511887,
          80264543,
          82400996,
          85262356,
          91077287,
          108700891,
          127467972,
          135031164,
          150448339,
          169270617,
          190010647,
          223547000,
          301139947,
          1110396331,
          1318683096
         ],
         "y": [
          "Sao Tome and Principe",
          "Iceland",
          "Djibouti",
          "Equatorial Guinea",
          "Montenegro",
          "Bahrain",
          "Comoros",
          "Reunion",
          "Trinidad and Tobago",
          "Swaziland",
          "Mauritius",
          "Gabon",
          "Guinea-Bissau",
          "Botswana",
          "Gambia",
          "Slovenia",
          "Lesotho",
          "Namibia",
          "Kuwait",
          "Jamaica",
          "Mongolia",
          "Liberia",
          "Oman",
          "Panama",
          "Mauritania",
          "Uruguay",
          "Albania",
          "Congo, Rep.",
          "Lebanon",
          "Puerto Rico",
          "West Bank and Gaza",
          "Ireland",
          "New Zealand",
          "Costa Rica",
          "Central African Republic",
          "Croatia",
          "Bosnia and Herzegovina",
          "Singapore",
          "Norway",
          "Eritrea",
          "Finland",
          "Slovak Republic",
          "Denmark",
          "Nicaragua",
          "Togo",
          "Libya",
          "Jordan",
          "Sierra Leone",
          "Israel",
          "Paraguay",
          "El Salvador",
          "Hong Kong, China",
          "Bulgaria",
          "Honduras",
          "Switzerland",
          "Benin",
          "Austria",
          "Burundi",
          "Haiti",
          "Rwanda",
          "Sweden",
          "Somalia",
          "Bolivia",
          "Dominican Republic",
          "Guinea",
          "Hungary",
          "Serbia",
          "Czech Republic",
          "Chad",
          "Tunisia",
          "Belgium",
          "Portugal",
          "Greece",
          "Cuba",
          "Zambia",
          "Mali",
          "Senegal",
          "Zimbabwe",
          "Angola",
          "Guatemala",
          "Niger",
          "Malawi",
          "Ecuador",
          "Cambodia",
          "Burkina Faso",
          "Chile",
          "Netherlands",
          "Cameroon",
          "Cote d'Ivoire",
          "Madagascar",
          "Syria",
          "Mozambique",
          "Sri Lanka",
          "Australia",
          "Yemen, Rep.",
          "Romania",
          "Ghana",
          "Taiwan",
          "Korea, Dem. Rep.",
          "Malaysia",
          "Venezuela",
          "Iraq",
          "Saudi Arabia",
          "Peru",
          "Nepal",
          "Uganda",
          "Afghanistan",
          "Algeria",
          "Canada",
          "Morocco",
          "Kenya",
          "Tanzania",
          "Poland",
          "Argentina",
          "Spain",
          "Sudan",
          "South Africa",
          "Colombia",
          "Myanmar",
          "Korea, Rep.",
          "Italy",
          "United Kingdom",
          "France",
          "Congo, Dem. Rep.",
          "Thailand",
          "Iran",
          "Turkey",
          "Ethiopia",
          "Egypt",
          "Germany",
          "Vietnam",
          "Philippines",
          "Mexico",
          "Japan",
          "Nigeria",
          "Bangladesh",
          "Pakistan",
          "Brazil",
          "Indonesia",
          "United States",
          "India",
          "China"
         ]
        }
       ],
       "layout": {
        "sliders": [
         {
          "active": 10,
          "currentvalue": {
           "prefix": "Year: "
          },
          "pad": {
           "t": 50
          },
          "steps": [
           {
            "args": [
             "visible",
             [
              true,
              false,
              false,
              false,
              false,
              false,
              false,
              false,
              false,
              false,
              false,
              false
             ]
            ],
            "label": "1952",
            "method": "restyle"
           },
           {
            "args": [
             "visible",
             [
              false,
              true,
              false,
              false,
              false,
              false,
              false,
              false,
              false,
              false,
              false,
              false
             ]
            ],
            "label": "1957",
            "method": "restyle"
           },
           {
            "args": [
             "visible",
             [
              false,
              false,
              true,
              false,
              false,
              false,
              false,
              false,
              false,
              false,
              false,
              false
             ]
            ],
            "label": "1962",
            "method": "restyle"
           },
           {
            "args": [
             "visible",
             [
              false,
              false,
              false,
              true,
              false,
              false,
              false,
              false,
              false,
              false,
              false,
              false
             ]
            ],
            "label": "1967",
            "method": "restyle"
           },
           {
            "args": [
             "visible",
             [
              false,
              false,
              false,
              false,
              true,
              false,
              false,
              false,
              false,
              false,
              false,
              false
             ]
            ],
            "label": "1972",
            "method": "restyle"
           },
           {
            "args": [
             "visible",
             [
              false,
              false,
              false,
              false,
              false,
              true,
              false,
              false,
              false,
              false,
              false,
              false
             ]
            ],
            "label": "1977",
            "method": "restyle"
           },
           {
            "args": [
             "visible",
             [
              false,
              false,
              false,
              false,
              false,
              false,
              true,
              false,
              false,
              false,
              false,
              false
             ]
            ],
            "label": "1982",
            "method": "restyle"
           },
           {
            "args": [
             "visible",
             [
              false,
              false,
              false,
              false,
              false,
              false,
              false,
              true,
              false,
              false,
              false,
              false
             ]
            ],
            "label": "1987",
            "method": "restyle"
           },
           {
            "args": [
             "visible",
             [
              false,
              false,
              false,
              false,
              false,
              false,
              false,
              false,
              true,
              false,
              false,
              false
             ]
            ],
            "label": "1992",
            "method": "restyle"
           },
           {
            "args": [
             "visible",
             [
              false,
              false,
              false,
              false,
              false,
              false,
              false,
              false,
              false,
              true,
              false,
              false
             ]
            ],
            "label": "1997",
            "method": "restyle"
           },
           {
            "args": [
             "visible",
             [
              false,
              false,
              false,
              false,
              false,
              false,
              false,
              false,
              false,
              false,
              true,
              false
             ]
            ],
            "label": "2002",
            "method": "restyle"
           },
           {
            "args": [
             "visible",
             [
              false,
              false,
              false,
              false,
              false,
              false,
              false,
              false,
              false,
              false,
              false,
              true
             ]
            ],
            "label": "2007",
            "method": "restyle"
           }
          ]
         }
        ],
        "template": {
         "data": {
          "bar": [
           {
            "error_x": {
             "color": "#2a3f5f"
            },
            "error_y": {
             "color": "#2a3f5f"
            },
            "marker": {
             "line": {
              "color": "#E5ECF6",
              "width": 0.5
             },
             "pattern": {
              "fillmode": "overlay",
              "size": 10,
              "solidity": 0.2
             }
            },
            "type": "bar"
           }
          ],
          "barpolar": [
           {
            "marker": {
             "line": {
              "color": "#E5ECF6",
              "width": 0.5
             },
             "pattern": {
              "fillmode": "overlay",
              "size": 10,
              "solidity": 0.2
             }
            },
            "type": "barpolar"
           }
          ],
          "carpet": [
           {
            "aaxis": {
             "endlinecolor": "#2a3f5f",
             "gridcolor": "white",
             "linecolor": "white",
             "minorgridcolor": "white",
             "startlinecolor": "#2a3f5f"
            },
            "baxis": {
             "endlinecolor": "#2a3f5f",
             "gridcolor": "white",
             "linecolor": "white",
             "minorgridcolor": "white",
             "startlinecolor": "#2a3f5f"
            },
            "type": "carpet"
           }
          ],
          "choropleth": [
           {
            "colorbar": {
             "outlinewidth": 0,
             "ticks": ""
            },
            "type": "choropleth"
           }
          ],
          "contour": [
           {
            "colorbar": {
             "outlinewidth": 0,
             "ticks": ""
            },
            "colorscale": [
             [
              0,
              "#0d0887"
             ],
             [
              0.1111111111111111,
              "#46039f"
             ],
             [
              0.2222222222222222,
              "#7201a8"
             ],
             [
              0.3333333333333333,
              "#9c179e"
             ],
             [
              0.4444444444444444,
              "#bd3786"
             ],
             [
              0.5555555555555556,
              "#d8576b"
             ],
             [
              0.6666666666666666,
              "#ed7953"
             ],
             [
              0.7777777777777778,
              "#fb9f3a"
             ],
             [
              0.8888888888888888,
              "#fdca26"
             ],
             [
              1,
              "#f0f921"
             ]
            ],
            "type": "contour"
           }
          ],
          "contourcarpet": [
           {
            "colorbar": {
             "outlinewidth": 0,
             "ticks": ""
            },
            "type": "contourcarpet"
           }
          ],
          "heatmap": [
           {
            "colorbar": {
             "outlinewidth": 0,
             "ticks": ""
            },
            "colorscale": [
             [
              0,
              "#0d0887"
             ],
             [
              0.1111111111111111,
              "#46039f"
             ],
             [
              0.2222222222222222,
              "#7201a8"
             ],
             [
              0.3333333333333333,
              "#9c179e"
             ],
             [
              0.4444444444444444,
              "#bd3786"
             ],
             [
              0.5555555555555556,
              "#d8576b"
             ],
             [
              0.6666666666666666,
              "#ed7953"
             ],
             [
              0.7777777777777778,
              "#fb9f3a"
             ],
             [
              0.8888888888888888,
              "#fdca26"
             ],
             [
              1,
              "#f0f921"
             ]
            ],
            "type": "heatmap"
           }
          ],
          "heatmapgl": [
           {
            "colorbar": {
             "outlinewidth": 0,
             "ticks": ""
            },
            "colorscale": [
             [
              0,
              "#0d0887"
             ],
             [
              0.1111111111111111,
              "#46039f"
             ],
             [
              0.2222222222222222,
              "#7201a8"
             ],
             [
              0.3333333333333333,
              "#9c179e"
             ],
             [
              0.4444444444444444,
              "#bd3786"
             ],
             [
              0.5555555555555556,
              "#d8576b"
             ],
             [
              0.6666666666666666,
              "#ed7953"
             ],
             [
              0.7777777777777778,
              "#fb9f3a"
             ],
             [
              0.8888888888888888,
              "#fdca26"
             ],
             [
              1,
              "#f0f921"
             ]
            ],
            "type": "heatmapgl"
           }
          ],
          "histogram": [
           {
            "marker": {
             "pattern": {
              "fillmode": "overlay",
              "size": 10,
              "solidity": 0.2
             }
            },
            "type": "histogram"
           }
          ],
          "histogram2d": [
           {
            "colorbar": {
             "outlinewidth": 0,
             "ticks": ""
            },
            "colorscale": [
             [
              0,
              "#0d0887"
             ],
             [
              0.1111111111111111,
              "#46039f"
             ],
             [
              0.2222222222222222,
              "#7201a8"
             ],
             [
              0.3333333333333333,
              "#9c179e"
             ],
             [
              0.4444444444444444,
              "#bd3786"
             ],
             [
              0.5555555555555556,
              "#d8576b"
             ],
             [
              0.6666666666666666,
              "#ed7953"
             ],
             [
              0.7777777777777778,
              "#fb9f3a"
             ],
             [
              0.8888888888888888,
              "#fdca26"
             ],
             [
              1,
              "#f0f921"
             ]
            ],
            "type": "histogram2d"
           }
          ],
          "histogram2dcontour": [
           {
            "colorbar": {
             "outlinewidth": 0,
             "ticks": ""
            },
            "colorscale": [
             [
              0,
              "#0d0887"
             ],
             [
              0.1111111111111111,
              "#46039f"
             ],
             [
              0.2222222222222222,
              "#7201a8"
             ],
             [
              0.3333333333333333,
              "#9c179e"
             ],
             [
              0.4444444444444444,
              "#bd3786"
             ],
             [
              0.5555555555555556,
              "#d8576b"
             ],
             [
              0.6666666666666666,
              "#ed7953"
             ],
             [
              0.7777777777777778,
              "#fb9f3a"
             ],
             [
              0.8888888888888888,
              "#fdca26"
             ],
             [
              1,
              "#f0f921"
             ]
            ],
            "type": "histogram2dcontour"
           }
          ],
          "mesh3d": [
           {
            "colorbar": {
             "outlinewidth": 0,
             "ticks": ""
            },
            "type": "mesh3d"
           }
          ],
          "parcoords": [
           {
            "line": {
             "colorbar": {
              "outlinewidth": 0,
              "ticks": ""
             }
            },
            "type": "parcoords"
           }
          ],
          "pie": [
           {
            "automargin": true,
            "type": "pie"
           }
          ],
          "scatter": [
           {
            "fillpattern": {
             "fillmode": "overlay",
             "size": 10,
             "solidity": 0.2
            },
            "type": "scatter"
           }
          ],
          "scatter3d": [
           {
            "line": {
             "colorbar": {
              "outlinewidth": 0,
              "ticks": ""
             }
            },
            "marker": {
             "colorbar": {
              "outlinewidth": 0,
              "ticks": ""
             }
            },
            "type": "scatter3d"
           }
          ],
          "scattercarpet": [
           {
            "marker": {
             "colorbar": {
              "outlinewidth": 0,
              "ticks": ""
             }
            },
            "type": "scattercarpet"
           }
          ],
          "scattergeo": [
           {
            "marker": {
             "colorbar": {
              "outlinewidth": 0,
              "ticks": ""
             }
            },
            "type": "scattergeo"
           }
          ],
          "scattergl": [
           {
            "marker": {
             "colorbar": {
              "outlinewidth": 0,
              "ticks": ""
             }
            },
            "type": "scattergl"
           }
          ],
          "scattermapbox": [
           {
            "marker": {
             "colorbar": {
              "outlinewidth": 0,
              "ticks": ""
             }
            },
            "type": "scattermapbox"
           }
          ],
          "scatterpolar": [
           {
            "marker": {
             "colorbar": {
              "outlinewidth": 0,
              "ticks": ""
             }
            },
            "type": "scatterpolar"
           }
          ],
          "scatterpolargl": [
           {
            "marker": {
             "colorbar": {
              "outlinewidth": 0,
              "ticks": ""
             }
            },
            "type": "scatterpolargl"
           }
          ],
          "scatterternary": [
           {
            "marker": {
             "colorbar": {
              "outlinewidth": 0,
              "ticks": ""
             }
            },
            "type": "scatterternary"
           }
          ],
          "surface": [
           {
            "colorbar": {
             "outlinewidth": 0,
             "ticks": ""
            },
            "colorscale": [
             [
              0,
              "#0d0887"
             ],
             [
              0.1111111111111111,
              "#46039f"
             ],
             [
              0.2222222222222222,
              "#7201a8"
             ],
             [
              0.3333333333333333,
              "#9c179e"
             ],
             [
              0.4444444444444444,
              "#bd3786"
             ],
             [
              0.5555555555555556,
              "#d8576b"
             ],
             [
              0.6666666666666666,
              "#ed7953"
             ],
             [
              0.7777777777777778,
              "#fb9f3a"
             ],
             [
              0.8888888888888888,
              "#fdca26"
             ],
             [
              1,
              "#f0f921"
             ]
            ],
            "type": "surface"
           }
          ],
          "table": [
           {
            "cells": {
             "fill": {
              "color": "#EBF0F8"
             },
             "line": {
              "color": "white"
             }
            },
            "header": {
             "fill": {
              "color": "#C8D4E3"
             },
             "line": {
              "color": "white"
             }
            },
            "type": "table"
           }
          ]
         },
         "layout": {
          "annotationdefaults": {
           "arrowcolor": "#2a3f5f",
           "arrowhead": 0,
           "arrowwidth": 1
          },
          "autotypenumbers": "strict",
          "coloraxis": {
           "colorbar": {
            "outlinewidth": 0,
            "ticks": ""
           }
          },
          "colorscale": {
           "diverging": [
            [
             0,
             "#8e0152"
            ],
            [
             0.1,
             "#c51b7d"
            ],
            [
             0.2,
             "#de77ae"
            ],
            [
             0.3,
             "#f1b6da"
            ],
            [
             0.4,
             "#fde0ef"
            ],
            [
             0.5,
             "#f7f7f7"
            ],
            [
             0.6,
             "#e6f5d0"
            ],
            [
             0.7,
             "#b8e186"
            ],
            [
             0.8,
             "#7fbc41"
            ],
            [
             0.9,
             "#4d9221"
            ],
            [
             1,
             "#276419"
            ]
           ],
           "sequential": [
            [
             0,
             "#0d0887"
            ],
            [
             0.1111111111111111,
             "#46039f"
            ],
            [
             0.2222222222222222,
             "#7201a8"
            ],
            [
             0.3333333333333333,
             "#9c179e"
            ],
            [
             0.4444444444444444,
             "#bd3786"
            ],
            [
             0.5555555555555556,
             "#d8576b"
            ],
            [
             0.6666666666666666,
             "#ed7953"
            ],
            [
             0.7777777777777778,
             "#fb9f3a"
            ],
            [
             0.8888888888888888,
             "#fdca26"
            ],
            [
             1,
             "#f0f921"
            ]
           ],
           "sequentialminus": [
            [
             0,
             "#0d0887"
            ],
            [
             0.1111111111111111,
             "#46039f"
            ],
            [
             0.2222222222222222,
             "#7201a8"
            ],
            [
             0.3333333333333333,
             "#9c179e"
            ],
            [
             0.4444444444444444,
             "#bd3786"
            ],
            [
             0.5555555555555556,
             "#d8576b"
            ],
            [
             0.6666666666666666,
             "#ed7953"
            ],
            [
             0.7777777777777778,
             "#fb9f3a"
            ],
            [
             0.8888888888888888,
             "#fdca26"
            ],
            [
             1,
             "#f0f921"
            ]
           ]
          },
          "colorway": [
           "#636efa",
           "#EF553B",
           "#00cc96",
           "#ab63fa",
           "#FFA15A",
           "#19d3f3",
           "#FF6692",
           "#B6E880",
           "#FF97FF",
           "#FECB52"
          ],
          "font": {
           "color": "#2a3f5f"
          },
          "geo": {
           "bgcolor": "white",
           "lakecolor": "white",
           "landcolor": "#E5ECF6",
           "showlakes": true,
           "showland": true,
           "subunitcolor": "white"
          },
          "hoverlabel": {
           "align": "left"
          },
          "hovermode": "closest",
          "mapbox": {
           "style": "light"
          },
          "paper_bgcolor": "white",
          "plot_bgcolor": "#E5ECF6",
          "polar": {
           "angularaxis": {
            "gridcolor": "white",
            "linecolor": "white",
            "ticks": ""
           },
           "bgcolor": "#E5ECF6",
           "radialaxis": {
            "gridcolor": "white",
            "linecolor": "white",
            "ticks": ""
           }
          },
          "scene": {
           "xaxis": {
            "backgroundcolor": "#E5ECF6",
            "gridcolor": "white",
            "gridwidth": 2,
            "linecolor": "white",
            "showbackground": true,
            "ticks": "",
            "zerolinecolor": "white"
           },
           "yaxis": {
            "backgroundcolor": "#E5ECF6",
            "gridcolor": "white",
            "gridwidth": 2,
            "linecolor": "white",
            "showbackground": true,
            "ticks": "",
            "zerolinecolor": "white"
           },
           "zaxis": {
            "backgroundcolor": "#E5ECF6",
            "gridcolor": "white",
            "gridwidth": 2,
            "linecolor": "white",
            "showbackground": true,
            "ticks": "",
            "zerolinecolor": "white"
           }
          },
          "shapedefaults": {
           "line": {
            "color": "#2a3f5f"
           }
          },
          "ternary": {
           "aaxis": {
            "gridcolor": "white",
            "linecolor": "white",
            "ticks": ""
           },
           "baxis": {
            "gridcolor": "white",
            "linecolor": "white",
            "ticks": ""
           },
           "bgcolor": "#E5ECF6",
           "caxis": {
            "gridcolor": "white",
            "linecolor": "white",
            "ticks": ""
           }
          },
          "title": {
           "x": 0.05
          },
          "xaxis": {
           "automargin": true,
           "gridcolor": "white",
           "linecolor": "white",
           "ticks": "",
           "title": {
            "standoff": 15
           },
           "zerolinecolor": "white",
           "zerolinewidth": 2
          },
          "yaxis": {
           "automargin": true,
           "gridcolor": "white",
           "linecolor": "white",
           "ticks": "",
           "title": {
            "standoff": 15
           },
           "zerolinecolor": "white",
           "zerolinewidth": 2
          }
         }
        },
        "xaxis": {
         "range": [
          0,
          1450551405.6000001
         ],
         "title": {
          "text": "Population"
         }
        },
        "yaxis": {
         "title": {
          "text": "Continent"
         }
        }
       }
      },
      "text/html": [
       "<div>                            <div id=\"4ffbb3af-89c8-49ae-ad0c-a0a629d22833\" class=\"plotly-graph-div\" style=\"height:525px; width:100%;\"></div>            <script type=\"text/javascript\">                require([\"plotly\"], function(Plotly) {                    window.PLOTLYENV=window.PLOTLYENV || {};                                    if (document.getElementById(\"4ffbb3af-89c8-49ae-ad0c-a0a629d22833\")) {                    Plotly.newPlot(                        \"4ffbb3af-89c8-49ae-ad0c-a0a629d22833\",                        [{\"marker\":{\"color\":[\"rgb(226, 23, 105)\",\"rgb(200, 80, 65)\",\"rgb(228, 43, 212)\",\"rgb(228, 170, 225)\",\"rgb(20, 245, 226)\",\"rgb(132, 206, 236)\",\"rgb(241, 28, 62)\",\"rgb(140, 134, 132)\",\"rgb(151, 20, 12)\",\"rgb(181, 211, 242)\",\"rgb(160, 78, 19)\",\"rgb(125, 239, 65)\",\"rgb(88, 51, 168)\",\"rgb(168, 220, 118)\",\"rgb(224, 27, 238)\",\"rgb(186, 158, 218)\",\"rgb(155, 34, 57)\",\"rgb(245, 114, 246)\",\"rgb(224, 47, 165)\",\"rgb(117, 207, 105)\",\"rgb(22, 151, 96)\",\"rgb(219, 29, 56)\",\"rgb(159, 145, 19)\",\"rgb(120, 242, 206)\",\"rgb(158, 176, 210)\",\"rgb(234, 224, 251)\",\"rgb(109, 158, 163)\",\"rgb(234, 86, 108)\",\"rgb(140, 154, 46)\",\"rgb(54, 54, 219)\",\"rgb(55, 231, 131)\",\"rgb(23, 10, 213)\",\"rgb(243, 5, 191)\",\"rgb(76, 181, 51)\",\"rgb(15, 69, 183)\",\"rgb(40, 153, 103)\",\"rgb(205, 2, 222)\",\"rgb(171, 105, 35)\",\"rgb(24, 175, 142)\",\"rgb(181, 13, 68)\",\"rgb(119, 0, 143)\",\"rgb(37, 16, 125)\",\"rgb(150, 125, 212)\",\"rgb(101, 141, 253)\",\"rgb(71, 129, 175)\",\"rgb(2, 163, 0)\",\"rgb(41, 229, 250)\",\"rgb(115, 219, 219)\",\"rgb(103, 53, 151)\",\"rgb(140, 87, 144)\",\"rgb(196, 230, 71)\",\"rgb(181, 20, 35)\",\"rgb(176, 166, 181)\",\"rgb(177, 155, 212)\",\"rgb(102, 171, 79)\",\"rgb(39, 86, 255)\",\"rgb(176, 146, 85)\",\"rgb(30, 225, 136)\",\"rgb(222, 5, 24)\",\"rgb(166, 166, 174)\",\"rgb(81, 106, 187)\",\"rgb(10, 45, 127)\",\"rgb(208, 90, 9)\",\"rgb(61, 148, 101)\",\"rgb(86, 4, 212)\",\"rgb(133, 54, 152)\",\"rgb(18, 246, 14)\",\"rgb(205, 160, 234)\",\"rgb(79, 117, 45)\",\"rgb(127, 218, 147)\",\"rgb(146, 200, 84)\",\"rgb(13, 142, 46)\",\"rgb(235, 235, 188)\",\"rgb(44, 17, 37)\",\"rgb(177, 32, 137)\",\"rgb(32, 83, 38)\",\"rgb(3, 145, 133)\",\"rgb(89, 242, 115)\",\"rgb(7, 64, 108)\",\"rgb(243, 151, 217)\",\"rgb(73, 8, 231)\",\"rgb(159, 85, 90)\",\"rgb(165, 136, 21)\",\"rgb(99, 58, 33)\",\"rgb(213, 143, 38)\",\"rgb(178, 120, 170)\",\"rgb(146, 7, 173)\",\"rgb(183, 104, 58)\",\"rgb(222, 0, 149)\",\"rgb(23, 95, 155)\",\"rgb(180, 29, 180)\",\"rgb(216, 159, 197)\",\"rgb(199, 101, 208)\",\"rgb(189, 229, 65)\",\"rgb(200, 164, 80)\",\"rgb(137, 13, 203)\",\"rgb(94, 155, 46)\",\"rgb(177, 232, 165)\",\"rgb(95, 88, 46)\",\"rgb(106, 155, 142)\",\"rgb(111, 27, 92)\",\"rgb(103, 36, 132)\",\"rgb(175, 41, 81)\",\"rgb(190, 42, 67)\",\"rgb(133, 93, 149)\",\"rgb(188, 184, 222)\",\"rgb(29, 170, 225)\",\"rgb(63, 73, 236)\",\"rgb(232, 237, 134)\",\"rgb(226, 222, 183)\",\"rgb(231, 62, 56)\",\"rgb(253, 64, 109)\",\"rgb(44, 66, 213)\",\"rgb(45, 171, 80)\",\"rgb(8, 13, 247)\",\"rgb(135, 170, 33)\",\"rgb(187, 90, 203)\",\"rgb(160, 119, 17)\",\"rgb(84, 216, 251)\",\"rgb(62, 141, 126)\",\"rgb(156, 228, 54)\",\"rgb(94, 41, 232)\",\"rgb(124, 249, 102)\",\"rgb(201, 151, 145)\",\"rgb(98, 102, 157)\",\"rgb(118, 123, 61)\",\"rgb(178, 31, 152)\",\"rgb(26, 205, 226)\",\"rgb(194, 232, 183)\",\"rgb(180, 20, 6)\",\"rgb(78, 118, 248)\",\"rgb(41, 219, 87)\",\"rgb(25, 165, 29)\",\"rgb(206, 217, 48)\",\"rgb(19, 119, 108)\",\"rgb(235, 51, 192)\",\"rgb(64, 130, 228)\",\"rgb(114, 185, 160)\",\"rgb(216, 7, 99)\",\"rgb(51, 45, 128)\",\"rgb(73, 154, 131)\",\"rgb(60, 70, 145)\"]},\"name\":\"1952\",\"orientation\":\"h\",\"x\":[60011,63149,120447,147962,153936,160000,216964,257700,284320,290243,413834,420702,442308,485831,507833,516556,580653,607914,662850,748747,800663,854885,863308,926317,940080,1019729,1022556,1030585,1127000,1165790,1219113,1282697,1291695,1426095,1438760,1439529,1489518,1517453,1555876,1620914,1738315,1994794,2042865,2125900,2143249,2227000,2252965,2445618,2491346,2526994,2534927,2664249,2672000,2682462,2755589,2791000,2883315,2917802,2952156,2977019,3080907,3146381,3201488,3327728,3379468,3548753,3558137,3647735,3661549,3838168,3882229,4005677,4090500,4232095,4334000,4469979,4693836,4762912,4815000,4963829,5009067,5439568,5441766,5581001,5824797,6007797,6377619,6446316,6464046,6748378,6860147,6927772,7124673,7274900,7733250,7982342,8025700,8322925,8425333,8504667,8526050,8550362,8691212,8730405,8865488,9125183,9182536,9279525,9504000,9939217,10381988,12350771,14100005,14264935,14785584,16630000,17272000,17876956,20092996,20860941,20947571,21289402,22223309,22235677,22438691,25730551,26246839,28549870,30144317,33119096,41346560,42459667,46886859,47666000,50430000,56602560,69145952,82052000,86459025,157553000,372000000,556263527],\"y\":[\"Sao Tome and Principe\",\"Djibouti\",\"Bahrain\",\"Iceland\",\"Comoros\",\"Kuwait\",\"Equatorial Guinea\",\"Reunion\",\"Gambia\",\"Swaziland\",\"Montenegro\",\"Gabon\",\"Botswana\",\"Namibia\",\"Oman\",\"Mauritius\",\"Guinea-Bissau\",\"Jordan\",\"Trinidad and Tobago\",\"Lesotho\",\"Mongolia\",\"Congo, Rep.\",\"Liberia\",\"Costa Rica\",\"Panama\",\"Libya\",\"Mauritania\",\"West Bank and Gaza\",\"Singapore\",\"Nicaragua\",\"Togo\",\"Albania\",\"Central African Republic\",\"Jamaica\",\"Eritrea\",\"Lebanon\",\"Slovenia\",\"Honduras\",\"Paraguay\",\"Israel\",\"Benin\",\"New Zealand\",\"El Salvador\",\"Hong Kong, China\",\"Sierra Leone\",\"Puerto Rico\",\"Uruguay\",\"Burundi\",\"Dominican Republic\",\"Somalia\",\"Rwanda\",\"Guinea\",\"Zambia\",\"Chad\",\"Senegal\",\"Bosnia and Herzegovina\",\"Bolivia\",\"Malawi\",\"Ireland\",\"Cote d'Ivoire\",\"Zimbabwe\",\"Guatemala\",\"Haiti\",\"Norway\",\"Niger\",\"Ecuador\",\"Slovak Republic\",\"Tunisia\",\"Syria\",\"Mali\",\"Croatia\",\"Saudi Arabia\",\"Finland\",\"Angola\",\"Denmark\",\"Burkina Faso\",\"Cambodia\",\"Madagascar\",\"Switzerland\",\"Yemen, Rep.\",\"Cameroon\",\"Venezuela\",\"Iraq\",\"Ghana\",\"Uganda\",\"Cuba\",\"Chile\",\"Mozambique\",\"Kenya\",\"Malaysia\",\"Serbia\",\"Austria\",\"Sweden\",\"Bulgaria\",\"Greece\",\"Sri Lanka\",\"Peru\",\"Tanzania\",\"Afghanistan\",\"Sudan\",\"Portugal\",\"Taiwan\",\"Australia\",\"Belgium\",\"Korea, Dem. Rep.\",\"Czech Republic\",\"Nepal\",\"Algeria\",\"Hungary\",\"Morocco\",\"Netherlands\",\"Colombia\",\"Congo, Dem. Rep.\",\"South Africa\",\"Canada\",\"Romania\",\"Iran\",\"Argentina\",\"Myanmar\",\"Ethiopia\",\"Korea, Rep.\",\"Thailand\",\"Egypt\",\"Turkey\",\"Philippines\",\"Poland\",\"Vietnam\",\"Spain\",\"Mexico\",\"Nigeria\",\"Pakistan\",\"France\",\"Bangladesh\",\"Italy\",\"United Kingdom\",\"Brazil\",\"Germany\",\"Indonesia\",\"Japan\",\"United States\",\"India\",\"China\"],\"type\":\"bar\"},{\"marker\":{\"color\":[\"rgb(226, 23, 105)\",\"rgb(200, 80, 65)\",\"rgb(228, 43, 212)\",\"rgb(228, 170, 225)\",\"rgb(20, 245, 226)\",\"rgb(132, 206, 236)\",\"rgb(241, 28, 62)\",\"rgb(140, 134, 132)\",\"rgb(151, 20, 12)\",\"rgb(181, 211, 242)\",\"rgb(125, 239, 65)\",\"rgb(160, 78, 19)\",\"rgb(88, 51, 168)\",\"rgb(168, 220, 118)\",\"rgb(224, 27, 238)\",\"rgb(155, 34, 57)\",\"rgb(186, 158, 218)\",\"rgb(245, 114, 246)\",\"rgb(224, 47, 165)\",\"rgb(117, 207, 105)\",\"rgb(22, 151, 96)\",\"rgb(219, 29, 56)\",\"rgb(159, 145, 19)\",\"rgb(158, 176, 210)\",\"rgb(234, 86, 108)\",\"rgb(109, 158, 163)\",\"rgb(120, 242, 206)\",\"rgb(234, 224, 251)\",\"rgb(55, 231, 131)\",\"rgb(54, 54, 219)\",\"rgb(243, 5, 191)\",\"rgb(140, 154, 46)\",\"rgb(23, 10, 213)\",\"rgb(205, 2, 222)\",\"rgb(76, 181, 51)\",\"rgb(15, 69, 183)\",\"rgb(40, 153, 103)\",\"rgb(171, 105, 35)\",\"rgb(24, 175, 142)\",\"rgb(119, 0, 143)\",\"rgb(181, 13, 68)\",\"rgb(37, 16, 125)\",\"rgb(2, 163, 0)\",\"rgb(71, 129, 175)\",\"rgb(150, 125, 212)\",\"rgb(41, 229, 250)\",\"rgb(115, 219, 219)\",\"rgb(101, 141, 253)\",\"rgb(140, 87, 144)\",\"rgb(196, 230, 71)\",\"rgb(181, 20, 35)\",\"rgb(222, 5, 24)\",\"rgb(177, 155, 212)\",\"rgb(103, 53, 151)\",\"rgb(176, 166, 181)\",\"rgb(102, 171, 79)\",\"rgb(39, 86, 255)\",\"rgb(176, 146, 85)\",\"rgb(30, 225, 136)\",\"rgb(166, 166, 174)\",\"rgb(61, 148, 101)\",\"rgb(208, 90, 9)\",\"rgb(10, 45, 127)\",\"rgb(81, 106, 187)\",\"rgb(86, 4, 212)\",\"rgb(18, 246, 14)\",\"rgb(205, 160, 234)\",\"rgb(146, 200, 84)\",\"rgb(133, 54, 152)\",\"rgb(79, 117, 45)\",\"rgb(127, 218, 147)\",\"rgb(235, 235, 188)\",\"rgb(13, 142, 46)\",\"rgb(177, 32, 137)\",\"rgb(44, 17, 37)\",\"rgb(32, 83, 38)\",\"rgb(7, 64, 108)\",\"rgb(89, 242, 115)\",\"rgb(3, 145, 133)\",\"rgb(73, 8, 231)\",\"rgb(243, 151, 217)\",\"rgb(165, 136, 21)\",\"rgb(99, 58, 33)\",\"rgb(178, 120, 170)\",\"rgb(213, 143, 38)\",\"rgb(159, 85, 90)\",\"rgb(216, 159, 197)\",\"rgb(183, 104, 58)\",\"rgb(146, 7, 173)\",\"rgb(180, 29, 180)\",\"rgb(199, 101, 208)\",\"rgb(222, 0, 149)\",\"rgb(189, 229, 65)\",\"rgb(23, 95, 155)\",\"rgb(200, 164, 80)\",\"rgb(111, 27, 92)\",\"rgb(190, 42, 67)\",\"rgb(137, 13, 203)\",\"rgb(94, 155, 46)\",\"rgb(95, 88, 46)\",\"rgb(133, 93, 149)\",\"rgb(177, 232, 165)\",\"rgb(188, 184, 222)\",\"rgb(29, 170, 225)\",\"rgb(175, 41, 81)\",\"rgb(106, 155, 142)\",\"rgb(232, 237, 134)\",\"rgb(103, 36, 132)\",\"rgb(63, 73, 236)\",\"rgb(231, 62, 56)\",\"rgb(226, 222, 183)\",\"rgb(253, 64, 109)\",\"rgb(44, 66, 213)\",\"rgb(45, 171, 80)\",\"rgb(8, 13, 247)\",\"rgb(135, 170, 33)\",\"rgb(160, 119, 17)\",\"rgb(187, 90, 203)\",\"rgb(84, 216, 251)\",\"rgb(156, 228, 54)\",\"rgb(62, 141, 126)\",\"rgb(124, 249, 102)\",\"rgb(94, 41, 232)\",\"rgb(201, 151, 145)\",\"rgb(98, 102, 157)\",\"rgb(118, 123, 61)\",\"rgb(178, 31, 152)\",\"rgb(26, 205, 226)\",\"rgb(194, 232, 183)\",\"rgb(180, 20, 6)\",\"rgb(41, 219, 87)\",\"rgb(78, 118, 248)\",\"rgb(206, 217, 48)\",\"rgb(25, 165, 29)\",\"rgb(19, 119, 108)\",\"rgb(235, 51, 192)\",\"rgb(64, 130, 228)\",\"rgb(114, 185, 160)\",\"rgb(216, 7, 99)\",\"rgb(51, 45, 128)\",\"rgb(73, 154, 131)\",\"rgb(60, 70, 145)\"]},\"name\":\"1957\",\"orientation\":\"h\",\"x\":[61325,71851,138655,165110,170928,212846,232922,308700,323150,326741,434904,442829,474639,548080,561977,601095,609816,746559,764900,813338,882134,940458,975950,1063506,1070439,1076852,1112300,1201578,1357445,1358828,1392284,1445929,1476505,1533070,1535090,1542611,1647412,1770390,1770902,1925173,1944401,2229407,2260000,2295678,2355805,2424959,2667518,2736300,2780415,2822082,2876726,2878220,2894855,2923186,3016000,3054547,3076000,3211738,3221238,3300000,3491938,3507701,3640876,3646340,3692184,3844277,3950849,3991242,4058385,4149908,4241884,4324000,4419650,4487831,4561361,4713416,5126000,5181679,5322536,5359923,5498090,6248643,6391288,6640752,6675501,6702668,6965860,7038035,7048426,7271135,7363802,7454779,7651254,7739235,8096218,8817650,8989111,9128546,9146100,9240934,9411381,9452826,9513758,9682338,9712569,9753392,9839000,10164215,10270856,11026383,11406350,14485993,15577932,16151549,17010154,17829327,19610538,19792000,21731844,22611552,22815614,25009741,25041917,25670939,26072194,28235346,28998543,29841614,35015548,37173340,44310863,46679944,49182000,51365468,51430000,65551171,71019069,90124000,91563009,171984000,409000000,637408000],\"y\":[\"Sao Tome and Principe\",\"Djibouti\",\"Bahrain\",\"Iceland\",\"Comoros\",\"Kuwait\",\"Equatorial Guinea\",\"Reunion\",\"Gambia\",\"Swaziland\",\"Gabon\",\"Montenegro\",\"Botswana\",\"Namibia\",\"Oman\",\"Guinea-Bissau\",\"Mauritius\",\"Jordan\",\"Trinidad and Tobago\",\"Lesotho\",\"Mongolia\",\"Congo, Rep.\",\"Liberia\",\"Panama\",\"West Bank and Gaza\",\"Mauritania\",\"Costa Rica\",\"Libya\",\"Togo\",\"Nicaragua\",\"Central African Republic\",\"Singapore\",\"Albania\",\"Slovenia\",\"Jamaica\",\"Eritrea\",\"Lebanon\",\"Honduras\",\"Paraguay\",\"Benin\",\"Israel\",\"New Zealand\",\"Puerto Rico\",\"Sierra Leone\",\"El Salvador\",\"Uruguay\",\"Burundi\",\"Hong Kong, China\",\"Somalia\",\"Rwanda\",\"Guinea\",\"Ireland\",\"Chad\",\"Dominican Republic\",\"Zambia\",\"Senegal\",\"Bosnia and Herzegovina\",\"Bolivia\",\"Malawi\",\"Cote d'Ivoire\",\"Norway\",\"Haiti\",\"Guatemala\",\"Zimbabwe\",\"Niger\",\"Slovak Republic\",\"Tunisia\",\"Croatia\",\"Ecuador\",\"Syria\",\"Mali\",\"Finland\",\"Saudi Arabia\",\"Denmark\",\"Angola\",\"Burkina Faso\",\"Switzerland\",\"Madagascar\",\"Cambodia\",\"Cameroon\",\"Yemen, Rep.\",\"Iraq\",\"Ghana\",\"Cuba\",\"Uganda\",\"Venezuela\",\"Austria\",\"Mozambique\",\"Chile\",\"Serbia\",\"Sweden\",\"Kenya\",\"Bulgaria\",\"Malaysia\",\"Greece\",\"Portugal\",\"Belgium\",\"Sri Lanka\",\"Peru\",\"Afghanistan\",\"Korea, Dem. Rep.\",\"Tanzania\",\"Czech Republic\",\"Nepal\",\"Australia\",\"Sudan\",\"Hungary\",\"Taiwan\",\"Algeria\",\"Netherlands\",\"Morocco\",\"Colombia\",\"Congo, Dem. Rep.\",\"South Africa\",\"Canada\",\"Romania\",\"Argentina\",\"Iran\",\"Myanmar\",\"Korea, Rep.\",\"Ethiopia\",\"Egypt\",\"Thailand\",\"Turkey\",\"Philippines\",\"Poland\",\"Vietnam\",\"Spain\",\"Mexico\",\"Nigeria\",\"France\",\"Pakistan\",\"Italy\",\"Bangladesh\",\"United Kingdom\",\"Brazil\",\"Germany\",\"Indonesia\",\"Japan\",\"United States\",\"India\",\"China\"],\"type\":\"bar\"},{\"marker\":{\"color\":[\"rgb(226, 23, 105)\",\"rgb(200, 80, 65)\",\"rgb(228, 43, 212)\",\"rgb(228, 170, 225)\",\"rgb(20, 245, 226)\",\"rgb(241, 28, 62)\",\"rgb(132, 206, 236)\",\"rgb(140, 134, 132)\",\"rgb(181, 211, 242)\",\"rgb(151, 20, 12)\",\"rgb(125, 239, 65)\",\"rgb(160, 78, 19)\",\"rgb(88, 51, 168)\",\"rgb(168, 220, 118)\",\"rgb(155, 34, 57)\",\"rgb(224, 27, 238)\",\"rgb(186, 158, 218)\",\"rgb(224, 47, 165)\",\"rgb(117, 207, 105)\",\"rgb(245, 114, 246)\",\"rgb(22, 151, 96)\",\"rgb(219, 29, 56)\",\"rgb(159, 145, 19)\",\"rgb(234, 86, 108)\",\"rgb(109, 158, 163)\",\"rgb(158, 176, 210)\",\"rgb(120, 242, 206)\",\"rgb(234, 224, 251)\",\"rgb(243, 5, 191)\",\"rgb(55, 231, 131)\",\"rgb(205, 2, 222)\",\"rgb(54, 54, 219)\",\"rgb(76, 181, 51)\",\"rgb(15, 69, 183)\",\"rgb(23, 10, 213)\",\"rgb(140, 154, 46)\",\"rgb(40, 153, 103)\",\"rgb(24, 175, 142)\",\"rgb(171, 105, 35)\",\"rgb(119, 0, 143)\",\"rgb(181, 13, 68)\",\"rgb(2, 163, 0)\",\"rgb(71, 129, 175)\",\"rgb(37, 16, 125)\",\"rgb(41, 229, 250)\",\"rgb(150, 125, 212)\",\"rgb(222, 5, 24)\",\"rgb(115, 219, 219)\",\"rgb(196, 230, 71)\",\"rgb(140, 87, 144)\",\"rgb(181, 20, 35)\",\"rgb(177, 155, 212)\",\"rgb(101, 141, 253)\",\"rgb(39, 86, 255)\",\"rgb(176, 166, 181)\",\"rgb(102, 171, 79)\",\"rgb(103, 53, 151)\",\"rgb(176, 146, 85)\",\"rgb(30, 225, 136)\",\"rgb(61, 148, 101)\",\"rgb(166, 166, 174)\",\"rgb(208, 90, 9)\",\"rgb(86, 4, 212)\",\"rgb(146, 200, 84)\",\"rgb(10, 45, 127)\",\"rgb(18, 246, 14)\",\"rgb(81, 106, 187)\",\"rgb(205, 160, 234)\",\"rgb(235, 235, 188)\",\"rgb(177, 32, 137)\",\"rgb(133, 54, 152)\",\"rgb(127, 218, 147)\",\"rgb(44, 17, 37)\",\"rgb(79, 117, 45)\",\"rgb(32, 83, 38)\",\"rgb(13, 142, 46)\",\"rgb(7, 64, 108)\",\"rgb(89, 242, 115)\",\"rgb(73, 8, 231)\",\"rgb(3, 145, 133)\",\"rgb(243, 151, 217)\",\"rgb(216, 159, 197)\",\"rgb(165, 136, 21)\",\"rgb(178, 120, 170)\",\"rgb(99, 58, 33)\",\"rgb(199, 101, 208)\",\"rgb(180, 29, 180)\",\"rgb(213, 143, 38)\",\"rgb(183, 104, 58)\",\"rgb(146, 7, 173)\",\"rgb(189, 229, 65)\",\"rgb(159, 85, 90)\",\"rgb(200, 164, 80)\",\"rgb(222, 0, 149)\",\"rgb(23, 95, 155)\",\"rgb(111, 27, 92)\",\"rgb(190, 42, 67)\",\"rgb(188, 184, 222)\",\"rgb(232, 237, 134)\",\"rgb(95, 88, 46)\",\"rgb(29, 170, 225)\",\"rgb(137, 13, 203)\",\"rgb(94, 155, 46)\",\"rgb(175, 41, 81)\",\"rgb(177, 232, 165)\",\"rgb(133, 93, 149)\",\"rgb(63, 73, 236)\",\"rgb(106, 155, 142)\",\"rgb(231, 62, 56)\",\"rgb(103, 36, 132)\",\"rgb(226, 222, 183)\",\"rgb(253, 64, 109)\",\"rgb(44, 66, 213)\",\"rgb(45, 171, 80)\",\"rgb(135, 170, 33)\",\"rgb(8, 13, 247)\",\"rgb(160, 119, 17)\",\"rgb(187, 90, 203)\",\"rgb(84, 216, 251)\",\"rgb(62, 141, 126)\",\"rgb(156, 228, 54)\",\"rgb(124, 249, 102)\",\"rgb(94, 41, 232)\",\"rgb(201, 151, 145)\",\"rgb(98, 102, 157)\",\"rgb(118, 123, 61)\",\"rgb(26, 205, 226)\",\"rgb(178, 31, 152)\",\"rgb(194, 232, 183)\",\"rgb(180, 20, 6)\",\"rgb(41, 219, 87)\",\"rgb(206, 217, 48)\",\"rgb(78, 118, 248)\",\"rgb(19, 119, 108)\",\"rgb(25, 165, 29)\",\"rgb(64, 130, 228)\",\"rgb(235, 51, 192)\",\"rgb(216, 7, 99)\",\"rgb(114, 185, 160)\",\"rgb(51, 45, 128)\",\"rgb(73, 154, 131)\",\"rgb(60, 70, 145)\"]},\"name\":\"1962\",\"orientation\":\"h\",\"x\":[65345,89898,171863,182053,191689,249220,358266,358900,370006,374020,455661,474528,512764,621392,627820,628164,701016,887498,893143,933559,1010280,1047924,1112796,1133134,1146757,1215725,1345187,1441863,1523478,1528098,1582962,1590597,1665128,1666618,1728137,1750200,1886848,2009813,2090162,2151895,2310904,2448046,2467895,2488550,2598466,2747687,2830000,2961915,3051242,3080153,3140003,3150417,3305200,3349000,3421000,3430243,3453434,3593918,3628608,3638919,3832408,3880130,4076008,4076557,4208858,4237384,4277736,4286552,4491443,4646899,4681707,4690372,4826015,4834621,4919632,4943029,5666000,5703324,5793633,6083619,6120081,7129864,7240260,7254373,7355248,7561588,7616060,7688797,7788944,7961258,8012946,8143375,8448233,8678557,8906385,9019800,9218400,9620282,10063000,10267083,10332057,10421936,10516500,10794968,10863958,10917494,11000948,11183227,11805689,11918938,13056604,17009885,17486434,18356657,18680721,18985849,21283783,22874000,23634436,25145372,26420307,28173309,29263397,29788695,30325264,30329617,31158061,33796140,41121485,41871351,47124000,50843200,53100671,53292000,56839289,73739117,76039390,95831757,99028000,186538000,454000000,665770000],\"y\":[\"Sao Tome and Principe\",\"Djibouti\",\"Bahrain\",\"Iceland\",\"Comoros\",\"Equatorial Guinea\",\"Kuwait\",\"Reunion\",\"Swaziland\",\"Gambia\",\"Gabon\",\"Montenegro\",\"Botswana\",\"Namibia\",\"Guinea-Bissau\",\"Oman\",\"Mauritius\",\"Trinidad and Tobago\",\"Lesotho\",\"Jordan\",\"Mongolia\",\"Congo, Rep.\",\"Liberia\",\"West Bank and Gaza\",\"Mauritania\",\"Panama\",\"Costa Rica\",\"Libya\",\"Central African Republic\",\"Togo\",\"Slovenia\",\"Nicaragua\",\"Jamaica\",\"Eritrea\",\"Albania\",\"Singapore\",\"Lebanon\",\"Paraguay\",\"Honduras\",\"Benin\",\"Israel\",\"Puerto Rico\",\"Sierra Leone\",\"New Zealand\",\"Uruguay\",\"El Salvador\",\"Ireland\",\"Burundi\",\"Rwanda\",\"Somalia\",\"Guinea\",\"Chad\",\"Hong Kong, China\",\"Bosnia and Herzegovina\",\"Zambia\",\"Senegal\",\"Dominican Republic\",\"Bolivia\",\"Malawi\",\"Norway\",\"Cote d'Ivoire\",\"Haiti\",\"Niger\",\"Croatia\",\"Guatemala\",\"Slovak Republic\",\"Zimbabwe\",\"Tunisia\",\"Finland\",\"Denmark\",\"Ecuador\",\"Mali\",\"Angola\",\"Syria\",\"Burkina Faso\",\"Saudi Arabia\",\"Switzerland\",\"Madagascar\",\"Cameroon\",\"Cambodia\",\"Yemen, Rep.\",\"Austria\",\"Iraq\",\"Cuba\",\"Ghana\",\"Sweden\",\"Serbia\",\"Uganda\",\"Mozambique\",\"Chile\",\"Bulgaria\",\"Venezuela\",\"Greece\",\"Kenya\",\"Malaysia\",\"Portugal\",\"Belgium\",\"Czech Republic\",\"Hungary\",\"Afghanistan\",\"Nepal\",\"Sri Lanka\",\"Peru\",\"Australia\",\"Tanzania\",\"Korea, Dem. Rep.\",\"Algeria\",\"Sudan\",\"Netherlands\",\"Taiwan\",\"Morocco\",\"Colombia\",\"Congo, Dem. Rep.\",\"South Africa\",\"Romania\",\"Canada\",\"Argentina\",\"Iran\",\"Myanmar\",\"Ethiopia\",\"Korea, Rep.\",\"Egypt\",\"Thailand\",\"Turkey\",\"Philippines\",\"Poland\",\"Spain\",\"Vietnam\",\"Mexico\",\"Nigeria\",\"France\",\"Italy\",\"Pakistan\",\"United Kingdom\",\"Bangladesh\",\"Germany\",\"Brazil\",\"Japan\",\"Indonesia\",\"United States\",\"India\",\"China\"],\"type\":\"bar\"},{\"marker\":{\"color\":[\"rgb(226, 23, 105)\",\"rgb(200, 80, 65)\",\"rgb(228, 170, 225)\",\"rgb(228, 43, 212)\",\"rgb(20, 245, 226)\",\"rgb(241, 28, 62)\",\"rgb(140, 134, 132)\",\"rgb(181, 211, 242)\",\"rgb(151, 20, 12)\",\"rgb(125, 239, 65)\",\"rgb(160, 78, 19)\",\"rgb(88, 51, 168)\",\"rgb(132, 206, 236)\",\"rgb(155, 34, 57)\",\"rgb(168, 220, 118)\",\"rgb(224, 27, 238)\",\"rgb(186, 158, 218)\",\"rgb(224, 47, 165)\",\"rgb(117, 207, 105)\",\"rgb(234, 86, 108)\",\"rgb(22, 151, 96)\",\"rgb(219, 29, 56)\",\"rgb(109, 158, 163)\",\"rgb(245, 114, 246)\",\"rgb(159, 145, 19)\",\"rgb(158, 176, 210)\",\"rgb(120, 242, 206)\",\"rgb(205, 2, 222)\",\"rgb(243, 5, 191)\",\"rgb(55, 231, 131)\",\"rgb(234, 224, 251)\",\"rgb(15, 69, 183)\",\"rgb(76, 181, 51)\",\"rgb(54, 54, 219)\",\"rgb(140, 154, 46)\",\"rgb(23, 10, 213)\",\"rgb(40, 153, 103)\",\"rgb(24, 175, 142)\",\"rgb(119, 0, 143)\",\"rgb(171, 105, 35)\",\"rgb(2, 163, 0)\",\"rgb(71, 129, 175)\",\"rgb(181, 13, 68)\",\"rgb(37, 16, 125)\",\"rgb(41, 229, 250)\",\"rgb(222, 5, 24)\",\"rgb(150, 125, 212)\",\"rgb(115, 219, 219)\",\"rgb(140, 87, 144)\",\"rgb(196, 230, 71)\",\"rgb(181, 20, 35)\",\"rgb(177, 155, 212)\",\"rgb(39, 86, 255)\",\"rgb(101, 141, 253)\",\"rgb(61, 148, 101)\",\"rgb(176, 166, 181)\",\"rgb(102, 171, 79)\",\"rgb(176, 146, 85)\",\"rgb(103, 53, 151)\",\"rgb(30, 225, 136)\",\"rgb(146, 200, 84)\",\"rgb(208, 90, 9)\",\"rgb(18, 246, 14)\",\"rgb(86, 4, 212)\",\"rgb(235, 235, 188)\",\"rgb(10, 45, 127)\",\"rgb(166, 166, 174)\",\"rgb(205, 160, 234)\",\"rgb(177, 32, 137)\",\"rgb(81, 106, 187)\",\"rgb(32, 83, 38)\",\"rgb(127, 218, 147)\",\"rgb(44, 17, 37)\",\"rgb(133, 54, 152)\",\"rgb(13, 142, 46)\",\"rgb(79, 117, 45)\",\"rgb(7, 64, 108)\",\"rgb(89, 242, 115)\",\"rgb(73, 8, 231)\",\"rgb(243, 151, 217)\",\"rgb(3, 145, 133)\",\"rgb(216, 159, 197)\",\"rgb(199, 101, 208)\",\"rgb(180, 29, 180)\",\"rgb(178, 120, 170)\",\"rgb(189, 229, 65)\",\"rgb(99, 58, 33)\",\"rgb(165, 136, 21)\",\"rgb(183, 104, 58)\",\"rgb(200, 164, 80)\",\"rgb(146, 7, 173)\",\"rgb(213, 143, 38)\",\"rgb(111, 27, 92)\",\"rgb(190, 42, 67)\",\"rgb(159, 85, 90)\",\"rgb(188, 184, 222)\",\"rgb(23, 95, 155)\",\"rgb(222, 0, 149)\",\"rgb(232, 237, 134)\",\"rgb(29, 170, 225)\",\"rgb(95, 88, 46)\",\"rgb(137, 13, 203)\",\"rgb(175, 41, 81)\",\"rgb(94, 155, 46)\",\"rgb(231, 62, 56)\",\"rgb(177, 232, 165)\",\"rgb(133, 93, 149)\",\"rgb(106, 155, 142)\",\"rgb(63, 73, 236)\",\"rgb(103, 36, 132)\",\"rgb(226, 222, 183)\",\"rgb(135, 170, 33)\",\"rgb(253, 64, 109)\",\"rgb(44, 66, 213)\",\"rgb(8, 13, 247)\",\"rgb(45, 171, 80)\",\"rgb(160, 119, 17)\",\"rgb(84, 216, 251)\",\"rgb(187, 90, 203)\",\"rgb(62, 141, 126)\",\"rgb(156, 228, 54)\",\"rgb(124, 249, 102)\",\"rgb(118, 123, 61)\",\"rgb(26, 205, 226)\",\"rgb(201, 151, 145)\",\"rgb(94, 41, 232)\",\"rgb(98, 102, 157)\",\"rgb(178, 31, 152)\",\"rgb(180, 20, 6)\",\"rgb(194, 232, 183)\",\"rgb(41, 219, 87)\",\"rgb(206, 217, 48)\",\"rgb(19, 119, 108)\",\"rgb(78, 118, 248)\",\"rgb(25, 165, 29)\",\"rgb(64, 130, 228)\",\"rgb(235, 51, 192)\",\"rgb(216, 7, 99)\",\"rgb(114, 185, 160)\",\"rgb(51, 45, 128)\",\"rgb(73, 154, 131)\",\"rgb(60, 70, 145)\"]},\"name\":\"1967\",\"orientation\":\"h\",\"x\":[70787,127617,198676,202182,217378,259864,414024,420690,439593,489004,501035,553541,575003,601287,706640,714775,789309,960155,996380,1142636,1149500,1179760,1230542,1255058,1279406,1405486,1588717,1646912,1733638,1735550,1759224,1820319,1861096,1865490,1977600,1984060,2186894,2287985,2427334,2500689,2648961,2662190,2693585,2728150,2748579,2900100,3232927,3330989,3428839,3451079,3451418,3495967,3585000,3722800,3786019,3900000,3965841,4040665,4049146,4147252,4174366,4318137,4442238,4534062,4605744,4690773,4744870,4786986,4838800,4995432,5127935,5212416,5247469,5432424,5618198,5680812,6063000,6334556,6335506,6740785,6960067,7376998,7867931,7971222,8139332,8310226,8490213,8519282,8680909,8716441,8858908,8900294,9103000,9556500,9709552,9835109,10154878,10191512,10223422,11261690,11537966,11737396,11872264,12132200,12596822,12607312,12617009,12716129,12760499,13648692,14770296,19284814,19764027,19941073,20819767,20997321,22934225,25870271,26538000,27860297,30131000,31681188,31785378,32850275,33411317,34024249,35356600,39463910,47287752,47995559,49569000,52667100,54959000,60641899,62821884,76368453,88049823,100825279,109343000,198712000,506000000,754550000],\"y\":[\"Sao Tome and Principe\",\"Djibouti\",\"Iceland\",\"Bahrain\",\"Comoros\",\"Equatorial Guinea\",\"Reunion\",\"Swaziland\",\"Gambia\",\"Gabon\",\"Montenegro\",\"Botswana\",\"Kuwait\",\"Guinea-Bissau\",\"Namibia\",\"Oman\",\"Mauritius\",\"Trinidad and Tobago\",\"Lesotho\",\"West Bank and Gaza\",\"Mongolia\",\"Congo, Rep.\",\"Mauritania\",\"Jordan\",\"Liberia\",\"Panama\",\"Costa Rica\",\"Slovenia\",\"Central African Republic\",\"Togo\",\"Libya\",\"Eritrea\",\"Jamaica\",\"Nicaragua\",\"Singapore\",\"Albania\",\"Lebanon\",\"Paraguay\",\"Benin\",\"Honduras\",\"Puerto Rico\",\"Sierra Leone\",\"Israel\",\"New Zealand\",\"Uruguay\",\"Ireland\",\"El Salvador\",\"Burundi\",\"Somalia\",\"Rwanda\",\"Guinea\",\"Chad\",\"Bosnia and Herzegovina\",\"Hong Kong, China\",\"Norway\",\"Zambia\",\"Senegal\",\"Bolivia\",\"Dominican Republic\",\"Malawi\",\"Croatia\",\"Haiti\",\"Slovak Republic\",\"Niger\",\"Finland\",\"Guatemala\",\"Cote d'Ivoire\",\"Tunisia\",\"Denmark\",\"Zimbabwe\",\"Burkina Faso\",\"Mali\",\"Angola\",\"Ecuador\",\"Saudi Arabia\",\"Syria\",\"Switzerland\",\"Madagascar\",\"Cameroon\",\"Yemen, Rep.\",\"Cambodia\",\"Austria\",\"Sweden\",\"Serbia\",\"Cuba\",\"Bulgaria\",\"Ghana\",\"Iraq\",\"Mozambique\",\"Greece\",\"Chile\",\"Uganda\",\"Portugal\",\"Belgium\",\"Venezuela\",\"Czech Republic\",\"Malaysia\",\"Kenya\",\"Hungary\",\"Nepal\",\"Afghanistan\",\"Sri Lanka\",\"Australia\",\"Peru\",\"Netherlands\",\"Tanzania\",\"Korea, Dem. Rep.\",\"Sudan\",\"Algeria\",\"Taiwan\",\"Morocco\",\"Romania\",\"Colombia\",\"Congo, Dem. Rep.\",\"Canada\",\"South Africa\",\"Argentina\",\"Myanmar\",\"Iran\",\"Ethiopia\",\"Korea, Rep.\",\"Egypt\",\"Poland\",\"Spain\",\"Turkey\",\"Thailand\",\"Philippines\",\"Vietnam\",\"Nigeria\",\"Mexico\",\"France\",\"Italy\",\"United Kingdom\",\"Pakistan\",\"Bangladesh\",\"Germany\",\"Brazil\",\"Japan\",\"Indonesia\",\"United States\",\"India\",\"China\"],\"type\":\"bar\"},{\"marker\":{\"color\":[\"rgb(226, 23, 105)\",\"rgb(200, 80, 65)\",\"rgb(228, 170, 225)\",\"rgb(228, 43, 212)\",\"rgb(20, 245, 226)\",\"rgb(241, 28, 62)\",\"rgb(140, 134, 132)\",\"rgb(181, 211, 242)\",\"rgb(151, 20, 12)\",\"rgb(160, 78, 19)\",\"rgb(125, 239, 65)\",\"rgb(88, 51, 168)\",\"rgb(155, 34, 57)\",\"rgb(168, 220, 118)\",\"rgb(224, 27, 238)\",\"rgb(132, 206, 236)\",\"rgb(186, 158, 218)\",\"rgb(224, 47, 165)\",\"rgb(234, 86, 108)\",\"rgb(117, 207, 105)\",\"rgb(22, 151, 96)\",\"rgb(109, 158, 163)\",\"rgb(219, 29, 56)\",\"rgb(159, 145, 19)\",\"rgb(245, 114, 246)\",\"rgb(158, 176, 210)\",\"rgb(205, 2, 222)\",\"rgb(120, 242, 206)\",\"rgb(243, 5, 191)\",\"rgb(76, 181, 51)\",\"rgb(55, 231, 131)\",\"rgb(140, 154, 46)\",\"rgb(54, 54, 219)\",\"rgb(234, 224, 251)\",\"rgb(15, 69, 183)\",\"rgb(23, 10, 213)\",\"rgb(24, 175, 142)\",\"rgb(40, 153, 103)\",\"rgb(119, 0, 143)\",\"rgb(41, 229, 250)\",\"rgb(2, 163, 0)\",\"rgb(71, 129, 175)\",\"rgb(37, 16, 125)\",\"rgb(171, 105, 35)\",\"rgb(222, 5, 24)\",\"rgb(181, 13, 68)\",\"rgb(115, 219, 219)\",\"rgb(150, 125, 212)\",\"rgb(181, 20, 35)\",\"rgb(39, 86, 255)\",\"rgb(140, 87, 144)\",\"rgb(177, 155, 212)\",\"rgb(61, 148, 101)\",\"rgb(196, 230, 71)\",\"rgb(101, 141, 253)\",\"rgb(146, 200, 84)\",\"rgb(176, 166, 181)\",\"rgb(176, 146, 85)\",\"rgb(102, 171, 79)\",\"rgb(18, 246, 14)\",\"rgb(235, 235, 188)\",\"rgb(103, 53, 151)\",\"rgb(208, 90, 9)\",\"rgb(30, 225, 136)\",\"rgb(177, 32, 137)\",\"rgb(86, 4, 212)\",\"rgb(10, 45, 127)\",\"rgb(205, 160, 234)\",\"rgb(32, 83, 38)\",\"rgb(127, 218, 147)\",\"rgb(81, 106, 187)\",\"rgb(44, 17, 37)\",\"rgb(166, 166, 174)\",\"rgb(133, 54, 152)\",\"rgb(7, 64, 108)\",\"rgb(13, 142, 46)\",\"rgb(79, 117, 45)\",\"rgb(73, 8, 231)\",\"rgb(89, 242, 115)\",\"rgb(243, 151, 217)\",\"rgb(3, 145, 133)\",\"rgb(216, 159, 197)\",\"rgb(199, 101, 208)\",\"rgb(180, 29, 180)\",\"rgb(189, 229, 65)\",\"rgb(178, 120, 170)\",\"rgb(200, 164, 80)\",\"rgb(111, 27, 92)\",\"rgb(99, 58, 33)\",\"rgb(190, 42, 67)\",\"rgb(146, 7, 173)\",\"rgb(183, 104, 58)\",\"rgb(188, 184, 222)\",\"rgb(165, 136, 21)\",\"rgb(213, 143, 38)\",\"rgb(232, 237, 134)\",\"rgb(23, 95, 155)\",\"rgb(159, 85, 90)\",\"rgb(222, 0, 149)\",\"rgb(29, 170, 225)\",\"rgb(137, 13, 203)\",\"rgb(95, 88, 46)\",\"rgb(175, 41, 81)\",\"rgb(231, 62, 56)\",\"rgb(94, 155, 46)\",\"rgb(106, 155, 142)\",\"rgb(177, 232, 165)\",\"rgb(63, 73, 236)\",\"rgb(133, 93, 149)\",\"rgb(103, 36, 132)\",\"rgb(226, 222, 183)\",\"rgb(135, 170, 33)\",\"rgb(8, 13, 247)\",\"rgb(253, 64, 109)\",\"rgb(44, 66, 213)\",\"rgb(45, 171, 80)\",\"rgb(160, 119, 17)\",\"rgb(84, 216, 251)\",\"rgb(187, 90, 203)\",\"rgb(62, 141, 126)\",\"rgb(118, 123, 61)\",\"rgb(156, 228, 54)\",\"rgb(26, 205, 226)\",\"rgb(124, 249, 102)\",\"rgb(201, 151, 145)\",\"rgb(94, 41, 232)\",\"rgb(98, 102, 157)\",\"rgb(178, 31, 152)\",\"rgb(41, 219, 87)\",\"rgb(180, 20, 6)\",\"rgb(206, 217, 48)\",\"rgb(194, 232, 183)\",\"rgb(19, 119, 108)\",\"rgb(78, 118, 248)\",\"rgb(25, 165, 29)\",\"rgb(64, 130, 228)\",\"rgb(235, 51, 192)\",\"rgb(216, 7, 99)\",\"rgb(114, 185, 160)\",\"rgb(51, 45, 128)\",\"rgb(73, 154, 131)\",\"rgb(60, 70, 145)\"]},\"name\":\"1972\",\"orientation\":\"h\",\"x\":[76595,178848,209275,230800,250027,277603,461633,480105,517101,527678,537977,619351,625361,821782,829050,841934,851334,975199,1089572,1116779,1320500,1332786,1340458,1482628,1613551,1616384,1694510,1834796,1927260,1997616,2056351,2152400,2182908,2183877,2260187,2263554,2614104,2680018,2761407,2829526,2847132,2879013,2929100,2965146,3024400,3095893,3529983,3790903,3811387,3819000,3840161,3899068,3933004,3992121,4115700,4225310,4506497,4565872,4588696,4593433,4639657,4671329,4698301,4730997,4991596,5060262,5149581,5303507,5433886,5828158,5861135,5894858,6071696,6298651,6401400,6472756,6701172,7021028,7082430,7407075,7450606,7544201,8122293,8313288,8576200,8831348,8888628,8970450,9354120,9709100,9717524,9809596,9862158,10061506,10190285,10394091,11441462,11515649,12044785,12412593,13016733,13079460,13177000,13329874,13954700,14597019,14706593,14760787,14781241,15226039,16660670,20662648,22284500,22542890,23007669,23935810,24779799,28466390,30614000,30770372,33039545,33505000,34513161,34807417,37492953,39276153,40850141,44655014,51732000,53740085,54365564,55984294,56079000,69325921,70759295,78717088,100840058,107188273,121282000,209896000,567000000,862030000],\"y\":[\"Sao Tome and Principe\",\"Djibouti\",\"Iceland\",\"Bahrain\",\"Comoros\",\"Equatorial Guinea\",\"Reunion\",\"Swaziland\",\"Gambia\",\"Montenegro\",\"Gabon\",\"Botswana\",\"Guinea-Bissau\",\"Namibia\",\"Oman\",\"Kuwait\",\"Mauritius\",\"Trinidad and Tobago\",\"West Bank and Gaza\",\"Lesotho\",\"Mongolia\",\"Mauritania\",\"Congo, Rep.\",\"Liberia\",\"Jordan\",\"Panama\",\"Slovenia\",\"Costa Rica\",\"Central African Republic\",\"Jamaica\",\"Togo\",\"Singapore\",\"Nicaragua\",\"Libya\",\"Eritrea\",\"Albania\",\"Paraguay\",\"Lebanon\",\"Benin\",\"Uruguay\",\"Puerto Rico\",\"Sierra Leone\",\"New Zealand\",\"Honduras\",\"Ireland\",\"Israel\",\"Burundi\",\"El Salvador\",\"Guinea\",\"Bosnia and Herzegovina\",\"Somalia\",\"Chad\",\"Norway\",\"Rwanda\",\"Hong Kong, China\",\"Croatia\",\"Zambia\",\"Bolivia\",\"Senegal\",\"Slovak Republic\",\"Finland\",\"Dominican Republic\",\"Haiti\",\"Malawi\",\"Denmark\",\"Niger\",\"Guatemala\",\"Tunisia\",\"Burkina Faso\",\"Mali\",\"Zimbabwe\",\"Angola\",\"Cote d'Ivoire\",\"Ecuador\",\"Switzerland\",\"Saudi Arabia\",\"Syria\",\"Cameroon\",\"Madagascar\",\"Yemen, Rep.\",\"Cambodia\",\"Austria\",\"Sweden\",\"Serbia\",\"Bulgaria\",\"Cuba\",\"Greece\",\"Portugal\",\"Ghana\",\"Belgium\",\"Chile\",\"Mozambique\",\"Czech Republic\",\"Iraq\",\"Uganda\",\"Hungary\",\"Malaysia\",\"Venezuela\",\"Kenya\",\"Nepal\",\"Sri Lanka\",\"Afghanistan\",\"Australia\",\"Netherlands\",\"Peru\",\"Sudan\",\"Tanzania\",\"Algeria\",\"Korea, Dem. Rep.\",\"Taiwan\",\"Morocco\",\"Romania\",\"Canada\",\"Colombia\",\"Congo, Dem. Rep.\",\"South Africa\",\"Argentina\",\"Myanmar\",\"Iran\",\"Ethiopia\",\"Poland\",\"Korea, Rep.\",\"Spain\",\"Egypt\",\"Turkey\",\"Thailand\",\"Philippines\",\"Vietnam\",\"France\",\"Nigeria\",\"Italy\",\"Mexico\",\"United Kingdom\",\"Pakistan\",\"Bangladesh\",\"Germany\",\"Brazil\",\"Japan\",\"Indonesia\",\"United States\",\"India\",\"China\"],\"type\":\"bar\"},{\"marker\":{\"color\":[\"rgb(226, 23, 105)\",\"rgb(241, 28, 62)\",\"rgb(228, 170, 225)\",\"rgb(200, 80, 65)\",\"rgb(228, 43, 212)\",\"rgb(20, 245, 226)\",\"rgb(140, 134, 132)\",\"rgb(181, 211, 242)\",\"rgb(160, 78, 19)\",\"rgb(151, 20, 12)\",\"rgb(125, 239, 65)\",\"rgb(155, 34, 57)\",\"rgb(88, 51, 168)\",\"rgb(186, 158, 218)\",\"rgb(168, 220, 118)\",\"rgb(224, 27, 238)\",\"rgb(224, 47, 165)\",\"rgb(132, 206, 236)\",\"rgb(117, 207, 105)\",\"rgb(234, 86, 108)\",\"rgb(109, 158, 163)\",\"rgb(22, 151, 96)\",\"rgb(219, 29, 56)\",\"rgb(159, 145, 19)\",\"rgb(205, 2, 222)\",\"rgb(158, 176, 210)\",\"rgb(245, 114, 246)\",\"rgb(120, 242, 206)\",\"rgb(76, 181, 51)\",\"rgb(243, 5, 191)\",\"rgb(55, 231, 131)\",\"rgb(140, 154, 46)\",\"rgb(23, 10, 213)\",\"rgb(15, 69, 183)\",\"rgb(54, 54, 219)\",\"rgb(234, 224, 251)\",\"rgb(41, 229, 250)\",\"rgb(24, 175, 142)\",\"rgb(171, 105, 35)\",\"rgb(2, 163, 0)\",\"rgb(40, 153, 103)\",\"rgb(71, 129, 175)\",\"rgb(37, 16, 125)\",\"rgb(119, 0, 143)\",\"rgb(222, 5, 24)\",\"rgb(181, 13, 68)\",\"rgb(115, 219, 219)\",\"rgb(61, 148, 101)\",\"rgb(39, 86, 255)\",\"rgb(181, 20, 35)\",\"rgb(150, 125, 212)\",\"rgb(146, 200, 84)\",\"rgb(140, 87, 144)\",\"rgb(177, 155, 212)\",\"rgb(101, 141, 253)\",\"rgb(196, 230, 71)\",\"rgb(235, 235, 188)\",\"rgb(18, 246, 14)\",\"rgb(208, 90, 9)\",\"rgb(176, 146, 85)\",\"rgb(177, 32, 137)\",\"rgb(176, 166, 181)\",\"rgb(102, 171, 79)\",\"rgb(103, 53, 151)\",\"rgb(30, 225, 136)\",\"rgb(86, 4, 212)\",\"rgb(10, 45, 127)\",\"rgb(32, 83, 38)\",\"rgb(205, 160, 234)\",\"rgb(44, 17, 37)\",\"rgb(7, 64, 108)\",\"rgb(127, 218, 147)\",\"rgb(81, 106, 187)\",\"rgb(3, 145, 133)\",\"rgb(133, 54, 152)\",\"rgb(166, 166, 174)\",\"rgb(216, 159, 197)\",\"rgb(79, 117, 45)\",\"rgb(73, 8, 231)\",\"rgb(89, 242, 115)\",\"rgb(13, 142, 46)\",\"rgb(199, 101, 208)\",\"rgb(243, 151, 217)\",\"rgb(180, 29, 180)\",\"rgb(189, 229, 65)\",\"rgb(200, 164, 80)\",\"rgb(178, 120, 170)\",\"rgb(111, 27, 92)\",\"rgb(190, 42, 67)\",\"rgb(188, 184, 222)\",\"rgb(99, 58, 33)\",\"rgb(146, 7, 173)\",\"rgb(232, 237, 134)\",\"rgb(183, 104, 58)\",\"rgb(213, 143, 38)\",\"rgb(165, 136, 21)\",\"rgb(23, 95, 155)\",\"rgb(159, 85, 90)\",\"rgb(231, 62, 56)\",\"rgb(29, 170, 225)\",\"rgb(175, 41, 81)\",\"rgb(137, 13, 203)\",\"rgb(222, 0, 149)\",\"rgb(95, 88, 46)\",\"rgb(94, 155, 46)\",\"rgb(133, 93, 149)\",\"rgb(103, 36, 132)\",\"rgb(106, 155, 142)\",\"rgb(177, 232, 165)\",\"rgb(63, 73, 236)\",\"rgb(226, 222, 183)\",\"rgb(135, 170, 33)\",\"rgb(8, 13, 247)\",\"rgb(253, 64, 109)\",\"rgb(44, 66, 213)\",\"rgb(160, 119, 17)\",\"rgb(45, 171, 80)\",\"rgb(84, 216, 251)\",\"rgb(62, 141, 126)\",\"rgb(118, 123, 61)\",\"rgb(187, 90, 203)\",\"rgb(156, 228, 54)\",\"rgb(26, 205, 226)\",\"rgb(124, 249, 102)\",\"rgb(201, 151, 145)\",\"rgb(94, 41, 232)\",\"rgb(98, 102, 157)\",\"rgb(178, 31, 152)\",\"rgb(41, 219, 87)\",\"rgb(206, 217, 48)\",\"rgb(19, 119, 108)\",\"rgb(180, 20, 6)\",\"rgb(194, 232, 183)\",\"rgb(78, 118, 248)\",\"rgb(64, 130, 228)\",\"rgb(25, 165, 29)\",\"rgb(216, 7, 99)\",\"rgb(235, 51, 192)\",\"rgb(114, 185, 160)\",\"rgb(51, 45, 128)\",\"rgb(73, 154, 131)\",\"rgb(60, 70, 145)\"]},\"name\":\"1977\",\"orientation\":\"h\",\"x\":[86796,192675,221823,228694,297410,304739,492095,551425,560073,608274,706367,745228,781472,913025,977026,1004533,1039009,1140357,1251524,1261091,1456688,1528000,1536769,1703617,1746919,1839782,1937652,2108457,2156814,2167533,2308582,2325300,2509048,2512642,2554598,2721783,2873520,2984494,3055235,3080828,3115787,3140897,3164900,3168267,3271900,3495918,3834415,4043205,4086000,4227026,4282586,4318673,4353666,4388260,4583700,4657072,4738902,4827803,4908554,5079716,5088419,5216550,5260855,5302800,5637246,5682086,5703430,5889574,6005061,6162675,6316424,6491649,6642107,6978607,7278866,7459574,7568430,7932503,7959865,8007166,8128505,8251648,8403990,8686367,8797022,9308479,9537988,9662600,9821800,10161915,10538093,10599793,10637171,11127868,11457758,11882916,12845381,13503563,13852989,13933198,14074100,14116836,14500404,14880372,15990099,16325320,16785196,17104986,17129565,17152804,18396941,21658597,23796400,25094412,26480870,26983828,27129932,31528087,34617799,34621254,35480679,36436000,36439000,38783863,42404033,44148285,46850962,50533506,53165019,56059245,56179000,62209173,63759976,78152686,78160773,80428306,113872473,114313951,136725000,220239000,634000000,943455000],\"y\":[\"Sao Tome and Principe\",\"Equatorial Guinea\",\"Iceland\",\"Djibouti\",\"Bahrain\",\"Comoros\",\"Reunion\",\"Swaziland\",\"Montenegro\",\"Gambia\",\"Gabon\",\"Guinea-Bissau\",\"Botswana\",\"Mauritius\",\"Namibia\",\"Oman\",\"Trinidad and Tobago\",\"Kuwait\",\"Lesotho\",\"West Bank and Gaza\",\"Mauritania\",\"Mongolia\",\"Congo, Rep.\",\"Liberia\",\"Slovenia\",\"Panama\",\"Jordan\",\"Costa Rica\",\"Jamaica\",\"Central African Republic\",\"Togo\",\"Singapore\",\"Albania\",\"Eritrea\",\"Nicaragua\",\"Libya\",\"Uruguay\",\"Paraguay\",\"Honduras\",\"Puerto Rico\",\"Lebanon\",\"Sierra Leone\",\"New Zealand\",\"Benin\",\"Ireland\",\"Israel\",\"Burundi\",\"Norway\",\"Bosnia and Herzegovina\",\"Guinea\",\"El Salvador\",\"Croatia\",\"Somalia\",\"Chad\",\"Hong Kong, China\",\"Rwanda\",\"Finland\",\"Slovak Republic\",\"Haiti\",\"Bolivia\",\"Denmark\",\"Zambia\",\"Senegal\",\"Dominican Republic\",\"Malawi\",\"Niger\",\"Guatemala\",\"Burkina Faso\",\"Tunisia\",\"Angola\",\"Switzerland\",\"Mali\",\"Zimbabwe\",\"Cambodia\",\"Ecuador\",\"Cote d'Ivoire\",\"Austria\",\"Syria\",\"Cameroon\",\"Madagascar\",\"Saudi Arabia\",\"Sweden\",\"Yemen, Rep.\",\"Serbia\",\"Bulgaria\",\"Greece\",\"Cuba\",\"Portugal\",\"Belgium\",\"Czech Republic\",\"Ghana\",\"Chile\",\"Hungary\",\"Mozambique\",\"Uganda\",\"Iraq\",\"Malaysia\",\"Venezuela\",\"Netherlands\",\"Nepal\",\"Australia\",\"Sri Lanka\",\"Kenya\",\"Afghanistan\",\"Peru\",\"Korea, Dem. Rep.\",\"Taiwan\",\"Sudan\",\"Tanzania\",\"Algeria\",\"Morocco\",\"Romania\",\"Canada\",\"Colombia\",\"Congo, Dem. Rep.\",\"Argentina\",\"South Africa\",\"Myanmar\",\"Ethiopia\",\"Poland\",\"Iran\",\"Korea, Rep.\",\"Spain\",\"Egypt\",\"Turkey\",\"Thailand\",\"Philippines\",\"Vietnam\",\"France\",\"Italy\",\"United Kingdom\",\"Nigeria\",\"Mexico\",\"Pakistan\",\"Germany\",\"Bangladesh\",\"Japan\",\"Brazil\",\"Indonesia\",\"United States\",\"India\",\"China\"],\"type\":\"bar\"},{\"marker\":{\"color\":[\"rgb(226, 23, 105)\",\"rgb(228, 170, 225)\",\"rgb(241, 28, 62)\",\"rgb(200, 80, 65)\",\"rgb(20, 245, 226)\",\"rgb(228, 43, 212)\",\"rgb(140, 134, 132)\",\"rgb(160, 78, 19)\",\"rgb(181, 211, 242)\",\"rgb(151, 20, 12)\",\"rgb(125, 239, 65)\",\"rgb(155, 34, 57)\",\"rgb(88, 51, 168)\",\"rgb(186, 158, 218)\",\"rgb(168, 220, 118)\",\"rgb(224, 47, 165)\",\"rgb(224, 27, 238)\",\"rgb(117, 207, 105)\",\"rgb(234, 86, 108)\",\"rgb(132, 206, 236)\",\"rgb(109, 158, 163)\",\"rgb(22, 151, 96)\",\"rgb(219, 29, 56)\",\"rgb(205, 2, 222)\",\"rgb(159, 145, 19)\",\"rgb(158, 176, 210)\",\"rgb(76, 181, 51)\",\"rgb(245, 114, 246)\",\"rgb(120, 242, 206)\",\"rgb(243, 5, 191)\",\"rgb(15, 69, 183)\",\"rgb(55, 231, 131)\",\"rgb(140, 154, 46)\",\"rgb(23, 10, 213)\",\"rgb(41, 229, 250)\",\"rgb(54, 54, 219)\",\"rgb(40, 153, 103)\",\"rgb(37, 16, 125)\",\"rgb(2, 163, 0)\",\"rgb(234, 224, 251)\",\"rgb(24, 175, 142)\",\"rgb(71, 129, 175)\",\"rgb(222, 5, 24)\",\"rgb(119, 0, 143)\",\"rgb(171, 105, 35)\",\"rgb(181, 13, 68)\",\"rgb(61, 148, 101)\",\"rgb(39, 86, 255)\",\"rgb(146, 200, 84)\",\"rgb(150, 125, 212)\",\"rgb(115, 219, 219)\",\"rgb(181, 20, 35)\",\"rgb(235, 235, 188)\",\"rgb(177, 155, 212)\",\"rgb(18, 246, 14)\",\"rgb(177, 32, 137)\",\"rgb(208, 90, 9)\",\"rgb(101, 141, 253)\",\"rgb(196, 230, 71)\",\"rgb(176, 146, 85)\",\"rgb(140, 87, 144)\",\"rgb(103, 53, 151)\",\"rgb(176, 166, 181)\",\"rgb(102, 171, 79)\",\"rgb(10, 45, 127)\",\"rgb(86, 4, 212)\",\"rgb(7, 64, 108)\",\"rgb(30, 225, 136)\",\"rgb(32, 83, 38)\",\"rgb(205, 160, 234)\",\"rgb(127, 218, 147)\",\"rgb(44, 17, 37)\",\"rgb(3, 145, 133)\",\"rgb(216, 159, 197)\",\"rgb(81, 106, 187)\",\"rgb(199, 101, 208)\",\"rgb(133, 54, 152)\",\"rgb(189, 229, 65)\",\"rgb(166, 166, 174)\",\"rgb(180, 29, 180)\",\"rgb(89, 242, 115)\",\"rgb(73, 8, 231)\",\"rgb(79, 117, 45)\",\"rgb(243, 151, 217)\",\"rgb(200, 164, 80)\",\"rgb(178, 120, 170)\",\"rgb(190, 42, 67)\",\"rgb(111, 27, 92)\",\"rgb(188, 184, 222)\",\"rgb(232, 237, 134)\",\"rgb(13, 142, 46)\",\"rgb(99, 58, 33)\",\"rgb(146, 7, 173)\",\"rgb(183, 104, 58)\",\"rgb(95, 88, 46)\",\"rgb(213, 143, 38)\",\"rgb(165, 136, 21)\",\"rgb(231, 62, 56)\",\"rgb(23, 95, 155)\",\"rgb(175, 41, 81)\",\"rgb(137, 13, 203)\",\"rgb(159, 85, 90)\",\"rgb(29, 170, 225)\",\"rgb(133, 93, 149)\",\"rgb(222, 0, 149)\",\"rgb(94, 155, 46)\",\"rgb(103, 36, 132)\",\"rgb(177, 232, 165)\",\"rgb(63, 73, 236)\",\"rgb(226, 222, 183)\",\"rgb(106, 155, 142)\",\"rgb(135, 170, 33)\",\"rgb(8, 13, 247)\",\"rgb(253, 64, 109)\",\"rgb(160, 119, 17)\",\"rgb(44, 66, 213)\",\"rgb(45, 171, 80)\",\"rgb(84, 216, 251)\",\"rgb(118, 123, 61)\",\"rgb(26, 205, 226)\",\"rgb(62, 141, 126)\",\"rgb(156, 228, 54)\",\"rgb(187, 90, 203)\",\"rgb(124, 249, 102)\",\"rgb(201, 151, 145)\",\"rgb(94, 41, 232)\",\"rgb(98, 102, 157)\",\"rgb(41, 219, 87)\",\"rgb(178, 31, 152)\",\"rgb(19, 119, 108)\",\"rgb(206, 217, 48)\",\"rgb(194, 232, 183)\",\"rgb(180, 20, 6)\",\"rgb(64, 130, 228)\",\"rgb(78, 118, 248)\",\"rgb(25, 165, 29)\",\"rgb(216, 7, 99)\",\"rgb(235, 51, 192)\",\"rgb(114, 185, 160)\",\"rgb(51, 45, 128)\",\"rgb(73, 154, 131)\",\"rgb(60, 70, 145)\"]},\"name\":\"1982\",\"orientation\":\"h\",\"x\":[98593,233997,285483,305991,348643,377967,517810,562548,649901,715523,753874,825987,970347,992040,1099010,1116479,1301048,1411807,1425876,1497494,1622136,1756032,1774735,1861252,1956875,2036305,2298309,2347031,2424367,2476971,2637297,2644765,2651869,2780097,2953997,2979423,3086876,3210650,3279001,3344074,3366439,3464522,3480000,3641603,3669448,3858421,4114787,4172693,4413368,4474873,4580410,4710497,4826933,4875118,5048043,5117810,5198399,5264500,5507565,5642224,5828892,5968349,6100407,6147783,6395630,6437188,6468126,6502825,6634596,6734098,6998256,7016384,7272485,7574613,7636524,8325260,8365850,8892098,9025951,9032824,9171477,9250831,9410494,9657618,9786480,9789224,9856303,9859650,10303704,10705535,11254672,11400338,11487112,12587223,12881816,12939400,14173318,14310401,14441916,15184200,15410151,15620766,15796314,17647518,17661452,18125129,18501390,19844382,20033753,20198730,20367053,22356726,25201900,27764644,29341374,30646495,31140029,34680442,36227381,37983310,38111756,39326000,43072751,45681811,47328791,48827160,53456774,54433565,56142181,56339704,56535636,71640904,73039376,78335266,91462088,93074406,118454974,128962939,153343000,232187835,708000000,1000281000],\"y\":[\"Sao Tome and Principe\",\"Iceland\",\"Equatorial Guinea\",\"Djibouti\",\"Comoros\",\"Bahrain\",\"Reunion\",\"Montenegro\",\"Swaziland\",\"Gambia\",\"Gabon\",\"Guinea-Bissau\",\"Botswana\",\"Mauritius\",\"Namibia\",\"Trinidad and Tobago\",\"Oman\",\"Lesotho\",\"West Bank and Gaza\",\"Kuwait\",\"Mauritania\",\"Mongolia\",\"Congo, Rep.\",\"Slovenia\",\"Liberia\",\"Panama\",\"Jamaica\",\"Jordan\",\"Costa Rica\",\"Central African Republic\",\"Eritrea\",\"Togo\",\"Singapore\",\"Albania\",\"Uruguay\",\"Nicaragua\",\"Lebanon\",\"New Zealand\",\"Puerto Rico\",\"Libya\",\"Paraguay\",\"Sierra Leone\",\"Ireland\",\"Benin\",\"Honduras\",\"Israel\",\"Norway\",\"Bosnia and Herzegovina\",\"Croatia\",\"El Salvador\",\"Burundi\",\"Guinea\",\"Finland\",\"Chad\",\"Slovak Republic\",\"Denmark\",\"Haiti\",\"Hong Kong, China\",\"Rwanda\",\"Bolivia\",\"Somalia\",\"Dominican Republic\",\"Zambia\",\"Senegal\",\"Guatemala\",\"Niger\",\"Switzerland\",\"Malawi\",\"Burkina Faso\",\"Tunisia\",\"Mali\",\"Angola\",\"Cambodia\",\"Austria\",\"Zimbabwe\",\"Sweden\",\"Ecuador\",\"Bulgaria\",\"Cote d'Ivoire\",\"Serbia\",\"Madagascar\",\"Cameroon\",\"Syria\",\"Yemen, Rep.\",\"Greece\",\"Cuba\",\"Belgium\",\"Portugal\",\"Czech Republic\",\"Hungary\",\"Saudi Arabia\",\"Ghana\",\"Chile\",\"Mozambique\",\"Afghanistan\",\"Uganda\",\"Iraq\",\"Netherlands\",\"Malaysia\",\"Australia\",\"Sri Lanka\",\"Venezuela\",\"Nepal\",\"Korea, Dem. Rep.\",\"Kenya\",\"Peru\",\"Taiwan\",\"Tanzania\",\"Algeria\",\"Morocco\",\"Sudan\",\"Romania\",\"Canada\",\"Colombia\",\"Argentina\",\"Congo, Dem. Rep.\",\"South Africa\",\"Myanmar\",\"Poland\",\"Spain\",\"Ethiopia\",\"Korea, Rep.\",\"Iran\",\"Egypt\",\"Turkey\",\"Thailand\",\"Philippines\",\"France\",\"Vietnam\",\"United Kingdom\",\"Italy\",\"Mexico\",\"Nigeria\",\"Germany\",\"Pakistan\",\"Bangladesh\",\"Japan\",\"Brazil\",\"Indonesia\",\"United States\",\"India\",\"China\"],\"type\":\"bar\"},{\"marker\":{\"color\":[\"rgb(226, 23, 105)\",\"rgb(228, 170, 225)\",\"rgb(200, 80, 65)\",\"rgb(241, 28, 62)\",\"rgb(20, 245, 226)\",\"rgb(228, 43, 212)\",\"rgb(140, 134, 132)\",\"rgb(160, 78, 19)\",\"rgb(181, 211, 242)\",\"rgb(151, 20, 12)\",\"rgb(125, 239, 65)\",\"rgb(155, 34, 57)\",\"rgb(186, 158, 218)\",\"rgb(88, 51, 168)\",\"rgb(224, 47, 165)\",\"rgb(168, 220, 118)\",\"rgb(224, 27, 238)\",\"rgb(117, 207, 105)\",\"rgb(234, 86, 108)\",\"rgb(109, 158, 163)\",\"rgb(132, 206, 236)\",\"rgb(205, 2, 222)\",\"rgb(22, 151, 96)\",\"rgb(219, 29, 56)\",\"rgb(158, 176, 210)\",\"rgb(159, 145, 19)\",\"rgb(76, 181, 51)\",\"rgb(140, 154, 46)\",\"rgb(120, 242, 206)\",\"rgb(245, 114, 246)\",\"rgb(243, 5, 191)\",\"rgb(15, 69, 183)\",\"rgb(41, 229, 250)\",\"rgb(23, 10, 213)\",\"rgb(40, 153, 103)\",\"rgb(55, 231, 131)\",\"rgb(37, 16, 125)\",\"rgb(54, 54, 219)\",\"rgb(2, 163, 0)\",\"rgb(222, 5, 24)\",\"rgb(234, 224, 251)\",\"rgb(71, 129, 175)\",\"rgb(24, 175, 142)\",\"rgb(61, 148, 101)\",\"rgb(181, 13, 68)\",\"rgb(119, 0, 143)\",\"rgb(39, 86, 255)\",\"rgb(171, 105, 35)\",\"rgb(146, 200, 84)\",\"rgb(150, 125, 212)\",\"rgb(235, 235, 188)\",\"rgb(115, 219, 219)\",\"rgb(177, 32, 137)\",\"rgb(18, 246, 14)\",\"rgb(177, 155, 212)\",\"rgb(101, 141, 253)\",\"rgb(181, 20, 35)\",\"rgb(208, 90, 9)\",\"rgb(176, 146, 85)\",\"rgb(196, 230, 71)\",\"rgb(7, 64, 108)\",\"rgb(103, 53, 151)\",\"rgb(140, 87, 144)\",\"rgb(102, 171, 79)\",\"rgb(176, 166, 181)\",\"rgb(10, 45, 127)\",\"rgb(86, 4, 212)\",\"rgb(216, 159, 197)\",\"rgb(32, 83, 38)\",\"rgb(127, 218, 147)\",\"rgb(205, 160, 234)\",\"rgb(30, 225, 136)\",\"rgb(44, 17, 37)\",\"rgb(3, 145, 133)\",\"rgb(199, 101, 208)\",\"rgb(189, 229, 65)\",\"rgb(81, 106, 187)\",\"rgb(180, 29, 180)\",\"rgb(133, 54, 152)\",\"rgb(190, 42, 67)\",\"rgb(111, 27, 92)\",\"rgb(200, 164, 80)\",\"rgb(178, 120, 170)\",\"rgb(188, 184, 222)\",\"rgb(89, 242, 115)\",\"rgb(232, 237, 134)\",\"rgb(166, 166, 174)\",\"rgb(73, 8, 231)\",\"rgb(243, 151, 217)\",\"rgb(79, 117, 45)\",\"rgb(146, 7, 173)\",\"rgb(183, 104, 58)\",\"rgb(95, 88, 46)\",\"rgb(99, 58, 33)\",\"rgb(13, 142, 46)\",\"rgb(231, 62, 56)\",\"rgb(213, 143, 38)\",\"rgb(175, 41, 81)\",\"rgb(23, 95, 155)\",\"rgb(137, 13, 203)\",\"rgb(165, 136, 21)\",\"rgb(159, 85, 90)\",\"rgb(29, 170, 225)\",\"rgb(133, 93, 149)\",\"rgb(103, 36, 132)\",\"rgb(94, 155, 46)\",\"rgb(222, 0, 149)\",\"rgb(135, 170, 33)\",\"rgb(226, 222, 183)\",\"rgb(177, 232, 165)\",\"rgb(63, 73, 236)\",\"rgb(106, 155, 142)\",\"rgb(8, 13, 247)\",\"rgb(253, 64, 109)\",\"rgb(160, 119, 17)\",\"rgb(44, 66, 213)\",\"rgb(45, 171, 80)\",\"rgb(118, 123, 61)\",\"rgb(84, 216, 251)\",\"rgb(26, 205, 226)\",\"rgb(156, 228, 54)\",\"rgb(62, 141, 126)\",\"rgb(187, 90, 203)\",\"rgb(124, 249, 102)\",\"rgb(201, 151, 145)\",\"rgb(94, 41, 232)\",\"rgb(41, 219, 87)\",\"rgb(206, 217, 48)\",\"rgb(19, 119, 108)\",\"rgb(98, 102, 157)\",\"rgb(178, 31, 152)\",\"rgb(64, 130, 228)\",\"rgb(194, 232, 183)\",\"rgb(180, 20, 6)\",\"rgb(25, 165, 29)\",\"rgb(78, 118, 248)\",\"rgb(216, 7, 99)\",\"rgb(235, 51, 192)\",\"rgb(114, 185, 160)\",\"rgb(51, 45, 128)\",\"rgb(73, 154, 131)\",\"rgb(60, 70, 145)\"]},\"name\":\"1987\",\"orientation\":\"h\",\"x\":[110812,244676,311025,341244,395114,454612,562035,569473,779348,848406,880397,927524,1042663,1151184,1191336,1278184,1593882,1599200,1691210,1841240,1891487,1945870,2015133,2064095,2253639,2269414,2326606,2794552,2799811,2820042,2840009,2915959,3045153,3075321,3089353,3154264,3317166,3344353,3444468,3539900,3799845,3868905,3886512,4186147,4203148,4243788,4338977,4372203,4484310,4842194,4931729,5126023,5127024,5199318,5498955,5584510,5650262,5756203,6156369,6349365,6649942,6655297,6921858,7171347,7272406,7326406,7332638,7578903,7586551,7634008,7724976,7824747,7874230,8371791,8421403,8971958,9216418,9230783,9545158,9870200,9915289,9974490,10239839,10311597,10568642,10612740,10761098,10780667,11219340,11242847,12463354,12891952,13867957,14168101,14619745,14665278,15283050,16257249,16331785,16495304,16543189,17910182,17917180,19067554,19757799,20195924,21198082,22686371,22987397,23040630,23254956,24725960,26549700,30964245,31620918,35481645,35933379,37740710,38028578,38880702,41622000,42999530,51889696,52799062,52881328,52910342,55630100,56729703,56981620,60017788,62826491,77718298,80122492,81551520,103764241,105186881,122091325,142938076,169276000,242803533,788000000,1084035000],\"y\":[\"Sao Tome and Principe\",\"Iceland\",\"Djibouti\",\"Equatorial Guinea\",\"Comoros\",\"Bahrain\",\"Reunion\",\"Montenegro\",\"Swaziland\",\"Gambia\",\"Gabon\",\"Guinea-Bissau\",\"Mauritius\",\"Botswana\",\"Trinidad and Tobago\",\"Namibia\",\"Oman\",\"Lesotho\",\"West Bank and Gaza\",\"Mauritania\",\"Kuwait\",\"Slovenia\",\"Mongolia\",\"Congo, Rep.\",\"Panama\",\"Liberia\",\"Jamaica\",\"Singapore\",\"Costa Rica\",\"Jordan\",\"Central African Republic\",\"Eritrea\",\"Uruguay\",\"Albania\",\"Lebanon\",\"Togo\",\"New Zealand\",\"Nicaragua\",\"Puerto Rico\",\"Ireland\",\"Libya\",\"Sierra Leone\",\"Paraguay\",\"Norway\",\"Israel\",\"Benin\",\"Bosnia and Herzegovina\",\"Honduras\",\"Croatia\",\"El Salvador\",\"Finland\",\"Burundi\",\"Denmark\",\"Slovak Republic\",\"Chad\",\"Hong Kong, China\",\"Guinea\",\"Haiti\",\"Bolivia\",\"Rwanda\",\"Switzerland\",\"Dominican Republic\",\"Somalia\",\"Senegal\",\"Zambia\",\"Guatemala\",\"Niger\",\"Austria\",\"Burkina Faso\",\"Mali\",\"Tunisia\",\"Malawi\",\"Angola\",\"Cambodia\",\"Sweden\",\"Bulgaria\",\"Zimbabwe\",\"Serbia\",\"Ecuador\",\"Belgium\",\"Portugal\",\"Greece\",\"Cuba\",\"Czech Republic\",\"Madagascar\",\"Hungary\",\"Cote d'Ivoire\",\"Cameroon\",\"Yemen, Rep.\",\"Syria\",\"Chile\",\"Mozambique\",\"Afghanistan\",\"Ghana\",\"Saudi Arabia\",\"Netherlands\",\"Uganda\",\"Australia\",\"Malaysia\",\"Sri Lanka\",\"Iraq\",\"Venezuela\",\"Nepal\",\"Korea, Dem. Rep.\",\"Taiwan\",\"Peru\",\"Kenya\",\"Romania\",\"Morocco\",\"Tanzania\",\"Algeria\",\"Sudan\",\"Canada\",\"Colombia\",\"Argentina\",\"Congo, Dem. Rep.\",\"South Africa\",\"Poland\",\"Myanmar\",\"Spain\",\"Korea, Rep.\",\"Ethiopia\",\"Iran\",\"Egypt\",\"Turkey\",\"Thailand\",\"France\",\"Italy\",\"United Kingdom\",\"Philippines\",\"Vietnam\",\"Germany\",\"Mexico\",\"Nigeria\",\"Bangladesh\",\"Pakistan\",\"Japan\",\"Brazil\",\"Indonesia\",\"United States\",\"India\",\"China\"],\"type\":\"bar\"},{\"marker\":{\"color\":[\"rgb(226, 23, 105)\",\"rgb(228, 170, 225)\",\"rgb(200, 80, 65)\",\"rgb(241, 28, 62)\",\"rgb(20, 245, 226)\",\"rgb(228, 43, 212)\",\"rgb(160, 78, 19)\",\"rgb(140, 134, 132)\",\"rgb(181, 211, 242)\",\"rgb(125, 239, 65)\",\"rgb(151, 20, 12)\",\"rgb(155, 34, 57)\",\"rgb(186, 158, 218)\",\"rgb(224, 47, 165)\",\"rgb(88, 51, 168)\",\"rgb(132, 206, 236)\",\"rgb(168, 220, 118)\",\"rgb(117, 207, 105)\",\"rgb(159, 145, 19)\",\"rgb(224, 27, 238)\",\"rgb(205, 2, 222)\",\"rgb(234, 86, 108)\",\"rgb(109, 158, 163)\",\"rgb(22, 151, 96)\",\"rgb(76, 181, 51)\",\"rgb(219, 29, 56)\",\"rgb(158, 176, 210)\",\"rgb(41, 229, 250)\",\"rgb(120, 242, 206)\",\"rgb(40, 153, 103)\",\"rgb(140, 154, 46)\",\"rgb(243, 5, 191)\",\"rgb(23, 10, 213)\",\"rgb(37, 16, 125)\",\"rgb(222, 5, 24)\",\"rgb(2, 163, 0)\",\"rgb(15, 69, 183)\",\"rgb(55, 231, 131)\",\"rgb(245, 114, 246)\",\"rgb(54, 54, 219)\",\"rgb(39, 86, 255)\",\"rgb(71, 129, 175)\",\"rgb(61, 148, 101)\",\"rgb(234, 224, 251)\",\"rgb(24, 175, 142)\",\"rgb(146, 200, 84)\",\"rgb(181, 13, 68)\",\"rgb(119, 0, 143)\",\"rgb(235, 235, 188)\",\"rgb(171, 105, 35)\",\"rgb(177, 32, 137)\",\"rgb(150, 125, 212)\",\"rgb(18, 246, 14)\",\"rgb(115, 219, 219)\",\"rgb(101, 141, 253)\",\"rgb(140, 87, 144)\",\"rgb(208, 90, 9)\",\"rgb(177, 155, 212)\",\"rgb(176, 146, 85)\",\"rgb(181, 20, 35)\",\"rgb(7, 64, 108)\",\"rgb(196, 230, 71)\",\"rgb(103, 53, 151)\",\"rgb(216, 159, 197)\",\"rgb(102, 171, 79)\",\"rgb(176, 166, 181)\",\"rgb(86, 4, 212)\",\"rgb(127, 218, 147)\",\"rgb(10, 45, 127)\",\"rgb(205, 160, 234)\",\"rgb(189, 229, 65)\",\"rgb(199, 101, 208)\",\"rgb(44, 17, 37)\",\"rgb(32, 83, 38)\",\"rgb(180, 29, 180)\",\"rgb(111, 27, 92)\",\"rgb(30, 225, 136)\",\"rgb(190, 42, 67)\",\"rgb(3, 145, 133)\",\"rgb(188, 184, 222)\",\"rgb(200, 164, 80)\",\"rgb(232, 237, 134)\",\"rgb(81, 106, 187)\",\"rgb(178, 120, 170)\",\"rgb(133, 54, 152)\",\"rgb(89, 242, 115)\",\"rgb(73, 8, 231)\",\"rgb(166, 166, 174)\",\"rgb(183, 104, 58)\",\"rgb(79, 117, 45)\",\"rgb(243, 151, 217)\",\"rgb(146, 7, 173)\",\"rgb(231, 62, 56)\",\"rgb(99, 58, 33)\",\"rgb(95, 88, 46)\",\"rgb(13, 142, 46)\",\"rgb(175, 41, 81)\",\"rgb(137, 13, 203)\",\"rgb(165, 136, 21)\",\"rgb(213, 143, 38)\",\"rgb(23, 95, 155)\",\"rgb(159, 85, 90)\",\"rgb(29, 170, 225)\",\"rgb(103, 36, 132)\",\"rgb(133, 93, 149)\",\"rgb(94, 155, 46)\",\"rgb(135, 170, 33)\",\"rgb(222, 0, 149)\",\"rgb(226, 222, 183)\",\"rgb(63, 73, 236)\",\"rgb(177, 232, 165)\",\"rgb(106, 155, 142)\",\"rgb(8, 13, 247)\",\"rgb(160, 119, 17)\",\"rgb(253, 64, 109)\",\"rgb(118, 123, 61)\",\"rgb(26, 205, 226)\",\"rgb(45, 171, 80)\",\"rgb(84, 216, 251)\",\"rgb(44, 66, 213)\",\"rgb(156, 228, 54)\",\"rgb(62, 141, 126)\",\"rgb(94, 41, 232)\",\"rgb(206, 217, 48)\",\"rgb(41, 219, 87)\",\"rgb(19, 119, 108)\",\"rgb(201, 151, 145)\",\"rgb(124, 249, 102)\",\"rgb(187, 90, 203)\",\"rgb(98, 102, 157)\",\"rgb(178, 31, 152)\",\"rgb(64, 130, 228)\",\"rgb(194, 232, 183)\",\"rgb(180, 20, 6)\",\"rgb(25, 165, 29)\",\"rgb(78, 118, 248)\",\"rgb(216, 7, 99)\",\"rgb(235, 51, 192)\",\"rgb(114, 185, 160)\",\"rgb(51, 45, 128)\",\"rgb(73, 154, 131)\",\"rgb(60, 70, 145)\"]},\"name\":\"1992\",\"orientation\":\"h\",\"x\":[125911,259012,384156,387838,454429,529491,621621,622191,962344,985739,1025384,1050938,1096202,1183669,1342614,1418095,1554253,1803195,1912974,1915208,1999210,2104779,2119465,2312802,2378618,2409073,2484997,3149262,3173216,3219994,3235865,3265124,3326498,3437674,3557761,3585176,3668440,3747553,3867409,4017939,4256013,4260884,4286357,4364501,4483945,4494013,4936550,4981671,5041039,5077347,5171393,5274649,5302888,5809236,5829696,6099799,6326682,6429417,6893451,6990574,6995447,7290203,7351181,7914969,8307920,8381163,8392818,8416215,8486949,8523077,8658506,8718867,8735988,8878303,9826397,9927680,10014249,10045622,10150094,10315702,10325429,10348684,10704340,10723260,10748394,12210395,12467171,12772596,13160731,13219062,13367997,13572994,15174244,16278738,16317921,16945857,17481977,17587060,17861905,18252190,18319502,20265563,20326209,20686918,20711375,22430449,22797027,25020539,25798239,26298373,26605473,28227588,28523502,33958947,34202721,38370697,39549438,39964159,40546538,41672143,43805450,52088559,56667095,56840847,57374179,57866349,58179144,59402198,60397973,67185766,69940728,80597764,88111030,93364244,113704579,120065004,124329269,155975974,184816000,256894189,872000000,1164970000],\"y\":[\"Sao Tome and Principe\",\"Iceland\",\"Djibouti\",\"Equatorial Guinea\",\"Comoros\",\"Bahrain\",\"Montenegro\",\"Reunion\",\"Swaziland\",\"Gabon\",\"Gambia\",\"Guinea-Bissau\",\"Mauritius\",\"Trinidad and Tobago\",\"Botswana\",\"Kuwait\",\"Namibia\",\"Lesotho\",\"Liberia\",\"Oman\",\"Slovenia\",\"West Bank and Gaza\",\"Mauritania\",\"Mongolia\",\"Jamaica\",\"Congo, Rep.\",\"Panama\",\"Uruguay\",\"Costa Rica\",\"Lebanon\",\"Singapore\",\"Central African Republic\",\"Albania\",\"New Zealand\",\"Ireland\",\"Puerto Rico\",\"Eritrea\",\"Togo\",\"Jordan\",\"Nicaragua\",\"Bosnia and Herzegovina\",\"Sierra Leone\",\"Norway\",\"Libya\",\"Paraguay\",\"Croatia\",\"Israel\",\"Benin\",\"Finland\",\"Honduras\",\"Denmark\",\"El Salvador\",\"Slovak Republic\",\"Burundi\",\"Hong Kong, China\",\"Somalia\",\"Haiti\",\"Chad\",\"Bolivia\",\"Guinea\",\"Switzerland\",\"Rwanda\",\"Dominican Republic\",\"Austria\",\"Senegal\",\"Zambia\",\"Niger\",\"Mali\",\"Guatemala\",\"Tunisia\",\"Bulgaria\",\"Sweden\",\"Angola\",\"Burkina Faso\",\"Serbia\",\"Portugal\",\"Malawi\",\"Belgium\",\"Cambodia\",\"Czech Republic\",\"Greece\",\"Hungary\",\"Zimbabwe\",\"Cuba\",\"Ecuador\",\"Madagascar\",\"Cameroon\",\"Cote d'Ivoire\",\"Mozambique\",\"Syria\",\"Yemen, Rep.\",\"Chile\",\"Netherlands\",\"Ghana\",\"Afghanistan\",\"Saudi Arabia\",\"Australia\",\"Sri Lanka\",\"Iraq\",\"Uganda\",\"Malaysia\",\"Venezuela\",\"Nepal\",\"Taiwan\",\"Korea, Dem. Rep.\",\"Peru\",\"Romania\",\"Kenya\",\"Morocco\",\"Algeria\",\"Tanzania\",\"Sudan\",\"Canada\",\"Argentina\",\"Colombia\",\"Poland\",\"Spain\",\"South Africa\",\"Myanmar\",\"Congo, Dem. Rep.\",\"Korea, Rep.\",\"Ethiopia\",\"Thailand\",\"Italy\",\"France\",\"United Kingdom\",\"Turkey\",\"Egypt\",\"Iran\",\"Philippines\",\"Vietnam\",\"Germany\",\"Mexico\",\"Nigeria\",\"Bangladesh\",\"Pakistan\",\"Japan\",\"Brazil\",\"Indonesia\",\"United States\",\"India\",\"China\"],\"type\":\"bar\"},{\"marker\":{\"color\":[\"rgb(226, 23, 105)\",\"rgb(228, 170, 225)\",\"rgb(200, 80, 65)\",\"rgb(241, 28, 62)\",\"rgb(20, 245, 226)\",\"rgb(228, 43, 212)\",\"rgb(140, 134, 132)\",\"rgb(160, 78, 19)\",\"rgb(181, 211, 242)\",\"rgb(125, 239, 65)\",\"rgb(224, 47, 165)\",\"rgb(186, 158, 218)\",\"rgb(155, 34, 57)\",\"rgb(151, 20, 12)\",\"rgb(88, 51, 168)\",\"rgb(132, 206, 236)\",\"rgb(168, 220, 118)\",\"rgb(117, 207, 105)\",\"rgb(205, 2, 222)\",\"rgb(159, 145, 19)\",\"rgb(224, 27, 238)\",\"rgb(109, 158, 163)\",\"rgb(22, 151, 96)\",\"rgb(76, 181, 51)\",\"rgb(158, 176, 210)\",\"rgb(219, 29, 56)\",\"rgb(234, 86, 108)\",\"rgb(41, 229, 250)\",\"rgb(23, 10, 213)\",\"rgb(40, 153, 103)\",\"rgb(120, 242, 206)\",\"rgb(39, 86, 255)\",\"rgb(222, 5, 24)\",\"rgb(37, 16, 125)\",\"rgb(243, 5, 191)\",\"rgb(2, 163, 0)\",\"rgb(140, 154, 46)\",\"rgb(15, 69, 183)\",\"rgb(55, 231, 131)\",\"rgb(61, 148, 101)\",\"rgb(146, 200, 84)\",\"rgb(245, 114, 246)\",\"rgb(71, 129, 175)\",\"rgb(54, 54, 219)\",\"rgb(234, 224, 251)\",\"rgb(235, 235, 188)\",\"rgb(24, 175, 142)\",\"rgb(177, 32, 137)\",\"rgb(18, 246, 14)\",\"rgb(181, 13, 68)\",\"rgb(150, 125, 212)\",\"rgb(171, 105, 35)\",\"rgb(119, 0, 143)\",\"rgb(115, 219, 219)\",\"rgb(101, 141, 253)\",\"rgb(140, 87, 144)\",\"rgb(208, 90, 9)\",\"rgb(7, 64, 108)\",\"rgb(196, 230, 71)\",\"rgb(177, 155, 212)\",\"rgb(176, 146, 85)\",\"rgb(103, 53, 151)\",\"rgb(181, 20, 35)\",\"rgb(189, 229, 65)\",\"rgb(216, 159, 197)\",\"rgb(199, 101, 208)\",\"rgb(205, 160, 234)\",\"rgb(127, 218, 147)\",\"rgb(176, 166, 181)\",\"rgb(102, 171, 79)\",\"rgb(86, 4, 212)\",\"rgb(10, 45, 127)\",\"rgb(44, 17, 37)\",\"rgb(111, 27, 92)\",\"rgb(190, 42, 67)\",\"rgb(232, 237, 134)\",\"rgb(188, 184, 222)\",\"rgb(180, 29, 180)\",\"rgb(32, 83, 38)\",\"rgb(30, 225, 136)\",\"rgb(200, 164, 80)\",\"rgb(178, 120, 170)\",\"rgb(81, 106, 187)\",\"rgb(3, 145, 133)\",\"rgb(133, 54, 152)\",\"rgb(89, 242, 115)\",\"rgb(73, 8, 231)\",\"rgb(146, 7, 173)\",\"rgb(166, 166, 174)\",\"rgb(79, 117, 45)\",\"rgb(231, 62, 56)\",\"rgb(243, 151, 217)\",\"rgb(183, 104, 58)\",\"rgb(99, 58, 33)\",\"rgb(175, 41, 81)\",\"rgb(137, 13, 203)\",\"rgb(23, 95, 155)\",\"rgb(165, 136, 21)\",\"rgb(213, 143, 38)\",\"rgb(13, 142, 46)\",\"rgb(133, 93, 149)\",\"rgb(103, 36, 132)\",\"rgb(95, 88, 46)\",\"rgb(159, 85, 90)\",\"rgb(135, 170, 33)\",\"rgb(29, 170, 225)\",\"rgb(94, 155, 46)\",\"rgb(222, 0, 149)\",\"rgb(226, 222, 183)\",\"rgb(63, 73, 236)\",\"rgb(8, 13, 247)\",\"rgb(177, 232, 165)\",\"rgb(106, 155, 142)\",\"rgb(160, 119, 17)\",\"rgb(253, 64, 109)\",\"rgb(118, 123, 61)\",\"rgb(26, 205, 226)\",\"rgb(45, 171, 80)\",\"rgb(84, 216, 251)\",\"rgb(156, 228, 54)\",\"rgb(44, 66, 213)\",\"rgb(206, 217, 48)\",\"rgb(41, 219, 87)\",\"rgb(19, 119, 108)\",\"rgb(62, 141, 126)\",\"rgb(94, 41, 232)\",\"rgb(201, 151, 145)\",\"rgb(187, 90, 203)\",\"rgb(124, 249, 102)\",\"rgb(98, 102, 157)\",\"rgb(178, 31, 152)\",\"rgb(64, 130, 228)\",\"rgb(194, 232, 183)\",\"rgb(180, 20, 6)\",\"rgb(25, 165, 29)\",\"rgb(216, 7, 99)\",\"rgb(78, 118, 248)\",\"rgb(235, 51, 192)\",\"rgb(114, 185, 160)\",\"rgb(51, 45, 128)\",\"rgb(73, 154, 131)\",\"rgb(60, 70, 145)\"]},\"name\":\"1997\",\"orientation\":\"h\",\"x\":[145608,271192,417908,439971,527982,598561,684810,692651,1054486,1126189,1138101,1149818,1193708,1235767,1536536,1765345,1774766,1982823,2011612,2200725,2283635,2444741,2494803,2531311,2734531,2800947,2826046,3262838,3428038,3430388,3518107,3607000,3667233,3676187,3696513,3759430,3802309,4058319,4320890,4405672,4444595,4526235,4578212,4609572,4759670,5134406,5154123,5283663,5383010,5531387,5783439,5867957,6066080,6121610,6495918,6633514,6913545,7193761,7212583,7562011,7693188,7992357,8048834,8066057,8069876,8897619,9231669,9384984,9417789,9535314,9666252,9803875,9875024,10156415,10199787,10244684,10300707,10336594,10352843,10419991,10502372,10983007,11404948,11782962,11911819,14165114,14195809,14599929,14625967,15081016,15604464,15826497,16603334,18418288,18565243,18698655,20476091,20775703,21210254,21229759,21585105,21628605,22227415,22374398,22562458,23001113,24748122,28263827,28529501,29072015,30305843,30686889,32160729,36203463,37657830,38654957,39855442,42835005,43247867,46173816,47798986,57479469,58623428,58808266,59861301,60216677,63047647,63327987,66134291,75012988,76048996,82011073,95895146,106207839,123315288,125956499,135564834,168546719,199278000,272911760,959000000,1230075000],\"y\":[\"Sao Tome and Principe\",\"Iceland\",\"Djibouti\",\"Equatorial Guinea\",\"Comoros\",\"Bahrain\",\"Reunion\",\"Montenegro\",\"Swaziland\",\"Gabon\",\"Trinidad and Tobago\",\"Mauritius\",\"Guinea-Bissau\",\"Gambia\",\"Botswana\",\"Kuwait\",\"Namibia\",\"Lesotho\",\"Slovenia\",\"Liberia\",\"Oman\",\"Mauritania\",\"Mongolia\",\"Jamaica\",\"Panama\",\"Congo, Rep.\",\"West Bank and Gaza\",\"Uruguay\",\"Albania\",\"Lebanon\",\"Costa Rica\",\"Bosnia and Herzegovina\",\"Ireland\",\"New Zealand\",\"Central African Republic\",\"Puerto Rico\",\"Singapore\",\"Eritrea\",\"Togo\",\"Norway\",\"Croatia\",\"Jordan\",\"Sierra Leone\",\"Nicaragua\",\"Libya\",\"Finland\",\"Paraguay\",\"Denmark\",\"Slovak Republic\",\"Israel\",\"El Salvador\",\"Honduras\",\"Benin\",\"Burundi\",\"Hong Kong, China\",\"Somalia\",\"Haiti\",\"Switzerland\",\"Rwanda\",\"Chad\",\"Bolivia\",\"Dominican Republic\",\"Guinea\",\"Bulgaria\",\"Austria\",\"Sweden\",\"Tunisia\",\"Mali\",\"Zambia\",\"Senegal\",\"Niger\",\"Guatemala\",\"Angola\",\"Portugal\",\"Belgium\",\"Hungary\",\"Czech Republic\",\"Serbia\",\"Burkina Faso\",\"Malawi\",\"Greece\",\"Cuba\",\"Zimbabwe\",\"Cambodia\",\"Ecuador\",\"Madagascar\",\"Cameroon\",\"Chile\",\"Cote d'Ivoire\",\"Syria\",\"Netherlands\",\"Yemen, Rep.\",\"Mozambique\",\"Ghana\",\"Australia\",\"Sri Lanka\",\"Malaysia\",\"Iraq\",\"Uganda\",\"Saudi Arabia\",\"Korea, Dem. Rep.\",\"Taiwan\",\"Afghanistan\",\"Venezuela\",\"Romania\",\"Nepal\",\"Peru\",\"Kenya\",\"Morocco\",\"Algeria\",\"Canada\",\"Tanzania\",\"Sudan\",\"Argentina\",\"Colombia\",\"Poland\",\"Spain\",\"South Africa\",\"Myanmar\",\"Korea, Rep.\",\"Congo, Dem. Rep.\",\"Italy\",\"France\",\"United Kingdom\",\"Ethiopia\",\"Thailand\",\"Turkey\",\"Iran\",\"Egypt\",\"Philippines\",\"Vietnam\",\"Germany\",\"Mexico\",\"Nigeria\",\"Bangladesh\",\"Japan\",\"Pakistan\",\"Brazil\",\"Indonesia\",\"United States\",\"India\",\"China\"],\"type\":\"bar\"},{\"marker\":{\"color\":[\"rgb(226, 23, 105)\",\"rgb(228, 170, 225)\",\"rgb(200, 80, 65)\",\"rgb(241, 28, 62)\",\"rgb(20, 245, 226)\",\"rgb(228, 43, 212)\",\"rgb(160, 78, 19)\",\"rgb(140, 134, 132)\",\"rgb(224, 47, 165)\",\"rgb(181, 211, 242)\",\"rgb(186, 158, 218)\",\"rgb(125, 239, 65)\",\"rgb(155, 34, 57)\",\"rgb(151, 20, 12)\",\"rgb(88, 51, 168)\",\"rgb(168, 220, 118)\",\"rgb(205, 2, 222)\",\"rgb(117, 207, 105)\",\"rgb(132, 206, 236)\",\"rgb(76, 181, 51)\",\"rgb(22, 151, 96)\",\"rgb(224, 27, 238)\",\"rgb(159, 145, 19)\",\"rgb(109, 158, 163)\",\"rgb(158, 176, 210)\",\"rgb(219, 29, 56)\",\"rgb(41, 229, 250)\",\"rgb(234, 86, 108)\",\"rgb(23, 10, 213)\",\"rgb(40, 153, 103)\",\"rgb(120, 242, 206)\",\"rgb(2, 163, 0)\",\"rgb(222, 5, 24)\",\"rgb(37, 16, 125)\",\"rgb(243, 5, 191)\",\"rgb(39, 86, 255)\",\"rgb(140, 154, 46)\",\"rgb(15, 69, 183)\",\"rgb(146, 200, 84)\",\"rgb(61, 148, 101)\",\"rgb(55, 231, 131)\",\"rgb(54, 54, 219)\",\"rgb(235, 235, 188)\",\"rgb(245, 114, 246)\",\"rgb(71, 129, 175)\",\"rgb(234, 224, 251)\",\"rgb(177, 32, 137)\",\"rgb(18, 246, 14)\",\"rgb(24, 175, 142)\",\"rgb(181, 13, 68)\",\"rgb(150, 125, 212)\",\"rgb(171, 105, 35)\",\"rgb(101, 141, 253)\",\"rgb(115, 219, 219)\",\"rgb(119, 0, 143)\",\"rgb(7, 64, 108)\",\"rgb(208, 90, 9)\",\"rgb(189, 229, 65)\",\"rgb(140, 87, 144)\",\"rgb(196, 230, 71)\",\"rgb(216, 159, 197)\",\"rgb(176, 146, 85)\",\"rgb(103, 53, 151)\",\"rgb(181, 20, 35)\",\"rgb(177, 155, 212)\",\"rgb(199, 101, 208)\",\"rgb(205, 160, 234)\",\"rgb(232, 237, 134)\",\"rgb(180, 29, 180)\",\"rgb(188, 184, 222)\",\"rgb(190, 42, 67)\",\"rgb(111, 27, 92)\",\"rgb(127, 218, 147)\",\"rgb(176, 166, 181)\",\"rgb(200, 164, 80)\",\"rgb(44, 17, 37)\",\"rgb(102, 171, 79)\",\"rgb(86, 4, 212)\",\"rgb(10, 45, 127)\",\"rgb(178, 120, 170)\",\"rgb(30, 225, 136)\",\"rgb(81, 106, 187)\",\"rgb(32, 83, 38)\",\"rgb(133, 54, 152)\",\"rgb(3, 145, 133)\",\"rgb(146, 7, 173)\",\"rgb(73, 8, 231)\",\"rgb(231, 62, 56)\",\"rgb(166, 166, 174)\",\"rgb(89, 242, 115)\",\"rgb(79, 117, 45)\",\"rgb(183, 104, 58)\",\"rgb(243, 151, 217)\",\"rgb(175, 41, 81)\",\"rgb(137, 13, 203)\",\"rgb(99, 58, 33)\",\"rgb(133, 93, 149)\",\"rgb(135, 170, 33)\",\"rgb(103, 36, 132)\",\"rgb(23, 95, 155)\",\"rgb(165, 136, 21)\",\"rgb(159, 85, 90)\",\"rgb(13, 142, 46)\",\"rgb(213, 143, 38)\",\"rgb(95, 88, 46)\",\"rgb(29, 170, 225)\",\"rgb(94, 155, 46)\",\"rgb(226, 222, 183)\",\"rgb(63, 73, 236)\",\"rgb(222, 0, 149)\",\"rgb(8, 13, 247)\",\"rgb(177, 232, 165)\",\"rgb(106, 155, 142)\",\"rgb(160, 119, 17)\",\"rgb(118, 123, 61)\",\"rgb(26, 205, 226)\",\"rgb(253, 64, 109)\",\"rgb(45, 171, 80)\",\"rgb(84, 216, 251)\",\"rgb(156, 228, 54)\",\"rgb(44, 66, 213)\",\"rgb(206, 217, 48)\",\"rgb(19, 119, 108)\",\"rgb(41, 219, 87)\",\"rgb(94, 41, 232)\",\"rgb(187, 90, 203)\",\"rgb(201, 151, 145)\",\"rgb(62, 141, 126)\",\"rgb(124, 249, 102)\",\"rgb(178, 31, 152)\",\"rgb(64, 130, 228)\",\"rgb(98, 102, 157)\",\"rgb(194, 232, 183)\",\"rgb(180, 20, 6)\",\"rgb(216, 7, 99)\",\"rgb(25, 165, 29)\",\"rgb(78, 118, 248)\",\"rgb(235, 51, 192)\",\"rgb(114, 185, 160)\",\"rgb(51, 45, 128)\",\"rgb(73, 154, 131)\",\"rgb(60, 70, 145)\"]},\"name\":\"2002\",\"orientation\":\"h\",\"x\":[170372,288030,447416,495627,614382,656397,720230,743981,1101832,1130269,1200206,1299304,1332459,1457766,1630347,1972153,2011497,2046772,2111561,2664659,2674234,2713462,2814651,2828858,2990875,3328795,3363085,3389578,3508512,3677780,3834934,3859606,3879155,3908037,4048013,4165416,4197776,4414865,4481020,4535591,4977378,5146848,5193039,5307470,5359092,5368585,5374693,5410052,5884491,6029529,6353681,6677328,6762476,7021078,7026113,7361757,7607651,7661799,7753310,7852401,8148312,8445134,8650322,8807818,8835739,8954175,9770575,10083313,10111559,10256295,10311970,10433867,10580176,10595811,10603863,10866106,10870037,11140655,11178650,11226999,11824495,11926563,12251209,12921234,12926707,15497046,15929988,16122830,16252726,16473477,17155814,18473780,18701257,19546792,19576783,20550751,22215365,22404337,22454239,22662365,24001816,24287670,24501530,24739869,25268405,25873917,26769436,31167783,31287142,31386842,31902268,34593779,37090298,38331121,38625976,40152517,41008227,44433622,45598081,47969150,55379852,57926999,59912431,59925035,62806748,66907826,67308928,67946797,73312559,80908147,82350671,82995088,102479927,119901274,127065841,135656790,153403524,179914212,211060000,287675526,1034172547,1280400000],\"y\":[\"Sao Tome and Principe\",\"Iceland\",\"Djibouti\",\"Equatorial Guinea\",\"Comoros\",\"Bahrain\",\"Montenegro\",\"Reunion\",\"Trinidad and Tobago\",\"Swaziland\",\"Mauritius\",\"Gabon\",\"Guinea-Bissau\",\"Gambia\",\"Botswana\",\"Namibia\",\"Slovenia\",\"Lesotho\",\"Kuwait\",\"Jamaica\",\"Mongolia\",\"Oman\",\"Liberia\",\"Mauritania\",\"Panama\",\"Congo, Rep.\",\"Uruguay\",\"West Bank and Gaza\",\"Albania\",\"Lebanon\",\"Costa Rica\",\"Puerto Rico\",\"Ireland\",\"New Zealand\",\"Central African Republic\",\"Bosnia and Herzegovina\",\"Singapore\",\"Eritrea\",\"Croatia\",\"Norway\",\"Togo\",\"Nicaragua\",\"Finland\",\"Jordan\",\"Sierra Leone\",\"Libya\",\"Denmark\",\"Slovak Republic\",\"Paraguay\",\"Israel\",\"El Salvador\",\"Honduras\",\"Hong Kong, China\",\"Burundi\",\"Benin\",\"Switzerland\",\"Haiti\",\"Bulgaria\",\"Somalia\",\"Rwanda\",\"Austria\",\"Bolivia\",\"Dominican Republic\",\"Guinea\",\"Chad\",\"Sweden\",\"Tunisia\",\"Hungary\",\"Serbia\",\"Czech Republic\",\"Belgium\",\"Portugal\",\"Mali\",\"Zambia\",\"Greece\",\"Angola\",\"Senegal\",\"Niger\",\"Guatemala\",\"Cuba\",\"Malawi\",\"Zimbabwe\",\"Burkina Faso\",\"Ecuador\",\"Cambodia\",\"Chile\",\"Cameroon\",\"Netherlands\",\"Cote d'Ivoire\",\"Madagascar\",\"Syria\",\"Mozambique\",\"Yemen, Rep.\",\"Australia\",\"Sri Lanka\",\"Ghana\",\"Korea, Dem. Rep.\",\"Romania\",\"Taiwan\",\"Malaysia\",\"Iraq\",\"Venezuela\",\"Saudi Arabia\",\"Uganda\",\"Afghanistan\",\"Nepal\",\"Peru\",\"Morocco\",\"Algeria\",\"Kenya\",\"Canada\",\"Tanzania\",\"Sudan\",\"Argentina\",\"Poland\",\"Spain\",\"Colombia\",\"South Africa\",\"Myanmar\",\"Korea, Rep.\",\"Congo, Dem. Rep.\",\"Italy\",\"United Kingdom\",\"France\",\"Thailand\",\"Iran\",\"Turkey\",\"Ethiopia\",\"Egypt\",\"Vietnam\",\"Germany\",\"Philippines\",\"Mexico\",\"Nigeria\",\"Japan\",\"Bangladesh\",\"Pakistan\",\"Brazil\",\"Indonesia\",\"United States\",\"India\",\"China\"],\"type\":\"bar\",\"visible\":true},{\"marker\":{\"color\":[\"rgb(226, 23, 105)\",\"rgb(228, 170, 225)\",\"rgb(200, 80, 65)\",\"rgb(241, 28, 62)\",\"rgb(160, 78, 19)\",\"rgb(228, 43, 212)\",\"rgb(20, 245, 226)\",\"rgb(140, 134, 132)\",\"rgb(224, 47, 165)\",\"rgb(181, 211, 242)\",\"rgb(186, 158, 218)\",\"rgb(125, 239, 65)\",\"rgb(155, 34, 57)\",\"rgb(88, 51, 168)\",\"rgb(151, 20, 12)\",\"rgb(205, 2, 222)\",\"rgb(117, 207, 105)\",\"rgb(168, 220, 118)\",\"rgb(132, 206, 236)\",\"rgb(76, 181, 51)\",\"rgb(22, 151, 96)\",\"rgb(159, 145, 19)\",\"rgb(224, 27, 238)\",\"rgb(158, 176, 210)\",\"rgb(109, 158, 163)\",\"rgb(41, 229, 250)\",\"rgb(23, 10, 213)\",\"rgb(219, 29, 56)\",\"rgb(40, 153, 103)\",\"rgb(2, 163, 0)\",\"rgb(234, 86, 108)\",\"rgb(222, 5, 24)\",\"rgb(37, 16, 125)\",\"rgb(120, 242, 206)\",\"rgb(243, 5, 191)\",\"rgb(146, 200, 84)\",\"rgb(39, 86, 255)\",\"rgb(140, 154, 46)\",\"rgb(61, 148, 101)\",\"rgb(15, 69, 183)\",\"rgb(235, 235, 188)\",\"rgb(18, 246, 14)\",\"rgb(177, 32, 137)\",\"rgb(54, 54, 219)\",\"rgb(55, 231, 131)\",\"rgb(234, 224, 251)\",\"rgb(245, 114, 246)\",\"rgb(71, 129, 175)\",\"rgb(181, 13, 68)\",\"rgb(24, 175, 142)\",\"rgb(150, 125, 212)\",\"rgb(101, 141, 253)\",\"rgb(189, 229, 65)\",\"rgb(171, 105, 35)\",\"rgb(7, 64, 108)\",\"rgb(119, 0, 143)\",\"rgb(216, 159, 197)\",\"rgb(115, 219, 219)\",\"rgb(208, 90, 9)\",\"rgb(196, 230, 71)\",\"rgb(199, 101, 208)\",\"rgb(140, 87, 144)\",\"rgb(176, 146, 85)\",\"rgb(103, 53, 151)\",\"rgb(181, 20, 35)\",\"rgb(232, 237, 134)\",\"rgb(180, 29, 180)\",\"rgb(188, 184, 222)\",\"rgb(177, 155, 212)\",\"rgb(205, 160, 234)\",\"rgb(190, 42, 67)\",\"rgb(111, 27, 92)\",\"rgb(200, 164, 80)\",\"rgb(178, 120, 170)\",\"rgb(176, 166, 181)\",\"rgb(127, 218, 147)\",\"rgb(102, 171, 79)\",\"rgb(81, 106, 187)\",\"rgb(44, 17, 37)\",\"rgb(10, 45, 127)\",\"rgb(86, 4, 212)\",\"rgb(30, 225, 136)\",\"rgb(133, 54, 152)\",\"rgb(3, 145, 133)\",\"rgb(32, 83, 38)\",\"rgb(146, 7, 173)\",\"rgb(231, 62, 56)\",\"rgb(73, 8, 231)\",\"rgb(166, 166, 174)\",\"rgb(89, 242, 115)\",\"rgb(79, 117, 45)\",\"rgb(183, 104, 58)\",\"rgb(137, 13, 203)\",\"rgb(175, 41, 81)\",\"rgb(243, 151, 217)\",\"rgb(135, 170, 33)\",\"rgb(99, 58, 33)\",\"rgb(103, 36, 132)\",\"rgb(133, 93, 149)\",\"rgb(23, 95, 155)\",\"rgb(159, 85, 90)\",\"rgb(165, 136, 21)\",\"rgb(13, 142, 46)\",\"rgb(94, 155, 46)\",\"rgb(29, 170, 225)\",\"rgb(213, 143, 38)\",\"rgb(95, 88, 46)\",\"rgb(63, 73, 236)\",\"rgb(8, 13, 247)\",\"rgb(226, 222, 183)\",\"rgb(222, 0, 149)\",\"rgb(177, 232, 165)\",\"rgb(118, 123, 61)\",\"rgb(160, 119, 17)\",\"rgb(26, 205, 226)\",\"rgb(106, 155, 142)\",\"rgb(45, 171, 80)\",\"rgb(253, 64, 109)\",\"rgb(84, 216, 251)\",\"rgb(156, 228, 54)\",\"rgb(206, 217, 48)\",\"rgb(19, 119, 108)\",\"rgb(41, 219, 87)\",\"rgb(44, 66, 213)\",\"rgb(94, 41, 232)\",\"rgb(187, 90, 203)\",\"rgb(201, 151, 145)\",\"rgb(62, 141, 126)\",\"rgb(124, 249, 102)\",\"rgb(64, 130, 228)\",\"rgb(178, 31, 152)\",\"rgb(98, 102, 157)\",\"rgb(194, 232, 183)\",\"rgb(216, 7, 99)\",\"rgb(180, 20, 6)\",\"rgb(25, 165, 29)\",\"rgb(78, 118, 248)\",\"rgb(235, 51, 192)\",\"rgb(114, 185, 160)\",\"rgb(51, 45, 128)\",\"rgb(73, 154, 131)\",\"rgb(60, 70, 145)\"]},\"name\":\"2007\",\"orientation\":\"h\",\"x\":[199579,301931,496374,551201,684736,708573,710960,798094,1056608,1133066,1250882,1454867,1472041,1639131,1688359,2009245,2012649,2055080,2505559,2780132,2874127,3193942,3204897,3242173,3270065,3447496,3600523,3800610,3921278,3942491,4018332,4109086,4115771,4133884,4369038,4493312,4552198,4553009,4627926,4906585,5238460,5447502,5468120,5675356,5701579,6036914,6053193,6144562,6426679,6667147,6939688,6980412,7322858,7483763,7554661,8078314,8199783,8390505,8502814,8860588,9031088,9118773,9119152,9319622,9947814,9956108,10150265,10228744,10238807,10276158,10392226,10642836,10706290,11416987,11746035,12031795,12267493,12311143,12420476,12572928,12894865,13327079,13755680,14131858,14326203,16284741,16570613,17696293,18013409,19167654,19314747,19951656,20378239,20434176,22211743,22276056,22873338,23174294,23301725,24821286,26084662,27499638,27601038,28674757,28901790,29170398,31889923,33333216,33390141,33757175,35610177,38139640,38518241,40301927,40448191,42292929,43997828,44227550,47761980,49044790,58147733,60776238,61083916,64606759,65068149,69453570,71158647,76511887,80264543,82400996,85262356,91077287,108700891,127467972,135031164,150448339,169270617,190010647,223547000,301139947,1110396331,1318683096],\"y\":[\"Sao Tome and Principe\",\"Iceland\",\"Djibouti\",\"Equatorial Guinea\",\"Montenegro\",\"Bahrain\",\"Comoros\",\"Reunion\",\"Trinidad and Tobago\",\"Swaziland\",\"Mauritius\",\"Gabon\",\"Guinea-Bissau\",\"Botswana\",\"Gambia\",\"Slovenia\",\"Lesotho\",\"Namibia\",\"Kuwait\",\"Jamaica\",\"Mongolia\",\"Liberia\",\"Oman\",\"Panama\",\"Mauritania\",\"Uruguay\",\"Albania\",\"Congo, Rep.\",\"Lebanon\",\"Puerto Rico\",\"West Bank and Gaza\",\"Ireland\",\"New Zealand\",\"Costa Rica\",\"Central African Republic\",\"Croatia\",\"Bosnia and Herzegovina\",\"Singapore\",\"Norway\",\"Eritrea\",\"Finland\",\"Slovak Republic\",\"Denmark\",\"Nicaragua\",\"Togo\",\"Libya\",\"Jordan\",\"Sierra Leone\",\"Israel\",\"Paraguay\",\"El Salvador\",\"Hong Kong, China\",\"Bulgaria\",\"Honduras\",\"Switzerland\",\"Benin\",\"Austria\",\"Burundi\",\"Haiti\",\"Rwanda\",\"Sweden\",\"Somalia\",\"Bolivia\",\"Dominican Republic\",\"Guinea\",\"Hungary\",\"Serbia\",\"Czech Republic\",\"Chad\",\"Tunisia\",\"Belgium\",\"Portugal\",\"Greece\",\"Cuba\",\"Zambia\",\"Mali\",\"Senegal\",\"Zimbabwe\",\"Angola\",\"Guatemala\",\"Niger\",\"Malawi\",\"Ecuador\",\"Cambodia\",\"Burkina Faso\",\"Chile\",\"Netherlands\",\"Cameroon\",\"Cote d'Ivoire\",\"Madagascar\",\"Syria\",\"Mozambique\",\"Sri Lanka\",\"Australia\",\"Yemen, Rep.\",\"Romania\",\"Ghana\",\"Taiwan\",\"Korea, Dem. Rep.\",\"Malaysia\",\"Venezuela\",\"Iraq\",\"Saudi Arabia\",\"Peru\",\"Nepal\",\"Uganda\",\"Afghanistan\",\"Algeria\",\"Canada\",\"Morocco\",\"Kenya\",\"Tanzania\",\"Poland\",\"Argentina\",\"Spain\",\"Sudan\",\"South Africa\",\"Colombia\",\"Myanmar\",\"Korea, Rep.\",\"Italy\",\"United Kingdom\",\"France\",\"Congo, Dem. Rep.\",\"Thailand\",\"Iran\",\"Turkey\",\"Ethiopia\",\"Egypt\",\"Germany\",\"Vietnam\",\"Philippines\",\"Mexico\",\"Japan\",\"Nigeria\",\"Bangladesh\",\"Pakistan\",\"Brazil\",\"Indonesia\",\"United States\",\"India\",\"China\"],\"type\":\"bar\"}],                        {\"template\":{\"data\":{\"histogram2dcontour\":[{\"type\":\"histogram2dcontour\",\"colorbar\":{\"outlinewidth\":0,\"ticks\":\"\"},\"colorscale\":[[0.0,\"#0d0887\"],[0.1111111111111111,\"#46039f\"],[0.2222222222222222,\"#7201a8\"],[0.3333333333333333,\"#9c179e\"],[0.4444444444444444,\"#bd3786\"],[0.5555555555555556,\"#d8576b\"],[0.6666666666666666,\"#ed7953\"],[0.7777777777777778,\"#fb9f3a\"],[0.8888888888888888,\"#fdca26\"],[1.0,\"#f0f921\"]]}],\"choropleth\":[{\"type\":\"choropleth\",\"colorbar\":{\"outlinewidth\":0,\"ticks\":\"\"}}],\"histogram2d\":[{\"type\":\"histogram2d\",\"colorbar\":{\"outlinewidth\":0,\"ticks\":\"\"},\"colorscale\":[[0.0,\"#0d0887\"],[0.1111111111111111,\"#46039f\"],[0.2222222222222222,\"#7201a8\"],[0.3333333333333333,\"#9c179e\"],[0.4444444444444444,\"#bd3786\"],[0.5555555555555556,\"#d8576b\"],[0.6666666666666666,\"#ed7953\"],[0.7777777777777778,\"#fb9f3a\"],[0.8888888888888888,\"#fdca26\"],[1.0,\"#f0f921\"]]}],\"heatmap\":[{\"type\":\"heatmap\",\"colorbar\":{\"outlinewidth\":0,\"ticks\":\"\"},\"colorscale\":[[0.0,\"#0d0887\"],[0.1111111111111111,\"#46039f\"],[0.2222222222222222,\"#7201a8\"],[0.3333333333333333,\"#9c179e\"],[0.4444444444444444,\"#bd3786\"],[0.5555555555555556,\"#d8576b\"],[0.6666666666666666,\"#ed7953\"],[0.7777777777777778,\"#fb9f3a\"],[0.8888888888888888,\"#fdca26\"],[1.0,\"#f0f921\"]]}],\"heatmapgl\":[{\"type\":\"heatmapgl\",\"colorbar\":{\"outlinewidth\":0,\"ticks\":\"\"},\"colorscale\":[[0.0,\"#0d0887\"],[0.1111111111111111,\"#46039f\"],[0.2222222222222222,\"#7201a8\"],[0.3333333333333333,\"#9c179e\"],[0.4444444444444444,\"#bd3786\"],[0.5555555555555556,\"#d8576b\"],[0.6666666666666666,\"#ed7953\"],[0.7777777777777778,\"#fb9f3a\"],[0.8888888888888888,\"#fdca26\"],[1.0,\"#f0f921\"]]}],\"contourcarpet\":[{\"type\":\"contourcarpet\",\"colorbar\":{\"outlinewidth\":0,\"ticks\":\"\"}}],\"contour\":[{\"type\":\"contour\",\"colorbar\":{\"outlinewidth\":0,\"ticks\":\"\"},\"colorscale\":[[0.0,\"#0d0887\"],[0.1111111111111111,\"#46039f\"],[0.2222222222222222,\"#7201a8\"],[0.3333333333333333,\"#9c179e\"],[0.4444444444444444,\"#bd3786\"],[0.5555555555555556,\"#d8576b\"],[0.6666666666666666,\"#ed7953\"],[0.7777777777777778,\"#fb9f3a\"],[0.8888888888888888,\"#fdca26\"],[1.0,\"#f0f921\"]]}],\"surface\":[{\"type\":\"surface\",\"colorbar\":{\"outlinewidth\":0,\"ticks\":\"\"},\"colorscale\":[[0.0,\"#0d0887\"],[0.1111111111111111,\"#46039f\"],[0.2222222222222222,\"#7201a8\"],[0.3333333333333333,\"#9c179e\"],[0.4444444444444444,\"#bd3786\"],[0.5555555555555556,\"#d8576b\"],[0.6666666666666666,\"#ed7953\"],[0.7777777777777778,\"#fb9f3a\"],[0.8888888888888888,\"#fdca26\"],[1.0,\"#f0f921\"]]}],\"mesh3d\":[{\"type\":\"mesh3d\",\"colorbar\":{\"outlinewidth\":0,\"ticks\":\"\"}}],\"scatter\":[{\"fillpattern\":{\"fillmode\":\"overlay\",\"size\":10,\"solidity\":0.2},\"type\":\"scatter\"}],\"parcoords\":[{\"type\":\"parcoords\",\"line\":{\"colorbar\":{\"outlinewidth\":0,\"ticks\":\"\"}}}],\"scatterpolargl\":[{\"type\":\"scatterpolargl\",\"marker\":{\"colorbar\":{\"outlinewidth\":0,\"ticks\":\"\"}}}],\"bar\":[{\"error_x\":{\"color\":\"#2a3f5f\"},\"error_y\":{\"color\":\"#2a3f5f\"},\"marker\":{\"line\":{\"color\":\"#E5ECF6\",\"width\":0.5},\"pattern\":{\"fillmode\":\"overlay\",\"size\":10,\"solidity\":0.2}},\"type\":\"bar\"}],\"scattergeo\":[{\"type\":\"scattergeo\",\"marker\":{\"colorbar\":{\"outlinewidth\":0,\"ticks\":\"\"}}}],\"scatterpolar\":[{\"type\":\"scatterpolar\",\"marker\":{\"colorbar\":{\"outlinewidth\":0,\"ticks\":\"\"}}}],\"histogram\":[{\"marker\":{\"pattern\":{\"fillmode\":\"overlay\",\"size\":10,\"solidity\":0.2}},\"type\":\"histogram\"}],\"scattergl\":[{\"type\":\"scattergl\",\"marker\":{\"colorbar\":{\"outlinewidth\":0,\"ticks\":\"\"}}}],\"scatter3d\":[{\"type\":\"scatter3d\",\"line\":{\"colorbar\":{\"outlinewidth\":0,\"ticks\":\"\"}},\"marker\":{\"colorbar\":{\"outlinewidth\":0,\"ticks\":\"\"}}}],\"scattermapbox\":[{\"type\":\"scattermapbox\",\"marker\":{\"colorbar\":{\"outlinewidth\":0,\"ticks\":\"\"}}}],\"scatterternary\":[{\"type\":\"scatterternary\",\"marker\":{\"colorbar\":{\"outlinewidth\":0,\"ticks\":\"\"}}}],\"scattercarpet\":[{\"type\":\"scattercarpet\",\"marker\":{\"colorbar\":{\"outlinewidth\":0,\"ticks\":\"\"}}}],\"carpet\":[{\"aaxis\":{\"endlinecolor\":\"#2a3f5f\",\"gridcolor\":\"white\",\"linecolor\":\"white\",\"minorgridcolor\":\"white\",\"startlinecolor\":\"#2a3f5f\"},\"baxis\":{\"endlinecolor\":\"#2a3f5f\",\"gridcolor\":\"white\",\"linecolor\":\"white\",\"minorgridcolor\":\"white\",\"startlinecolor\":\"#2a3f5f\"},\"type\":\"carpet\"}],\"table\":[{\"cells\":{\"fill\":{\"color\":\"#EBF0F8\"},\"line\":{\"color\":\"white\"}},\"header\":{\"fill\":{\"color\":\"#C8D4E3\"},\"line\":{\"color\":\"white\"}},\"type\":\"table\"}],\"barpolar\":[{\"marker\":{\"line\":{\"color\":\"#E5ECF6\",\"width\":0.5},\"pattern\":{\"fillmode\":\"overlay\",\"size\":10,\"solidity\":0.2}},\"type\":\"barpolar\"}],\"pie\":[{\"automargin\":true,\"type\":\"pie\"}]},\"layout\":{\"autotypenumbers\":\"strict\",\"colorway\":[\"#636efa\",\"#EF553B\",\"#00cc96\",\"#ab63fa\",\"#FFA15A\",\"#19d3f3\",\"#FF6692\",\"#B6E880\",\"#FF97FF\",\"#FECB52\"],\"font\":{\"color\":\"#2a3f5f\"},\"hovermode\":\"closest\",\"hoverlabel\":{\"align\":\"left\"},\"paper_bgcolor\":\"white\",\"plot_bgcolor\":\"#E5ECF6\",\"polar\":{\"bgcolor\":\"#E5ECF6\",\"angularaxis\":{\"gridcolor\":\"white\",\"linecolor\":\"white\",\"ticks\":\"\"},\"radialaxis\":{\"gridcolor\":\"white\",\"linecolor\":\"white\",\"ticks\":\"\"}},\"ternary\":{\"bgcolor\":\"#E5ECF6\",\"aaxis\":{\"gridcolor\":\"white\",\"linecolor\":\"white\",\"ticks\":\"\"},\"baxis\":{\"gridcolor\":\"white\",\"linecolor\":\"white\",\"ticks\":\"\"},\"caxis\":{\"gridcolor\":\"white\",\"linecolor\":\"white\",\"ticks\":\"\"}},\"coloraxis\":{\"colorbar\":{\"outlinewidth\":0,\"ticks\":\"\"}},\"colorscale\":{\"sequential\":[[0.0,\"#0d0887\"],[0.1111111111111111,\"#46039f\"],[0.2222222222222222,\"#7201a8\"],[0.3333333333333333,\"#9c179e\"],[0.4444444444444444,\"#bd3786\"],[0.5555555555555556,\"#d8576b\"],[0.6666666666666666,\"#ed7953\"],[0.7777777777777778,\"#fb9f3a\"],[0.8888888888888888,\"#fdca26\"],[1.0,\"#f0f921\"]],\"sequentialminus\":[[0.0,\"#0d0887\"],[0.1111111111111111,\"#46039f\"],[0.2222222222222222,\"#7201a8\"],[0.3333333333333333,\"#9c179e\"],[0.4444444444444444,\"#bd3786\"],[0.5555555555555556,\"#d8576b\"],[0.6666666666666666,\"#ed7953\"],[0.7777777777777778,\"#fb9f3a\"],[0.8888888888888888,\"#fdca26\"],[1.0,\"#f0f921\"]],\"diverging\":[[0,\"#8e0152\"],[0.1,\"#c51b7d\"],[0.2,\"#de77ae\"],[0.3,\"#f1b6da\"],[0.4,\"#fde0ef\"],[0.5,\"#f7f7f7\"],[0.6,\"#e6f5d0\"],[0.7,\"#b8e186\"],[0.8,\"#7fbc41\"],[0.9,\"#4d9221\"],[1,\"#276419\"]]},\"xaxis\":{\"gridcolor\":\"white\",\"linecolor\":\"white\",\"ticks\":\"\",\"title\":{\"standoff\":15},\"zerolinecolor\":\"white\",\"automargin\":true,\"zerolinewidth\":2},\"yaxis\":{\"gridcolor\":\"white\",\"linecolor\":\"white\",\"ticks\":\"\",\"title\":{\"standoff\":15},\"zerolinecolor\":\"white\",\"automargin\":true,\"zerolinewidth\":2},\"scene\":{\"xaxis\":{\"backgroundcolor\":\"#E5ECF6\",\"gridcolor\":\"white\",\"linecolor\":\"white\",\"showbackground\":true,\"ticks\":\"\",\"zerolinecolor\":\"white\",\"gridwidth\":2},\"yaxis\":{\"backgroundcolor\":\"#E5ECF6\",\"gridcolor\":\"white\",\"linecolor\":\"white\",\"showbackground\":true,\"ticks\":\"\",\"zerolinecolor\":\"white\",\"gridwidth\":2},\"zaxis\":{\"backgroundcolor\":\"#E5ECF6\",\"gridcolor\":\"white\",\"linecolor\":\"white\",\"showbackground\":true,\"ticks\":\"\",\"zerolinecolor\":\"white\",\"gridwidth\":2}},\"shapedefaults\":{\"line\":{\"color\":\"#2a3f5f\"}},\"annotationdefaults\":{\"arrowcolor\":\"#2a3f5f\",\"arrowhead\":0,\"arrowwidth\":1},\"geo\":{\"bgcolor\":\"white\",\"landcolor\":\"#E5ECF6\",\"subunitcolor\":\"white\",\"showland\":true,\"showlakes\":true,\"lakecolor\":\"white\"},\"title\":{\"x\":0.05},\"mapbox\":{\"style\":\"light\"}}},\"xaxis\":{\"title\":{\"text\":\"Population\"},\"range\":[0,1450551405.6000001]},\"sliders\":[{\"active\":10,\"currentvalue\":{\"prefix\":\"Year: \"},\"pad\":{\"t\":50},\"steps\":[{\"args\":[\"visible\",[true,false,false,false,false,false,false,false,false,false,false,false]],\"label\":\"1952\",\"method\":\"restyle\"},{\"args\":[\"visible\",[false,true,false,false,false,false,false,false,false,false,false,false]],\"label\":\"1957\",\"method\":\"restyle\"},{\"args\":[\"visible\",[false,false,true,false,false,false,false,false,false,false,false,false]],\"label\":\"1962\",\"method\":\"restyle\"},{\"args\":[\"visible\",[false,false,false,true,false,false,false,false,false,false,false,false]],\"label\":\"1967\",\"method\":\"restyle\"},{\"args\":[\"visible\",[false,false,false,false,true,false,false,false,false,false,false,false]],\"label\":\"1972\",\"method\":\"restyle\"},{\"args\":[\"visible\",[false,false,false,false,false,true,false,false,false,false,false,false]],\"label\":\"1977\",\"method\":\"restyle\"},{\"args\":[\"visible\",[false,false,false,false,false,false,true,false,false,false,false,false]],\"label\":\"1982\",\"method\":\"restyle\"},{\"args\":[\"visible\",[false,false,false,false,false,false,false,true,false,false,false,false]],\"label\":\"1987\",\"method\":\"restyle\"},{\"args\":[\"visible\",[false,false,false,false,false,false,false,false,true,false,false,false]],\"label\":\"1992\",\"method\":\"restyle\"},{\"args\":[\"visible\",[false,false,false,false,false,false,false,false,false,true,false,false]],\"label\":\"1997\",\"method\":\"restyle\"},{\"args\":[\"visible\",[false,false,false,false,false,false,false,false,false,false,true,false]],\"label\":\"2002\",\"method\":\"restyle\"},{\"args\":[\"visible\",[false,false,false,false,false,false,false,false,false,false,false,true]],\"label\":\"2007\",\"method\":\"restyle\"}]}],\"yaxis\":{\"title\":{\"text\":\"Continent\"}}},                        {\"responsive\": true}                    ).then(function(){\n",
       "                            \n",
       "var gd = document.getElementById('4ffbb3af-89c8-49ae-ad0c-a0a629d22833');\n",
       "var x = new MutationObserver(function (mutations, observer) {{\n",
       "        var display = window.getComputedStyle(gd).display;\n",
       "        if (!display || display === 'none') {{\n",
       "            console.log([gd, 'removed!']);\n",
       "            Plotly.purge(gd);\n",
       "            observer.disconnect();\n",
       "        }}\n",
       "}});\n",
       "\n",
       "// Listen for the removal of the full notebook cells\n",
       "var notebookContainer = gd.closest('#notebook-container');\n",
       "if (notebookContainer) {{\n",
       "    x.observe(notebookContainer, {childList: true});\n",
       "}}\n",
       "\n",
       "// Listen for the clearing of the current output cell\n",
       "var outputEl = gd.closest('.output');\n",
       "if (outputEl) {{\n",
       "    x.observe(outputEl, {childList: true});\n",
       "}}\n",
       "\n",
       "                        })                };                });            </script>        </div>"
      ]
     },
     "metadata": {},
     "output_type": "display_data"
    }
   ],
   "source": [
    "# YOUR CODE HERE\n",
    "import plotly.graph_objects as go\n",
    "import numpy as np\n",
    "import random as random\n",
    "\n",
    "fig = go.Figure()\n",
    "\n",
    "df = px.data.gapminder()\n",
    "country_colors = {}\n",
    " \n",
    "for i, country in enumerate(df[\"country\"]):\n",
    "    if country not in country_colors:\n",
    "        country_colors[country] = f'rgb({random.randint(0, 255)}, {random.randint(0, 255)}, {random.randint(0, 255)})'\n",
    "\n",
    "print(country_colors)\n",
    "\n",
    "for year in np.arange(1952, 2008, 5):\n",
    "    df = px.data.gapminder()\n",
    "    df = df[df[\"year\"] == year]\n",
    "    \n",
    "    sorted_df = df.sort_values(by=\"pop\", ascending=True)\n",
    "\n",
    "    colors = [country_colors[country] for country in sorted_df[\"country\"]]\n",
    "\n",
    "    fig.add_trace(\n",
    "        go.Bar(\n",
    "            x=sorted_df[\"pop\"],\n",
    "            y=sorted_df[\"country\"],\n",
    "            orientation='h',\n",
    "            name=str(year),\n",
    "            marker_color=colors\n",
    "        ) \n",
    "    )\n",
    "    \n",
    "\n",
    "fig.data[10].visible = True\n",
    "\n",
    "steps = []\n",
    "for i in range(len(fig.data)):\n",
    "    step = dict(\n",
    "        method=\"restyle\",\n",
    "        args=[\"visible\", [False] * len(fig.data)],\n",
    "        label=str(1952 + 5*i)\n",
    "    )\n",
    "    step[\"args\"][1][i] = True \n",
    "    steps.append(step)\n",
    "\n",
    "sliders = [dict(\n",
    "    active=10,\n",
    "    steps=steps,\n",
    "    pad={\"t\": 50},\n",
    "    currentvalue={\"prefix\": \"Year: \"}\n",
    ")]\n",
    "\n",
    "xaxis_range = [0, sorted_df[\"pop\"].max() * 1.1] \n",
    "\n",
    "fig.update_layout(\n",
    "    sliders=sliders,\n",
    "    xaxis_title=\"Population\",\n",
    "    yaxis_title=\"Continent\",\n",
    "    xaxis=dict(range=xaxis_range)\n",
    ")\n",
    "\n",
    "\n",
    "fig.show()"
   ]
  },
  {
   "cell_type": "markdown",
   "id": "0f0d751b",
   "metadata": {
    "heading_collapsed": true
   },
   "source": [
    "## Question 6:\n",
    "\n",
    "Clean up the country animation. Set the height size of the figure to 1000 to have a better view of the animation"
   ]
  },
  {
   "cell_type": "code",
   "execution_count": 106,
   "id": "95a18247",
   "metadata": {
    "hidden": true,
    "scrolled": true
   },
   "outputs": [
    {
     "data": {
      "application/vnd.plotly.v1+json": {
       "config": {
        "plotlyServerURL": "https://plot.ly"
       },
       "data": [
        {
         "marker": {
          "color": [
           "rgb(6, 219, 17)",
           "rgb(129, 46, 134)",
           "rgb(209, 50, 30)",
           "rgb(123, 216, 169)",
           "rgb(135, 56, 204)",
           "rgb(253, 234, 92)",
           "rgb(26, 99, 15)",
           "rgb(214, 250, 16)",
           "rgb(132, 9, 36)",
           "rgb(120, 61, 206)",
           "rgb(16, 193, 232)",
           "rgb(62, 157, 216)",
           "rgb(39, 130, 78)",
           "rgb(171, 115, 5)",
           "rgb(47, 26, 222)",
           "rgb(214, 226, 234)",
           "rgb(35, 141, 179)",
           "rgb(17, 68, 3)",
           "rgb(100, 218, 248)",
           "rgb(109, 156, 213)",
           "rgb(73, 234, 46)",
           "rgb(81, 148, 89)",
           "rgb(167, 27, 71)",
           "rgb(143, 91, 73)",
           "rgb(142, 115, 181)",
           "rgb(252, 230, 99)",
           "rgb(123, 86, 137)",
           "rgb(231, 234, 163)",
           "rgb(55, 36, 34)",
           "rgb(115, 207, 154)",
           "rgb(245, 92, 32)",
           "rgb(166, 36, 121)",
           "rgb(107, 177, 167)",
           "rgb(92, 209, 234)",
           "rgb(218, 158, 91)",
           "rgb(97, 99, 153)",
           "rgb(150, 100, 91)",
           "rgb(238, 180, 102)",
           "rgb(228, 238, 137)",
           "rgb(76, 140, 110)",
           "rgb(235, 173, 81)",
           "rgb(204, 197, 116)",
           "rgb(157, 204, 148)",
           "rgb(4, 223, 79)",
           "rgb(222, 37, 139)",
           "rgb(64, 116, 248)",
           "rgb(201, 244, 118)",
           "rgb(147, 245, 122)",
           "rgb(10, 252, 252)",
           "rgb(61, 189, 17)",
           "rgb(43, 6, 124)",
           "rgb(46, 17, 191)",
           "rgb(104, 69, 246)",
           "rgb(111, 107, 191)",
           "rgb(92, 247, 203)",
           "rgb(79, 27, 103)",
           "rgb(226, 202, 63)",
           "rgb(252, 209, 231)",
           "rgb(41, 198, 106)",
           "rgb(216, 144, 101)",
           "rgb(128, 11, 239)",
           "rgb(6, 237, 100)",
           "rgb(207, 187, 85)",
           "rgb(114, 225, 154)",
           "rgb(13, 115, 54)",
           "rgb(57, 254, 105)",
           "rgb(31, 16, 125)",
           "rgb(112, 86, 160)",
           "rgb(170, 72, 162)",
           "rgb(164, 197, 53)",
           "rgb(237, 144, 233)",
           "rgb(98, 55, 107)",
           "rgb(120, 61, 25)",
           "rgb(35, 75, 164)",
           "rgb(94, 59, 86)",
           "rgb(91, 109, 193)",
           "rgb(215, 47, 106)",
           "rgb(8, 229, 164)",
           "rgb(29, 12, 251)",
           "rgb(60, 18, 157)",
           "rgb(87, 135, 156)",
           "rgb(196, 95, 0)",
           "rgb(3, 114, 173)",
           "rgb(147, 29, 1)",
           "rgb(230, 231, 119)",
           "rgb(130, 113, 41)",
           "rgb(8, 184, 247)",
           "rgb(227, 156, 91)",
           "rgb(28, 253, 170)",
           "rgb(150, 227, 114)",
           "rgb(58, 182, 49)",
           "rgb(249, 193, 77)",
           "rgb(136, 49, 36)",
           "rgb(124, 203, 158)",
           "rgb(62, 160, 124)",
           "rgb(250, 34, 33)",
           "rgb(4, 131, 133)",
           "rgb(175, 18, 72)",
           "rgb(249, 98, 179)",
           "rgb(60, 25, 165)",
           "rgb(238, 184, 99)",
           "rgb(15, 59, 99)",
           "rgb(216, 243, 135)",
           "rgb(237, 8, 138)",
           "rgb(178, 78, 255)",
           "rgb(114, 141, 3)",
           "rgb(97, 10, 78)",
           "rgb(223, 3, 112)",
           "rgb(70, 241, 141)",
           "rgb(161, 104, 38)",
           "rgb(15, 213, 93)",
           "rgb(92, 180, 15)",
           "rgb(113, 61, 110)",
           "rgb(142, 205, 230)",
           "rgb(2, 50, 253)",
           "rgb(215, 203, 44)",
           "rgb(142, 174, 207)",
           "rgb(76, 103, 169)",
           "rgb(182, 228, 104)",
           "rgb(16, 107, 161)",
           "rgb(215, 167, 109)",
           "rgb(146, 67, 9)",
           "rgb(89, 144, 80)",
           "rgb(210, 94, 169)",
           "rgb(65, 171, 239)",
           "rgb(139, 123, 230)",
           "rgb(71, 253, 207)",
           "rgb(50, 196, 66)",
           "rgb(58, 172, 173)",
           "rgb(162, 170, 6)",
           "rgb(148, 130, 84)",
           "rgb(136, 38, 254)",
           "rgb(151, 218, 58)",
           "rgb(37, 184, 77)",
           "rgb(51, 56, 18)",
           "rgb(106, 176, 96)",
           "rgb(80, 90, 108)",
           "rgb(18, 198, 14)",
           "rgb(165, 68, 153)",
           "rgb(159, 141, 70)",
           "rgb(84, 20, 109)",
           "rgb(57, 224, 147)"
          ]
         },
         "name": "1952",
         "orientation": "h",
         "type": "bar",
         "x": [
          60011,
          63149,
          120447,
          147962,
          153936,
          160000,
          216964,
          257700,
          284320,
          290243,
          413834,
          420702,
          442308,
          485831,
          507833,
          516556,
          580653,
          607914,
          662850,
          748747,
          800663,
          854885,
          863308,
          926317,
          940080,
          1019729,
          1022556,
          1030585,
          1127000,
          1165790,
          1219113,
          1282697,
          1291695,
          1426095,
          1438760,
          1439529,
          1489518,
          1517453,
          1555876,
          1620914,
          1738315,
          1994794,
          2042865,
          2125900,
          2143249,
          2227000,
          2252965,
          2445618,
          2491346,
          2526994,
          2534927,
          2664249,
          2672000,
          2682462,
          2755589,
          2791000,
          2883315,
          2917802,
          2952156,
          2977019,
          3080907,
          3146381,
          3201488,
          3327728,
          3379468,
          3548753,
          3558137,
          3647735,
          3661549,
          3838168,
          3882229,
          4005677,
          4090500,
          4232095,
          4334000,
          4469979,
          4693836,
          4762912,
          4815000,
          4963829,
          5009067,
          5439568,
          5441766,
          5581001,
          5824797,
          6007797,
          6377619,
          6446316,
          6464046,
          6748378,
          6860147,
          6927772,
          7124673,
          7274900,
          7733250,
          7982342,
          8025700,
          8322925,
          8425333,
          8504667,
          8526050,
          8550362,
          8691212,
          8730405,
          8865488,
          9125183,
          9182536,
          9279525,
          9504000,
          9939217,
          10381988,
          12350771,
          14100005,
          14264935,
          14785584,
          16630000,
          17272000,
          17876956,
          20092996,
          20860941,
          20947571,
          21289402,
          22223309,
          22235677,
          22438691,
          25730551,
          26246839,
          28549870,
          30144317,
          33119096,
          41346560,
          42459667,
          46886859,
          47666000,
          50430000,
          56602560,
          69145952,
          82052000,
          86459025,
          157553000,
          372000000,
          556263527
         ],
         "y": [
          "Sao Tome and Principe",
          "Djibouti",
          "Bahrain",
          "Iceland",
          "Comoros",
          "Kuwait",
          "Equatorial Guinea",
          "Reunion",
          "Gambia",
          "Swaziland",
          "Montenegro",
          "Gabon",
          "Botswana",
          "Namibia",
          "Oman",
          "Mauritius",
          "Guinea-Bissau",
          "Jordan",
          "Trinidad and Tobago",
          "Lesotho",
          "Mongolia",
          "Congo, Rep.",
          "Liberia",
          "Costa Rica",
          "Panama",
          "Libya",
          "Mauritania",
          "West Bank and Gaza",
          "Singapore",
          "Nicaragua",
          "Togo",
          "Albania",
          "Central African Republic",
          "Jamaica",
          "Eritrea",
          "Lebanon",
          "Slovenia",
          "Honduras",
          "Paraguay",
          "Israel",
          "Benin",
          "New Zealand",
          "El Salvador",
          "Hong Kong, China",
          "Sierra Leone",
          "Puerto Rico",
          "Uruguay",
          "Burundi",
          "Dominican Republic",
          "Somalia",
          "Rwanda",
          "Guinea",
          "Zambia",
          "Chad",
          "Senegal",
          "Bosnia and Herzegovina",
          "Bolivia",
          "Malawi",
          "Ireland",
          "Cote d'Ivoire",
          "Zimbabwe",
          "Guatemala",
          "Haiti",
          "Norway",
          "Niger",
          "Ecuador",
          "Slovak Republic",
          "Tunisia",
          "Syria",
          "Mali",
          "Croatia",
          "Saudi Arabia",
          "Finland",
          "Angola",
          "Denmark",
          "Burkina Faso",
          "Cambodia",
          "Madagascar",
          "Switzerland",
          "Yemen, Rep.",
          "Cameroon",
          "Venezuela",
          "Iraq",
          "Ghana",
          "Uganda",
          "Cuba",
          "Chile",
          "Mozambique",
          "Kenya",
          "Malaysia",
          "Serbia",
          "Austria",
          "Sweden",
          "Bulgaria",
          "Greece",
          "Sri Lanka",
          "Peru",
          "Tanzania",
          "Afghanistan",
          "Sudan",
          "Portugal",
          "Taiwan",
          "Australia",
          "Belgium",
          "Korea, Dem. Rep.",
          "Czech Republic",
          "Nepal",
          "Algeria",
          "Hungary",
          "Morocco",
          "Netherlands",
          "Colombia",
          "Congo, Dem. Rep.",
          "South Africa",
          "Canada",
          "Romania",
          "Iran",
          "Argentina",
          "Myanmar",
          "Ethiopia",
          "Korea, Rep.",
          "Thailand",
          "Egypt",
          "Turkey",
          "Philippines",
          "Poland",
          "Vietnam",
          "Spain",
          "Mexico",
          "Nigeria",
          "Pakistan",
          "France",
          "Bangladesh",
          "Italy",
          "United Kingdom",
          "Brazil",
          "Germany",
          "Indonesia",
          "Japan",
          "United States",
          "India",
          "China"
         ]
        },
        {
         "marker": {
          "color": [
           "rgb(6, 219, 17)",
           "rgb(129, 46, 134)",
           "rgb(209, 50, 30)",
           "rgb(123, 216, 169)",
           "rgb(135, 56, 204)",
           "rgb(253, 234, 92)",
           "rgb(26, 99, 15)",
           "rgb(214, 250, 16)",
           "rgb(132, 9, 36)",
           "rgb(120, 61, 206)",
           "rgb(62, 157, 216)",
           "rgb(16, 193, 232)",
           "rgb(39, 130, 78)",
           "rgb(171, 115, 5)",
           "rgb(47, 26, 222)",
           "rgb(35, 141, 179)",
           "rgb(214, 226, 234)",
           "rgb(17, 68, 3)",
           "rgb(100, 218, 248)",
           "rgb(109, 156, 213)",
           "rgb(73, 234, 46)",
           "rgb(81, 148, 89)",
           "rgb(167, 27, 71)",
           "rgb(142, 115, 181)",
           "rgb(231, 234, 163)",
           "rgb(123, 86, 137)",
           "rgb(143, 91, 73)",
           "rgb(252, 230, 99)",
           "rgb(245, 92, 32)",
           "rgb(115, 207, 154)",
           "rgb(107, 177, 167)",
           "rgb(55, 36, 34)",
           "rgb(166, 36, 121)",
           "rgb(150, 100, 91)",
           "rgb(92, 209, 234)",
           "rgb(218, 158, 91)",
           "rgb(97, 99, 153)",
           "rgb(238, 180, 102)",
           "rgb(228, 238, 137)",
           "rgb(235, 173, 81)",
           "rgb(76, 140, 110)",
           "rgb(204, 197, 116)",
           "rgb(64, 116, 248)",
           "rgb(222, 37, 139)",
           "rgb(157, 204, 148)",
           "rgb(201, 244, 118)",
           "rgb(147, 245, 122)",
           "rgb(4, 223, 79)",
           "rgb(61, 189, 17)",
           "rgb(43, 6, 124)",
           "rgb(46, 17, 191)",
           "rgb(41, 198, 106)",
           "rgb(111, 107, 191)",
           "rgb(10, 252, 252)",
           "rgb(104, 69, 246)",
           "rgb(92, 247, 203)",
           "rgb(79, 27, 103)",
           "rgb(226, 202, 63)",
           "rgb(252, 209, 231)",
           "rgb(216, 144, 101)",
           "rgb(114, 225, 154)",
           "rgb(207, 187, 85)",
           "rgb(6, 237, 100)",
           "rgb(128, 11, 239)",
           "rgb(13, 115, 54)",
           "rgb(31, 16, 125)",
           "rgb(112, 86, 160)",
           "rgb(237, 144, 233)",
           "rgb(57, 254, 105)",
           "rgb(170, 72, 162)",
           "rgb(164, 197, 53)",
           "rgb(120, 61, 25)",
           "rgb(98, 55, 107)",
           "rgb(94, 59, 86)",
           "rgb(35, 75, 164)",
           "rgb(91, 109, 193)",
           "rgb(29, 12, 251)",
           "rgb(8, 229, 164)",
           "rgb(215, 47, 106)",
           "rgb(87, 135, 156)",
           "rgb(60, 18, 157)",
           "rgb(3, 114, 173)",
           "rgb(147, 29, 1)",
           "rgb(130, 113, 41)",
           "rgb(230, 231, 119)",
           "rgb(196, 95, 0)",
           "rgb(249, 193, 77)",
           "rgb(227, 156, 91)",
           "rgb(8, 184, 247)",
           "rgb(58, 182, 49)",
           "rgb(136, 49, 36)",
           "rgb(28, 253, 170)",
           "rgb(124, 203, 158)",
           "rgb(150, 227, 114)",
           "rgb(62, 160, 124)",
           "rgb(238, 184, 99)",
           "rgb(237, 8, 138)",
           "rgb(250, 34, 33)",
           "rgb(4, 131, 133)",
           "rgb(249, 98, 179)",
           "rgb(178, 78, 255)",
           "rgb(175, 18, 72)",
           "rgb(114, 141, 3)",
           "rgb(97, 10, 78)",
           "rgb(216, 243, 135)",
           "rgb(60, 25, 165)",
           "rgb(70, 241, 141)",
           "rgb(15, 59, 99)",
           "rgb(223, 3, 112)",
           "rgb(15, 213, 93)",
           "rgb(161, 104, 38)",
           "rgb(92, 180, 15)",
           "rgb(113, 61, 110)",
           "rgb(142, 205, 230)",
           "rgb(2, 50, 253)",
           "rgb(215, 203, 44)",
           "rgb(76, 103, 169)",
           "rgb(142, 174, 207)",
           "rgb(182, 228, 104)",
           "rgb(215, 167, 109)",
           "rgb(16, 107, 161)",
           "rgb(89, 144, 80)",
           "rgb(146, 67, 9)",
           "rgb(210, 94, 169)",
           "rgb(65, 171, 239)",
           "rgb(139, 123, 230)",
           "rgb(71, 253, 207)",
           "rgb(50, 196, 66)",
           "rgb(58, 172, 173)",
           "rgb(162, 170, 6)",
           "rgb(136, 38, 254)",
           "rgb(148, 130, 84)",
           "rgb(37, 184, 77)",
           "rgb(151, 218, 58)",
           "rgb(51, 56, 18)",
           "rgb(106, 176, 96)",
           "rgb(80, 90, 108)",
           "rgb(18, 198, 14)",
           "rgb(165, 68, 153)",
           "rgb(159, 141, 70)",
           "rgb(84, 20, 109)",
           "rgb(57, 224, 147)"
          ]
         },
         "name": "1957",
         "orientation": "h",
         "type": "bar",
         "x": [
          61325,
          71851,
          138655,
          165110,
          170928,
          212846,
          232922,
          308700,
          323150,
          326741,
          434904,
          442829,
          474639,
          548080,
          561977,
          601095,
          609816,
          746559,
          764900,
          813338,
          882134,
          940458,
          975950,
          1063506,
          1070439,
          1076852,
          1112300,
          1201578,
          1357445,
          1358828,
          1392284,
          1445929,
          1476505,
          1533070,
          1535090,
          1542611,
          1647412,
          1770390,
          1770902,
          1925173,
          1944401,
          2229407,
          2260000,
          2295678,
          2355805,
          2424959,
          2667518,
          2736300,
          2780415,
          2822082,
          2876726,
          2878220,
          2894855,
          2923186,
          3016000,
          3054547,
          3076000,
          3211738,
          3221238,
          3300000,
          3491938,
          3507701,
          3640876,
          3646340,
          3692184,
          3844277,
          3950849,
          3991242,
          4058385,
          4149908,
          4241884,
          4324000,
          4419650,
          4487831,
          4561361,
          4713416,
          5126000,
          5181679,
          5322536,
          5359923,
          5498090,
          6248643,
          6391288,
          6640752,
          6675501,
          6702668,
          6965860,
          7038035,
          7048426,
          7271135,
          7363802,
          7454779,
          7651254,
          7739235,
          8096218,
          8817650,
          8989111,
          9128546,
          9146100,
          9240934,
          9411381,
          9452826,
          9513758,
          9682338,
          9712569,
          9753392,
          9839000,
          10164215,
          10270856,
          11026383,
          11406350,
          14485993,
          15577932,
          16151549,
          17010154,
          17829327,
          19610538,
          19792000,
          21731844,
          22611552,
          22815614,
          25009741,
          25041917,
          25670939,
          26072194,
          28235346,
          28998543,
          29841614,
          35015548,
          37173340,
          44310863,
          46679944,
          49182000,
          51365468,
          51430000,
          65551171,
          71019069,
          90124000,
          91563009,
          171984000,
          409000000,
          637408000
         ],
         "y": [
          "Sao Tome and Principe",
          "Djibouti",
          "Bahrain",
          "Iceland",
          "Comoros",
          "Kuwait",
          "Equatorial Guinea",
          "Reunion",
          "Gambia",
          "Swaziland",
          "Gabon",
          "Montenegro",
          "Botswana",
          "Namibia",
          "Oman",
          "Guinea-Bissau",
          "Mauritius",
          "Jordan",
          "Trinidad and Tobago",
          "Lesotho",
          "Mongolia",
          "Congo, Rep.",
          "Liberia",
          "Panama",
          "West Bank and Gaza",
          "Mauritania",
          "Costa Rica",
          "Libya",
          "Togo",
          "Nicaragua",
          "Central African Republic",
          "Singapore",
          "Albania",
          "Slovenia",
          "Jamaica",
          "Eritrea",
          "Lebanon",
          "Honduras",
          "Paraguay",
          "Benin",
          "Israel",
          "New Zealand",
          "Puerto Rico",
          "Sierra Leone",
          "El Salvador",
          "Uruguay",
          "Burundi",
          "Hong Kong, China",
          "Somalia",
          "Rwanda",
          "Guinea",
          "Ireland",
          "Chad",
          "Dominican Republic",
          "Zambia",
          "Senegal",
          "Bosnia and Herzegovina",
          "Bolivia",
          "Malawi",
          "Cote d'Ivoire",
          "Norway",
          "Haiti",
          "Guatemala",
          "Zimbabwe",
          "Niger",
          "Slovak Republic",
          "Tunisia",
          "Croatia",
          "Ecuador",
          "Syria",
          "Mali",
          "Finland",
          "Saudi Arabia",
          "Denmark",
          "Angola",
          "Burkina Faso",
          "Switzerland",
          "Madagascar",
          "Cambodia",
          "Cameroon",
          "Yemen, Rep.",
          "Iraq",
          "Ghana",
          "Cuba",
          "Uganda",
          "Venezuela",
          "Austria",
          "Mozambique",
          "Chile",
          "Serbia",
          "Sweden",
          "Kenya",
          "Bulgaria",
          "Malaysia",
          "Greece",
          "Portugal",
          "Belgium",
          "Sri Lanka",
          "Peru",
          "Afghanistan",
          "Korea, Dem. Rep.",
          "Tanzania",
          "Czech Republic",
          "Nepal",
          "Australia",
          "Sudan",
          "Hungary",
          "Taiwan",
          "Algeria",
          "Netherlands",
          "Morocco",
          "Colombia",
          "Congo, Dem. Rep.",
          "South Africa",
          "Canada",
          "Romania",
          "Argentina",
          "Iran",
          "Myanmar",
          "Korea, Rep.",
          "Ethiopia",
          "Egypt",
          "Thailand",
          "Turkey",
          "Philippines",
          "Poland",
          "Vietnam",
          "Spain",
          "Mexico",
          "Nigeria",
          "France",
          "Pakistan",
          "Italy",
          "Bangladesh",
          "United Kingdom",
          "Brazil",
          "Germany",
          "Indonesia",
          "Japan",
          "United States",
          "India",
          "China"
         ]
        },
        {
         "marker": {
          "color": [
           "rgb(6, 219, 17)",
           "rgb(129, 46, 134)",
           "rgb(209, 50, 30)",
           "rgb(123, 216, 169)",
           "rgb(135, 56, 204)",
           "rgb(26, 99, 15)",
           "rgb(253, 234, 92)",
           "rgb(214, 250, 16)",
           "rgb(120, 61, 206)",
           "rgb(132, 9, 36)",
           "rgb(62, 157, 216)",
           "rgb(16, 193, 232)",
           "rgb(39, 130, 78)",
           "rgb(171, 115, 5)",
           "rgb(35, 141, 179)",
           "rgb(47, 26, 222)",
           "rgb(214, 226, 234)",
           "rgb(100, 218, 248)",
           "rgb(109, 156, 213)",
           "rgb(17, 68, 3)",
           "rgb(73, 234, 46)",
           "rgb(81, 148, 89)",
           "rgb(167, 27, 71)",
           "rgb(231, 234, 163)",
           "rgb(123, 86, 137)",
           "rgb(142, 115, 181)",
           "rgb(143, 91, 73)",
           "rgb(252, 230, 99)",
           "rgb(107, 177, 167)",
           "rgb(245, 92, 32)",
           "rgb(150, 100, 91)",
           "rgb(115, 207, 154)",
           "rgb(92, 209, 234)",
           "rgb(218, 158, 91)",
           "rgb(166, 36, 121)",
           "rgb(55, 36, 34)",
           "rgb(97, 99, 153)",
           "rgb(228, 238, 137)",
           "rgb(238, 180, 102)",
           "rgb(235, 173, 81)",
           "rgb(76, 140, 110)",
           "rgb(64, 116, 248)",
           "rgb(222, 37, 139)",
           "rgb(204, 197, 116)",
           "rgb(201, 244, 118)",
           "rgb(157, 204, 148)",
           "rgb(41, 198, 106)",
           "rgb(147, 245, 122)",
           "rgb(43, 6, 124)",
           "rgb(61, 189, 17)",
           "rgb(46, 17, 191)",
           "rgb(111, 107, 191)",
           "rgb(4, 223, 79)",
           "rgb(79, 27, 103)",
           "rgb(104, 69, 246)",
           "rgb(92, 247, 203)",
           "rgb(10, 252, 252)",
           "rgb(226, 202, 63)",
           "rgb(252, 209, 231)",
           "rgb(114, 225, 154)",
           "rgb(216, 144, 101)",
           "rgb(207, 187, 85)",
           "rgb(13, 115, 54)",
           "rgb(237, 144, 233)",
           "rgb(6, 237, 100)",
           "rgb(31, 16, 125)",
           "rgb(128, 11, 239)",
           "rgb(112, 86, 160)",
           "rgb(120, 61, 25)",
           "rgb(94, 59, 86)",
           "rgb(57, 254, 105)",
           "rgb(164, 197, 53)",
           "rgb(35, 75, 164)",
           "rgb(170, 72, 162)",
           "rgb(91, 109, 193)",
           "rgb(98, 55, 107)",
           "rgb(29, 12, 251)",
           "rgb(8, 229, 164)",
           "rgb(87, 135, 156)",
           "rgb(215, 47, 106)",
           "rgb(60, 18, 157)",
           "rgb(249, 193, 77)",
           "rgb(3, 114, 173)",
           "rgb(130, 113, 41)",
           "rgb(147, 29, 1)",
           "rgb(136, 49, 36)",
           "rgb(58, 182, 49)",
           "rgb(230, 231, 119)",
           "rgb(227, 156, 91)",
           "rgb(8, 184, 247)",
           "rgb(124, 203, 158)",
           "rgb(196, 95, 0)",
           "rgb(62, 160, 124)",
           "rgb(28, 253, 170)",
           "rgb(150, 227, 114)",
           "rgb(238, 184, 99)",
           "rgb(237, 8, 138)",
           "rgb(114, 141, 3)",
           "rgb(70, 241, 141)",
           "rgb(249, 98, 179)",
           "rgb(97, 10, 78)",
           "rgb(250, 34, 33)",
           "rgb(4, 131, 133)",
           "rgb(216, 243, 135)",
           "rgb(175, 18, 72)",
           "rgb(178, 78, 255)",
           "rgb(223, 3, 112)",
           "rgb(60, 25, 165)",
           "rgb(15, 213, 93)",
           "rgb(15, 59, 99)",
           "rgb(161, 104, 38)",
           "rgb(92, 180, 15)",
           "rgb(113, 61, 110)",
           "rgb(142, 205, 230)",
           "rgb(215, 203, 44)",
           "rgb(2, 50, 253)",
           "rgb(76, 103, 169)",
           "rgb(142, 174, 207)",
           "rgb(182, 228, 104)",
           "rgb(16, 107, 161)",
           "rgb(215, 167, 109)",
           "rgb(89, 144, 80)",
           "rgb(146, 67, 9)",
           "rgb(210, 94, 169)",
           "rgb(65, 171, 239)",
           "rgb(139, 123, 230)",
           "rgb(50, 196, 66)",
           "rgb(71, 253, 207)",
           "rgb(58, 172, 173)",
           "rgb(162, 170, 6)",
           "rgb(136, 38, 254)",
           "rgb(37, 184, 77)",
           "rgb(148, 130, 84)",
           "rgb(51, 56, 18)",
           "rgb(151, 218, 58)",
           "rgb(80, 90, 108)",
           "rgb(106, 176, 96)",
           "rgb(165, 68, 153)",
           "rgb(18, 198, 14)",
           "rgb(159, 141, 70)",
           "rgb(84, 20, 109)",
           "rgb(57, 224, 147)"
          ]
         },
         "name": "1962",
         "orientation": "h",
         "type": "bar",
         "x": [
          65345,
          89898,
          171863,
          182053,
          191689,
          249220,
          358266,
          358900,
          370006,
          374020,
          455661,
          474528,
          512764,
          621392,
          627820,
          628164,
          701016,
          887498,
          893143,
          933559,
          1010280,
          1047924,
          1112796,
          1133134,
          1146757,
          1215725,
          1345187,
          1441863,
          1523478,
          1528098,
          1582962,
          1590597,
          1665128,
          1666618,
          1728137,
          1750200,
          1886848,
          2009813,
          2090162,
          2151895,
          2310904,
          2448046,
          2467895,
          2488550,
          2598466,
          2747687,
          2830000,
          2961915,
          3051242,
          3080153,
          3140003,
          3150417,
          3305200,
          3349000,
          3421000,
          3430243,
          3453434,
          3593918,
          3628608,
          3638919,
          3832408,
          3880130,
          4076008,
          4076557,
          4208858,
          4237384,
          4277736,
          4286552,
          4491443,
          4646899,
          4681707,
          4690372,
          4826015,
          4834621,
          4919632,
          4943029,
          5666000,
          5703324,
          5793633,
          6083619,
          6120081,
          7129864,
          7240260,
          7254373,
          7355248,
          7561588,
          7616060,
          7688797,
          7788944,
          7961258,
          8012946,
          8143375,
          8448233,
          8678557,
          8906385,
          9019800,
          9218400,
          9620282,
          10063000,
          10267083,
          10332057,
          10421936,
          10516500,
          10794968,
          10863958,
          10917494,
          11000948,
          11183227,
          11805689,
          11918938,
          13056604,
          17009885,
          17486434,
          18356657,
          18680721,
          18985849,
          21283783,
          22874000,
          23634436,
          25145372,
          26420307,
          28173309,
          29263397,
          29788695,
          30325264,
          30329617,
          31158061,
          33796140,
          41121485,
          41871351,
          47124000,
          50843200,
          53100671,
          53292000,
          56839289,
          73739117,
          76039390,
          95831757,
          99028000,
          186538000,
          454000000,
          665770000
         ],
         "y": [
          "Sao Tome and Principe",
          "Djibouti",
          "Bahrain",
          "Iceland",
          "Comoros",
          "Equatorial Guinea",
          "Kuwait",
          "Reunion",
          "Swaziland",
          "Gambia",
          "Gabon",
          "Montenegro",
          "Botswana",
          "Namibia",
          "Guinea-Bissau",
          "Oman",
          "Mauritius",
          "Trinidad and Tobago",
          "Lesotho",
          "Jordan",
          "Mongolia",
          "Congo, Rep.",
          "Liberia",
          "West Bank and Gaza",
          "Mauritania",
          "Panama",
          "Costa Rica",
          "Libya",
          "Central African Republic",
          "Togo",
          "Slovenia",
          "Nicaragua",
          "Jamaica",
          "Eritrea",
          "Albania",
          "Singapore",
          "Lebanon",
          "Paraguay",
          "Honduras",
          "Benin",
          "Israel",
          "Puerto Rico",
          "Sierra Leone",
          "New Zealand",
          "Uruguay",
          "El Salvador",
          "Ireland",
          "Burundi",
          "Rwanda",
          "Somalia",
          "Guinea",
          "Chad",
          "Hong Kong, China",
          "Bosnia and Herzegovina",
          "Zambia",
          "Senegal",
          "Dominican Republic",
          "Bolivia",
          "Malawi",
          "Norway",
          "Cote d'Ivoire",
          "Haiti",
          "Niger",
          "Croatia",
          "Guatemala",
          "Slovak Republic",
          "Zimbabwe",
          "Tunisia",
          "Finland",
          "Denmark",
          "Ecuador",
          "Mali",
          "Angola",
          "Syria",
          "Burkina Faso",
          "Saudi Arabia",
          "Switzerland",
          "Madagascar",
          "Cameroon",
          "Cambodia",
          "Yemen, Rep.",
          "Austria",
          "Iraq",
          "Cuba",
          "Ghana",
          "Sweden",
          "Serbia",
          "Uganda",
          "Mozambique",
          "Chile",
          "Bulgaria",
          "Venezuela",
          "Greece",
          "Kenya",
          "Malaysia",
          "Portugal",
          "Belgium",
          "Czech Republic",
          "Hungary",
          "Afghanistan",
          "Nepal",
          "Sri Lanka",
          "Peru",
          "Australia",
          "Tanzania",
          "Korea, Dem. Rep.",
          "Algeria",
          "Sudan",
          "Netherlands",
          "Taiwan",
          "Morocco",
          "Colombia",
          "Congo, Dem. Rep.",
          "South Africa",
          "Romania",
          "Canada",
          "Argentina",
          "Iran",
          "Myanmar",
          "Ethiopia",
          "Korea, Rep.",
          "Egypt",
          "Thailand",
          "Turkey",
          "Philippines",
          "Poland",
          "Spain",
          "Vietnam",
          "Mexico",
          "Nigeria",
          "France",
          "Italy",
          "Pakistan",
          "United Kingdom",
          "Bangladesh",
          "Germany",
          "Brazil",
          "Japan",
          "Indonesia",
          "United States",
          "India",
          "China"
         ]
        },
        {
         "marker": {
          "color": [
           "rgb(6, 219, 17)",
           "rgb(129, 46, 134)",
           "rgb(123, 216, 169)",
           "rgb(209, 50, 30)",
           "rgb(135, 56, 204)",
           "rgb(26, 99, 15)",
           "rgb(214, 250, 16)",
           "rgb(120, 61, 206)",
           "rgb(132, 9, 36)",
           "rgb(62, 157, 216)",
           "rgb(16, 193, 232)",
           "rgb(39, 130, 78)",
           "rgb(253, 234, 92)",
           "rgb(35, 141, 179)",
           "rgb(171, 115, 5)",
           "rgb(47, 26, 222)",
           "rgb(214, 226, 234)",
           "rgb(100, 218, 248)",
           "rgb(109, 156, 213)",
           "rgb(231, 234, 163)",
           "rgb(73, 234, 46)",
           "rgb(81, 148, 89)",
           "rgb(123, 86, 137)",
           "rgb(17, 68, 3)",
           "rgb(167, 27, 71)",
           "rgb(142, 115, 181)",
           "rgb(143, 91, 73)",
           "rgb(150, 100, 91)",
           "rgb(107, 177, 167)",
           "rgb(245, 92, 32)",
           "rgb(252, 230, 99)",
           "rgb(218, 158, 91)",
           "rgb(92, 209, 234)",
           "rgb(115, 207, 154)",
           "rgb(55, 36, 34)",
           "rgb(166, 36, 121)",
           "rgb(97, 99, 153)",
           "rgb(228, 238, 137)",
           "rgb(235, 173, 81)",
           "rgb(238, 180, 102)",
           "rgb(64, 116, 248)",
           "rgb(222, 37, 139)",
           "rgb(76, 140, 110)",
           "rgb(204, 197, 116)",
           "rgb(201, 244, 118)",
           "rgb(41, 198, 106)",
           "rgb(157, 204, 148)",
           "rgb(147, 245, 122)",
           "rgb(61, 189, 17)",
           "rgb(43, 6, 124)",
           "rgb(46, 17, 191)",
           "rgb(111, 107, 191)",
           "rgb(79, 27, 103)",
           "rgb(4, 223, 79)",
           "rgb(114, 225, 154)",
           "rgb(104, 69, 246)",
           "rgb(92, 247, 203)",
           "rgb(226, 202, 63)",
           "rgb(10, 252, 252)",
           "rgb(252, 209, 231)",
           "rgb(237, 144, 233)",
           "rgb(207, 187, 85)",
           "rgb(31, 16, 125)",
           "rgb(13, 115, 54)",
           "rgb(120, 61, 25)",
           "rgb(6, 237, 100)",
           "rgb(216, 144, 101)",
           "rgb(112, 86, 160)",
           "rgb(94, 59, 86)",
           "rgb(128, 11, 239)",
           "rgb(91, 109, 193)",
           "rgb(164, 197, 53)",
           "rgb(35, 75, 164)",
           "rgb(57, 254, 105)",
           "rgb(98, 55, 107)",
           "rgb(170, 72, 162)",
           "rgb(29, 12, 251)",
           "rgb(8, 229, 164)",
           "rgb(87, 135, 156)",
           "rgb(60, 18, 157)",
           "rgb(215, 47, 106)",
           "rgb(249, 193, 77)",
           "rgb(136, 49, 36)",
           "rgb(58, 182, 49)",
           "rgb(130, 113, 41)",
           "rgb(124, 203, 158)",
           "rgb(147, 29, 1)",
           "rgb(3, 114, 173)",
           "rgb(227, 156, 91)",
           "rgb(62, 160, 124)",
           "rgb(8, 184, 247)",
           "rgb(230, 231, 119)",
           "rgb(238, 184, 99)",
           "rgb(237, 8, 138)",
           "rgb(196, 95, 0)",
           "rgb(114, 141, 3)",
           "rgb(150, 227, 114)",
           "rgb(28, 253, 170)",
           "rgb(70, 241, 141)",
           "rgb(97, 10, 78)",
           "rgb(249, 98, 179)",
           "rgb(250, 34, 33)",
           "rgb(216, 243, 135)",
           "rgb(4, 131, 133)",
           "rgb(15, 213, 93)",
           "rgb(175, 18, 72)",
           "rgb(178, 78, 255)",
           "rgb(60, 25, 165)",
           "rgb(223, 3, 112)",
           "rgb(15, 59, 99)",
           "rgb(161, 104, 38)",
           "rgb(215, 203, 44)",
           "rgb(92, 180, 15)",
           "rgb(113, 61, 110)",
           "rgb(2, 50, 253)",
           "rgb(142, 205, 230)",
           "rgb(76, 103, 169)",
           "rgb(182, 228, 104)",
           "rgb(142, 174, 207)",
           "rgb(16, 107, 161)",
           "rgb(215, 167, 109)",
           "rgb(89, 144, 80)",
           "rgb(139, 123, 230)",
           "rgb(50, 196, 66)",
           "rgb(210, 94, 169)",
           "rgb(146, 67, 9)",
           "rgb(65, 171, 239)",
           "rgb(71, 253, 207)",
           "rgb(162, 170, 6)",
           "rgb(58, 172, 173)",
           "rgb(136, 38, 254)",
           "rgb(37, 184, 77)",
           "rgb(51, 56, 18)",
           "rgb(148, 130, 84)",
           "rgb(151, 218, 58)",
           "rgb(80, 90, 108)",
           "rgb(106, 176, 96)",
           "rgb(165, 68, 153)",
           "rgb(18, 198, 14)",
           "rgb(159, 141, 70)",
           "rgb(84, 20, 109)",
           "rgb(57, 224, 147)"
          ]
         },
         "name": "1967",
         "orientation": "h",
         "type": "bar",
         "x": [
          70787,
          127617,
          198676,
          202182,
          217378,
          259864,
          414024,
          420690,
          439593,
          489004,
          501035,
          553541,
          575003,
          601287,
          706640,
          714775,
          789309,
          960155,
          996380,
          1142636,
          1149500,
          1179760,
          1230542,
          1255058,
          1279406,
          1405486,
          1588717,
          1646912,
          1733638,
          1735550,
          1759224,
          1820319,
          1861096,
          1865490,
          1977600,
          1984060,
          2186894,
          2287985,
          2427334,
          2500689,
          2648961,
          2662190,
          2693585,
          2728150,
          2748579,
          2900100,
          3232927,
          3330989,
          3428839,
          3451079,
          3451418,
          3495967,
          3585000,
          3722800,
          3786019,
          3900000,
          3965841,
          4040665,
          4049146,
          4147252,
          4174366,
          4318137,
          4442238,
          4534062,
          4605744,
          4690773,
          4744870,
          4786986,
          4838800,
          4995432,
          5127935,
          5212416,
          5247469,
          5432424,
          5618198,
          5680812,
          6063000,
          6334556,
          6335506,
          6740785,
          6960067,
          7376998,
          7867931,
          7971222,
          8139332,
          8310226,
          8490213,
          8519282,
          8680909,
          8716441,
          8858908,
          8900294,
          9103000,
          9556500,
          9709552,
          9835109,
          10154878,
          10191512,
          10223422,
          11261690,
          11537966,
          11737396,
          11872264,
          12132200,
          12596822,
          12607312,
          12617009,
          12716129,
          12760499,
          13648692,
          14770296,
          19284814,
          19764027,
          19941073,
          20819767,
          20997321,
          22934225,
          25870271,
          26538000,
          27860297,
          30131000,
          31681188,
          31785378,
          32850275,
          33411317,
          34024249,
          35356600,
          39463910,
          47287752,
          47995559,
          49569000,
          52667100,
          54959000,
          60641899,
          62821884,
          76368453,
          88049823,
          100825279,
          109343000,
          198712000,
          506000000,
          754550000
         ],
         "y": [
          "Sao Tome and Principe",
          "Djibouti",
          "Iceland",
          "Bahrain",
          "Comoros",
          "Equatorial Guinea",
          "Reunion",
          "Swaziland",
          "Gambia",
          "Gabon",
          "Montenegro",
          "Botswana",
          "Kuwait",
          "Guinea-Bissau",
          "Namibia",
          "Oman",
          "Mauritius",
          "Trinidad and Tobago",
          "Lesotho",
          "West Bank and Gaza",
          "Mongolia",
          "Congo, Rep.",
          "Mauritania",
          "Jordan",
          "Liberia",
          "Panama",
          "Costa Rica",
          "Slovenia",
          "Central African Republic",
          "Togo",
          "Libya",
          "Eritrea",
          "Jamaica",
          "Nicaragua",
          "Singapore",
          "Albania",
          "Lebanon",
          "Paraguay",
          "Benin",
          "Honduras",
          "Puerto Rico",
          "Sierra Leone",
          "Israel",
          "New Zealand",
          "Uruguay",
          "Ireland",
          "El Salvador",
          "Burundi",
          "Somalia",
          "Rwanda",
          "Guinea",
          "Chad",
          "Bosnia and Herzegovina",
          "Hong Kong, China",
          "Norway",
          "Zambia",
          "Senegal",
          "Bolivia",
          "Dominican Republic",
          "Malawi",
          "Croatia",
          "Haiti",
          "Slovak Republic",
          "Niger",
          "Finland",
          "Guatemala",
          "Cote d'Ivoire",
          "Tunisia",
          "Denmark",
          "Zimbabwe",
          "Burkina Faso",
          "Mali",
          "Angola",
          "Ecuador",
          "Saudi Arabia",
          "Syria",
          "Switzerland",
          "Madagascar",
          "Cameroon",
          "Yemen, Rep.",
          "Cambodia",
          "Austria",
          "Sweden",
          "Serbia",
          "Cuba",
          "Bulgaria",
          "Ghana",
          "Iraq",
          "Mozambique",
          "Greece",
          "Chile",
          "Uganda",
          "Portugal",
          "Belgium",
          "Venezuela",
          "Czech Republic",
          "Malaysia",
          "Kenya",
          "Hungary",
          "Nepal",
          "Afghanistan",
          "Sri Lanka",
          "Australia",
          "Peru",
          "Netherlands",
          "Tanzania",
          "Korea, Dem. Rep.",
          "Sudan",
          "Algeria",
          "Taiwan",
          "Morocco",
          "Romania",
          "Colombia",
          "Congo, Dem. Rep.",
          "Canada",
          "South Africa",
          "Argentina",
          "Myanmar",
          "Iran",
          "Ethiopia",
          "Korea, Rep.",
          "Egypt",
          "Poland",
          "Spain",
          "Turkey",
          "Thailand",
          "Philippines",
          "Vietnam",
          "Nigeria",
          "Mexico",
          "France",
          "Italy",
          "United Kingdom",
          "Pakistan",
          "Bangladesh",
          "Germany",
          "Brazil",
          "Japan",
          "Indonesia",
          "United States",
          "India",
          "China"
         ]
        },
        {
         "marker": {
          "color": [
           "rgb(6, 219, 17)",
           "rgb(129, 46, 134)",
           "rgb(123, 216, 169)",
           "rgb(209, 50, 30)",
           "rgb(135, 56, 204)",
           "rgb(26, 99, 15)",
           "rgb(214, 250, 16)",
           "rgb(120, 61, 206)",
           "rgb(132, 9, 36)",
           "rgb(16, 193, 232)",
           "rgb(62, 157, 216)",
           "rgb(39, 130, 78)",
           "rgb(35, 141, 179)",
           "rgb(171, 115, 5)",
           "rgb(47, 26, 222)",
           "rgb(253, 234, 92)",
           "rgb(214, 226, 234)",
           "rgb(100, 218, 248)",
           "rgb(231, 234, 163)",
           "rgb(109, 156, 213)",
           "rgb(73, 234, 46)",
           "rgb(123, 86, 137)",
           "rgb(81, 148, 89)",
           "rgb(167, 27, 71)",
           "rgb(17, 68, 3)",
           "rgb(142, 115, 181)",
           "rgb(150, 100, 91)",
           "rgb(143, 91, 73)",
           "rgb(107, 177, 167)",
           "rgb(92, 209, 234)",
           "rgb(245, 92, 32)",
           "rgb(55, 36, 34)",
           "rgb(115, 207, 154)",
           "rgb(252, 230, 99)",
           "rgb(218, 158, 91)",
           "rgb(166, 36, 121)",
           "rgb(228, 238, 137)",
           "rgb(97, 99, 153)",
           "rgb(235, 173, 81)",
           "rgb(201, 244, 118)",
           "rgb(64, 116, 248)",
           "rgb(222, 37, 139)",
           "rgb(204, 197, 116)",
           "rgb(238, 180, 102)",
           "rgb(41, 198, 106)",
           "rgb(76, 140, 110)",
           "rgb(147, 245, 122)",
           "rgb(157, 204, 148)",
           "rgb(46, 17, 191)",
           "rgb(79, 27, 103)",
           "rgb(61, 189, 17)",
           "rgb(111, 107, 191)",
           "rgb(114, 225, 154)",
           "rgb(43, 6, 124)",
           "rgb(4, 223, 79)",
           "rgb(237, 144, 233)",
           "rgb(104, 69, 246)",
           "rgb(226, 202, 63)",
           "rgb(92, 247, 203)",
           "rgb(31, 16, 125)",
           "rgb(120, 61, 25)",
           "rgb(10, 252, 252)",
           "rgb(207, 187, 85)",
           "rgb(252, 209, 231)",
           "rgb(94, 59, 86)",
           "rgb(13, 115, 54)",
           "rgb(6, 237, 100)",
           "rgb(112, 86, 160)",
           "rgb(91, 109, 193)",
           "rgb(164, 197, 53)",
           "rgb(128, 11, 239)",
           "rgb(35, 75, 164)",
           "rgb(216, 144, 101)",
           "rgb(57, 254, 105)",
           "rgb(29, 12, 251)",
           "rgb(98, 55, 107)",
           "rgb(170, 72, 162)",
           "rgb(87, 135, 156)",
           "rgb(8, 229, 164)",
           "rgb(60, 18, 157)",
           "rgb(215, 47, 106)",
           "rgb(249, 193, 77)",
           "rgb(136, 49, 36)",
           "rgb(58, 182, 49)",
           "rgb(124, 203, 158)",
           "rgb(130, 113, 41)",
           "rgb(62, 160, 124)",
           "rgb(238, 184, 99)",
           "rgb(147, 29, 1)",
           "rgb(237, 8, 138)",
           "rgb(8, 184, 247)",
           "rgb(227, 156, 91)",
           "rgb(114, 141, 3)",
           "rgb(3, 114, 173)",
           "rgb(230, 231, 119)",
           "rgb(70, 241, 141)",
           "rgb(150, 227, 114)",
           "rgb(196, 95, 0)",
           "rgb(28, 253, 170)",
           "rgb(97, 10, 78)",
           "rgb(250, 34, 33)",
           "rgb(249, 98, 179)",
           "rgb(216, 243, 135)",
           "rgb(15, 213, 93)",
           "rgb(4, 131, 133)",
           "rgb(60, 25, 165)",
           "rgb(175, 18, 72)",
           "rgb(223, 3, 112)",
           "rgb(178, 78, 255)",
           "rgb(15, 59, 99)",
           "rgb(161, 104, 38)",
           "rgb(215, 203, 44)",
           "rgb(2, 50, 253)",
           "rgb(92, 180, 15)",
           "rgb(113, 61, 110)",
           "rgb(142, 205, 230)",
           "rgb(76, 103, 169)",
           "rgb(182, 228, 104)",
           "rgb(142, 174, 207)",
           "rgb(16, 107, 161)",
           "rgb(139, 123, 230)",
           "rgb(215, 167, 109)",
           "rgb(50, 196, 66)",
           "rgb(89, 144, 80)",
           "rgb(210, 94, 169)",
           "rgb(146, 67, 9)",
           "rgb(65, 171, 239)",
           "rgb(71, 253, 207)",
           "rgb(136, 38, 254)",
           "rgb(162, 170, 6)",
           "rgb(37, 184, 77)",
           "rgb(58, 172, 173)",
           "rgb(51, 56, 18)",
           "rgb(148, 130, 84)",
           "rgb(151, 218, 58)",
           "rgb(80, 90, 108)",
           "rgb(106, 176, 96)",
           "rgb(165, 68, 153)",
           "rgb(18, 198, 14)",
           "rgb(159, 141, 70)",
           "rgb(84, 20, 109)",
           "rgb(57, 224, 147)"
          ]
         },
         "name": "1972",
         "orientation": "h",
         "type": "bar",
         "x": [
          76595,
          178848,
          209275,
          230800,
          250027,
          277603,
          461633,
          480105,
          517101,
          527678,
          537977,
          619351,
          625361,
          821782,
          829050,
          841934,
          851334,
          975199,
          1089572,
          1116779,
          1320500,
          1332786,
          1340458,
          1482628,
          1613551,
          1616384,
          1694510,
          1834796,
          1927260,
          1997616,
          2056351,
          2152400,
          2182908,
          2183877,
          2260187,
          2263554,
          2614104,
          2680018,
          2761407,
          2829526,
          2847132,
          2879013,
          2929100,
          2965146,
          3024400,
          3095893,
          3529983,
          3790903,
          3811387,
          3819000,
          3840161,
          3899068,
          3933004,
          3992121,
          4115700,
          4225310,
          4506497,
          4565872,
          4588696,
          4593433,
          4639657,
          4671329,
          4698301,
          4730997,
          4991596,
          5060262,
          5149581,
          5303507,
          5433886,
          5828158,
          5861135,
          5894858,
          6071696,
          6298651,
          6401400,
          6472756,
          6701172,
          7021028,
          7082430,
          7407075,
          7450606,
          7544201,
          8122293,
          8313288,
          8576200,
          8831348,
          8888628,
          8970450,
          9354120,
          9709100,
          9717524,
          9809596,
          9862158,
          10061506,
          10190285,
          10394091,
          11441462,
          11515649,
          12044785,
          12412593,
          13016733,
          13079460,
          13177000,
          13329874,
          13954700,
          14597019,
          14706593,
          14760787,
          14781241,
          15226039,
          16660670,
          20662648,
          22284500,
          22542890,
          23007669,
          23935810,
          24779799,
          28466390,
          30614000,
          30770372,
          33039545,
          33505000,
          34513161,
          34807417,
          37492953,
          39276153,
          40850141,
          44655014,
          51732000,
          53740085,
          54365564,
          55984294,
          56079000,
          69325921,
          70759295,
          78717088,
          100840058,
          107188273,
          121282000,
          209896000,
          567000000,
          862030000
         ],
         "y": [
          "Sao Tome and Principe",
          "Djibouti",
          "Iceland",
          "Bahrain",
          "Comoros",
          "Equatorial Guinea",
          "Reunion",
          "Swaziland",
          "Gambia",
          "Montenegro",
          "Gabon",
          "Botswana",
          "Guinea-Bissau",
          "Namibia",
          "Oman",
          "Kuwait",
          "Mauritius",
          "Trinidad and Tobago",
          "West Bank and Gaza",
          "Lesotho",
          "Mongolia",
          "Mauritania",
          "Congo, Rep.",
          "Liberia",
          "Jordan",
          "Panama",
          "Slovenia",
          "Costa Rica",
          "Central African Republic",
          "Jamaica",
          "Togo",
          "Singapore",
          "Nicaragua",
          "Libya",
          "Eritrea",
          "Albania",
          "Paraguay",
          "Lebanon",
          "Benin",
          "Uruguay",
          "Puerto Rico",
          "Sierra Leone",
          "New Zealand",
          "Honduras",
          "Ireland",
          "Israel",
          "Burundi",
          "El Salvador",
          "Guinea",
          "Bosnia and Herzegovina",
          "Somalia",
          "Chad",
          "Norway",
          "Rwanda",
          "Hong Kong, China",
          "Croatia",
          "Zambia",
          "Bolivia",
          "Senegal",
          "Slovak Republic",
          "Finland",
          "Dominican Republic",
          "Haiti",
          "Malawi",
          "Denmark",
          "Niger",
          "Guatemala",
          "Tunisia",
          "Burkina Faso",
          "Mali",
          "Zimbabwe",
          "Angola",
          "Cote d'Ivoire",
          "Ecuador",
          "Switzerland",
          "Saudi Arabia",
          "Syria",
          "Cameroon",
          "Madagascar",
          "Yemen, Rep.",
          "Cambodia",
          "Austria",
          "Sweden",
          "Serbia",
          "Bulgaria",
          "Cuba",
          "Greece",
          "Portugal",
          "Ghana",
          "Belgium",
          "Chile",
          "Mozambique",
          "Czech Republic",
          "Iraq",
          "Uganda",
          "Hungary",
          "Malaysia",
          "Venezuela",
          "Kenya",
          "Nepal",
          "Sri Lanka",
          "Afghanistan",
          "Australia",
          "Netherlands",
          "Peru",
          "Sudan",
          "Tanzania",
          "Algeria",
          "Korea, Dem. Rep.",
          "Taiwan",
          "Morocco",
          "Romania",
          "Canada",
          "Colombia",
          "Congo, Dem. Rep.",
          "South Africa",
          "Argentina",
          "Myanmar",
          "Iran",
          "Ethiopia",
          "Poland",
          "Korea, Rep.",
          "Spain",
          "Egypt",
          "Turkey",
          "Thailand",
          "Philippines",
          "Vietnam",
          "France",
          "Nigeria",
          "Italy",
          "Mexico",
          "United Kingdom",
          "Pakistan",
          "Bangladesh",
          "Germany",
          "Brazil",
          "Japan",
          "Indonesia",
          "United States",
          "India",
          "China"
         ]
        },
        {
         "marker": {
          "color": [
           "rgb(6, 219, 17)",
           "rgb(26, 99, 15)",
           "rgb(123, 216, 169)",
           "rgb(129, 46, 134)",
           "rgb(209, 50, 30)",
           "rgb(135, 56, 204)",
           "rgb(214, 250, 16)",
           "rgb(120, 61, 206)",
           "rgb(16, 193, 232)",
           "rgb(132, 9, 36)",
           "rgb(62, 157, 216)",
           "rgb(35, 141, 179)",
           "rgb(39, 130, 78)",
           "rgb(214, 226, 234)",
           "rgb(171, 115, 5)",
           "rgb(47, 26, 222)",
           "rgb(100, 218, 248)",
           "rgb(253, 234, 92)",
           "rgb(109, 156, 213)",
           "rgb(231, 234, 163)",
           "rgb(123, 86, 137)",
           "rgb(73, 234, 46)",
           "rgb(81, 148, 89)",
           "rgb(167, 27, 71)",
           "rgb(150, 100, 91)",
           "rgb(142, 115, 181)",
           "rgb(17, 68, 3)",
           "rgb(143, 91, 73)",
           "rgb(92, 209, 234)",
           "rgb(107, 177, 167)",
           "rgb(245, 92, 32)",
           "rgb(55, 36, 34)",
           "rgb(166, 36, 121)",
           "rgb(218, 158, 91)",
           "rgb(115, 207, 154)",
           "rgb(252, 230, 99)",
           "rgb(201, 244, 118)",
           "rgb(228, 238, 137)",
           "rgb(238, 180, 102)",
           "rgb(64, 116, 248)",
           "rgb(97, 99, 153)",
           "rgb(222, 37, 139)",
           "rgb(204, 197, 116)",
           "rgb(235, 173, 81)",
           "rgb(41, 198, 106)",
           "rgb(76, 140, 110)",
           "rgb(147, 245, 122)",
           "rgb(114, 225, 154)",
           "rgb(79, 27, 103)",
           "rgb(46, 17, 191)",
           "rgb(157, 204, 148)",
           "rgb(237, 144, 233)",
           "rgb(61, 189, 17)",
           "rgb(111, 107, 191)",
           "rgb(4, 223, 79)",
           "rgb(43, 6, 124)",
           "rgb(120, 61, 25)",
           "rgb(31, 16, 125)",
           "rgb(207, 187, 85)",
           "rgb(226, 202, 63)",
           "rgb(94, 59, 86)",
           "rgb(104, 69, 246)",
           "rgb(92, 247, 203)",
           "rgb(10, 252, 252)",
           "rgb(252, 209, 231)",
           "rgb(13, 115, 54)",
           "rgb(6, 237, 100)",
           "rgb(91, 109, 193)",
           "rgb(112, 86, 160)",
           "rgb(35, 75, 164)",
           "rgb(29, 12, 251)",
           "rgb(164, 197, 53)",
           "rgb(128, 11, 239)",
           "rgb(215, 47, 106)",
           "rgb(57, 254, 105)",
           "rgb(216, 144, 101)",
           "rgb(249, 193, 77)",
           "rgb(170, 72, 162)",
           "rgb(87, 135, 156)",
           "rgb(8, 229, 164)",
           "rgb(98, 55, 107)",
           "rgb(136, 49, 36)",
           "rgb(60, 18, 157)",
           "rgb(58, 182, 49)",
           "rgb(124, 203, 158)",
           "rgb(62, 160, 124)",
           "rgb(130, 113, 41)",
           "rgb(238, 184, 99)",
           "rgb(237, 8, 138)",
           "rgb(114, 141, 3)",
           "rgb(147, 29, 1)",
           "rgb(8, 184, 247)",
           "rgb(70, 241, 141)",
           "rgb(227, 156, 91)",
           "rgb(230, 231, 119)",
           "rgb(3, 114, 173)",
           "rgb(150, 227, 114)",
           "rgb(196, 95, 0)",
           "rgb(15, 213, 93)",
           "rgb(97, 10, 78)",
           "rgb(216, 243, 135)",
           "rgb(250, 34, 33)",
           "rgb(28, 253, 170)",
           "rgb(249, 98, 179)",
           "rgb(4, 131, 133)",
           "rgb(178, 78, 255)",
           "rgb(15, 59, 99)",
           "rgb(60, 25, 165)",
           "rgb(175, 18, 72)",
           "rgb(223, 3, 112)",
           "rgb(161, 104, 38)",
           "rgb(215, 203, 44)",
           "rgb(2, 50, 253)",
           "rgb(92, 180, 15)",
           "rgb(113, 61, 110)",
           "rgb(76, 103, 169)",
           "rgb(142, 205, 230)",
           "rgb(182, 228, 104)",
           "rgb(16, 107, 161)",
           "rgb(139, 123, 230)",
           "rgb(142, 174, 207)",
           "rgb(215, 167, 109)",
           "rgb(50, 196, 66)",
           "rgb(89, 144, 80)",
           "rgb(210, 94, 169)",
           "rgb(146, 67, 9)",
           "rgb(65, 171, 239)",
           "rgb(71, 253, 207)",
           "rgb(136, 38, 254)",
           "rgb(37, 184, 77)",
           "rgb(51, 56, 18)",
           "rgb(162, 170, 6)",
           "rgb(58, 172, 173)",
           "rgb(148, 130, 84)",
           "rgb(80, 90, 108)",
           "rgb(151, 218, 58)",
           "rgb(165, 68, 153)",
           "rgb(106, 176, 96)",
           "rgb(18, 198, 14)",
           "rgb(159, 141, 70)",
           "rgb(84, 20, 109)",
           "rgb(57, 224, 147)"
          ]
         },
         "name": "1977",
         "orientation": "h",
         "type": "bar",
         "x": [
          86796,
          192675,
          221823,
          228694,
          297410,
          304739,
          492095,
          551425,
          560073,
          608274,
          706367,
          745228,
          781472,
          913025,
          977026,
          1004533,
          1039009,
          1140357,
          1251524,
          1261091,
          1456688,
          1528000,
          1536769,
          1703617,
          1746919,
          1839782,
          1937652,
          2108457,
          2156814,
          2167533,
          2308582,
          2325300,
          2509048,
          2512642,
          2554598,
          2721783,
          2873520,
          2984494,
          3055235,
          3080828,
          3115787,
          3140897,
          3164900,
          3168267,
          3271900,
          3495918,
          3834415,
          4043205,
          4086000,
          4227026,
          4282586,
          4318673,
          4353666,
          4388260,
          4583700,
          4657072,
          4738902,
          4827803,
          4908554,
          5079716,
          5088419,
          5216550,
          5260855,
          5302800,
          5637246,
          5682086,
          5703430,
          5889574,
          6005061,
          6162675,
          6316424,
          6491649,
          6642107,
          6978607,
          7278866,
          7459574,
          7568430,
          7932503,
          7959865,
          8007166,
          8128505,
          8251648,
          8403990,
          8686367,
          8797022,
          9308479,
          9537988,
          9662600,
          9821800,
          10161915,
          10538093,
          10599793,
          10637171,
          11127868,
          11457758,
          11882916,
          12845381,
          13503563,
          13852989,
          13933198,
          14074100,
          14116836,
          14500404,
          14880372,
          15990099,
          16325320,
          16785196,
          17104986,
          17129565,
          17152804,
          18396941,
          21658597,
          23796400,
          25094412,
          26480870,
          26983828,
          27129932,
          31528087,
          34617799,
          34621254,
          35480679,
          36436000,
          36439000,
          38783863,
          42404033,
          44148285,
          46850962,
          50533506,
          53165019,
          56059245,
          56179000,
          62209173,
          63759976,
          78152686,
          78160773,
          80428306,
          113872473,
          114313951,
          136725000,
          220239000,
          634000000,
          943455000
         ],
         "y": [
          "Sao Tome and Principe",
          "Equatorial Guinea",
          "Iceland",
          "Djibouti",
          "Bahrain",
          "Comoros",
          "Reunion",
          "Swaziland",
          "Montenegro",
          "Gambia",
          "Gabon",
          "Guinea-Bissau",
          "Botswana",
          "Mauritius",
          "Namibia",
          "Oman",
          "Trinidad and Tobago",
          "Kuwait",
          "Lesotho",
          "West Bank and Gaza",
          "Mauritania",
          "Mongolia",
          "Congo, Rep.",
          "Liberia",
          "Slovenia",
          "Panama",
          "Jordan",
          "Costa Rica",
          "Jamaica",
          "Central African Republic",
          "Togo",
          "Singapore",
          "Albania",
          "Eritrea",
          "Nicaragua",
          "Libya",
          "Uruguay",
          "Paraguay",
          "Honduras",
          "Puerto Rico",
          "Lebanon",
          "Sierra Leone",
          "New Zealand",
          "Benin",
          "Ireland",
          "Israel",
          "Burundi",
          "Norway",
          "Bosnia and Herzegovina",
          "Guinea",
          "El Salvador",
          "Croatia",
          "Somalia",
          "Chad",
          "Hong Kong, China",
          "Rwanda",
          "Finland",
          "Slovak Republic",
          "Haiti",
          "Bolivia",
          "Denmark",
          "Zambia",
          "Senegal",
          "Dominican Republic",
          "Malawi",
          "Niger",
          "Guatemala",
          "Burkina Faso",
          "Tunisia",
          "Angola",
          "Switzerland",
          "Mali",
          "Zimbabwe",
          "Cambodia",
          "Ecuador",
          "Cote d'Ivoire",
          "Austria",
          "Syria",
          "Cameroon",
          "Madagascar",
          "Saudi Arabia",
          "Sweden",
          "Yemen, Rep.",
          "Serbia",
          "Bulgaria",
          "Greece",
          "Cuba",
          "Portugal",
          "Belgium",
          "Czech Republic",
          "Ghana",
          "Chile",
          "Hungary",
          "Mozambique",
          "Uganda",
          "Iraq",
          "Malaysia",
          "Venezuela",
          "Netherlands",
          "Nepal",
          "Australia",
          "Sri Lanka",
          "Kenya",
          "Afghanistan",
          "Peru",
          "Korea, Dem. Rep.",
          "Taiwan",
          "Sudan",
          "Tanzania",
          "Algeria",
          "Morocco",
          "Romania",
          "Canada",
          "Colombia",
          "Congo, Dem. Rep.",
          "Argentina",
          "South Africa",
          "Myanmar",
          "Ethiopia",
          "Poland",
          "Iran",
          "Korea, Rep.",
          "Spain",
          "Egypt",
          "Turkey",
          "Thailand",
          "Philippines",
          "Vietnam",
          "France",
          "Italy",
          "United Kingdom",
          "Nigeria",
          "Mexico",
          "Pakistan",
          "Germany",
          "Bangladesh",
          "Japan",
          "Brazil",
          "Indonesia",
          "United States",
          "India",
          "China"
         ]
        },
        {
         "marker": {
          "color": [
           "rgb(6, 219, 17)",
           "rgb(123, 216, 169)",
           "rgb(26, 99, 15)",
           "rgb(129, 46, 134)",
           "rgb(135, 56, 204)",
           "rgb(209, 50, 30)",
           "rgb(214, 250, 16)",
           "rgb(16, 193, 232)",
           "rgb(120, 61, 206)",
           "rgb(132, 9, 36)",
           "rgb(62, 157, 216)",
           "rgb(35, 141, 179)",
           "rgb(39, 130, 78)",
           "rgb(214, 226, 234)",
           "rgb(171, 115, 5)",
           "rgb(100, 218, 248)",
           "rgb(47, 26, 222)",
           "rgb(109, 156, 213)",
           "rgb(231, 234, 163)",
           "rgb(253, 234, 92)",
           "rgb(123, 86, 137)",
           "rgb(73, 234, 46)",
           "rgb(81, 148, 89)",
           "rgb(150, 100, 91)",
           "rgb(167, 27, 71)",
           "rgb(142, 115, 181)",
           "rgb(92, 209, 234)",
           "rgb(17, 68, 3)",
           "rgb(143, 91, 73)",
           "rgb(107, 177, 167)",
           "rgb(218, 158, 91)",
           "rgb(245, 92, 32)",
           "rgb(55, 36, 34)",
           "rgb(166, 36, 121)",
           "rgb(201, 244, 118)",
           "rgb(115, 207, 154)",
           "rgb(97, 99, 153)",
           "rgb(204, 197, 116)",
           "rgb(64, 116, 248)",
           "rgb(252, 230, 99)",
           "rgb(228, 238, 137)",
           "rgb(222, 37, 139)",
           "rgb(41, 198, 106)",
           "rgb(235, 173, 81)",
           "rgb(238, 180, 102)",
           "rgb(76, 140, 110)",
           "rgb(114, 225, 154)",
           "rgb(79, 27, 103)",
           "rgb(237, 144, 233)",
           "rgb(157, 204, 148)",
           "rgb(147, 245, 122)",
           "rgb(46, 17, 191)",
           "rgb(120, 61, 25)",
           "rgb(111, 107, 191)",
           "rgb(31, 16, 125)",
           "rgb(94, 59, 86)",
           "rgb(207, 187, 85)",
           "rgb(4, 223, 79)",
           "rgb(43, 6, 124)",
           "rgb(226, 202, 63)",
           "rgb(61, 189, 17)",
           "rgb(10, 252, 252)",
           "rgb(104, 69, 246)",
           "rgb(92, 247, 203)",
           "rgb(6, 237, 100)",
           "rgb(13, 115, 54)",
           "rgb(29, 12, 251)",
           "rgb(252, 209, 231)",
           "rgb(91, 109, 193)",
           "rgb(112, 86, 160)",
           "rgb(164, 197, 53)",
           "rgb(35, 75, 164)",
           "rgb(215, 47, 106)",
           "rgb(249, 193, 77)",
           "rgb(128, 11, 239)",
           "rgb(136, 49, 36)",
           "rgb(57, 254, 105)",
           "rgb(124, 203, 158)",
           "rgb(216, 144, 101)",
           "rgb(58, 182, 49)",
           "rgb(8, 229, 164)",
           "rgb(87, 135, 156)",
           "rgb(170, 72, 162)",
           "rgb(60, 18, 157)",
           "rgb(62, 160, 124)",
           "rgb(130, 113, 41)",
           "rgb(237, 8, 138)",
           "rgb(238, 184, 99)",
           "rgb(114, 141, 3)",
           "rgb(70, 241, 141)",
           "rgb(98, 55, 107)",
           "rgb(147, 29, 1)",
           "rgb(8, 184, 247)",
           "rgb(227, 156, 91)",
           "rgb(249, 98, 179)",
           "rgb(230, 231, 119)",
           "rgb(3, 114, 173)",
           "rgb(15, 213, 93)",
           "rgb(150, 227, 114)",
           "rgb(216, 243, 135)",
           "rgb(250, 34, 33)",
           "rgb(196, 95, 0)",
           "rgb(97, 10, 78)",
           "rgb(178, 78, 255)",
           "rgb(28, 253, 170)",
           "rgb(4, 131, 133)",
           "rgb(15, 59, 99)",
           "rgb(175, 18, 72)",
           "rgb(223, 3, 112)",
           "rgb(161, 104, 38)",
           "rgb(60, 25, 165)",
           "rgb(215, 203, 44)",
           "rgb(2, 50, 253)",
           "rgb(92, 180, 15)",
           "rgb(76, 103, 169)",
           "rgb(113, 61, 110)",
           "rgb(142, 205, 230)",
           "rgb(182, 228, 104)",
           "rgb(139, 123, 230)",
           "rgb(50, 196, 66)",
           "rgb(16, 107, 161)",
           "rgb(215, 167, 109)",
           "rgb(142, 174, 207)",
           "rgb(89, 144, 80)",
           "rgb(210, 94, 169)",
           "rgb(146, 67, 9)",
           "rgb(65, 171, 239)",
           "rgb(136, 38, 254)",
           "rgb(71, 253, 207)",
           "rgb(51, 56, 18)",
           "rgb(37, 184, 77)",
           "rgb(58, 172, 173)",
           "rgb(162, 170, 6)",
           "rgb(80, 90, 108)",
           "rgb(148, 130, 84)",
           "rgb(151, 218, 58)",
           "rgb(165, 68, 153)",
           "rgb(106, 176, 96)",
           "rgb(18, 198, 14)",
           "rgb(159, 141, 70)",
           "rgb(84, 20, 109)",
           "rgb(57, 224, 147)"
          ]
         },
         "name": "1982",
         "orientation": "h",
         "type": "bar",
         "x": [
          98593,
          233997,
          285483,
          305991,
          348643,
          377967,
          517810,
          562548,
          649901,
          715523,
          753874,
          825987,
          970347,
          992040,
          1099010,
          1116479,
          1301048,
          1411807,
          1425876,
          1497494,
          1622136,
          1756032,
          1774735,
          1861252,
          1956875,
          2036305,
          2298309,
          2347031,
          2424367,
          2476971,
          2637297,
          2644765,
          2651869,
          2780097,
          2953997,
          2979423,
          3086876,
          3210650,
          3279001,
          3344074,
          3366439,
          3464522,
          3480000,
          3641603,
          3669448,
          3858421,
          4114787,
          4172693,
          4413368,
          4474873,
          4580410,
          4710497,
          4826933,
          4875118,
          5048043,
          5117810,
          5198399,
          5264500,
          5507565,
          5642224,
          5828892,
          5968349,
          6100407,
          6147783,
          6395630,
          6437188,
          6468126,
          6502825,
          6634596,
          6734098,
          6998256,
          7016384,
          7272485,
          7574613,
          7636524,
          8325260,
          8365850,
          8892098,
          9025951,
          9032824,
          9171477,
          9250831,
          9410494,
          9657618,
          9786480,
          9789224,
          9856303,
          9859650,
          10303704,
          10705535,
          11254672,
          11400338,
          11487112,
          12587223,
          12881816,
          12939400,
          14173318,
          14310401,
          14441916,
          15184200,
          15410151,
          15620766,
          15796314,
          17647518,
          17661452,
          18125129,
          18501390,
          19844382,
          20033753,
          20198730,
          20367053,
          22356726,
          25201900,
          27764644,
          29341374,
          30646495,
          31140029,
          34680442,
          36227381,
          37983310,
          38111756,
          39326000,
          43072751,
          45681811,
          47328791,
          48827160,
          53456774,
          54433565,
          56142181,
          56339704,
          56535636,
          71640904,
          73039376,
          78335266,
          91462088,
          93074406,
          118454974,
          128962939,
          153343000,
          232187835,
          708000000,
          1000281000
         ],
         "y": [
          "Sao Tome and Principe",
          "Iceland",
          "Equatorial Guinea",
          "Djibouti",
          "Comoros",
          "Bahrain",
          "Reunion",
          "Montenegro",
          "Swaziland",
          "Gambia",
          "Gabon",
          "Guinea-Bissau",
          "Botswana",
          "Mauritius",
          "Namibia",
          "Trinidad and Tobago",
          "Oman",
          "Lesotho",
          "West Bank and Gaza",
          "Kuwait",
          "Mauritania",
          "Mongolia",
          "Congo, Rep.",
          "Slovenia",
          "Liberia",
          "Panama",
          "Jamaica",
          "Jordan",
          "Costa Rica",
          "Central African Republic",
          "Eritrea",
          "Togo",
          "Singapore",
          "Albania",
          "Uruguay",
          "Nicaragua",
          "Lebanon",
          "New Zealand",
          "Puerto Rico",
          "Libya",
          "Paraguay",
          "Sierra Leone",
          "Ireland",
          "Benin",
          "Honduras",
          "Israel",
          "Norway",
          "Bosnia and Herzegovina",
          "Croatia",
          "El Salvador",
          "Burundi",
          "Guinea",
          "Finland",
          "Chad",
          "Slovak Republic",
          "Denmark",
          "Haiti",
          "Hong Kong, China",
          "Rwanda",
          "Bolivia",
          "Somalia",
          "Dominican Republic",
          "Zambia",
          "Senegal",
          "Guatemala",
          "Niger",
          "Switzerland",
          "Malawi",
          "Burkina Faso",
          "Tunisia",
          "Mali",
          "Angola",
          "Cambodia",
          "Austria",
          "Zimbabwe",
          "Sweden",
          "Ecuador",
          "Bulgaria",
          "Cote d'Ivoire",
          "Serbia",
          "Madagascar",
          "Cameroon",
          "Syria",
          "Yemen, Rep.",
          "Greece",
          "Cuba",
          "Belgium",
          "Portugal",
          "Czech Republic",
          "Hungary",
          "Saudi Arabia",
          "Ghana",
          "Chile",
          "Mozambique",
          "Afghanistan",
          "Uganda",
          "Iraq",
          "Netherlands",
          "Malaysia",
          "Australia",
          "Sri Lanka",
          "Venezuela",
          "Nepal",
          "Korea, Dem. Rep.",
          "Kenya",
          "Peru",
          "Taiwan",
          "Tanzania",
          "Algeria",
          "Morocco",
          "Sudan",
          "Romania",
          "Canada",
          "Colombia",
          "Argentina",
          "Congo, Dem. Rep.",
          "South Africa",
          "Myanmar",
          "Poland",
          "Spain",
          "Ethiopia",
          "Korea, Rep.",
          "Iran",
          "Egypt",
          "Turkey",
          "Thailand",
          "Philippines",
          "France",
          "Vietnam",
          "United Kingdom",
          "Italy",
          "Mexico",
          "Nigeria",
          "Germany",
          "Pakistan",
          "Bangladesh",
          "Japan",
          "Brazil",
          "Indonesia",
          "United States",
          "India",
          "China"
         ]
        },
        {
         "marker": {
          "color": [
           "rgb(6, 219, 17)",
           "rgb(123, 216, 169)",
           "rgb(129, 46, 134)",
           "rgb(26, 99, 15)",
           "rgb(135, 56, 204)",
           "rgb(209, 50, 30)",
           "rgb(214, 250, 16)",
           "rgb(16, 193, 232)",
           "rgb(120, 61, 206)",
           "rgb(132, 9, 36)",
           "rgb(62, 157, 216)",
           "rgb(35, 141, 179)",
           "rgb(214, 226, 234)",
           "rgb(39, 130, 78)",
           "rgb(100, 218, 248)",
           "rgb(171, 115, 5)",
           "rgb(47, 26, 222)",
           "rgb(109, 156, 213)",
           "rgb(231, 234, 163)",
           "rgb(123, 86, 137)",
           "rgb(253, 234, 92)",
           "rgb(150, 100, 91)",
           "rgb(73, 234, 46)",
           "rgb(81, 148, 89)",
           "rgb(142, 115, 181)",
           "rgb(167, 27, 71)",
           "rgb(92, 209, 234)",
           "rgb(55, 36, 34)",
           "rgb(143, 91, 73)",
           "rgb(17, 68, 3)",
           "rgb(107, 177, 167)",
           "rgb(218, 158, 91)",
           "rgb(201, 244, 118)",
           "rgb(166, 36, 121)",
           "rgb(97, 99, 153)",
           "rgb(245, 92, 32)",
           "rgb(204, 197, 116)",
           "rgb(115, 207, 154)",
           "rgb(64, 116, 248)",
           "rgb(41, 198, 106)",
           "rgb(252, 230, 99)",
           "rgb(222, 37, 139)",
           "rgb(228, 238, 137)",
           "rgb(114, 225, 154)",
           "rgb(76, 140, 110)",
           "rgb(235, 173, 81)",
           "rgb(79, 27, 103)",
           "rgb(238, 180, 102)",
           "rgb(237, 144, 233)",
           "rgb(157, 204, 148)",
           "rgb(120, 61, 25)",
           "rgb(147, 245, 122)",
           "rgb(94, 59, 86)",
           "rgb(31, 16, 125)",
           "rgb(111, 107, 191)",
           "rgb(4, 223, 79)",
           "rgb(46, 17, 191)",
           "rgb(207, 187, 85)",
           "rgb(226, 202, 63)",
           "rgb(43, 6, 124)",
           "rgb(29, 12, 251)",
           "rgb(10, 252, 252)",
           "rgb(61, 189, 17)",
           "rgb(92, 247, 203)",
           "rgb(104, 69, 246)",
           "rgb(6, 237, 100)",
           "rgb(13, 115, 54)",
           "rgb(249, 193, 77)",
           "rgb(91, 109, 193)",
           "rgb(164, 197, 53)",
           "rgb(112, 86, 160)",
           "rgb(252, 209, 231)",
           "rgb(35, 75, 164)",
           "rgb(215, 47, 106)",
           "rgb(136, 49, 36)",
           "rgb(124, 203, 158)",
           "rgb(128, 11, 239)",
           "rgb(58, 182, 49)",
           "rgb(57, 254, 105)",
           "rgb(237, 8, 138)",
           "rgb(238, 184, 99)",
           "rgb(62, 160, 124)",
           "rgb(130, 113, 41)",
           "rgb(114, 141, 3)",
           "rgb(8, 229, 164)",
           "rgb(70, 241, 141)",
           "rgb(216, 144, 101)",
           "rgb(87, 135, 156)",
           "rgb(60, 18, 157)",
           "rgb(170, 72, 162)",
           "rgb(8, 184, 247)",
           "rgb(227, 156, 91)",
           "rgb(249, 98, 179)",
           "rgb(147, 29, 1)",
           "rgb(98, 55, 107)",
           "rgb(15, 213, 93)",
           "rgb(230, 231, 119)",
           "rgb(216, 243, 135)",
           "rgb(150, 227, 114)",
           "rgb(250, 34, 33)",
           "rgb(3, 114, 173)",
           "rgb(196, 95, 0)",
           "rgb(97, 10, 78)",
           "rgb(178, 78, 255)",
           "rgb(15, 59, 99)",
           "rgb(4, 131, 133)",
           "rgb(28, 253, 170)",
           "rgb(215, 203, 44)",
           "rgb(161, 104, 38)",
           "rgb(175, 18, 72)",
           "rgb(223, 3, 112)",
           "rgb(60, 25, 165)",
           "rgb(2, 50, 253)",
           "rgb(92, 180, 15)",
           "rgb(76, 103, 169)",
           "rgb(113, 61, 110)",
           "rgb(142, 205, 230)",
           "rgb(139, 123, 230)",
           "rgb(182, 228, 104)",
           "rgb(50, 196, 66)",
           "rgb(215, 167, 109)",
           "rgb(16, 107, 161)",
           "rgb(142, 174, 207)",
           "rgb(89, 144, 80)",
           "rgb(210, 94, 169)",
           "rgb(146, 67, 9)",
           "rgb(136, 38, 254)",
           "rgb(37, 184, 77)",
           "rgb(51, 56, 18)",
           "rgb(65, 171, 239)",
           "rgb(71, 253, 207)",
           "rgb(80, 90, 108)",
           "rgb(58, 172, 173)",
           "rgb(162, 170, 6)",
           "rgb(151, 218, 58)",
           "rgb(148, 130, 84)",
           "rgb(165, 68, 153)",
           "rgb(106, 176, 96)",
           "rgb(18, 198, 14)",
           "rgb(159, 141, 70)",
           "rgb(84, 20, 109)",
           "rgb(57, 224, 147)"
          ]
         },
         "name": "1987",
         "orientation": "h",
         "type": "bar",
         "x": [
          110812,
          244676,
          311025,
          341244,
          395114,
          454612,
          562035,
          569473,
          779348,
          848406,
          880397,
          927524,
          1042663,
          1151184,
          1191336,
          1278184,
          1593882,
          1599200,
          1691210,
          1841240,
          1891487,
          1945870,
          2015133,
          2064095,
          2253639,
          2269414,
          2326606,
          2794552,
          2799811,
          2820042,
          2840009,
          2915959,
          3045153,
          3075321,
          3089353,
          3154264,
          3317166,
          3344353,
          3444468,
          3539900,
          3799845,
          3868905,
          3886512,
          4186147,
          4203148,
          4243788,
          4338977,
          4372203,
          4484310,
          4842194,
          4931729,
          5126023,
          5127024,
          5199318,
          5498955,
          5584510,
          5650262,
          5756203,
          6156369,
          6349365,
          6649942,
          6655297,
          6921858,
          7171347,
          7272406,
          7326406,
          7332638,
          7578903,
          7586551,
          7634008,
          7724976,
          7824747,
          7874230,
          8371791,
          8421403,
          8971958,
          9216418,
          9230783,
          9545158,
          9870200,
          9915289,
          9974490,
          10239839,
          10311597,
          10568642,
          10612740,
          10761098,
          10780667,
          11219340,
          11242847,
          12463354,
          12891952,
          13867957,
          14168101,
          14619745,
          14665278,
          15283050,
          16257249,
          16331785,
          16495304,
          16543189,
          17910182,
          17917180,
          19067554,
          19757799,
          20195924,
          21198082,
          22686371,
          22987397,
          23040630,
          23254956,
          24725960,
          26549700,
          30964245,
          31620918,
          35481645,
          35933379,
          37740710,
          38028578,
          38880702,
          41622000,
          42999530,
          51889696,
          52799062,
          52881328,
          52910342,
          55630100,
          56729703,
          56981620,
          60017788,
          62826491,
          77718298,
          80122492,
          81551520,
          103764241,
          105186881,
          122091325,
          142938076,
          169276000,
          242803533,
          788000000,
          1084035000
         ],
         "y": [
          "Sao Tome and Principe",
          "Iceland",
          "Djibouti",
          "Equatorial Guinea",
          "Comoros",
          "Bahrain",
          "Reunion",
          "Montenegro",
          "Swaziland",
          "Gambia",
          "Gabon",
          "Guinea-Bissau",
          "Mauritius",
          "Botswana",
          "Trinidad and Tobago",
          "Namibia",
          "Oman",
          "Lesotho",
          "West Bank and Gaza",
          "Mauritania",
          "Kuwait",
          "Slovenia",
          "Mongolia",
          "Congo, Rep.",
          "Panama",
          "Liberia",
          "Jamaica",
          "Singapore",
          "Costa Rica",
          "Jordan",
          "Central African Republic",
          "Eritrea",
          "Uruguay",
          "Albania",
          "Lebanon",
          "Togo",
          "New Zealand",
          "Nicaragua",
          "Puerto Rico",
          "Ireland",
          "Libya",
          "Sierra Leone",
          "Paraguay",
          "Norway",
          "Israel",
          "Benin",
          "Bosnia and Herzegovina",
          "Honduras",
          "Croatia",
          "El Salvador",
          "Finland",
          "Burundi",
          "Denmark",
          "Slovak Republic",
          "Chad",
          "Hong Kong, China",
          "Guinea",
          "Haiti",
          "Bolivia",
          "Rwanda",
          "Switzerland",
          "Dominican Republic",
          "Somalia",
          "Senegal",
          "Zambia",
          "Guatemala",
          "Niger",
          "Austria",
          "Burkina Faso",
          "Mali",
          "Tunisia",
          "Malawi",
          "Angola",
          "Cambodia",
          "Sweden",
          "Bulgaria",
          "Zimbabwe",
          "Serbia",
          "Ecuador",
          "Belgium",
          "Portugal",
          "Greece",
          "Cuba",
          "Czech Republic",
          "Madagascar",
          "Hungary",
          "Cote d'Ivoire",
          "Cameroon",
          "Yemen, Rep.",
          "Syria",
          "Chile",
          "Mozambique",
          "Afghanistan",
          "Ghana",
          "Saudi Arabia",
          "Netherlands",
          "Uganda",
          "Australia",
          "Malaysia",
          "Sri Lanka",
          "Iraq",
          "Venezuela",
          "Nepal",
          "Korea, Dem. Rep.",
          "Taiwan",
          "Peru",
          "Kenya",
          "Romania",
          "Morocco",
          "Tanzania",
          "Algeria",
          "Sudan",
          "Canada",
          "Colombia",
          "Argentina",
          "Congo, Dem. Rep.",
          "South Africa",
          "Poland",
          "Myanmar",
          "Spain",
          "Korea, Rep.",
          "Ethiopia",
          "Iran",
          "Egypt",
          "Turkey",
          "Thailand",
          "France",
          "Italy",
          "United Kingdom",
          "Philippines",
          "Vietnam",
          "Germany",
          "Mexico",
          "Nigeria",
          "Bangladesh",
          "Pakistan",
          "Japan",
          "Brazil",
          "Indonesia",
          "United States",
          "India",
          "China"
         ]
        },
        {
         "marker": {
          "color": [
           "rgb(6, 219, 17)",
           "rgb(123, 216, 169)",
           "rgb(129, 46, 134)",
           "rgb(26, 99, 15)",
           "rgb(135, 56, 204)",
           "rgb(209, 50, 30)",
           "rgb(16, 193, 232)",
           "rgb(214, 250, 16)",
           "rgb(120, 61, 206)",
           "rgb(62, 157, 216)",
           "rgb(132, 9, 36)",
           "rgb(35, 141, 179)",
           "rgb(214, 226, 234)",
           "rgb(100, 218, 248)",
           "rgb(39, 130, 78)",
           "rgb(253, 234, 92)",
           "rgb(171, 115, 5)",
           "rgb(109, 156, 213)",
           "rgb(167, 27, 71)",
           "rgb(47, 26, 222)",
           "rgb(150, 100, 91)",
           "rgb(231, 234, 163)",
           "rgb(123, 86, 137)",
           "rgb(73, 234, 46)",
           "rgb(92, 209, 234)",
           "rgb(81, 148, 89)",
           "rgb(142, 115, 181)",
           "rgb(201, 244, 118)",
           "rgb(143, 91, 73)",
           "rgb(97, 99, 153)",
           "rgb(55, 36, 34)",
           "rgb(107, 177, 167)",
           "rgb(166, 36, 121)",
           "rgb(204, 197, 116)",
           "rgb(41, 198, 106)",
           "rgb(64, 116, 248)",
           "rgb(218, 158, 91)",
           "rgb(245, 92, 32)",
           "rgb(17, 68, 3)",
           "rgb(115, 207, 154)",
           "rgb(79, 27, 103)",
           "rgb(222, 37, 139)",
           "rgb(114, 225, 154)",
           "rgb(252, 230, 99)",
           "rgb(228, 238, 137)",
           "rgb(237, 144, 233)",
           "rgb(76, 140, 110)",
           "rgb(235, 173, 81)",
           "rgb(120, 61, 25)",
           "rgb(238, 180, 102)",
           "rgb(94, 59, 86)",
           "rgb(157, 204, 148)",
           "rgb(31, 16, 125)",
           "rgb(147, 245, 122)",
           "rgb(4, 223, 79)",
           "rgb(61, 189, 17)",
           "rgb(207, 187, 85)",
           "rgb(111, 107, 191)",
           "rgb(226, 202, 63)",
           "rgb(46, 17, 191)",
           "rgb(29, 12, 251)",
           "rgb(43, 6, 124)",
           "rgb(10, 252, 252)",
           "rgb(249, 193, 77)",
           "rgb(92, 247, 203)",
           "rgb(104, 69, 246)",
           "rgb(13, 115, 54)",
           "rgb(164, 197, 53)",
           "rgb(6, 237, 100)",
           "rgb(112, 86, 160)",
           "rgb(124, 203, 158)",
           "rgb(136, 49, 36)",
           "rgb(35, 75, 164)",
           "rgb(91, 109, 193)",
           "rgb(58, 182, 49)",
           "rgb(238, 184, 99)",
           "rgb(252, 209, 231)",
           "rgb(237, 8, 138)",
           "rgb(215, 47, 106)",
           "rgb(114, 141, 3)",
           "rgb(62, 160, 124)",
           "rgb(70, 241, 141)",
           "rgb(128, 11, 239)",
           "rgb(130, 113, 41)",
           "rgb(57, 254, 105)",
           "rgb(8, 229, 164)",
           "rgb(87, 135, 156)",
           "rgb(216, 144, 101)",
           "rgb(227, 156, 91)",
           "rgb(170, 72, 162)",
           "rgb(60, 18, 157)",
           "rgb(8, 184, 247)",
           "rgb(15, 213, 93)",
           "rgb(147, 29, 1)",
           "rgb(249, 98, 179)",
           "rgb(98, 55, 107)",
           "rgb(216, 243, 135)",
           "rgb(250, 34, 33)",
           "rgb(3, 114, 173)",
           "rgb(230, 231, 119)",
           "rgb(150, 227, 114)",
           "rgb(196, 95, 0)",
           "rgb(97, 10, 78)",
           "rgb(15, 59, 99)",
           "rgb(178, 78, 255)",
           "rgb(4, 131, 133)",
           "rgb(215, 203, 44)",
           "rgb(28, 253, 170)",
           "rgb(161, 104, 38)",
           "rgb(223, 3, 112)",
           "rgb(175, 18, 72)",
           "rgb(60, 25, 165)",
           "rgb(2, 50, 253)",
           "rgb(76, 103, 169)",
           "rgb(92, 180, 15)",
           "rgb(139, 123, 230)",
           "rgb(50, 196, 66)",
           "rgb(142, 205, 230)",
           "rgb(182, 228, 104)",
           "rgb(113, 61, 110)",
           "rgb(215, 167, 109)",
           "rgb(16, 107, 161)",
           "rgb(146, 67, 9)",
           "rgb(37, 184, 77)",
           "rgb(136, 38, 254)",
           "rgb(51, 56, 18)",
           "rgb(210, 94, 169)",
           "rgb(89, 144, 80)",
           "rgb(142, 174, 207)",
           "rgb(65, 171, 239)",
           "rgb(71, 253, 207)",
           "rgb(80, 90, 108)",
           "rgb(58, 172, 173)",
           "rgb(162, 170, 6)",
           "rgb(151, 218, 58)",
           "rgb(148, 130, 84)",
           "rgb(165, 68, 153)",
           "rgb(106, 176, 96)",
           "rgb(18, 198, 14)",
           "rgb(159, 141, 70)",
           "rgb(84, 20, 109)",
           "rgb(57, 224, 147)"
          ]
         },
         "name": "1992",
         "orientation": "h",
         "type": "bar",
         "x": [
          125911,
          259012,
          384156,
          387838,
          454429,
          529491,
          621621,
          622191,
          962344,
          985739,
          1025384,
          1050938,
          1096202,
          1183669,
          1342614,
          1418095,
          1554253,
          1803195,
          1912974,
          1915208,
          1999210,
          2104779,
          2119465,
          2312802,
          2378618,
          2409073,
          2484997,
          3149262,
          3173216,
          3219994,
          3235865,
          3265124,
          3326498,
          3437674,
          3557761,
          3585176,
          3668440,
          3747553,
          3867409,
          4017939,
          4256013,
          4260884,
          4286357,
          4364501,
          4483945,
          4494013,
          4936550,
          4981671,
          5041039,
          5077347,
          5171393,
          5274649,
          5302888,
          5809236,
          5829696,
          6099799,
          6326682,
          6429417,
          6893451,
          6990574,
          6995447,
          7290203,
          7351181,
          7914969,
          8307920,
          8381163,
          8392818,
          8416215,
          8486949,
          8523077,
          8658506,
          8718867,
          8735988,
          8878303,
          9826397,
          9927680,
          10014249,
          10045622,
          10150094,
          10315702,
          10325429,
          10348684,
          10704340,
          10723260,
          10748394,
          12210395,
          12467171,
          12772596,
          13160731,
          13219062,
          13367997,
          13572994,
          15174244,
          16278738,
          16317921,
          16945857,
          17481977,
          17587060,
          17861905,
          18252190,
          18319502,
          20265563,
          20326209,
          20686918,
          20711375,
          22430449,
          22797027,
          25020539,
          25798239,
          26298373,
          26605473,
          28227588,
          28523502,
          33958947,
          34202721,
          38370697,
          39549438,
          39964159,
          40546538,
          41672143,
          43805450,
          52088559,
          56667095,
          56840847,
          57374179,
          57866349,
          58179144,
          59402198,
          60397973,
          67185766,
          69940728,
          80597764,
          88111030,
          93364244,
          113704579,
          120065004,
          124329269,
          155975974,
          184816000,
          256894189,
          872000000,
          1164970000
         ],
         "y": [
          "Sao Tome and Principe",
          "Iceland",
          "Djibouti",
          "Equatorial Guinea",
          "Comoros",
          "Bahrain",
          "Montenegro",
          "Reunion",
          "Swaziland",
          "Gabon",
          "Gambia",
          "Guinea-Bissau",
          "Mauritius",
          "Trinidad and Tobago",
          "Botswana",
          "Kuwait",
          "Namibia",
          "Lesotho",
          "Liberia",
          "Oman",
          "Slovenia",
          "West Bank and Gaza",
          "Mauritania",
          "Mongolia",
          "Jamaica",
          "Congo, Rep.",
          "Panama",
          "Uruguay",
          "Costa Rica",
          "Lebanon",
          "Singapore",
          "Central African Republic",
          "Albania",
          "New Zealand",
          "Ireland",
          "Puerto Rico",
          "Eritrea",
          "Togo",
          "Jordan",
          "Nicaragua",
          "Bosnia and Herzegovina",
          "Sierra Leone",
          "Norway",
          "Libya",
          "Paraguay",
          "Croatia",
          "Israel",
          "Benin",
          "Finland",
          "Honduras",
          "Denmark",
          "El Salvador",
          "Slovak Republic",
          "Burundi",
          "Hong Kong, China",
          "Somalia",
          "Haiti",
          "Chad",
          "Bolivia",
          "Guinea",
          "Switzerland",
          "Rwanda",
          "Dominican Republic",
          "Austria",
          "Senegal",
          "Zambia",
          "Niger",
          "Mali",
          "Guatemala",
          "Tunisia",
          "Bulgaria",
          "Sweden",
          "Angola",
          "Burkina Faso",
          "Serbia",
          "Portugal",
          "Malawi",
          "Belgium",
          "Cambodia",
          "Czech Republic",
          "Greece",
          "Hungary",
          "Zimbabwe",
          "Cuba",
          "Ecuador",
          "Madagascar",
          "Cameroon",
          "Cote d'Ivoire",
          "Mozambique",
          "Syria",
          "Yemen, Rep.",
          "Chile",
          "Netherlands",
          "Ghana",
          "Afghanistan",
          "Saudi Arabia",
          "Australia",
          "Sri Lanka",
          "Iraq",
          "Uganda",
          "Malaysia",
          "Venezuela",
          "Nepal",
          "Taiwan",
          "Korea, Dem. Rep.",
          "Peru",
          "Romania",
          "Kenya",
          "Morocco",
          "Algeria",
          "Tanzania",
          "Sudan",
          "Canada",
          "Argentina",
          "Colombia",
          "Poland",
          "Spain",
          "South Africa",
          "Myanmar",
          "Congo, Dem. Rep.",
          "Korea, Rep.",
          "Ethiopia",
          "Thailand",
          "Italy",
          "France",
          "United Kingdom",
          "Turkey",
          "Egypt",
          "Iran",
          "Philippines",
          "Vietnam",
          "Germany",
          "Mexico",
          "Nigeria",
          "Bangladesh",
          "Pakistan",
          "Japan",
          "Brazil",
          "Indonesia",
          "United States",
          "India",
          "China"
         ]
        },
        {
         "marker": {
          "color": [
           "rgb(6, 219, 17)",
           "rgb(123, 216, 169)",
           "rgb(129, 46, 134)",
           "rgb(26, 99, 15)",
           "rgb(135, 56, 204)",
           "rgb(209, 50, 30)",
           "rgb(214, 250, 16)",
           "rgb(16, 193, 232)",
           "rgb(120, 61, 206)",
           "rgb(62, 157, 216)",
           "rgb(100, 218, 248)",
           "rgb(214, 226, 234)",
           "rgb(35, 141, 179)",
           "rgb(132, 9, 36)",
           "rgb(39, 130, 78)",
           "rgb(253, 234, 92)",
           "rgb(171, 115, 5)",
           "rgb(109, 156, 213)",
           "rgb(150, 100, 91)",
           "rgb(167, 27, 71)",
           "rgb(47, 26, 222)",
           "rgb(123, 86, 137)",
           "rgb(73, 234, 46)",
           "rgb(92, 209, 234)",
           "rgb(142, 115, 181)",
           "rgb(81, 148, 89)",
           "rgb(231, 234, 163)",
           "rgb(201, 244, 118)",
           "rgb(166, 36, 121)",
           "rgb(97, 99, 153)",
           "rgb(143, 91, 73)",
           "rgb(79, 27, 103)",
           "rgb(41, 198, 106)",
           "rgb(204, 197, 116)",
           "rgb(107, 177, 167)",
           "rgb(64, 116, 248)",
           "rgb(55, 36, 34)",
           "rgb(218, 158, 91)",
           "rgb(245, 92, 32)",
           "rgb(114, 225, 154)",
           "rgb(237, 144, 233)",
           "rgb(17, 68, 3)",
           "rgb(222, 37, 139)",
           "rgb(115, 207, 154)",
           "rgb(252, 230, 99)",
           "rgb(120, 61, 25)",
           "rgb(228, 238, 137)",
           "rgb(94, 59, 86)",
           "rgb(31, 16, 125)",
           "rgb(76, 140, 110)",
           "rgb(157, 204, 148)",
           "rgb(238, 180, 102)",
           "rgb(235, 173, 81)",
           "rgb(147, 245, 122)",
           "rgb(4, 223, 79)",
           "rgb(61, 189, 17)",
           "rgb(207, 187, 85)",
           "rgb(29, 12, 251)",
           "rgb(43, 6, 124)",
           "rgb(111, 107, 191)",
           "rgb(226, 202, 63)",
           "rgb(10, 252, 252)",
           "rgb(46, 17, 191)",
           "rgb(124, 203, 158)",
           "rgb(249, 193, 77)",
           "rgb(136, 49, 36)",
           "rgb(112, 86, 160)",
           "rgb(164, 197, 53)",
           "rgb(104, 69, 246)",
           "rgb(92, 247, 203)",
           "rgb(13, 115, 54)",
           "rgb(6, 237, 100)",
           "rgb(35, 75, 164)",
           "rgb(238, 184, 99)",
           "rgb(237, 8, 138)",
           "rgb(70, 241, 141)",
           "rgb(114, 141, 3)",
           "rgb(58, 182, 49)",
           "rgb(91, 109, 193)",
           "rgb(252, 209, 231)",
           "rgb(62, 160, 124)",
           "rgb(130, 113, 41)",
           "rgb(128, 11, 239)",
           "rgb(215, 47, 106)",
           "rgb(57, 254, 105)",
           "rgb(8, 229, 164)",
           "rgb(87, 135, 156)",
           "rgb(8, 184, 247)",
           "rgb(216, 144, 101)",
           "rgb(170, 72, 162)",
           "rgb(15, 213, 93)",
           "rgb(60, 18, 157)",
           "rgb(227, 156, 91)",
           "rgb(147, 29, 1)",
           "rgb(216, 243, 135)",
           "rgb(250, 34, 33)",
           "rgb(150, 227, 114)",
           "rgb(3, 114, 173)",
           "rgb(230, 231, 119)",
           "rgb(98, 55, 107)",
           "rgb(178, 78, 255)",
           "rgb(15, 59, 99)",
           "rgb(249, 98, 179)",
           "rgb(196, 95, 0)",
           "rgb(215, 203, 44)",
           "rgb(97, 10, 78)",
           "rgb(4, 131, 133)",
           "rgb(28, 253, 170)",
           "rgb(161, 104, 38)",
           "rgb(223, 3, 112)",
           "rgb(2, 50, 253)",
           "rgb(175, 18, 72)",
           "rgb(60, 25, 165)",
           "rgb(76, 103, 169)",
           "rgb(92, 180, 15)",
           "rgb(139, 123, 230)",
           "rgb(50, 196, 66)",
           "rgb(142, 205, 230)",
           "rgb(182, 228, 104)",
           "rgb(215, 167, 109)",
           "rgb(113, 61, 110)",
           "rgb(37, 184, 77)",
           "rgb(136, 38, 254)",
           "rgb(51, 56, 18)",
           "rgb(16, 107, 161)",
           "rgb(146, 67, 9)",
           "rgb(210, 94, 169)",
           "rgb(142, 174, 207)",
           "rgb(89, 144, 80)",
           "rgb(65, 171, 239)",
           "rgb(71, 253, 207)",
           "rgb(80, 90, 108)",
           "rgb(58, 172, 173)",
           "rgb(162, 170, 6)",
           "rgb(151, 218, 58)",
           "rgb(165, 68, 153)",
           "rgb(148, 130, 84)",
           "rgb(106, 176, 96)",
           "rgb(18, 198, 14)",
           "rgb(159, 141, 70)",
           "rgb(84, 20, 109)",
           "rgb(57, 224, 147)"
          ]
         },
         "name": "1997",
         "orientation": "h",
         "type": "bar",
         "x": [
          145608,
          271192,
          417908,
          439971,
          527982,
          598561,
          684810,
          692651,
          1054486,
          1126189,
          1138101,
          1149818,
          1193708,
          1235767,
          1536536,
          1765345,
          1774766,
          1982823,
          2011612,
          2200725,
          2283635,
          2444741,
          2494803,
          2531311,
          2734531,
          2800947,
          2826046,
          3262838,
          3428038,
          3430388,
          3518107,
          3607000,
          3667233,
          3676187,
          3696513,
          3759430,
          3802309,
          4058319,
          4320890,
          4405672,
          4444595,
          4526235,
          4578212,
          4609572,
          4759670,
          5134406,
          5154123,
          5283663,
          5383010,
          5531387,
          5783439,
          5867957,
          6066080,
          6121610,
          6495918,
          6633514,
          6913545,
          7193761,
          7212583,
          7562011,
          7693188,
          7992357,
          8048834,
          8066057,
          8069876,
          8897619,
          9231669,
          9384984,
          9417789,
          9535314,
          9666252,
          9803875,
          9875024,
          10156415,
          10199787,
          10244684,
          10300707,
          10336594,
          10352843,
          10419991,
          10502372,
          10983007,
          11404948,
          11782962,
          11911819,
          14165114,
          14195809,
          14599929,
          14625967,
          15081016,
          15604464,
          15826497,
          16603334,
          18418288,
          18565243,
          18698655,
          20476091,
          20775703,
          21210254,
          21229759,
          21585105,
          21628605,
          22227415,
          22374398,
          22562458,
          23001113,
          24748122,
          28263827,
          28529501,
          29072015,
          30305843,
          30686889,
          32160729,
          36203463,
          37657830,
          38654957,
          39855442,
          42835005,
          43247867,
          46173816,
          47798986,
          57479469,
          58623428,
          58808266,
          59861301,
          60216677,
          63047647,
          63327987,
          66134291,
          75012988,
          76048996,
          82011073,
          95895146,
          106207839,
          123315288,
          125956499,
          135564834,
          168546719,
          199278000,
          272911760,
          959000000,
          1230075000
         ],
         "y": [
          "Sao Tome and Principe",
          "Iceland",
          "Djibouti",
          "Equatorial Guinea",
          "Comoros",
          "Bahrain",
          "Reunion",
          "Montenegro",
          "Swaziland",
          "Gabon",
          "Trinidad and Tobago",
          "Mauritius",
          "Guinea-Bissau",
          "Gambia",
          "Botswana",
          "Kuwait",
          "Namibia",
          "Lesotho",
          "Slovenia",
          "Liberia",
          "Oman",
          "Mauritania",
          "Mongolia",
          "Jamaica",
          "Panama",
          "Congo, Rep.",
          "West Bank and Gaza",
          "Uruguay",
          "Albania",
          "Lebanon",
          "Costa Rica",
          "Bosnia and Herzegovina",
          "Ireland",
          "New Zealand",
          "Central African Republic",
          "Puerto Rico",
          "Singapore",
          "Eritrea",
          "Togo",
          "Norway",
          "Croatia",
          "Jordan",
          "Sierra Leone",
          "Nicaragua",
          "Libya",
          "Finland",
          "Paraguay",
          "Denmark",
          "Slovak Republic",
          "Israel",
          "El Salvador",
          "Honduras",
          "Benin",
          "Burundi",
          "Hong Kong, China",
          "Somalia",
          "Haiti",
          "Switzerland",
          "Rwanda",
          "Chad",
          "Bolivia",
          "Dominican Republic",
          "Guinea",
          "Bulgaria",
          "Austria",
          "Sweden",
          "Tunisia",
          "Mali",
          "Zambia",
          "Senegal",
          "Niger",
          "Guatemala",
          "Angola",
          "Portugal",
          "Belgium",
          "Hungary",
          "Czech Republic",
          "Serbia",
          "Burkina Faso",
          "Malawi",
          "Greece",
          "Cuba",
          "Zimbabwe",
          "Cambodia",
          "Ecuador",
          "Madagascar",
          "Cameroon",
          "Chile",
          "Cote d'Ivoire",
          "Syria",
          "Netherlands",
          "Yemen, Rep.",
          "Mozambique",
          "Ghana",
          "Australia",
          "Sri Lanka",
          "Malaysia",
          "Iraq",
          "Uganda",
          "Saudi Arabia",
          "Korea, Dem. Rep.",
          "Taiwan",
          "Afghanistan",
          "Venezuela",
          "Romania",
          "Nepal",
          "Peru",
          "Kenya",
          "Morocco",
          "Algeria",
          "Canada",
          "Tanzania",
          "Sudan",
          "Argentina",
          "Colombia",
          "Poland",
          "Spain",
          "South Africa",
          "Myanmar",
          "Korea, Rep.",
          "Congo, Dem. Rep.",
          "Italy",
          "France",
          "United Kingdom",
          "Ethiopia",
          "Thailand",
          "Turkey",
          "Iran",
          "Egypt",
          "Philippines",
          "Vietnam",
          "Germany",
          "Mexico",
          "Nigeria",
          "Bangladesh",
          "Japan",
          "Pakistan",
          "Brazil",
          "Indonesia",
          "United States",
          "India",
          "China"
         ]
        },
        {
         "marker": {
          "color": [
           "rgb(6, 219, 17)",
           "rgb(123, 216, 169)",
           "rgb(129, 46, 134)",
           "rgb(26, 99, 15)",
           "rgb(135, 56, 204)",
           "rgb(209, 50, 30)",
           "rgb(16, 193, 232)",
           "rgb(214, 250, 16)",
           "rgb(100, 218, 248)",
           "rgb(120, 61, 206)",
           "rgb(214, 226, 234)",
           "rgb(62, 157, 216)",
           "rgb(35, 141, 179)",
           "rgb(132, 9, 36)",
           "rgb(39, 130, 78)",
           "rgb(171, 115, 5)",
           "rgb(150, 100, 91)",
           "rgb(109, 156, 213)",
           "rgb(253, 234, 92)",
           "rgb(92, 209, 234)",
           "rgb(73, 234, 46)",
           "rgb(47, 26, 222)",
           "rgb(167, 27, 71)",
           "rgb(123, 86, 137)",
           "rgb(142, 115, 181)",
           "rgb(81, 148, 89)",
           "rgb(201, 244, 118)",
           "rgb(231, 234, 163)",
           "rgb(166, 36, 121)",
           "rgb(97, 99, 153)",
           "rgb(143, 91, 73)",
           "rgb(64, 116, 248)",
           "rgb(41, 198, 106)",
           "rgb(204, 197, 116)",
           "rgb(107, 177, 167)",
           "rgb(79, 27, 103)",
           "rgb(55, 36, 34)",
           "rgb(218, 158, 91)",
           "rgb(237, 144, 233)",
           "rgb(114, 225, 154)",
           "rgb(245, 92, 32)",
           "rgb(115, 207, 154)",
           "rgb(120, 61, 25)",
           "rgb(17, 68, 3)",
           "rgb(222, 37, 139)",
           "rgb(252, 230, 99)",
           "rgb(94, 59, 86)",
           "rgb(31, 16, 125)",
           "rgb(228, 238, 137)",
           "rgb(76, 140, 110)",
           "rgb(157, 204, 148)",
           "rgb(238, 180, 102)",
           "rgb(4, 223, 79)",
           "rgb(147, 245, 122)",
           "rgb(235, 173, 81)",
           "rgb(29, 12, 251)",
           "rgb(207, 187, 85)",
           "rgb(124, 203, 158)",
           "rgb(61, 189, 17)",
           "rgb(43, 6, 124)",
           "rgb(249, 193, 77)",
           "rgb(226, 202, 63)",
           "rgb(10, 252, 252)",
           "rgb(46, 17, 191)",
           "rgb(111, 107, 191)",
           "rgb(136, 49, 36)",
           "rgb(112, 86, 160)",
           "rgb(70, 241, 141)",
           "rgb(58, 182, 49)",
           "rgb(114, 141, 3)",
           "rgb(237, 8, 138)",
           "rgb(238, 184, 99)",
           "rgb(164, 197, 53)",
           "rgb(104, 69, 246)",
           "rgb(62, 160, 124)",
           "rgb(35, 75, 164)",
           "rgb(92, 247, 203)",
           "rgb(13, 115, 54)",
           "rgb(6, 237, 100)",
           "rgb(130, 113, 41)",
           "rgb(252, 209, 231)",
           "rgb(128, 11, 239)",
           "rgb(91, 109, 193)",
           "rgb(57, 254, 105)",
           "rgb(215, 47, 106)",
           "rgb(8, 184, 247)",
           "rgb(87, 135, 156)",
           "rgb(15, 213, 93)",
           "rgb(216, 144, 101)",
           "rgb(8, 229, 164)",
           "rgb(170, 72, 162)",
           "rgb(227, 156, 91)",
           "rgb(60, 18, 157)",
           "rgb(216, 243, 135)",
           "rgb(250, 34, 33)",
           "rgb(147, 29, 1)",
           "rgb(178, 78, 255)",
           "rgb(215, 203, 44)",
           "rgb(15, 59, 99)",
           "rgb(150, 227, 114)",
           "rgb(3, 114, 173)",
           "rgb(196, 95, 0)",
           "rgb(98, 55, 107)",
           "rgb(230, 231, 119)",
           "rgb(249, 98, 179)",
           "rgb(97, 10, 78)",
           "rgb(4, 131, 133)",
           "rgb(161, 104, 38)",
           "rgb(223, 3, 112)",
           "rgb(28, 253, 170)",
           "rgb(2, 50, 253)",
           "rgb(175, 18, 72)",
           "rgb(60, 25, 165)",
           "rgb(76, 103, 169)",
           "rgb(139, 123, 230)",
           "rgb(50, 196, 66)",
           "rgb(92, 180, 15)",
           "rgb(142, 205, 230)",
           "rgb(182, 228, 104)",
           "rgb(215, 167, 109)",
           "rgb(113, 61, 110)",
           "rgb(37, 184, 77)",
           "rgb(51, 56, 18)",
           "rgb(136, 38, 254)",
           "rgb(146, 67, 9)",
           "rgb(142, 174, 207)",
           "rgb(210, 94, 169)",
           "rgb(16, 107, 161)",
           "rgb(89, 144, 80)",
           "rgb(71, 253, 207)",
           "rgb(80, 90, 108)",
           "rgb(65, 171, 239)",
           "rgb(58, 172, 173)",
           "rgb(162, 170, 6)",
           "rgb(165, 68, 153)",
           "rgb(151, 218, 58)",
           "rgb(148, 130, 84)",
           "rgb(106, 176, 96)",
           "rgb(18, 198, 14)",
           "rgb(159, 141, 70)",
           "rgb(84, 20, 109)",
           "rgb(57, 224, 147)"
          ]
         },
         "name": "2002",
         "orientation": "h",
         "type": "bar",
         "visible": true,
         "x": [
          170372,
          288030,
          447416,
          495627,
          614382,
          656397,
          720230,
          743981,
          1101832,
          1130269,
          1200206,
          1299304,
          1332459,
          1457766,
          1630347,
          1972153,
          2011497,
          2046772,
          2111561,
          2664659,
          2674234,
          2713462,
          2814651,
          2828858,
          2990875,
          3328795,
          3363085,
          3389578,
          3508512,
          3677780,
          3834934,
          3859606,
          3879155,
          3908037,
          4048013,
          4165416,
          4197776,
          4414865,
          4481020,
          4535591,
          4977378,
          5146848,
          5193039,
          5307470,
          5359092,
          5368585,
          5374693,
          5410052,
          5884491,
          6029529,
          6353681,
          6677328,
          6762476,
          7021078,
          7026113,
          7361757,
          7607651,
          7661799,
          7753310,
          7852401,
          8148312,
          8445134,
          8650322,
          8807818,
          8835739,
          8954175,
          9770575,
          10083313,
          10111559,
          10256295,
          10311970,
          10433867,
          10580176,
          10595811,
          10603863,
          10866106,
          10870037,
          11140655,
          11178650,
          11226999,
          11824495,
          11926563,
          12251209,
          12921234,
          12926707,
          15497046,
          15929988,
          16122830,
          16252726,
          16473477,
          17155814,
          18473780,
          18701257,
          19546792,
          19576783,
          20550751,
          22215365,
          22404337,
          22454239,
          22662365,
          24001816,
          24287670,
          24501530,
          24739869,
          25268405,
          25873917,
          26769436,
          31167783,
          31287142,
          31386842,
          31902268,
          34593779,
          37090298,
          38331121,
          38625976,
          40152517,
          41008227,
          44433622,
          45598081,
          47969150,
          55379852,
          57926999,
          59912431,
          59925035,
          62806748,
          66907826,
          67308928,
          67946797,
          73312559,
          80908147,
          82350671,
          82995088,
          102479927,
          119901274,
          127065841,
          135656790,
          153403524,
          179914212,
          211060000,
          287675526,
          1034172547,
          1280400000
         ],
         "y": [
          "Sao Tome and Principe",
          "Iceland",
          "Djibouti",
          "Equatorial Guinea",
          "Comoros",
          "Bahrain",
          "Montenegro",
          "Reunion",
          "Trinidad and Tobago",
          "Swaziland",
          "Mauritius",
          "Gabon",
          "Guinea-Bissau",
          "Gambia",
          "Botswana",
          "Namibia",
          "Slovenia",
          "Lesotho",
          "Kuwait",
          "Jamaica",
          "Mongolia",
          "Oman",
          "Liberia",
          "Mauritania",
          "Panama",
          "Congo, Rep.",
          "Uruguay",
          "West Bank and Gaza",
          "Albania",
          "Lebanon",
          "Costa Rica",
          "Puerto Rico",
          "Ireland",
          "New Zealand",
          "Central African Republic",
          "Bosnia and Herzegovina",
          "Singapore",
          "Eritrea",
          "Croatia",
          "Norway",
          "Togo",
          "Nicaragua",
          "Finland",
          "Jordan",
          "Sierra Leone",
          "Libya",
          "Denmark",
          "Slovak Republic",
          "Paraguay",
          "Israel",
          "El Salvador",
          "Honduras",
          "Hong Kong, China",
          "Burundi",
          "Benin",
          "Switzerland",
          "Haiti",
          "Bulgaria",
          "Somalia",
          "Rwanda",
          "Austria",
          "Bolivia",
          "Dominican Republic",
          "Guinea",
          "Chad",
          "Sweden",
          "Tunisia",
          "Hungary",
          "Serbia",
          "Czech Republic",
          "Belgium",
          "Portugal",
          "Mali",
          "Zambia",
          "Greece",
          "Angola",
          "Senegal",
          "Niger",
          "Guatemala",
          "Cuba",
          "Malawi",
          "Zimbabwe",
          "Burkina Faso",
          "Ecuador",
          "Cambodia",
          "Chile",
          "Cameroon",
          "Netherlands",
          "Cote d'Ivoire",
          "Madagascar",
          "Syria",
          "Mozambique",
          "Yemen, Rep.",
          "Australia",
          "Sri Lanka",
          "Ghana",
          "Korea, Dem. Rep.",
          "Romania",
          "Taiwan",
          "Malaysia",
          "Iraq",
          "Venezuela",
          "Saudi Arabia",
          "Uganda",
          "Afghanistan",
          "Nepal",
          "Peru",
          "Morocco",
          "Algeria",
          "Kenya",
          "Canada",
          "Tanzania",
          "Sudan",
          "Argentina",
          "Poland",
          "Spain",
          "Colombia",
          "South Africa",
          "Myanmar",
          "Korea, Rep.",
          "Congo, Dem. Rep.",
          "Italy",
          "United Kingdom",
          "France",
          "Thailand",
          "Iran",
          "Turkey",
          "Ethiopia",
          "Egypt",
          "Vietnam",
          "Germany",
          "Philippines",
          "Mexico",
          "Nigeria",
          "Japan",
          "Bangladesh",
          "Pakistan",
          "Brazil",
          "Indonesia",
          "United States",
          "India",
          "China"
         ]
        },
        {
         "marker": {
          "color": [
           "rgb(6, 219, 17)",
           "rgb(123, 216, 169)",
           "rgb(129, 46, 134)",
           "rgb(26, 99, 15)",
           "rgb(16, 193, 232)",
           "rgb(209, 50, 30)",
           "rgb(135, 56, 204)",
           "rgb(214, 250, 16)",
           "rgb(100, 218, 248)",
           "rgb(120, 61, 206)",
           "rgb(214, 226, 234)",
           "rgb(62, 157, 216)",
           "rgb(35, 141, 179)",
           "rgb(39, 130, 78)",
           "rgb(132, 9, 36)",
           "rgb(150, 100, 91)",
           "rgb(109, 156, 213)",
           "rgb(171, 115, 5)",
           "rgb(253, 234, 92)",
           "rgb(92, 209, 234)",
           "rgb(73, 234, 46)",
           "rgb(167, 27, 71)",
           "rgb(47, 26, 222)",
           "rgb(142, 115, 181)",
           "rgb(123, 86, 137)",
           "rgb(201, 244, 118)",
           "rgb(166, 36, 121)",
           "rgb(81, 148, 89)",
           "rgb(97, 99, 153)",
           "rgb(64, 116, 248)",
           "rgb(231, 234, 163)",
           "rgb(41, 198, 106)",
           "rgb(204, 197, 116)",
           "rgb(143, 91, 73)",
           "rgb(107, 177, 167)",
           "rgb(237, 144, 233)",
           "rgb(79, 27, 103)",
           "rgb(55, 36, 34)",
           "rgb(114, 225, 154)",
           "rgb(218, 158, 91)",
           "rgb(120, 61, 25)",
           "rgb(31, 16, 125)",
           "rgb(94, 59, 86)",
           "rgb(115, 207, 154)",
           "rgb(245, 92, 32)",
           "rgb(252, 230, 99)",
           "rgb(17, 68, 3)",
           "rgb(222, 37, 139)",
           "rgb(76, 140, 110)",
           "rgb(228, 238, 137)",
           "rgb(157, 204, 148)",
           "rgb(4, 223, 79)",
           "rgb(124, 203, 158)",
           "rgb(238, 180, 102)",
           "rgb(29, 12, 251)",
           "rgb(235, 173, 81)",
           "rgb(249, 193, 77)",
           "rgb(147, 245, 122)",
           "rgb(207, 187, 85)",
           "rgb(43, 6, 124)",
           "rgb(136, 49, 36)",
           "rgb(61, 189, 17)",
           "rgb(226, 202, 63)",
           "rgb(10, 252, 252)",
           "rgb(46, 17, 191)",
           "rgb(70, 241, 141)",
           "rgb(58, 182, 49)",
           "rgb(114, 141, 3)",
           "rgb(111, 107, 191)",
           "rgb(112, 86, 160)",
           "rgb(237, 8, 138)",
           "rgb(238, 184, 99)",
           "rgb(62, 160, 124)",
           "rgb(130, 113, 41)",
           "rgb(104, 69, 246)",
           "rgb(164, 197, 53)",
           "rgb(92, 247, 203)",
           "rgb(128, 11, 239)",
           "rgb(35, 75, 164)",
           "rgb(6, 237, 100)",
           "rgb(13, 115, 54)",
           "rgb(252, 209, 231)",
           "rgb(57, 254, 105)",
           "rgb(215, 47, 106)",
           "rgb(91, 109, 193)",
           "rgb(8, 184, 247)",
           "rgb(15, 213, 93)",
           "rgb(87, 135, 156)",
           "rgb(216, 144, 101)",
           "rgb(8, 229, 164)",
           "rgb(170, 72, 162)",
           "rgb(227, 156, 91)",
           "rgb(250, 34, 33)",
           "rgb(216, 243, 135)",
           "rgb(60, 18, 157)",
           "rgb(215, 203, 44)",
           "rgb(147, 29, 1)",
           "rgb(15, 59, 99)",
           "rgb(178, 78, 255)",
           "rgb(150, 227, 114)",
           "rgb(196, 95, 0)",
           "rgb(3, 114, 173)",
           "rgb(98, 55, 107)",
           "rgb(4, 131, 133)",
           "rgb(97, 10, 78)",
           "rgb(230, 231, 119)",
           "rgb(249, 98, 179)",
           "rgb(223, 3, 112)",
           "rgb(2, 50, 253)",
           "rgb(161, 104, 38)",
           "rgb(28, 253, 170)",
           "rgb(175, 18, 72)",
           "rgb(139, 123, 230)",
           "rgb(76, 103, 169)",
           "rgb(50, 196, 66)",
           "rgb(60, 25, 165)",
           "rgb(142, 205, 230)",
           "rgb(92, 180, 15)",
           "rgb(182, 228, 104)",
           "rgb(215, 167, 109)",
           "rgb(37, 184, 77)",
           "rgb(51, 56, 18)",
           "rgb(136, 38, 254)",
           "rgb(113, 61, 110)",
           "rgb(146, 67, 9)",
           "rgb(142, 174, 207)",
           "rgb(210, 94, 169)",
           "rgb(16, 107, 161)",
           "rgb(89, 144, 80)",
           "rgb(80, 90, 108)",
           "rgb(71, 253, 207)",
           "rgb(65, 171, 239)",
           "rgb(58, 172, 173)",
           "rgb(165, 68, 153)",
           "rgb(162, 170, 6)",
           "rgb(151, 218, 58)",
           "rgb(148, 130, 84)",
           "rgb(106, 176, 96)",
           "rgb(18, 198, 14)",
           "rgb(159, 141, 70)",
           "rgb(84, 20, 109)",
           "rgb(57, 224, 147)"
          ]
         },
         "name": "2007",
         "orientation": "h",
         "type": "bar",
         "x": [
          199579,
          301931,
          496374,
          551201,
          684736,
          708573,
          710960,
          798094,
          1056608,
          1133066,
          1250882,
          1454867,
          1472041,
          1639131,
          1688359,
          2009245,
          2012649,
          2055080,
          2505559,
          2780132,
          2874127,
          3193942,
          3204897,
          3242173,
          3270065,
          3447496,
          3600523,
          3800610,
          3921278,
          3942491,
          4018332,
          4109086,
          4115771,
          4133884,
          4369038,
          4493312,
          4552198,
          4553009,
          4627926,
          4906585,
          5238460,
          5447502,
          5468120,
          5675356,
          5701579,
          6036914,
          6053193,
          6144562,
          6426679,
          6667147,
          6939688,
          6980412,
          7322858,
          7483763,
          7554661,
          8078314,
          8199783,
          8390505,
          8502814,
          8860588,
          9031088,
          9118773,
          9119152,
          9319622,
          9947814,
          9956108,
          10150265,
          10228744,
          10238807,
          10276158,
          10392226,
          10642836,
          10706290,
          11416987,
          11746035,
          12031795,
          12267493,
          12311143,
          12420476,
          12572928,
          12894865,
          13327079,
          13755680,
          14131858,
          14326203,
          16284741,
          16570613,
          17696293,
          18013409,
          19167654,
          19314747,
          19951656,
          20378239,
          20434176,
          22211743,
          22276056,
          22873338,
          23174294,
          23301725,
          24821286,
          26084662,
          27499638,
          27601038,
          28674757,
          28901790,
          29170398,
          31889923,
          33333216,
          33390141,
          33757175,
          35610177,
          38139640,
          38518241,
          40301927,
          40448191,
          42292929,
          43997828,
          44227550,
          47761980,
          49044790,
          58147733,
          60776238,
          61083916,
          64606759,
          65068149,
          69453570,
          71158647,
          76511887,
          80264543,
          82400996,
          85262356,
          91077287,
          108700891,
          127467972,
          135031164,
          150448339,
          169270617,
          190010647,
          223547000,
          301139947,
          1110396331,
          1318683096
         ],
         "y": [
          "Sao Tome and Principe",
          "Iceland",
          "Djibouti",
          "Equatorial Guinea",
          "Montenegro",
          "Bahrain",
          "Comoros",
          "Reunion",
          "Trinidad and Tobago",
          "Swaziland",
          "Mauritius",
          "Gabon",
          "Guinea-Bissau",
          "Botswana",
          "Gambia",
          "Slovenia",
          "Lesotho",
          "Namibia",
          "Kuwait",
          "Jamaica",
          "Mongolia",
          "Liberia",
          "Oman",
          "Panama",
          "Mauritania",
          "Uruguay",
          "Albania",
          "Congo, Rep.",
          "Lebanon",
          "Puerto Rico",
          "West Bank and Gaza",
          "Ireland",
          "New Zealand",
          "Costa Rica",
          "Central African Republic",
          "Croatia",
          "Bosnia and Herzegovina",
          "Singapore",
          "Norway",
          "Eritrea",
          "Finland",
          "Slovak Republic",
          "Denmark",
          "Nicaragua",
          "Togo",
          "Libya",
          "Jordan",
          "Sierra Leone",
          "Israel",
          "Paraguay",
          "El Salvador",
          "Hong Kong, China",
          "Bulgaria",
          "Honduras",
          "Switzerland",
          "Benin",
          "Austria",
          "Burundi",
          "Haiti",
          "Rwanda",
          "Sweden",
          "Somalia",
          "Bolivia",
          "Dominican Republic",
          "Guinea",
          "Hungary",
          "Serbia",
          "Czech Republic",
          "Chad",
          "Tunisia",
          "Belgium",
          "Portugal",
          "Greece",
          "Cuba",
          "Zambia",
          "Mali",
          "Senegal",
          "Zimbabwe",
          "Angola",
          "Guatemala",
          "Niger",
          "Malawi",
          "Ecuador",
          "Cambodia",
          "Burkina Faso",
          "Chile",
          "Netherlands",
          "Cameroon",
          "Cote d'Ivoire",
          "Madagascar",
          "Syria",
          "Mozambique",
          "Sri Lanka",
          "Australia",
          "Yemen, Rep.",
          "Romania",
          "Ghana",
          "Taiwan",
          "Korea, Dem. Rep.",
          "Malaysia",
          "Venezuela",
          "Iraq",
          "Saudi Arabia",
          "Peru",
          "Nepal",
          "Uganda",
          "Afghanistan",
          "Algeria",
          "Canada",
          "Morocco",
          "Kenya",
          "Tanzania",
          "Poland",
          "Argentina",
          "Spain",
          "Sudan",
          "South Africa",
          "Colombia",
          "Myanmar",
          "Korea, Rep.",
          "Italy",
          "United Kingdom",
          "France",
          "Congo, Dem. Rep.",
          "Thailand",
          "Iran",
          "Turkey",
          "Ethiopia",
          "Egypt",
          "Germany",
          "Vietnam",
          "Philippines",
          "Mexico",
          "Japan",
          "Nigeria",
          "Bangladesh",
          "Pakistan",
          "Brazil",
          "Indonesia",
          "United States",
          "India",
          "China"
         ]
        }
       ],
       "layout": {
        "height": 1000,
        "sliders": [
         {
          "active": 10,
          "currentvalue": {
           "prefix": "Year: "
          },
          "pad": {
           "t": 50
          },
          "steps": [
           {
            "args": [
             "visible",
             [
              true,
              false,
              false,
              false,
              false,
              false,
              false,
              false,
              false,
              false,
              false,
              false
             ]
            ],
            "label": "1952",
            "method": "restyle"
           },
           {
            "args": [
             "visible",
             [
              false,
              true,
              false,
              false,
              false,
              false,
              false,
              false,
              false,
              false,
              false,
              false
             ]
            ],
            "label": "1957",
            "method": "restyle"
           },
           {
            "args": [
             "visible",
             [
              false,
              false,
              true,
              false,
              false,
              false,
              false,
              false,
              false,
              false,
              false,
              false
             ]
            ],
            "label": "1962",
            "method": "restyle"
           },
           {
            "args": [
             "visible",
             [
              false,
              false,
              false,
              true,
              false,
              false,
              false,
              false,
              false,
              false,
              false,
              false
             ]
            ],
            "label": "1967",
            "method": "restyle"
           },
           {
            "args": [
             "visible",
             [
              false,
              false,
              false,
              false,
              true,
              false,
              false,
              false,
              false,
              false,
              false,
              false
             ]
            ],
            "label": "1972",
            "method": "restyle"
           },
           {
            "args": [
             "visible",
             [
              false,
              false,
              false,
              false,
              false,
              true,
              false,
              false,
              false,
              false,
              false,
              false
             ]
            ],
            "label": "1977",
            "method": "restyle"
           },
           {
            "args": [
             "visible",
             [
              false,
              false,
              false,
              false,
              false,
              false,
              true,
              false,
              false,
              false,
              false,
              false
             ]
            ],
            "label": "1982",
            "method": "restyle"
           },
           {
            "args": [
             "visible",
             [
              false,
              false,
              false,
              false,
              false,
              false,
              false,
              true,
              false,
              false,
              false,
              false
             ]
            ],
            "label": "1987",
            "method": "restyle"
           },
           {
            "args": [
             "visible",
             [
              false,
              false,
              false,
              false,
              false,
              false,
              false,
              false,
              true,
              false,
              false,
              false
             ]
            ],
            "label": "1992",
            "method": "restyle"
           },
           {
            "args": [
             "visible",
             [
              false,
              false,
              false,
              false,
              false,
              false,
              false,
              false,
              false,
              true,
              false,
              false
             ]
            ],
            "label": "1997",
            "method": "restyle"
           },
           {
            "args": [
             "visible",
             [
              false,
              false,
              false,
              false,
              false,
              false,
              false,
              false,
              false,
              false,
              true,
              false
             ]
            ],
            "label": "2002",
            "method": "restyle"
           },
           {
            "args": [
             "visible",
             [
              false,
              false,
              false,
              false,
              false,
              false,
              false,
              false,
              false,
              false,
              false,
              true
             ]
            ],
            "label": "2007",
            "method": "restyle"
           }
          ]
         }
        ],
        "template": {
         "data": {
          "bar": [
           {
            "error_x": {
             "color": "#2a3f5f"
            },
            "error_y": {
             "color": "#2a3f5f"
            },
            "marker": {
             "line": {
              "color": "#E5ECF6",
              "width": 0.5
             },
             "pattern": {
              "fillmode": "overlay",
              "size": 10,
              "solidity": 0.2
             }
            },
            "type": "bar"
           }
          ],
          "barpolar": [
           {
            "marker": {
             "line": {
              "color": "#E5ECF6",
              "width": 0.5
             },
             "pattern": {
              "fillmode": "overlay",
              "size": 10,
              "solidity": 0.2
             }
            },
            "type": "barpolar"
           }
          ],
          "carpet": [
           {
            "aaxis": {
             "endlinecolor": "#2a3f5f",
             "gridcolor": "white",
             "linecolor": "white",
             "minorgridcolor": "white",
             "startlinecolor": "#2a3f5f"
            },
            "baxis": {
             "endlinecolor": "#2a3f5f",
             "gridcolor": "white",
             "linecolor": "white",
             "minorgridcolor": "white",
             "startlinecolor": "#2a3f5f"
            },
            "type": "carpet"
           }
          ],
          "choropleth": [
           {
            "colorbar": {
             "outlinewidth": 0,
             "ticks": ""
            },
            "type": "choropleth"
           }
          ],
          "contour": [
           {
            "colorbar": {
             "outlinewidth": 0,
             "ticks": ""
            },
            "colorscale": [
             [
              0,
              "#0d0887"
             ],
             [
              0.1111111111111111,
              "#46039f"
             ],
             [
              0.2222222222222222,
              "#7201a8"
             ],
             [
              0.3333333333333333,
              "#9c179e"
             ],
             [
              0.4444444444444444,
              "#bd3786"
             ],
             [
              0.5555555555555556,
              "#d8576b"
             ],
             [
              0.6666666666666666,
              "#ed7953"
             ],
             [
              0.7777777777777778,
              "#fb9f3a"
             ],
             [
              0.8888888888888888,
              "#fdca26"
             ],
             [
              1,
              "#f0f921"
             ]
            ],
            "type": "contour"
           }
          ],
          "contourcarpet": [
           {
            "colorbar": {
             "outlinewidth": 0,
             "ticks": ""
            },
            "type": "contourcarpet"
           }
          ],
          "heatmap": [
           {
            "colorbar": {
             "outlinewidth": 0,
             "ticks": ""
            },
            "colorscale": [
             [
              0,
              "#0d0887"
             ],
             [
              0.1111111111111111,
              "#46039f"
             ],
             [
              0.2222222222222222,
              "#7201a8"
             ],
             [
              0.3333333333333333,
              "#9c179e"
             ],
             [
              0.4444444444444444,
              "#bd3786"
             ],
             [
              0.5555555555555556,
              "#d8576b"
             ],
             [
              0.6666666666666666,
              "#ed7953"
             ],
             [
              0.7777777777777778,
              "#fb9f3a"
             ],
             [
              0.8888888888888888,
              "#fdca26"
             ],
             [
              1,
              "#f0f921"
             ]
            ],
            "type": "heatmap"
           }
          ],
          "heatmapgl": [
           {
            "colorbar": {
             "outlinewidth": 0,
             "ticks": ""
            },
            "colorscale": [
             [
              0,
              "#0d0887"
             ],
             [
              0.1111111111111111,
              "#46039f"
             ],
             [
              0.2222222222222222,
              "#7201a8"
             ],
             [
              0.3333333333333333,
              "#9c179e"
             ],
             [
              0.4444444444444444,
              "#bd3786"
             ],
             [
              0.5555555555555556,
              "#d8576b"
             ],
             [
              0.6666666666666666,
              "#ed7953"
             ],
             [
              0.7777777777777778,
              "#fb9f3a"
             ],
             [
              0.8888888888888888,
              "#fdca26"
             ],
             [
              1,
              "#f0f921"
             ]
            ],
            "type": "heatmapgl"
           }
          ],
          "histogram": [
           {
            "marker": {
             "pattern": {
              "fillmode": "overlay",
              "size": 10,
              "solidity": 0.2
             }
            },
            "type": "histogram"
           }
          ],
          "histogram2d": [
           {
            "colorbar": {
             "outlinewidth": 0,
             "ticks": ""
            },
            "colorscale": [
             [
              0,
              "#0d0887"
             ],
             [
              0.1111111111111111,
              "#46039f"
             ],
             [
              0.2222222222222222,
              "#7201a8"
             ],
             [
              0.3333333333333333,
              "#9c179e"
             ],
             [
              0.4444444444444444,
              "#bd3786"
             ],
             [
              0.5555555555555556,
              "#d8576b"
             ],
             [
              0.6666666666666666,
              "#ed7953"
             ],
             [
              0.7777777777777778,
              "#fb9f3a"
             ],
             [
              0.8888888888888888,
              "#fdca26"
             ],
             [
              1,
              "#f0f921"
             ]
            ],
            "type": "histogram2d"
           }
          ],
          "histogram2dcontour": [
           {
            "colorbar": {
             "outlinewidth": 0,
             "ticks": ""
            },
            "colorscale": [
             [
              0,
              "#0d0887"
             ],
             [
              0.1111111111111111,
              "#46039f"
             ],
             [
              0.2222222222222222,
              "#7201a8"
             ],
             [
              0.3333333333333333,
              "#9c179e"
             ],
             [
              0.4444444444444444,
              "#bd3786"
             ],
             [
              0.5555555555555556,
              "#d8576b"
             ],
             [
              0.6666666666666666,
              "#ed7953"
             ],
             [
              0.7777777777777778,
              "#fb9f3a"
             ],
             [
              0.8888888888888888,
              "#fdca26"
             ],
             [
              1,
              "#f0f921"
             ]
            ],
            "type": "histogram2dcontour"
           }
          ],
          "mesh3d": [
           {
            "colorbar": {
             "outlinewidth": 0,
             "ticks": ""
            },
            "type": "mesh3d"
           }
          ],
          "parcoords": [
           {
            "line": {
             "colorbar": {
              "outlinewidth": 0,
              "ticks": ""
             }
            },
            "type": "parcoords"
           }
          ],
          "pie": [
           {
            "automargin": true,
            "type": "pie"
           }
          ],
          "scatter": [
           {
            "fillpattern": {
             "fillmode": "overlay",
             "size": 10,
             "solidity": 0.2
            },
            "type": "scatter"
           }
          ],
          "scatter3d": [
           {
            "line": {
             "colorbar": {
              "outlinewidth": 0,
              "ticks": ""
             }
            },
            "marker": {
             "colorbar": {
              "outlinewidth": 0,
              "ticks": ""
             }
            },
            "type": "scatter3d"
           }
          ],
          "scattercarpet": [
           {
            "marker": {
             "colorbar": {
              "outlinewidth": 0,
              "ticks": ""
             }
            },
            "type": "scattercarpet"
           }
          ],
          "scattergeo": [
           {
            "marker": {
             "colorbar": {
              "outlinewidth": 0,
              "ticks": ""
             }
            },
            "type": "scattergeo"
           }
          ],
          "scattergl": [
           {
            "marker": {
             "colorbar": {
              "outlinewidth": 0,
              "ticks": ""
             }
            },
            "type": "scattergl"
           }
          ],
          "scattermapbox": [
           {
            "marker": {
             "colorbar": {
              "outlinewidth": 0,
              "ticks": ""
             }
            },
            "type": "scattermapbox"
           }
          ],
          "scatterpolar": [
           {
            "marker": {
             "colorbar": {
              "outlinewidth": 0,
              "ticks": ""
             }
            },
            "type": "scatterpolar"
           }
          ],
          "scatterpolargl": [
           {
            "marker": {
             "colorbar": {
              "outlinewidth": 0,
              "ticks": ""
             }
            },
            "type": "scatterpolargl"
           }
          ],
          "scatterternary": [
           {
            "marker": {
             "colorbar": {
              "outlinewidth": 0,
              "ticks": ""
             }
            },
            "type": "scatterternary"
           }
          ],
          "surface": [
           {
            "colorbar": {
             "outlinewidth": 0,
             "ticks": ""
            },
            "colorscale": [
             [
              0,
              "#0d0887"
             ],
             [
              0.1111111111111111,
              "#46039f"
             ],
             [
              0.2222222222222222,
              "#7201a8"
             ],
             [
              0.3333333333333333,
              "#9c179e"
             ],
             [
              0.4444444444444444,
              "#bd3786"
             ],
             [
              0.5555555555555556,
              "#d8576b"
             ],
             [
              0.6666666666666666,
              "#ed7953"
             ],
             [
              0.7777777777777778,
              "#fb9f3a"
             ],
             [
              0.8888888888888888,
              "#fdca26"
             ],
             [
              1,
              "#f0f921"
             ]
            ],
            "type": "surface"
           }
          ],
          "table": [
           {
            "cells": {
             "fill": {
              "color": "#EBF0F8"
             },
             "line": {
              "color": "white"
             }
            },
            "header": {
             "fill": {
              "color": "#C8D4E3"
             },
             "line": {
              "color": "white"
             }
            },
            "type": "table"
           }
          ]
         },
         "layout": {
          "annotationdefaults": {
           "arrowcolor": "#2a3f5f",
           "arrowhead": 0,
           "arrowwidth": 1
          },
          "autotypenumbers": "strict",
          "coloraxis": {
           "colorbar": {
            "outlinewidth": 0,
            "ticks": ""
           }
          },
          "colorscale": {
           "diverging": [
            [
             0,
             "#8e0152"
            ],
            [
             0.1,
             "#c51b7d"
            ],
            [
             0.2,
             "#de77ae"
            ],
            [
             0.3,
             "#f1b6da"
            ],
            [
             0.4,
             "#fde0ef"
            ],
            [
             0.5,
             "#f7f7f7"
            ],
            [
             0.6,
             "#e6f5d0"
            ],
            [
             0.7,
             "#b8e186"
            ],
            [
             0.8,
             "#7fbc41"
            ],
            [
             0.9,
             "#4d9221"
            ],
            [
             1,
             "#276419"
            ]
           ],
           "sequential": [
            [
             0,
             "#0d0887"
            ],
            [
             0.1111111111111111,
             "#46039f"
            ],
            [
             0.2222222222222222,
             "#7201a8"
            ],
            [
             0.3333333333333333,
             "#9c179e"
            ],
            [
             0.4444444444444444,
             "#bd3786"
            ],
            [
             0.5555555555555556,
             "#d8576b"
            ],
            [
             0.6666666666666666,
             "#ed7953"
            ],
            [
             0.7777777777777778,
             "#fb9f3a"
            ],
            [
             0.8888888888888888,
             "#fdca26"
            ],
            [
             1,
             "#f0f921"
            ]
           ],
           "sequentialminus": [
            [
             0,
             "#0d0887"
            ],
            [
             0.1111111111111111,
             "#46039f"
            ],
            [
             0.2222222222222222,
             "#7201a8"
            ],
            [
             0.3333333333333333,
             "#9c179e"
            ],
            [
             0.4444444444444444,
             "#bd3786"
            ],
            [
             0.5555555555555556,
             "#d8576b"
            ],
            [
             0.6666666666666666,
             "#ed7953"
            ],
            [
             0.7777777777777778,
             "#fb9f3a"
            ],
            [
             0.8888888888888888,
             "#fdca26"
            ],
            [
             1,
             "#f0f921"
            ]
           ]
          },
          "colorway": [
           "#636efa",
           "#EF553B",
           "#00cc96",
           "#ab63fa",
           "#FFA15A",
           "#19d3f3",
           "#FF6692",
           "#B6E880",
           "#FF97FF",
           "#FECB52"
          ],
          "font": {
           "color": "#2a3f5f"
          },
          "geo": {
           "bgcolor": "white",
           "lakecolor": "white",
           "landcolor": "#E5ECF6",
           "showlakes": true,
           "showland": true,
           "subunitcolor": "white"
          },
          "hoverlabel": {
           "align": "left"
          },
          "hovermode": "closest",
          "mapbox": {
           "style": "light"
          },
          "paper_bgcolor": "white",
          "plot_bgcolor": "#E5ECF6",
          "polar": {
           "angularaxis": {
            "gridcolor": "white",
            "linecolor": "white",
            "ticks": ""
           },
           "bgcolor": "#E5ECF6",
           "radialaxis": {
            "gridcolor": "white",
            "linecolor": "white",
            "ticks": ""
           }
          },
          "scene": {
           "xaxis": {
            "backgroundcolor": "#E5ECF6",
            "gridcolor": "white",
            "gridwidth": 2,
            "linecolor": "white",
            "showbackground": true,
            "ticks": "",
            "zerolinecolor": "white"
           },
           "yaxis": {
            "backgroundcolor": "#E5ECF6",
            "gridcolor": "white",
            "gridwidth": 2,
            "linecolor": "white",
            "showbackground": true,
            "ticks": "",
            "zerolinecolor": "white"
           },
           "zaxis": {
            "backgroundcolor": "#E5ECF6",
            "gridcolor": "white",
            "gridwidth": 2,
            "linecolor": "white",
            "showbackground": true,
            "ticks": "",
            "zerolinecolor": "white"
           }
          },
          "shapedefaults": {
           "line": {
            "color": "#2a3f5f"
           }
          },
          "ternary": {
           "aaxis": {
            "gridcolor": "white",
            "linecolor": "white",
            "ticks": ""
           },
           "baxis": {
            "gridcolor": "white",
            "linecolor": "white",
            "ticks": ""
           },
           "bgcolor": "#E5ECF6",
           "caxis": {
            "gridcolor": "white",
            "linecolor": "white",
            "ticks": ""
           }
          },
          "title": {
           "x": 0.05
          },
          "xaxis": {
           "automargin": true,
           "gridcolor": "white",
           "linecolor": "white",
           "ticks": "",
           "title": {
            "standoff": 15
           },
           "zerolinecolor": "white",
           "zerolinewidth": 2
          },
          "yaxis": {
           "automargin": true,
           "gridcolor": "white",
           "linecolor": "white",
           "ticks": "",
           "title": {
            "standoff": 15
           },
           "zerolinecolor": "white",
           "zerolinewidth": 2
          }
         }
        },
        "xaxis": {
         "range": [
          0,
          1450551405.6000001
         ],
         "title": {
          "text": "Population"
         }
        },
        "yaxis": {
         "title": {
          "text": "Continent"
         }
        }
       }
      },
      "text/html": [
       "<div>                            <div id=\"c782986d-07f3-4d2c-85b0-b7ff94576277\" class=\"plotly-graph-div\" style=\"height:1000px; width:100%;\"></div>            <script type=\"text/javascript\">                require([\"plotly\"], function(Plotly) {                    window.PLOTLYENV=window.PLOTLYENV || {};                                    if (document.getElementById(\"c782986d-07f3-4d2c-85b0-b7ff94576277\")) {                    Plotly.newPlot(                        \"c782986d-07f3-4d2c-85b0-b7ff94576277\",                        [{\"marker\":{\"color\":[\"rgb(6, 219, 17)\",\"rgb(129, 46, 134)\",\"rgb(209, 50, 30)\",\"rgb(123, 216, 169)\",\"rgb(135, 56, 204)\",\"rgb(253, 234, 92)\",\"rgb(26, 99, 15)\",\"rgb(214, 250, 16)\",\"rgb(132, 9, 36)\",\"rgb(120, 61, 206)\",\"rgb(16, 193, 232)\",\"rgb(62, 157, 216)\",\"rgb(39, 130, 78)\",\"rgb(171, 115, 5)\",\"rgb(47, 26, 222)\",\"rgb(214, 226, 234)\",\"rgb(35, 141, 179)\",\"rgb(17, 68, 3)\",\"rgb(100, 218, 248)\",\"rgb(109, 156, 213)\",\"rgb(73, 234, 46)\",\"rgb(81, 148, 89)\",\"rgb(167, 27, 71)\",\"rgb(143, 91, 73)\",\"rgb(142, 115, 181)\",\"rgb(252, 230, 99)\",\"rgb(123, 86, 137)\",\"rgb(231, 234, 163)\",\"rgb(55, 36, 34)\",\"rgb(115, 207, 154)\",\"rgb(245, 92, 32)\",\"rgb(166, 36, 121)\",\"rgb(107, 177, 167)\",\"rgb(92, 209, 234)\",\"rgb(218, 158, 91)\",\"rgb(97, 99, 153)\",\"rgb(150, 100, 91)\",\"rgb(238, 180, 102)\",\"rgb(228, 238, 137)\",\"rgb(76, 140, 110)\",\"rgb(235, 173, 81)\",\"rgb(204, 197, 116)\",\"rgb(157, 204, 148)\",\"rgb(4, 223, 79)\",\"rgb(222, 37, 139)\",\"rgb(64, 116, 248)\",\"rgb(201, 244, 118)\",\"rgb(147, 245, 122)\",\"rgb(10, 252, 252)\",\"rgb(61, 189, 17)\",\"rgb(43, 6, 124)\",\"rgb(46, 17, 191)\",\"rgb(104, 69, 246)\",\"rgb(111, 107, 191)\",\"rgb(92, 247, 203)\",\"rgb(79, 27, 103)\",\"rgb(226, 202, 63)\",\"rgb(252, 209, 231)\",\"rgb(41, 198, 106)\",\"rgb(216, 144, 101)\",\"rgb(128, 11, 239)\",\"rgb(6, 237, 100)\",\"rgb(207, 187, 85)\",\"rgb(114, 225, 154)\",\"rgb(13, 115, 54)\",\"rgb(57, 254, 105)\",\"rgb(31, 16, 125)\",\"rgb(112, 86, 160)\",\"rgb(170, 72, 162)\",\"rgb(164, 197, 53)\",\"rgb(237, 144, 233)\",\"rgb(98, 55, 107)\",\"rgb(120, 61, 25)\",\"rgb(35, 75, 164)\",\"rgb(94, 59, 86)\",\"rgb(91, 109, 193)\",\"rgb(215, 47, 106)\",\"rgb(8, 229, 164)\",\"rgb(29, 12, 251)\",\"rgb(60, 18, 157)\",\"rgb(87, 135, 156)\",\"rgb(196, 95, 0)\",\"rgb(3, 114, 173)\",\"rgb(147, 29, 1)\",\"rgb(230, 231, 119)\",\"rgb(130, 113, 41)\",\"rgb(8, 184, 247)\",\"rgb(227, 156, 91)\",\"rgb(28, 253, 170)\",\"rgb(150, 227, 114)\",\"rgb(58, 182, 49)\",\"rgb(249, 193, 77)\",\"rgb(136, 49, 36)\",\"rgb(124, 203, 158)\",\"rgb(62, 160, 124)\",\"rgb(250, 34, 33)\",\"rgb(4, 131, 133)\",\"rgb(175, 18, 72)\",\"rgb(249, 98, 179)\",\"rgb(60, 25, 165)\",\"rgb(238, 184, 99)\",\"rgb(15, 59, 99)\",\"rgb(216, 243, 135)\",\"rgb(237, 8, 138)\",\"rgb(178, 78, 255)\",\"rgb(114, 141, 3)\",\"rgb(97, 10, 78)\",\"rgb(223, 3, 112)\",\"rgb(70, 241, 141)\",\"rgb(161, 104, 38)\",\"rgb(15, 213, 93)\",\"rgb(92, 180, 15)\",\"rgb(113, 61, 110)\",\"rgb(142, 205, 230)\",\"rgb(2, 50, 253)\",\"rgb(215, 203, 44)\",\"rgb(142, 174, 207)\",\"rgb(76, 103, 169)\",\"rgb(182, 228, 104)\",\"rgb(16, 107, 161)\",\"rgb(215, 167, 109)\",\"rgb(146, 67, 9)\",\"rgb(89, 144, 80)\",\"rgb(210, 94, 169)\",\"rgb(65, 171, 239)\",\"rgb(139, 123, 230)\",\"rgb(71, 253, 207)\",\"rgb(50, 196, 66)\",\"rgb(58, 172, 173)\",\"rgb(162, 170, 6)\",\"rgb(148, 130, 84)\",\"rgb(136, 38, 254)\",\"rgb(151, 218, 58)\",\"rgb(37, 184, 77)\",\"rgb(51, 56, 18)\",\"rgb(106, 176, 96)\",\"rgb(80, 90, 108)\",\"rgb(18, 198, 14)\",\"rgb(165, 68, 153)\",\"rgb(159, 141, 70)\",\"rgb(84, 20, 109)\",\"rgb(57, 224, 147)\"]},\"name\":\"1952\",\"orientation\":\"h\",\"x\":[60011,63149,120447,147962,153936,160000,216964,257700,284320,290243,413834,420702,442308,485831,507833,516556,580653,607914,662850,748747,800663,854885,863308,926317,940080,1019729,1022556,1030585,1127000,1165790,1219113,1282697,1291695,1426095,1438760,1439529,1489518,1517453,1555876,1620914,1738315,1994794,2042865,2125900,2143249,2227000,2252965,2445618,2491346,2526994,2534927,2664249,2672000,2682462,2755589,2791000,2883315,2917802,2952156,2977019,3080907,3146381,3201488,3327728,3379468,3548753,3558137,3647735,3661549,3838168,3882229,4005677,4090500,4232095,4334000,4469979,4693836,4762912,4815000,4963829,5009067,5439568,5441766,5581001,5824797,6007797,6377619,6446316,6464046,6748378,6860147,6927772,7124673,7274900,7733250,7982342,8025700,8322925,8425333,8504667,8526050,8550362,8691212,8730405,8865488,9125183,9182536,9279525,9504000,9939217,10381988,12350771,14100005,14264935,14785584,16630000,17272000,17876956,20092996,20860941,20947571,21289402,22223309,22235677,22438691,25730551,26246839,28549870,30144317,33119096,41346560,42459667,46886859,47666000,50430000,56602560,69145952,82052000,86459025,157553000,372000000,556263527],\"y\":[\"Sao Tome and Principe\",\"Djibouti\",\"Bahrain\",\"Iceland\",\"Comoros\",\"Kuwait\",\"Equatorial Guinea\",\"Reunion\",\"Gambia\",\"Swaziland\",\"Montenegro\",\"Gabon\",\"Botswana\",\"Namibia\",\"Oman\",\"Mauritius\",\"Guinea-Bissau\",\"Jordan\",\"Trinidad and Tobago\",\"Lesotho\",\"Mongolia\",\"Congo, Rep.\",\"Liberia\",\"Costa Rica\",\"Panama\",\"Libya\",\"Mauritania\",\"West Bank and Gaza\",\"Singapore\",\"Nicaragua\",\"Togo\",\"Albania\",\"Central African Republic\",\"Jamaica\",\"Eritrea\",\"Lebanon\",\"Slovenia\",\"Honduras\",\"Paraguay\",\"Israel\",\"Benin\",\"New Zealand\",\"El Salvador\",\"Hong Kong, China\",\"Sierra Leone\",\"Puerto Rico\",\"Uruguay\",\"Burundi\",\"Dominican Republic\",\"Somalia\",\"Rwanda\",\"Guinea\",\"Zambia\",\"Chad\",\"Senegal\",\"Bosnia and Herzegovina\",\"Bolivia\",\"Malawi\",\"Ireland\",\"Cote d'Ivoire\",\"Zimbabwe\",\"Guatemala\",\"Haiti\",\"Norway\",\"Niger\",\"Ecuador\",\"Slovak Republic\",\"Tunisia\",\"Syria\",\"Mali\",\"Croatia\",\"Saudi Arabia\",\"Finland\",\"Angola\",\"Denmark\",\"Burkina Faso\",\"Cambodia\",\"Madagascar\",\"Switzerland\",\"Yemen, Rep.\",\"Cameroon\",\"Venezuela\",\"Iraq\",\"Ghana\",\"Uganda\",\"Cuba\",\"Chile\",\"Mozambique\",\"Kenya\",\"Malaysia\",\"Serbia\",\"Austria\",\"Sweden\",\"Bulgaria\",\"Greece\",\"Sri Lanka\",\"Peru\",\"Tanzania\",\"Afghanistan\",\"Sudan\",\"Portugal\",\"Taiwan\",\"Australia\",\"Belgium\",\"Korea, Dem. Rep.\",\"Czech Republic\",\"Nepal\",\"Algeria\",\"Hungary\",\"Morocco\",\"Netherlands\",\"Colombia\",\"Congo, Dem. Rep.\",\"South Africa\",\"Canada\",\"Romania\",\"Iran\",\"Argentina\",\"Myanmar\",\"Ethiopia\",\"Korea, Rep.\",\"Thailand\",\"Egypt\",\"Turkey\",\"Philippines\",\"Poland\",\"Vietnam\",\"Spain\",\"Mexico\",\"Nigeria\",\"Pakistan\",\"France\",\"Bangladesh\",\"Italy\",\"United Kingdom\",\"Brazil\",\"Germany\",\"Indonesia\",\"Japan\",\"United States\",\"India\",\"China\"],\"type\":\"bar\"},{\"marker\":{\"color\":[\"rgb(6, 219, 17)\",\"rgb(129, 46, 134)\",\"rgb(209, 50, 30)\",\"rgb(123, 216, 169)\",\"rgb(135, 56, 204)\",\"rgb(253, 234, 92)\",\"rgb(26, 99, 15)\",\"rgb(214, 250, 16)\",\"rgb(132, 9, 36)\",\"rgb(120, 61, 206)\",\"rgb(62, 157, 216)\",\"rgb(16, 193, 232)\",\"rgb(39, 130, 78)\",\"rgb(171, 115, 5)\",\"rgb(47, 26, 222)\",\"rgb(35, 141, 179)\",\"rgb(214, 226, 234)\",\"rgb(17, 68, 3)\",\"rgb(100, 218, 248)\",\"rgb(109, 156, 213)\",\"rgb(73, 234, 46)\",\"rgb(81, 148, 89)\",\"rgb(167, 27, 71)\",\"rgb(142, 115, 181)\",\"rgb(231, 234, 163)\",\"rgb(123, 86, 137)\",\"rgb(143, 91, 73)\",\"rgb(252, 230, 99)\",\"rgb(245, 92, 32)\",\"rgb(115, 207, 154)\",\"rgb(107, 177, 167)\",\"rgb(55, 36, 34)\",\"rgb(166, 36, 121)\",\"rgb(150, 100, 91)\",\"rgb(92, 209, 234)\",\"rgb(218, 158, 91)\",\"rgb(97, 99, 153)\",\"rgb(238, 180, 102)\",\"rgb(228, 238, 137)\",\"rgb(235, 173, 81)\",\"rgb(76, 140, 110)\",\"rgb(204, 197, 116)\",\"rgb(64, 116, 248)\",\"rgb(222, 37, 139)\",\"rgb(157, 204, 148)\",\"rgb(201, 244, 118)\",\"rgb(147, 245, 122)\",\"rgb(4, 223, 79)\",\"rgb(61, 189, 17)\",\"rgb(43, 6, 124)\",\"rgb(46, 17, 191)\",\"rgb(41, 198, 106)\",\"rgb(111, 107, 191)\",\"rgb(10, 252, 252)\",\"rgb(104, 69, 246)\",\"rgb(92, 247, 203)\",\"rgb(79, 27, 103)\",\"rgb(226, 202, 63)\",\"rgb(252, 209, 231)\",\"rgb(216, 144, 101)\",\"rgb(114, 225, 154)\",\"rgb(207, 187, 85)\",\"rgb(6, 237, 100)\",\"rgb(128, 11, 239)\",\"rgb(13, 115, 54)\",\"rgb(31, 16, 125)\",\"rgb(112, 86, 160)\",\"rgb(237, 144, 233)\",\"rgb(57, 254, 105)\",\"rgb(170, 72, 162)\",\"rgb(164, 197, 53)\",\"rgb(120, 61, 25)\",\"rgb(98, 55, 107)\",\"rgb(94, 59, 86)\",\"rgb(35, 75, 164)\",\"rgb(91, 109, 193)\",\"rgb(29, 12, 251)\",\"rgb(8, 229, 164)\",\"rgb(215, 47, 106)\",\"rgb(87, 135, 156)\",\"rgb(60, 18, 157)\",\"rgb(3, 114, 173)\",\"rgb(147, 29, 1)\",\"rgb(130, 113, 41)\",\"rgb(230, 231, 119)\",\"rgb(196, 95, 0)\",\"rgb(249, 193, 77)\",\"rgb(227, 156, 91)\",\"rgb(8, 184, 247)\",\"rgb(58, 182, 49)\",\"rgb(136, 49, 36)\",\"rgb(28, 253, 170)\",\"rgb(124, 203, 158)\",\"rgb(150, 227, 114)\",\"rgb(62, 160, 124)\",\"rgb(238, 184, 99)\",\"rgb(237, 8, 138)\",\"rgb(250, 34, 33)\",\"rgb(4, 131, 133)\",\"rgb(249, 98, 179)\",\"rgb(178, 78, 255)\",\"rgb(175, 18, 72)\",\"rgb(114, 141, 3)\",\"rgb(97, 10, 78)\",\"rgb(216, 243, 135)\",\"rgb(60, 25, 165)\",\"rgb(70, 241, 141)\",\"rgb(15, 59, 99)\",\"rgb(223, 3, 112)\",\"rgb(15, 213, 93)\",\"rgb(161, 104, 38)\",\"rgb(92, 180, 15)\",\"rgb(113, 61, 110)\",\"rgb(142, 205, 230)\",\"rgb(2, 50, 253)\",\"rgb(215, 203, 44)\",\"rgb(76, 103, 169)\",\"rgb(142, 174, 207)\",\"rgb(182, 228, 104)\",\"rgb(215, 167, 109)\",\"rgb(16, 107, 161)\",\"rgb(89, 144, 80)\",\"rgb(146, 67, 9)\",\"rgb(210, 94, 169)\",\"rgb(65, 171, 239)\",\"rgb(139, 123, 230)\",\"rgb(71, 253, 207)\",\"rgb(50, 196, 66)\",\"rgb(58, 172, 173)\",\"rgb(162, 170, 6)\",\"rgb(136, 38, 254)\",\"rgb(148, 130, 84)\",\"rgb(37, 184, 77)\",\"rgb(151, 218, 58)\",\"rgb(51, 56, 18)\",\"rgb(106, 176, 96)\",\"rgb(80, 90, 108)\",\"rgb(18, 198, 14)\",\"rgb(165, 68, 153)\",\"rgb(159, 141, 70)\",\"rgb(84, 20, 109)\",\"rgb(57, 224, 147)\"]},\"name\":\"1957\",\"orientation\":\"h\",\"x\":[61325,71851,138655,165110,170928,212846,232922,308700,323150,326741,434904,442829,474639,548080,561977,601095,609816,746559,764900,813338,882134,940458,975950,1063506,1070439,1076852,1112300,1201578,1357445,1358828,1392284,1445929,1476505,1533070,1535090,1542611,1647412,1770390,1770902,1925173,1944401,2229407,2260000,2295678,2355805,2424959,2667518,2736300,2780415,2822082,2876726,2878220,2894855,2923186,3016000,3054547,3076000,3211738,3221238,3300000,3491938,3507701,3640876,3646340,3692184,3844277,3950849,3991242,4058385,4149908,4241884,4324000,4419650,4487831,4561361,4713416,5126000,5181679,5322536,5359923,5498090,6248643,6391288,6640752,6675501,6702668,6965860,7038035,7048426,7271135,7363802,7454779,7651254,7739235,8096218,8817650,8989111,9128546,9146100,9240934,9411381,9452826,9513758,9682338,9712569,9753392,9839000,10164215,10270856,11026383,11406350,14485993,15577932,16151549,17010154,17829327,19610538,19792000,21731844,22611552,22815614,25009741,25041917,25670939,26072194,28235346,28998543,29841614,35015548,37173340,44310863,46679944,49182000,51365468,51430000,65551171,71019069,90124000,91563009,171984000,409000000,637408000],\"y\":[\"Sao Tome and Principe\",\"Djibouti\",\"Bahrain\",\"Iceland\",\"Comoros\",\"Kuwait\",\"Equatorial Guinea\",\"Reunion\",\"Gambia\",\"Swaziland\",\"Gabon\",\"Montenegro\",\"Botswana\",\"Namibia\",\"Oman\",\"Guinea-Bissau\",\"Mauritius\",\"Jordan\",\"Trinidad and Tobago\",\"Lesotho\",\"Mongolia\",\"Congo, Rep.\",\"Liberia\",\"Panama\",\"West Bank and Gaza\",\"Mauritania\",\"Costa Rica\",\"Libya\",\"Togo\",\"Nicaragua\",\"Central African Republic\",\"Singapore\",\"Albania\",\"Slovenia\",\"Jamaica\",\"Eritrea\",\"Lebanon\",\"Honduras\",\"Paraguay\",\"Benin\",\"Israel\",\"New Zealand\",\"Puerto Rico\",\"Sierra Leone\",\"El Salvador\",\"Uruguay\",\"Burundi\",\"Hong Kong, China\",\"Somalia\",\"Rwanda\",\"Guinea\",\"Ireland\",\"Chad\",\"Dominican Republic\",\"Zambia\",\"Senegal\",\"Bosnia and Herzegovina\",\"Bolivia\",\"Malawi\",\"Cote d'Ivoire\",\"Norway\",\"Haiti\",\"Guatemala\",\"Zimbabwe\",\"Niger\",\"Slovak Republic\",\"Tunisia\",\"Croatia\",\"Ecuador\",\"Syria\",\"Mali\",\"Finland\",\"Saudi Arabia\",\"Denmark\",\"Angola\",\"Burkina Faso\",\"Switzerland\",\"Madagascar\",\"Cambodia\",\"Cameroon\",\"Yemen, Rep.\",\"Iraq\",\"Ghana\",\"Cuba\",\"Uganda\",\"Venezuela\",\"Austria\",\"Mozambique\",\"Chile\",\"Serbia\",\"Sweden\",\"Kenya\",\"Bulgaria\",\"Malaysia\",\"Greece\",\"Portugal\",\"Belgium\",\"Sri Lanka\",\"Peru\",\"Afghanistan\",\"Korea, Dem. Rep.\",\"Tanzania\",\"Czech Republic\",\"Nepal\",\"Australia\",\"Sudan\",\"Hungary\",\"Taiwan\",\"Algeria\",\"Netherlands\",\"Morocco\",\"Colombia\",\"Congo, Dem. Rep.\",\"South Africa\",\"Canada\",\"Romania\",\"Argentina\",\"Iran\",\"Myanmar\",\"Korea, Rep.\",\"Ethiopia\",\"Egypt\",\"Thailand\",\"Turkey\",\"Philippines\",\"Poland\",\"Vietnam\",\"Spain\",\"Mexico\",\"Nigeria\",\"France\",\"Pakistan\",\"Italy\",\"Bangladesh\",\"United Kingdom\",\"Brazil\",\"Germany\",\"Indonesia\",\"Japan\",\"United States\",\"India\",\"China\"],\"type\":\"bar\"},{\"marker\":{\"color\":[\"rgb(6, 219, 17)\",\"rgb(129, 46, 134)\",\"rgb(209, 50, 30)\",\"rgb(123, 216, 169)\",\"rgb(135, 56, 204)\",\"rgb(26, 99, 15)\",\"rgb(253, 234, 92)\",\"rgb(214, 250, 16)\",\"rgb(120, 61, 206)\",\"rgb(132, 9, 36)\",\"rgb(62, 157, 216)\",\"rgb(16, 193, 232)\",\"rgb(39, 130, 78)\",\"rgb(171, 115, 5)\",\"rgb(35, 141, 179)\",\"rgb(47, 26, 222)\",\"rgb(214, 226, 234)\",\"rgb(100, 218, 248)\",\"rgb(109, 156, 213)\",\"rgb(17, 68, 3)\",\"rgb(73, 234, 46)\",\"rgb(81, 148, 89)\",\"rgb(167, 27, 71)\",\"rgb(231, 234, 163)\",\"rgb(123, 86, 137)\",\"rgb(142, 115, 181)\",\"rgb(143, 91, 73)\",\"rgb(252, 230, 99)\",\"rgb(107, 177, 167)\",\"rgb(245, 92, 32)\",\"rgb(150, 100, 91)\",\"rgb(115, 207, 154)\",\"rgb(92, 209, 234)\",\"rgb(218, 158, 91)\",\"rgb(166, 36, 121)\",\"rgb(55, 36, 34)\",\"rgb(97, 99, 153)\",\"rgb(228, 238, 137)\",\"rgb(238, 180, 102)\",\"rgb(235, 173, 81)\",\"rgb(76, 140, 110)\",\"rgb(64, 116, 248)\",\"rgb(222, 37, 139)\",\"rgb(204, 197, 116)\",\"rgb(201, 244, 118)\",\"rgb(157, 204, 148)\",\"rgb(41, 198, 106)\",\"rgb(147, 245, 122)\",\"rgb(43, 6, 124)\",\"rgb(61, 189, 17)\",\"rgb(46, 17, 191)\",\"rgb(111, 107, 191)\",\"rgb(4, 223, 79)\",\"rgb(79, 27, 103)\",\"rgb(104, 69, 246)\",\"rgb(92, 247, 203)\",\"rgb(10, 252, 252)\",\"rgb(226, 202, 63)\",\"rgb(252, 209, 231)\",\"rgb(114, 225, 154)\",\"rgb(216, 144, 101)\",\"rgb(207, 187, 85)\",\"rgb(13, 115, 54)\",\"rgb(237, 144, 233)\",\"rgb(6, 237, 100)\",\"rgb(31, 16, 125)\",\"rgb(128, 11, 239)\",\"rgb(112, 86, 160)\",\"rgb(120, 61, 25)\",\"rgb(94, 59, 86)\",\"rgb(57, 254, 105)\",\"rgb(164, 197, 53)\",\"rgb(35, 75, 164)\",\"rgb(170, 72, 162)\",\"rgb(91, 109, 193)\",\"rgb(98, 55, 107)\",\"rgb(29, 12, 251)\",\"rgb(8, 229, 164)\",\"rgb(87, 135, 156)\",\"rgb(215, 47, 106)\",\"rgb(60, 18, 157)\",\"rgb(249, 193, 77)\",\"rgb(3, 114, 173)\",\"rgb(130, 113, 41)\",\"rgb(147, 29, 1)\",\"rgb(136, 49, 36)\",\"rgb(58, 182, 49)\",\"rgb(230, 231, 119)\",\"rgb(227, 156, 91)\",\"rgb(8, 184, 247)\",\"rgb(124, 203, 158)\",\"rgb(196, 95, 0)\",\"rgb(62, 160, 124)\",\"rgb(28, 253, 170)\",\"rgb(150, 227, 114)\",\"rgb(238, 184, 99)\",\"rgb(237, 8, 138)\",\"rgb(114, 141, 3)\",\"rgb(70, 241, 141)\",\"rgb(249, 98, 179)\",\"rgb(97, 10, 78)\",\"rgb(250, 34, 33)\",\"rgb(4, 131, 133)\",\"rgb(216, 243, 135)\",\"rgb(175, 18, 72)\",\"rgb(178, 78, 255)\",\"rgb(223, 3, 112)\",\"rgb(60, 25, 165)\",\"rgb(15, 213, 93)\",\"rgb(15, 59, 99)\",\"rgb(161, 104, 38)\",\"rgb(92, 180, 15)\",\"rgb(113, 61, 110)\",\"rgb(142, 205, 230)\",\"rgb(215, 203, 44)\",\"rgb(2, 50, 253)\",\"rgb(76, 103, 169)\",\"rgb(142, 174, 207)\",\"rgb(182, 228, 104)\",\"rgb(16, 107, 161)\",\"rgb(215, 167, 109)\",\"rgb(89, 144, 80)\",\"rgb(146, 67, 9)\",\"rgb(210, 94, 169)\",\"rgb(65, 171, 239)\",\"rgb(139, 123, 230)\",\"rgb(50, 196, 66)\",\"rgb(71, 253, 207)\",\"rgb(58, 172, 173)\",\"rgb(162, 170, 6)\",\"rgb(136, 38, 254)\",\"rgb(37, 184, 77)\",\"rgb(148, 130, 84)\",\"rgb(51, 56, 18)\",\"rgb(151, 218, 58)\",\"rgb(80, 90, 108)\",\"rgb(106, 176, 96)\",\"rgb(165, 68, 153)\",\"rgb(18, 198, 14)\",\"rgb(159, 141, 70)\",\"rgb(84, 20, 109)\",\"rgb(57, 224, 147)\"]},\"name\":\"1962\",\"orientation\":\"h\",\"x\":[65345,89898,171863,182053,191689,249220,358266,358900,370006,374020,455661,474528,512764,621392,627820,628164,701016,887498,893143,933559,1010280,1047924,1112796,1133134,1146757,1215725,1345187,1441863,1523478,1528098,1582962,1590597,1665128,1666618,1728137,1750200,1886848,2009813,2090162,2151895,2310904,2448046,2467895,2488550,2598466,2747687,2830000,2961915,3051242,3080153,3140003,3150417,3305200,3349000,3421000,3430243,3453434,3593918,3628608,3638919,3832408,3880130,4076008,4076557,4208858,4237384,4277736,4286552,4491443,4646899,4681707,4690372,4826015,4834621,4919632,4943029,5666000,5703324,5793633,6083619,6120081,7129864,7240260,7254373,7355248,7561588,7616060,7688797,7788944,7961258,8012946,8143375,8448233,8678557,8906385,9019800,9218400,9620282,10063000,10267083,10332057,10421936,10516500,10794968,10863958,10917494,11000948,11183227,11805689,11918938,13056604,17009885,17486434,18356657,18680721,18985849,21283783,22874000,23634436,25145372,26420307,28173309,29263397,29788695,30325264,30329617,31158061,33796140,41121485,41871351,47124000,50843200,53100671,53292000,56839289,73739117,76039390,95831757,99028000,186538000,454000000,665770000],\"y\":[\"Sao Tome and Principe\",\"Djibouti\",\"Bahrain\",\"Iceland\",\"Comoros\",\"Equatorial Guinea\",\"Kuwait\",\"Reunion\",\"Swaziland\",\"Gambia\",\"Gabon\",\"Montenegro\",\"Botswana\",\"Namibia\",\"Guinea-Bissau\",\"Oman\",\"Mauritius\",\"Trinidad and Tobago\",\"Lesotho\",\"Jordan\",\"Mongolia\",\"Congo, Rep.\",\"Liberia\",\"West Bank and Gaza\",\"Mauritania\",\"Panama\",\"Costa Rica\",\"Libya\",\"Central African Republic\",\"Togo\",\"Slovenia\",\"Nicaragua\",\"Jamaica\",\"Eritrea\",\"Albania\",\"Singapore\",\"Lebanon\",\"Paraguay\",\"Honduras\",\"Benin\",\"Israel\",\"Puerto Rico\",\"Sierra Leone\",\"New Zealand\",\"Uruguay\",\"El Salvador\",\"Ireland\",\"Burundi\",\"Rwanda\",\"Somalia\",\"Guinea\",\"Chad\",\"Hong Kong, China\",\"Bosnia and Herzegovina\",\"Zambia\",\"Senegal\",\"Dominican Republic\",\"Bolivia\",\"Malawi\",\"Norway\",\"Cote d'Ivoire\",\"Haiti\",\"Niger\",\"Croatia\",\"Guatemala\",\"Slovak Republic\",\"Zimbabwe\",\"Tunisia\",\"Finland\",\"Denmark\",\"Ecuador\",\"Mali\",\"Angola\",\"Syria\",\"Burkina Faso\",\"Saudi Arabia\",\"Switzerland\",\"Madagascar\",\"Cameroon\",\"Cambodia\",\"Yemen, Rep.\",\"Austria\",\"Iraq\",\"Cuba\",\"Ghana\",\"Sweden\",\"Serbia\",\"Uganda\",\"Mozambique\",\"Chile\",\"Bulgaria\",\"Venezuela\",\"Greece\",\"Kenya\",\"Malaysia\",\"Portugal\",\"Belgium\",\"Czech Republic\",\"Hungary\",\"Afghanistan\",\"Nepal\",\"Sri Lanka\",\"Peru\",\"Australia\",\"Tanzania\",\"Korea, Dem. Rep.\",\"Algeria\",\"Sudan\",\"Netherlands\",\"Taiwan\",\"Morocco\",\"Colombia\",\"Congo, Dem. Rep.\",\"South Africa\",\"Romania\",\"Canada\",\"Argentina\",\"Iran\",\"Myanmar\",\"Ethiopia\",\"Korea, Rep.\",\"Egypt\",\"Thailand\",\"Turkey\",\"Philippines\",\"Poland\",\"Spain\",\"Vietnam\",\"Mexico\",\"Nigeria\",\"France\",\"Italy\",\"Pakistan\",\"United Kingdom\",\"Bangladesh\",\"Germany\",\"Brazil\",\"Japan\",\"Indonesia\",\"United States\",\"India\",\"China\"],\"type\":\"bar\"},{\"marker\":{\"color\":[\"rgb(6, 219, 17)\",\"rgb(129, 46, 134)\",\"rgb(123, 216, 169)\",\"rgb(209, 50, 30)\",\"rgb(135, 56, 204)\",\"rgb(26, 99, 15)\",\"rgb(214, 250, 16)\",\"rgb(120, 61, 206)\",\"rgb(132, 9, 36)\",\"rgb(62, 157, 216)\",\"rgb(16, 193, 232)\",\"rgb(39, 130, 78)\",\"rgb(253, 234, 92)\",\"rgb(35, 141, 179)\",\"rgb(171, 115, 5)\",\"rgb(47, 26, 222)\",\"rgb(214, 226, 234)\",\"rgb(100, 218, 248)\",\"rgb(109, 156, 213)\",\"rgb(231, 234, 163)\",\"rgb(73, 234, 46)\",\"rgb(81, 148, 89)\",\"rgb(123, 86, 137)\",\"rgb(17, 68, 3)\",\"rgb(167, 27, 71)\",\"rgb(142, 115, 181)\",\"rgb(143, 91, 73)\",\"rgb(150, 100, 91)\",\"rgb(107, 177, 167)\",\"rgb(245, 92, 32)\",\"rgb(252, 230, 99)\",\"rgb(218, 158, 91)\",\"rgb(92, 209, 234)\",\"rgb(115, 207, 154)\",\"rgb(55, 36, 34)\",\"rgb(166, 36, 121)\",\"rgb(97, 99, 153)\",\"rgb(228, 238, 137)\",\"rgb(235, 173, 81)\",\"rgb(238, 180, 102)\",\"rgb(64, 116, 248)\",\"rgb(222, 37, 139)\",\"rgb(76, 140, 110)\",\"rgb(204, 197, 116)\",\"rgb(201, 244, 118)\",\"rgb(41, 198, 106)\",\"rgb(157, 204, 148)\",\"rgb(147, 245, 122)\",\"rgb(61, 189, 17)\",\"rgb(43, 6, 124)\",\"rgb(46, 17, 191)\",\"rgb(111, 107, 191)\",\"rgb(79, 27, 103)\",\"rgb(4, 223, 79)\",\"rgb(114, 225, 154)\",\"rgb(104, 69, 246)\",\"rgb(92, 247, 203)\",\"rgb(226, 202, 63)\",\"rgb(10, 252, 252)\",\"rgb(252, 209, 231)\",\"rgb(237, 144, 233)\",\"rgb(207, 187, 85)\",\"rgb(31, 16, 125)\",\"rgb(13, 115, 54)\",\"rgb(120, 61, 25)\",\"rgb(6, 237, 100)\",\"rgb(216, 144, 101)\",\"rgb(112, 86, 160)\",\"rgb(94, 59, 86)\",\"rgb(128, 11, 239)\",\"rgb(91, 109, 193)\",\"rgb(164, 197, 53)\",\"rgb(35, 75, 164)\",\"rgb(57, 254, 105)\",\"rgb(98, 55, 107)\",\"rgb(170, 72, 162)\",\"rgb(29, 12, 251)\",\"rgb(8, 229, 164)\",\"rgb(87, 135, 156)\",\"rgb(60, 18, 157)\",\"rgb(215, 47, 106)\",\"rgb(249, 193, 77)\",\"rgb(136, 49, 36)\",\"rgb(58, 182, 49)\",\"rgb(130, 113, 41)\",\"rgb(124, 203, 158)\",\"rgb(147, 29, 1)\",\"rgb(3, 114, 173)\",\"rgb(227, 156, 91)\",\"rgb(62, 160, 124)\",\"rgb(8, 184, 247)\",\"rgb(230, 231, 119)\",\"rgb(238, 184, 99)\",\"rgb(237, 8, 138)\",\"rgb(196, 95, 0)\",\"rgb(114, 141, 3)\",\"rgb(150, 227, 114)\",\"rgb(28, 253, 170)\",\"rgb(70, 241, 141)\",\"rgb(97, 10, 78)\",\"rgb(249, 98, 179)\",\"rgb(250, 34, 33)\",\"rgb(216, 243, 135)\",\"rgb(4, 131, 133)\",\"rgb(15, 213, 93)\",\"rgb(175, 18, 72)\",\"rgb(178, 78, 255)\",\"rgb(60, 25, 165)\",\"rgb(223, 3, 112)\",\"rgb(15, 59, 99)\",\"rgb(161, 104, 38)\",\"rgb(215, 203, 44)\",\"rgb(92, 180, 15)\",\"rgb(113, 61, 110)\",\"rgb(2, 50, 253)\",\"rgb(142, 205, 230)\",\"rgb(76, 103, 169)\",\"rgb(182, 228, 104)\",\"rgb(142, 174, 207)\",\"rgb(16, 107, 161)\",\"rgb(215, 167, 109)\",\"rgb(89, 144, 80)\",\"rgb(139, 123, 230)\",\"rgb(50, 196, 66)\",\"rgb(210, 94, 169)\",\"rgb(146, 67, 9)\",\"rgb(65, 171, 239)\",\"rgb(71, 253, 207)\",\"rgb(162, 170, 6)\",\"rgb(58, 172, 173)\",\"rgb(136, 38, 254)\",\"rgb(37, 184, 77)\",\"rgb(51, 56, 18)\",\"rgb(148, 130, 84)\",\"rgb(151, 218, 58)\",\"rgb(80, 90, 108)\",\"rgb(106, 176, 96)\",\"rgb(165, 68, 153)\",\"rgb(18, 198, 14)\",\"rgb(159, 141, 70)\",\"rgb(84, 20, 109)\",\"rgb(57, 224, 147)\"]},\"name\":\"1967\",\"orientation\":\"h\",\"x\":[70787,127617,198676,202182,217378,259864,414024,420690,439593,489004,501035,553541,575003,601287,706640,714775,789309,960155,996380,1142636,1149500,1179760,1230542,1255058,1279406,1405486,1588717,1646912,1733638,1735550,1759224,1820319,1861096,1865490,1977600,1984060,2186894,2287985,2427334,2500689,2648961,2662190,2693585,2728150,2748579,2900100,3232927,3330989,3428839,3451079,3451418,3495967,3585000,3722800,3786019,3900000,3965841,4040665,4049146,4147252,4174366,4318137,4442238,4534062,4605744,4690773,4744870,4786986,4838800,4995432,5127935,5212416,5247469,5432424,5618198,5680812,6063000,6334556,6335506,6740785,6960067,7376998,7867931,7971222,8139332,8310226,8490213,8519282,8680909,8716441,8858908,8900294,9103000,9556500,9709552,9835109,10154878,10191512,10223422,11261690,11537966,11737396,11872264,12132200,12596822,12607312,12617009,12716129,12760499,13648692,14770296,19284814,19764027,19941073,20819767,20997321,22934225,25870271,26538000,27860297,30131000,31681188,31785378,32850275,33411317,34024249,35356600,39463910,47287752,47995559,49569000,52667100,54959000,60641899,62821884,76368453,88049823,100825279,109343000,198712000,506000000,754550000],\"y\":[\"Sao Tome and Principe\",\"Djibouti\",\"Iceland\",\"Bahrain\",\"Comoros\",\"Equatorial Guinea\",\"Reunion\",\"Swaziland\",\"Gambia\",\"Gabon\",\"Montenegro\",\"Botswana\",\"Kuwait\",\"Guinea-Bissau\",\"Namibia\",\"Oman\",\"Mauritius\",\"Trinidad and Tobago\",\"Lesotho\",\"West Bank and Gaza\",\"Mongolia\",\"Congo, Rep.\",\"Mauritania\",\"Jordan\",\"Liberia\",\"Panama\",\"Costa Rica\",\"Slovenia\",\"Central African Republic\",\"Togo\",\"Libya\",\"Eritrea\",\"Jamaica\",\"Nicaragua\",\"Singapore\",\"Albania\",\"Lebanon\",\"Paraguay\",\"Benin\",\"Honduras\",\"Puerto Rico\",\"Sierra Leone\",\"Israel\",\"New Zealand\",\"Uruguay\",\"Ireland\",\"El Salvador\",\"Burundi\",\"Somalia\",\"Rwanda\",\"Guinea\",\"Chad\",\"Bosnia and Herzegovina\",\"Hong Kong, China\",\"Norway\",\"Zambia\",\"Senegal\",\"Bolivia\",\"Dominican Republic\",\"Malawi\",\"Croatia\",\"Haiti\",\"Slovak Republic\",\"Niger\",\"Finland\",\"Guatemala\",\"Cote d'Ivoire\",\"Tunisia\",\"Denmark\",\"Zimbabwe\",\"Burkina Faso\",\"Mali\",\"Angola\",\"Ecuador\",\"Saudi Arabia\",\"Syria\",\"Switzerland\",\"Madagascar\",\"Cameroon\",\"Yemen, Rep.\",\"Cambodia\",\"Austria\",\"Sweden\",\"Serbia\",\"Cuba\",\"Bulgaria\",\"Ghana\",\"Iraq\",\"Mozambique\",\"Greece\",\"Chile\",\"Uganda\",\"Portugal\",\"Belgium\",\"Venezuela\",\"Czech Republic\",\"Malaysia\",\"Kenya\",\"Hungary\",\"Nepal\",\"Afghanistan\",\"Sri Lanka\",\"Australia\",\"Peru\",\"Netherlands\",\"Tanzania\",\"Korea, Dem. Rep.\",\"Sudan\",\"Algeria\",\"Taiwan\",\"Morocco\",\"Romania\",\"Colombia\",\"Congo, Dem. Rep.\",\"Canada\",\"South Africa\",\"Argentina\",\"Myanmar\",\"Iran\",\"Ethiopia\",\"Korea, Rep.\",\"Egypt\",\"Poland\",\"Spain\",\"Turkey\",\"Thailand\",\"Philippines\",\"Vietnam\",\"Nigeria\",\"Mexico\",\"France\",\"Italy\",\"United Kingdom\",\"Pakistan\",\"Bangladesh\",\"Germany\",\"Brazil\",\"Japan\",\"Indonesia\",\"United States\",\"India\",\"China\"],\"type\":\"bar\"},{\"marker\":{\"color\":[\"rgb(6, 219, 17)\",\"rgb(129, 46, 134)\",\"rgb(123, 216, 169)\",\"rgb(209, 50, 30)\",\"rgb(135, 56, 204)\",\"rgb(26, 99, 15)\",\"rgb(214, 250, 16)\",\"rgb(120, 61, 206)\",\"rgb(132, 9, 36)\",\"rgb(16, 193, 232)\",\"rgb(62, 157, 216)\",\"rgb(39, 130, 78)\",\"rgb(35, 141, 179)\",\"rgb(171, 115, 5)\",\"rgb(47, 26, 222)\",\"rgb(253, 234, 92)\",\"rgb(214, 226, 234)\",\"rgb(100, 218, 248)\",\"rgb(231, 234, 163)\",\"rgb(109, 156, 213)\",\"rgb(73, 234, 46)\",\"rgb(123, 86, 137)\",\"rgb(81, 148, 89)\",\"rgb(167, 27, 71)\",\"rgb(17, 68, 3)\",\"rgb(142, 115, 181)\",\"rgb(150, 100, 91)\",\"rgb(143, 91, 73)\",\"rgb(107, 177, 167)\",\"rgb(92, 209, 234)\",\"rgb(245, 92, 32)\",\"rgb(55, 36, 34)\",\"rgb(115, 207, 154)\",\"rgb(252, 230, 99)\",\"rgb(218, 158, 91)\",\"rgb(166, 36, 121)\",\"rgb(228, 238, 137)\",\"rgb(97, 99, 153)\",\"rgb(235, 173, 81)\",\"rgb(201, 244, 118)\",\"rgb(64, 116, 248)\",\"rgb(222, 37, 139)\",\"rgb(204, 197, 116)\",\"rgb(238, 180, 102)\",\"rgb(41, 198, 106)\",\"rgb(76, 140, 110)\",\"rgb(147, 245, 122)\",\"rgb(157, 204, 148)\",\"rgb(46, 17, 191)\",\"rgb(79, 27, 103)\",\"rgb(61, 189, 17)\",\"rgb(111, 107, 191)\",\"rgb(114, 225, 154)\",\"rgb(43, 6, 124)\",\"rgb(4, 223, 79)\",\"rgb(237, 144, 233)\",\"rgb(104, 69, 246)\",\"rgb(226, 202, 63)\",\"rgb(92, 247, 203)\",\"rgb(31, 16, 125)\",\"rgb(120, 61, 25)\",\"rgb(10, 252, 252)\",\"rgb(207, 187, 85)\",\"rgb(252, 209, 231)\",\"rgb(94, 59, 86)\",\"rgb(13, 115, 54)\",\"rgb(6, 237, 100)\",\"rgb(112, 86, 160)\",\"rgb(91, 109, 193)\",\"rgb(164, 197, 53)\",\"rgb(128, 11, 239)\",\"rgb(35, 75, 164)\",\"rgb(216, 144, 101)\",\"rgb(57, 254, 105)\",\"rgb(29, 12, 251)\",\"rgb(98, 55, 107)\",\"rgb(170, 72, 162)\",\"rgb(87, 135, 156)\",\"rgb(8, 229, 164)\",\"rgb(60, 18, 157)\",\"rgb(215, 47, 106)\",\"rgb(249, 193, 77)\",\"rgb(136, 49, 36)\",\"rgb(58, 182, 49)\",\"rgb(124, 203, 158)\",\"rgb(130, 113, 41)\",\"rgb(62, 160, 124)\",\"rgb(238, 184, 99)\",\"rgb(147, 29, 1)\",\"rgb(237, 8, 138)\",\"rgb(8, 184, 247)\",\"rgb(227, 156, 91)\",\"rgb(114, 141, 3)\",\"rgb(3, 114, 173)\",\"rgb(230, 231, 119)\",\"rgb(70, 241, 141)\",\"rgb(150, 227, 114)\",\"rgb(196, 95, 0)\",\"rgb(28, 253, 170)\",\"rgb(97, 10, 78)\",\"rgb(250, 34, 33)\",\"rgb(249, 98, 179)\",\"rgb(216, 243, 135)\",\"rgb(15, 213, 93)\",\"rgb(4, 131, 133)\",\"rgb(60, 25, 165)\",\"rgb(175, 18, 72)\",\"rgb(223, 3, 112)\",\"rgb(178, 78, 255)\",\"rgb(15, 59, 99)\",\"rgb(161, 104, 38)\",\"rgb(215, 203, 44)\",\"rgb(2, 50, 253)\",\"rgb(92, 180, 15)\",\"rgb(113, 61, 110)\",\"rgb(142, 205, 230)\",\"rgb(76, 103, 169)\",\"rgb(182, 228, 104)\",\"rgb(142, 174, 207)\",\"rgb(16, 107, 161)\",\"rgb(139, 123, 230)\",\"rgb(215, 167, 109)\",\"rgb(50, 196, 66)\",\"rgb(89, 144, 80)\",\"rgb(210, 94, 169)\",\"rgb(146, 67, 9)\",\"rgb(65, 171, 239)\",\"rgb(71, 253, 207)\",\"rgb(136, 38, 254)\",\"rgb(162, 170, 6)\",\"rgb(37, 184, 77)\",\"rgb(58, 172, 173)\",\"rgb(51, 56, 18)\",\"rgb(148, 130, 84)\",\"rgb(151, 218, 58)\",\"rgb(80, 90, 108)\",\"rgb(106, 176, 96)\",\"rgb(165, 68, 153)\",\"rgb(18, 198, 14)\",\"rgb(159, 141, 70)\",\"rgb(84, 20, 109)\",\"rgb(57, 224, 147)\"]},\"name\":\"1972\",\"orientation\":\"h\",\"x\":[76595,178848,209275,230800,250027,277603,461633,480105,517101,527678,537977,619351,625361,821782,829050,841934,851334,975199,1089572,1116779,1320500,1332786,1340458,1482628,1613551,1616384,1694510,1834796,1927260,1997616,2056351,2152400,2182908,2183877,2260187,2263554,2614104,2680018,2761407,2829526,2847132,2879013,2929100,2965146,3024400,3095893,3529983,3790903,3811387,3819000,3840161,3899068,3933004,3992121,4115700,4225310,4506497,4565872,4588696,4593433,4639657,4671329,4698301,4730997,4991596,5060262,5149581,5303507,5433886,5828158,5861135,5894858,6071696,6298651,6401400,6472756,6701172,7021028,7082430,7407075,7450606,7544201,8122293,8313288,8576200,8831348,8888628,8970450,9354120,9709100,9717524,9809596,9862158,10061506,10190285,10394091,11441462,11515649,12044785,12412593,13016733,13079460,13177000,13329874,13954700,14597019,14706593,14760787,14781241,15226039,16660670,20662648,22284500,22542890,23007669,23935810,24779799,28466390,30614000,30770372,33039545,33505000,34513161,34807417,37492953,39276153,40850141,44655014,51732000,53740085,54365564,55984294,56079000,69325921,70759295,78717088,100840058,107188273,121282000,209896000,567000000,862030000],\"y\":[\"Sao Tome and Principe\",\"Djibouti\",\"Iceland\",\"Bahrain\",\"Comoros\",\"Equatorial Guinea\",\"Reunion\",\"Swaziland\",\"Gambia\",\"Montenegro\",\"Gabon\",\"Botswana\",\"Guinea-Bissau\",\"Namibia\",\"Oman\",\"Kuwait\",\"Mauritius\",\"Trinidad and Tobago\",\"West Bank and Gaza\",\"Lesotho\",\"Mongolia\",\"Mauritania\",\"Congo, Rep.\",\"Liberia\",\"Jordan\",\"Panama\",\"Slovenia\",\"Costa Rica\",\"Central African Republic\",\"Jamaica\",\"Togo\",\"Singapore\",\"Nicaragua\",\"Libya\",\"Eritrea\",\"Albania\",\"Paraguay\",\"Lebanon\",\"Benin\",\"Uruguay\",\"Puerto Rico\",\"Sierra Leone\",\"New Zealand\",\"Honduras\",\"Ireland\",\"Israel\",\"Burundi\",\"El Salvador\",\"Guinea\",\"Bosnia and Herzegovina\",\"Somalia\",\"Chad\",\"Norway\",\"Rwanda\",\"Hong Kong, China\",\"Croatia\",\"Zambia\",\"Bolivia\",\"Senegal\",\"Slovak Republic\",\"Finland\",\"Dominican Republic\",\"Haiti\",\"Malawi\",\"Denmark\",\"Niger\",\"Guatemala\",\"Tunisia\",\"Burkina Faso\",\"Mali\",\"Zimbabwe\",\"Angola\",\"Cote d'Ivoire\",\"Ecuador\",\"Switzerland\",\"Saudi Arabia\",\"Syria\",\"Cameroon\",\"Madagascar\",\"Yemen, Rep.\",\"Cambodia\",\"Austria\",\"Sweden\",\"Serbia\",\"Bulgaria\",\"Cuba\",\"Greece\",\"Portugal\",\"Ghana\",\"Belgium\",\"Chile\",\"Mozambique\",\"Czech Republic\",\"Iraq\",\"Uganda\",\"Hungary\",\"Malaysia\",\"Venezuela\",\"Kenya\",\"Nepal\",\"Sri Lanka\",\"Afghanistan\",\"Australia\",\"Netherlands\",\"Peru\",\"Sudan\",\"Tanzania\",\"Algeria\",\"Korea, Dem. Rep.\",\"Taiwan\",\"Morocco\",\"Romania\",\"Canada\",\"Colombia\",\"Congo, Dem. Rep.\",\"South Africa\",\"Argentina\",\"Myanmar\",\"Iran\",\"Ethiopia\",\"Poland\",\"Korea, Rep.\",\"Spain\",\"Egypt\",\"Turkey\",\"Thailand\",\"Philippines\",\"Vietnam\",\"France\",\"Nigeria\",\"Italy\",\"Mexico\",\"United Kingdom\",\"Pakistan\",\"Bangladesh\",\"Germany\",\"Brazil\",\"Japan\",\"Indonesia\",\"United States\",\"India\",\"China\"],\"type\":\"bar\"},{\"marker\":{\"color\":[\"rgb(6, 219, 17)\",\"rgb(26, 99, 15)\",\"rgb(123, 216, 169)\",\"rgb(129, 46, 134)\",\"rgb(209, 50, 30)\",\"rgb(135, 56, 204)\",\"rgb(214, 250, 16)\",\"rgb(120, 61, 206)\",\"rgb(16, 193, 232)\",\"rgb(132, 9, 36)\",\"rgb(62, 157, 216)\",\"rgb(35, 141, 179)\",\"rgb(39, 130, 78)\",\"rgb(214, 226, 234)\",\"rgb(171, 115, 5)\",\"rgb(47, 26, 222)\",\"rgb(100, 218, 248)\",\"rgb(253, 234, 92)\",\"rgb(109, 156, 213)\",\"rgb(231, 234, 163)\",\"rgb(123, 86, 137)\",\"rgb(73, 234, 46)\",\"rgb(81, 148, 89)\",\"rgb(167, 27, 71)\",\"rgb(150, 100, 91)\",\"rgb(142, 115, 181)\",\"rgb(17, 68, 3)\",\"rgb(143, 91, 73)\",\"rgb(92, 209, 234)\",\"rgb(107, 177, 167)\",\"rgb(245, 92, 32)\",\"rgb(55, 36, 34)\",\"rgb(166, 36, 121)\",\"rgb(218, 158, 91)\",\"rgb(115, 207, 154)\",\"rgb(252, 230, 99)\",\"rgb(201, 244, 118)\",\"rgb(228, 238, 137)\",\"rgb(238, 180, 102)\",\"rgb(64, 116, 248)\",\"rgb(97, 99, 153)\",\"rgb(222, 37, 139)\",\"rgb(204, 197, 116)\",\"rgb(235, 173, 81)\",\"rgb(41, 198, 106)\",\"rgb(76, 140, 110)\",\"rgb(147, 245, 122)\",\"rgb(114, 225, 154)\",\"rgb(79, 27, 103)\",\"rgb(46, 17, 191)\",\"rgb(157, 204, 148)\",\"rgb(237, 144, 233)\",\"rgb(61, 189, 17)\",\"rgb(111, 107, 191)\",\"rgb(4, 223, 79)\",\"rgb(43, 6, 124)\",\"rgb(120, 61, 25)\",\"rgb(31, 16, 125)\",\"rgb(207, 187, 85)\",\"rgb(226, 202, 63)\",\"rgb(94, 59, 86)\",\"rgb(104, 69, 246)\",\"rgb(92, 247, 203)\",\"rgb(10, 252, 252)\",\"rgb(252, 209, 231)\",\"rgb(13, 115, 54)\",\"rgb(6, 237, 100)\",\"rgb(91, 109, 193)\",\"rgb(112, 86, 160)\",\"rgb(35, 75, 164)\",\"rgb(29, 12, 251)\",\"rgb(164, 197, 53)\",\"rgb(128, 11, 239)\",\"rgb(215, 47, 106)\",\"rgb(57, 254, 105)\",\"rgb(216, 144, 101)\",\"rgb(249, 193, 77)\",\"rgb(170, 72, 162)\",\"rgb(87, 135, 156)\",\"rgb(8, 229, 164)\",\"rgb(98, 55, 107)\",\"rgb(136, 49, 36)\",\"rgb(60, 18, 157)\",\"rgb(58, 182, 49)\",\"rgb(124, 203, 158)\",\"rgb(62, 160, 124)\",\"rgb(130, 113, 41)\",\"rgb(238, 184, 99)\",\"rgb(237, 8, 138)\",\"rgb(114, 141, 3)\",\"rgb(147, 29, 1)\",\"rgb(8, 184, 247)\",\"rgb(70, 241, 141)\",\"rgb(227, 156, 91)\",\"rgb(230, 231, 119)\",\"rgb(3, 114, 173)\",\"rgb(150, 227, 114)\",\"rgb(196, 95, 0)\",\"rgb(15, 213, 93)\",\"rgb(97, 10, 78)\",\"rgb(216, 243, 135)\",\"rgb(250, 34, 33)\",\"rgb(28, 253, 170)\",\"rgb(249, 98, 179)\",\"rgb(4, 131, 133)\",\"rgb(178, 78, 255)\",\"rgb(15, 59, 99)\",\"rgb(60, 25, 165)\",\"rgb(175, 18, 72)\",\"rgb(223, 3, 112)\",\"rgb(161, 104, 38)\",\"rgb(215, 203, 44)\",\"rgb(2, 50, 253)\",\"rgb(92, 180, 15)\",\"rgb(113, 61, 110)\",\"rgb(76, 103, 169)\",\"rgb(142, 205, 230)\",\"rgb(182, 228, 104)\",\"rgb(16, 107, 161)\",\"rgb(139, 123, 230)\",\"rgb(142, 174, 207)\",\"rgb(215, 167, 109)\",\"rgb(50, 196, 66)\",\"rgb(89, 144, 80)\",\"rgb(210, 94, 169)\",\"rgb(146, 67, 9)\",\"rgb(65, 171, 239)\",\"rgb(71, 253, 207)\",\"rgb(136, 38, 254)\",\"rgb(37, 184, 77)\",\"rgb(51, 56, 18)\",\"rgb(162, 170, 6)\",\"rgb(58, 172, 173)\",\"rgb(148, 130, 84)\",\"rgb(80, 90, 108)\",\"rgb(151, 218, 58)\",\"rgb(165, 68, 153)\",\"rgb(106, 176, 96)\",\"rgb(18, 198, 14)\",\"rgb(159, 141, 70)\",\"rgb(84, 20, 109)\",\"rgb(57, 224, 147)\"]},\"name\":\"1977\",\"orientation\":\"h\",\"x\":[86796,192675,221823,228694,297410,304739,492095,551425,560073,608274,706367,745228,781472,913025,977026,1004533,1039009,1140357,1251524,1261091,1456688,1528000,1536769,1703617,1746919,1839782,1937652,2108457,2156814,2167533,2308582,2325300,2509048,2512642,2554598,2721783,2873520,2984494,3055235,3080828,3115787,3140897,3164900,3168267,3271900,3495918,3834415,4043205,4086000,4227026,4282586,4318673,4353666,4388260,4583700,4657072,4738902,4827803,4908554,5079716,5088419,5216550,5260855,5302800,5637246,5682086,5703430,5889574,6005061,6162675,6316424,6491649,6642107,6978607,7278866,7459574,7568430,7932503,7959865,8007166,8128505,8251648,8403990,8686367,8797022,9308479,9537988,9662600,9821800,10161915,10538093,10599793,10637171,11127868,11457758,11882916,12845381,13503563,13852989,13933198,14074100,14116836,14500404,14880372,15990099,16325320,16785196,17104986,17129565,17152804,18396941,21658597,23796400,25094412,26480870,26983828,27129932,31528087,34617799,34621254,35480679,36436000,36439000,38783863,42404033,44148285,46850962,50533506,53165019,56059245,56179000,62209173,63759976,78152686,78160773,80428306,113872473,114313951,136725000,220239000,634000000,943455000],\"y\":[\"Sao Tome and Principe\",\"Equatorial Guinea\",\"Iceland\",\"Djibouti\",\"Bahrain\",\"Comoros\",\"Reunion\",\"Swaziland\",\"Montenegro\",\"Gambia\",\"Gabon\",\"Guinea-Bissau\",\"Botswana\",\"Mauritius\",\"Namibia\",\"Oman\",\"Trinidad and Tobago\",\"Kuwait\",\"Lesotho\",\"West Bank and Gaza\",\"Mauritania\",\"Mongolia\",\"Congo, Rep.\",\"Liberia\",\"Slovenia\",\"Panama\",\"Jordan\",\"Costa Rica\",\"Jamaica\",\"Central African Republic\",\"Togo\",\"Singapore\",\"Albania\",\"Eritrea\",\"Nicaragua\",\"Libya\",\"Uruguay\",\"Paraguay\",\"Honduras\",\"Puerto Rico\",\"Lebanon\",\"Sierra Leone\",\"New Zealand\",\"Benin\",\"Ireland\",\"Israel\",\"Burundi\",\"Norway\",\"Bosnia and Herzegovina\",\"Guinea\",\"El Salvador\",\"Croatia\",\"Somalia\",\"Chad\",\"Hong Kong, China\",\"Rwanda\",\"Finland\",\"Slovak Republic\",\"Haiti\",\"Bolivia\",\"Denmark\",\"Zambia\",\"Senegal\",\"Dominican Republic\",\"Malawi\",\"Niger\",\"Guatemala\",\"Burkina Faso\",\"Tunisia\",\"Angola\",\"Switzerland\",\"Mali\",\"Zimbabwe\",\"Cambodia\",\"Ecuador\",\"Cote d'Ivoire\",\"Austria\",\"Syria\",\"Cameroon\",\"Madagascar\",\"Saudi Arabia\",\"Sweden\",\"Yemen, Rep.\",\"Serbia\",\"Bulgaria\",\"Greece\",\"Cuba\",\"Portugal\",\"Belgium\",\"Czech Republic\",\"Ghana\",\"Chile\",\"Hungary\",\"Mozambique\",\"Uganda\",\"Iraq\",\"Malaysia\",\"Venezuela\",\"Netherlands\",\"Nepal\",\"Australia\",\"Sri Lanka\",\"Kenya\",\"Afghanistan\",\"Peru\",\"Korea, Dem. Rep.\",\"Taiwan\",\"Sudan\",\"Tanzania\",\"Algeria\",\"Morocco\",\"Romania\",\"Canada\",\"Colombia\",\"Congo, Dem. Rep.\",\"Argentina\",\"South Africa\",\"Myanmar\",\"Ethiopia\",\"Poland\",\"Iran\",\"Korea, Rep.\",\"Spain\",\"Egypt\",\"Turkey\",\"Thailand\",\"Philippines\",\"Vietnam\",\"France\",\"Italy\",\"United Kingdom\",\"Nigeria\",\"Mexico\",\"Pakistan\",\"Germany\",\"Bangladesh\",\"Japan\",\"Brazil\",\"Indonesia\",\"United States\",\"India\",\"China\"],\"type\":\"bar\"},{\"marker\":{\"color\":[\"rgb(6, 219, 17)\",\"rgb(123, 216, 169)\",\"rgb(26, 99, 15)\",\"rgb(129, 46, 134)\",\"rgb(135, 56, 204)\",\"rgb(209, 50, 30)\",\"rgb(214, 250, 16)\",\"rgb(16, 193, 232)\",\"rgb(120, 61, 206)\",\"rgb(132, 9, 36)\",\"rgb(62, 157, 216)\",\"rgb(35, 141, 179)\",\"rgb(39, 130, 78)\",\"rgb(214, 226, 234)\",\"rgb(171, 115, 5)\",\"rgb(100, 218, 248)\",\"rgb(47, 26, 222)\",\"rgb(109, 156, 213)\",\"rgb(231, 234, 163)\",\"rgb(253, 234, 92)\",\"rgb(123, 86, 137)\",\"rgb(73, 234, 46)\",\"rgb(81, 148, 89)\",\"rgb(150, 100, 91)\",\"rgb(167, 27, 71)\",\"rgb(142, 115, 181)\",\"rgb(92, 209, 234)\",\"rgb(17, 68, 3)\",\"rgb(143, 91, 73)\",\"rgb(107, 177, 167)\",\"rgb(218, 158, 91)\",\"rgb(245, 92, 32)\",\"rgb(55, 36, 34)\",\"rgb(166, 36, 121)\",\"rgb(201, 244, 118)\",\"rgb(115, 207, 154)\",\"rgb(97, 99, 153)\",\"rgb(204, 197, 116)\",\"rgb(64, 116, 248)\",\"rgb(252, 230, 99)\",\"rgb(228, 238, 137)\",\"rgb(222, 37, 139)\",\"rgb(41, 198, 106)\",\"rgb(235, 173, 81)\",\"rgb(238, 180, 102)\",\"rgb(76, 140, 110)\",\"rgb(114, 225, 154)\",\"rgb(79, 27, 103)\",\"rgb(237, 144, 233)\",\"rgb(157, 204, 148)\",\"rgb(147, 245, 122)\",\"rgb(46, 17, 191)\",\"rgb(120, 61, 25)\",\"rgb(111, 107, 191)\",\"rgb(31, 16, 125)\",\"rgb(94, 59, 86)\",\"rgb(207, 187, 85)\",\"rgb(4, 223, 79)\",\"rgb(43, 6, 124)\",\"rgb(226, 202, 63)\",\"rgb(61, 189, 17)\",\"rgb(10, 252, 252)\",\"rgb(104, 69, 246)\",\"rgb(92, 247, 203)\",\"rgb(6, 237, 100)\",\"rgb(13, 115, 54)\",\"rgb(29, 12, 251)\",\"rgb(252, 209, 231)\",\"rgb(91, 109, 193)\",\"rgb(112, 86, 160)\",\"rgb(164, 197, 53)\",\"rgb(35, 75, 164)\",\"rgb(215, 47, 106)\",\"rgb(249, 193, 77)\",\"rgb(128, 11, 239)\",\"rgb(136, 49, 36)\",\"rgb(57, 254, 105)\",\"rgb(124, 203, 158)\",\"rgb(216, 144, 101)\",\"rgb(58, 182, 49)\",\"rgb(8, 229, 164)\",\"rgb(87, 135, 156)\",\"rgb(170, 72, 162)\",\"rgb(60, 18, 157)\",\"rgb(62, 160, 124)\",\"rgb(130, 113, 41)\",\"rgb(237, 8, 138)\",\"rgb(238, 184, 99)\",\"rgb(114, 141, 3)\",\"rgb(70, 241, 141)\",\"rgb(98, 55, 107)\",\"rgb(147, 29, 1)\",\"rgb(8, 184, 247)\",\"rgb(227, 156, 91)\",\"rgb(249, 98, 179)\",\"rgb(230, 231, 119)\",\"rgb(3, 114, 173)\",\"rgb(15, 213, 93)\",\"rgb(150, 227, 114)\",\"rgb(216, 243, 135)\",\"rgb(250, 34, 33)\",\"rgb(196, 95, 0)\",\"rgb(97, 10, 78)\",\"rgb(178, 78, 255)\",\"rgb(28, 253, 170)\",\"rgb(4, 131, 133)\",\"rgb(15, 59, 99)\",\"rgb(175, 18, 72)\",\"rgb(223, 3, 112)\",\"rgb(161, 104, 38)\",\"rgb(60, 25, 165)\",\"rgb(215, 203, 44)\",\"rgb(2, 50, 253)\",\"rgb(92, 180, 15)\",\"rgb(76, 103, 169)\",\"rgb(113, 61, 110)\",\"rgb(142, 205, 230)\",\"rgb(182, 228, 104)\",\"rgb(139, 123, 230)\",\"rgb(50, 196, 66)\",\"rgb(16, 107, 161)\",\"rgb(215, 167, 109)\",\"rgb(142, 174, 207)\",\"rgb(89, 144, 80)\",\"rgb(210, 94, 169)\",\"rgb(146, 67, 9)\",\"rgb(65, 171, 239)\",\"rgb(136, 38, 254)\",\"rgb(71, 253, 207)\",\"rgb(51, 56, 18)\",\"rgb(37, 184, 77)\",\"rgb(58, 172, 173)\",\"rgb(162, 170, 6)\",\"rgb(80, 90, 108)\",\"rgb(148, 130, 84)\",\"rgb(151, 218, 58)\",\"rgb(165, 68, 153)\",\"rgb(106, 176, 96)\",\"rgb(18, 198, 14)\",\"rgb(159, 141, 70)\",\"rgb(84, 20, 109)\",\"rgb(57, 224, 147)\"]},\"name\":\"1982\",\"orientation\":\"h\",\"x\":[98593,233997,285483,305991,348643,377967,517810,562548,649901,715523,753874,825987,970347,992040,1099010,1116479,1301048,1411807,1425876,1497494,1622136,1756032,1774735,1861252,1956875,2036305,2298309,2347031,2424367,2476971,2637297,2644765,2651869,2780097,2953997,2979423,3086876,3210650,3279001,3344074,3366439,3464522,3480000,3641603,3669448,3858421,4114787,4172693,4413368,4474873,4580410,4710497,4826933,4875118,5048043,5117810,5198399,5264500,5507565,5642224,5828892,5968349,6100407,6147783,6395630,6437188,6468126,6502825,6634596,6734098,6998256,7016384,7272485,7574613,7636524,8325260,8365850,8892098,9025951,9032824,9171477,9250831,9410494,9657618,9786480,9789224,9856303,9859650,10303704,10705535,11254672,11400338,11487112,12587223,12881816,12939400,14173318,14310401,14441916,15184200,15410151,15620766,15796314,17647518,17661452,18125129,18501390,19844382,20033753,20198730,20367053,22356726,25201900,27764644,29341374,30646495,31140029,34680442,36227381,37983310,38111756,39326000,43072751,45681811,47328791,48827160,53456774,54433565,56142181,56339704,56535636,71640904,73039376,78335266,91462088,93074406,118454974,128962939,153343000,232187835,708000000,1000281000],\"y\":[\"Sao Tome and Principe\",\"Iceland\",\"Equatorial Guinea\",\"Djibouti\",\"Comoros\",\"Bahrain\",\"Reunion\",\"Montenegro\",\"Swaziland\",\"Gambia\",\"Gabon\",\"Guinea-Bissau\",\"Botswana\",\"Mauritius\",\"Namibia\",\"Trinidad and Tobago\",\"Oman\",\"Lesotho\",\"West Bank and Gaza\",\"Kuwait\",\"Mauritania\",\"Mongolia\",\"Congo, Rep.\",\"Slovenia\",\"Liberia\",\"Panama\",\"Jamaica\",\"Jordan\",\"Costa Rica\",\"Central African Republic\",\"Eritrea\",\"Togo\",\"Singapore\",\"Albania\",\"Uruguay\",\"Nicaragua\",\"Lebanon\",\"New Zealand\",\"Puerto Rico\",\"Libya\",\"Paraguay\",\"Sierra Leone\",\"Ireland\",\"Benin\",\"Honduras\",\"Israel\",\"Norway\",\"Bosnia and Herzegovina\",\"Croatia\",\"El Salvador\",\"Burundi\",\"Guinea\",\"Finland\",\"Chad\",\"Slovak Republic\",\"Denmark\",\"Haiti\",\"Hong Kong, China\",\"Rwanda\",\"Bolivia\",\"Somalia\",\"Dominican Republic\",\"Zambia\",\"Senegal\",\"Guatemala\",\"Niger\",\"Switzerland\",\"Malawi\",\"Burkina Faso\",\"Tunisia\",\"Mali\",\"Angola\",\"Cambodia\",\"Austria\",\"Zimbabwe\",\"Sweden\",\"Ecuador\",\"Bulgaria\",\"Cote d'Ivoire\",\"Serbia\",\"Madagascar\",\"Cameroon\",\"Syria\",\"Yemen, Rep.\",\"Greece\",\"Cuba\",\"Belgium\",\"Portugal\",\"Czech Republic\",\"Hungary\",\"Saudi Arabia\",\"Ghana\",\"Chile\",\"Mozambique\",\"Afghanistan\",\"Uganda\",\"Iraq\",\"Netherlands\",\"Malaysia\",\"Australia\",\"Sri Lanka\",\"Venezuela\",\"Nepal\",\"Korea, Dem. Rep.\",\"Kenya\",\"Peru\",\"Taiwan\",\"Tanzania\",\"Algeria\",\"Morocco\",\"Sudan\",\"Romania\",\"Canada\",\"Colombia\",\"Argentina\",\"Congo, Dem. Rep.\",\"South Africa\",\"Myanmar\",\"Poland\",\"Spain\",\"Ethiopia\",\"Korea, Rep.\",\"Iran\",\"Egypt\",\"Turkey\",\"Thailand\",\"Philippines\",\"France\",\"Vietnam\",\"United Kingdom\",\"Italy\",\"Mexico\",\"Nigeria\",\"Germany\",\"Pakistan\",\"Bangladesh\",\"Japan\",\"Brazil\",\"Indonesia\",\"United States\",\"India\",\"China\"],\"type\":\"bar\"},{\"marker\":{\"color\":[\"rgb(6, 219, 17)\",\"rgb(123, 216, 169)\",\"rgb(129, 46, 134)\",\"rgb(26, 99, 15)\",\"rgb(135, 56, 204)\",\"rgb(209, 50, 30)\",\"rgb(214, 250, 16)\",\"rgb(16, 193, 232)\",\"rgb(120, 61, 206)\",\"rgb(132, 9, 36)\",\"rgb(62, 157, 216)\",\"rgb(35, 141, 179)\",\"rgb(214, 226, 234)\",\"rgb(39, 130, 78)\",\"rgb(100, 218, 248)\",\"rgb(171, 115, 5)\",\"rgb(47, 26, 222)\",\"rgb(109, 156, 213)\",\"rgb(231, 234, 163)\",\"rgb(123, 86, 137)\",\"rgb(253, 234, 92)\",\"rgb(150, 100, 91)\",\"rgb(73, 234, 46)\",\"rgb(81, 148, 89)\",\"rgb(142, 115, 181)\",\"rgb(167, 27, 71)\",\"rgb(92, 209, 234)\",\"rgb(55, 36, 34)\",\"rgb(143, 91, 73)\",\"rgb(17, 68, 3)\",\"rgb(107, 177, 167)\",\"rgb(218, 158, 91)\",\"rgb(201, 244, 118)\",\"rgb(166, 36, 121)\",\"rgb(97, 99, 153)\",\"rgb(245, 92, 32)\",\"rgb(204, 197, 116)\",\"rgb(115, 207, 154)\",\"rgb(64, 116, 248)\",\"rgb(41, 198, 106)\",\"rgb(252, 230, 99)\",\"rgb(222, 37, 139)\",\"rgb(228, 238, 137)\",\"rgb(114, 225, 154)\",\"rgb(76, 140, 110)\",\"rgb(235, 173, 81)\",\"rgb(79, 27, 103)\",\"rgb(238, 180, 102)\",\"rgb(237, 144, 233)\",\"rgb(157, 204, 148)\",\"rgb(120, 61, 25)\",\"rgb(147, 245, 122)\",\"rgb(94, 59, 86)\",\"rgb(31, 16, 125)\",\"rgb(111, 107, 191)\",\"rgb(4, 223, 79)\",\"rgb(46, 17, 191)\",\"rgb(207, 187, 85)\",\"rgb(226, 202, 63)\",\"rgb(43, 6, 124)\",\"rgb(29, 12, 251)\",\"rgb(10, 252, 252)\",\"rgb(61, 189, 17)\",\"rgb(92, 247, 203)\",\"rgb(104, 69, 246)\",\"rgb(6, 237, 100)\",\"rgb(13, 115, 54)\",\"rgb(249, 193, 77)\",\"rgb(91, 109, 193)\",\"rgb(164, 197, 53)\",\"rgb(112, 86, 160)\",\"rgb(252, 209, 231)\",\"rgb(35, 75, 164)\",\"rgb(215, 47, 106)\",\"rgb(136, 49, 36)\",\"rgb(124, 203, 158)\",\"rgb(128, 11, 239)\",\"rgb(58, 182, 49)\",\"rgb(57, 254, 105)\",\"rgb(237, 8, 138)\",\"rgb(238, 184, 99)\",\"rgb(62, 160, 124)\",\"rgb(130, 113, 41)\",\"rgb(114, 141, 3)\",\"rgb(8, 229, 164)\",\"rgb(70, 241, 141)\",\"rgb(216, 144, 101)\",\"rgb(87, 135, 156)\",\"rgb(60, 18, 157)\",\"rgb(170, 72, 162)\",\"rgb(8, 184, 247)\",\"rgb(227, 156, 91)\",\"rgb(249, 98, 179)\",\"rgb(147, 29, 1)\",\"rgb(98, 55, 107)\",\"rgb(15, 213, 93)\",\"rgb(230, 231, 119)\",\"rgb(216, 243, 135)\",\"rgb(150, 227, 114)\",\"rgb(250, 34, 33)\",\"rgb(3, 114, 173)\",\"rgb(196, 95, 0)\",\"rgb(97, 10, 78)\",\"rgb(178, 78, 255)\",\"rgb(15, 59, 99)\",\"rgb(4, 131, 133)\",\"rgb(28, 253, 170)\",\"rgb(215, 203, 44)\",\"rgb(161, 104, 38)\",\"rgb(175, 18, 72)\",\"rgb(223, 3, 112)\",\"rgb(60, 25, 165)\",\"rgb(2, 50, 253)\",\"rgb(92, 180, 15)\",\"rgb(76, 103, 169)\",\"rgb(113, 61, 110)\",\"rgb(142, 205, 230)\",\"rgb(139, 123, 230)\",\"rgb(182, 228, 104)\",\"rgb(50, 196, 66)\",\"rgb(215, 167, 109)\",\"rgb(16, 107, 161)\",\"rgb(142, 174, 207)\",\"rgb(89, 144, 80)\",\"rgb(210, 94, 169)\",\"rgb(146, 67, 9)\",\"rgb(136, 38, 254)\",\"rgb(37, 184, 77)\",\"rgb(51, 56, 18)\",\"rgb(65, 171, 239)\",\"rgb(71, 253, 207)\",\"rgb(80, 90, 108)\",\"rgb(58, 172, 173)\",\"rgb(162, 170, 6)\",\"rgb(151, 218, 58)\",\"rgb(148, 130, 84)\",\"rgb(165, 68, 153)\",\"rgb(106, 176, 96)\",\"rgb(18, 198, 14)\",\"rgb(159, 141, 70)\",\"rgb(84, 20, 109)\",\"rgb(57, 224, 147)\"]},\"name\":\"1987\",\"orientation\":\"h\",\"x\":[110812,244676,311025,341244,395114,454612,562035,569473,779348,848406,880397,927524,1042663,1151184,1191336,1278184,1593882,1599200,1691210,1841240,1891487,1945870,2015133,2064095,2253639,2269414,2326606,2794552,2799811,2820042,2840009,2915959,3045153,3075321,3089353,3154264,3317166,3344353,3444468,3539900,3799845,3868905,3886512,4186147,4203148,4243788,4338977,4372203,4484310,4842194,4931729,5126023,5127024,5199318,5498955,5584510,5650262,5756203,6156369,6349365,6649942,6655297,6921858,7171347,7272406,7326406,7332638,7578903,7586551,7634008,7724976,7824747,7874230,8371791,8421403,8971958,9216418,9230783,9545158,9870200,9915289,9974490,10239839,10311597,10568642,10612740,10761098,10780667,11219340,11242847,12463354,12891952,13867957,14168101,14619745,14665278,15283050,16257249,16331785,16495304,16543189,17910182,17917180,19067554,19757799,20195924,21198082,22686371,22987397,23040630,23254956,24725960,26549700,30964245,31620918,35481645,35933379,37740710,38028578,38880702,41622000,42999530,51889696,52799062,52881328,52910342,55630100,56729703,56981620,60017788,62826491,77718298,80122492,81551520,103764241,105186881,122091325,142938076,169276000,242803533,788000000,1084035000],\"y\":[\"Sao Tome and Principe\",\"Iceland\",\"Djibouti\",\"Equatorial Guinea\",\"Comoros\",\"Bahrain\",\"Reunion\",\"Montenegro\",\"Swaziland\",\"Gambia\",\"Gabon\",\"Guinea-Bissau\",\"Mauritius\",\"Botswana\",\"Trinidad and Tobago\",\"Namibia\",\"Oman\",\"Lesotho\",\"West Bank and Gaza\",\"Mauritania\",\"Kuwait\",\"Slovenia\",\"Mongolia\",\"Congo, Rep.\",\"Panama\",\"Liberia\",\"Jamaica\",\"Singapore\",\"Costa Rica\",\"Jordan\",\"Central African Republic\",\"Eritrea\",\"Uruguay\",\"Albania\",\"Lebanon\",\"Togo\",\"New Zealand\",\"Nicaragua\",\"Puerto Rico\",\"Ireland\",\"Libya\",\"Sierra Leone\",\"Paraguay\",\"Norway\",\"Israel\",\"Benin\",\"Bosnia and Herzegovina\",\"Honduras\",\"Croatia\",\"El Salvador\",\"Finland\",\"Burundi\",\"Denmark\",\"Slovak Republic\",\"Chad\",\"Hong Kong, China\",\"Guinea\",\"Haiti\",\"Bolivia\",\"Rwanda\",\"Switzerland\",\"Dominican Republic\",\"Somalia\",\"Senegal\",\"Zambia\",\"Guatemala\",\"Niger\",\"Austria\",\"Burkina Faso\",\"Mali\",\"Tunisia\",\"Malawi\",\"Angola\",\"Cambodia\",\"Sweden\",\"Bulgaria\",\"Zimbabwe\",\"Serbia\",\"Ecuador\",\"Belgium\",\"Portugal\",\"Greece\",\"Cuba\",\"Czech Republic\",\"Madagascar\",\"Hungary\",\"Cote d'Ivoire\",\"Cameroon\",\"Yemen, Rep.\",\"Syria\",\"Chile\",\"Mozambique\",\"Afghanistan\",\"Ghana\",\"Saudi Arabia\",\"Netherlands\",\"Uganda\",\"Australia\",\"Malaysia\",\"Sri Lanka\",\"Iraq\",\"Venezuela\",\"Nepal\",\"Korea, Dem. Rep.\",\"Taiwan\",\"Peru\",\"Kenya\",\"Romania\",\"Morocco\",\"Tanzania\",\"Algeria\",\"Sudan\",\"Canada\",\"Colombia\",\"Argentina\",\"Congo, Dem. Rep.\",\"South Africa\",\"Poland\",\"Myanmar\",\"Spain\",\"Korea, Rep.\",\"Ethiopia\",\"Iran\",\"Egypt\",\"Turkey\",\"Thailand\",\"France\",\"Italy\",\"United Kingdom\",\"Philippines\",\"Vietnam\",\"Germany\",\"Mexico\",\"Nigeria\",\"Bangladesh\",\"Pakistan\",\"Japan\",\"Brazil\",\"Indonesia\",\"United States\",\"India\",\"China\"],\"type\":\"bar\"},{\"marker\":{\"color\":[\"rgb(6, 219, 17)\",\"rgb(123, 216, 169)\",\"rgb(129, 46, 134)\",\"rgb(26, 99, 15)\",\"rgb(135, 56, 204)\",\"rgb(209, 50, 30)\",\"rgb(16, 193, 232)\",\"rgb(214, 250, 16)\",\"rgb(120, 61, 206)\",\"rgb(62, 157, 216)\",\"rgb(132, 9, 36)\",\"rgb(35, 141, 179)\",\"rgb(214, 226, 234)\",\"rgb(100, 218, 248)\",\"rgb(39, 130, 78)\",\"rgb(253, 234, 92)\",\"rgb(171, 115, 5)\",\"rgb(109, 156, 213)\",\"rgb(167, 27, 71)\",\"rgb(47, 26, 222)\",\"rgb(150, 100, 91)\",\"rgb(231, 234, 163)\",\"rgb(123, 86, 137)\",\"rgb(73, 234, 46)\",\"rgb(92, 209, 234)\",\"rgb(81, 148, 89)\",\"rgb(142, 115, 181)\",\"rgb(201, 244, 118)\",\"rgb(143, 91, 73)\",\"rgb(97, 99, 153)\",\"rgb(55, 36, 34)\",\"rgb(107, 177, 167)\",\"rgb(166, 36, 121)\",\"rgb(204, 197, 116)\",\"rgb(41, 198, 106)\",\"rgb(64, 116, 248)\",\"rgb(218, 158, 91)\",\"rgb(245, 92, 32)\",\"rgb(17, 68, 3)\",\"rgb(115, 207, 154)\",\"rgb(79, 27, 103)\",\"rgb(222, 37, 139)\",\"rgb(114, 225, 154)\",\"rgb(252, 230, 99)\",\"rgb(228, 238, 137)\",\"rgb(237, 144, 233)\",\"rgb(76, 140, 110)\",\"rgb(235, 173, 81)\",\"rgb(120, 61, 25)\",\"rgb(238, 180, 102)\",\"rgb(94, 59, 86)\",\"rgb(157, 204, 148)\",\"rgb(31, 16, 125)\",\"rgb(147, 245, 122)\",\"rgb(4, 223, 79)\",\"rgb(61, 189, 17)\",\"rgb(207, 187, 85)\",\"rgb(111, 107, 191)\",\"rgb(226, 202, 63)\",\"rgb(46, 17, 191)\",\"rgb(29, 12, 251)\",\"rgb(43, 6, 124)\",\"rgb(10, 252, 252)\",\"rgb(249, 193, 77)\",\"rgb(92, 247, 203)\",\"rgb(104, 69, 246)\",\"rgb(13, 115, 54)\",\"rgb(164, 197, 53)\",\"rgb(6, 237, 100)\",\"rgb(112, 86, 160)\",\"rgb(124, 203, 158)\",\"rgb(136, 49, 36)\",\"rgb(35, 75, 164)\",\"rgb(91, 109, 193)\",\"rgb(58, 182, 49)\",\"rgb(238, 184, 99)\",\"rgb(252, 209, 231)\",\"rgb(237, 8, 138)\",\"rgb(215, 47, 106)\",\"rgb(114, 141, 3)\",\"rgb(62, 160, 124)\",\"rgb(70, 241, 141)\",\"rgb(128, 11, 239)\",\"rgb(130, 113, 41)\",\"rgb(57, 254, 105)\",\"rgb(8, 229, 164)\",\"rgb(87, 135, 156)\",\"rgb(216, 144, 101)\",\"rgb(227, 156, 91)\",\"rgb(170, 72, 162)\",\"rgb(60, 18, 157)\",\"rgb(8, 184, 247)\",\"rgb(15, 213, 93)\",\"rgb(147, 29, 1)\",\"rgb(249, 98, 179)\",\"rgb(98, 55, 107)\",\"rgb(216, 243, 135)\",\"rgb(250, 34, 33)\",\"rgb(3, 114, 173)\",\"rgb(230, 231, 119)\",\"rgb(150, 227, 114)\",\"rgb(196, 95, 0)\",\"rgb(97, 10, 78)\",\"rgb(15, 59, 99)\",\"rgb(178, 78, 255)\",\"rgb(4, 131, 133)\",\"rgb(215, 203, 44)\",\"rgb(28, 253, 170)\",\"rgb(161, 104, 38)\",\"rgb(223, 3, 112)\",\"rgb(175, 18, 72)\",\"rgb(60, 25, 165)\",\"rgb(2, 50, 253)\",\"rgb(76, 103, 169)\",\"rgb(92, 180, 15)\",\"rgb(139, 123, 230)\",\"rgb(50, 196, 66)\",\"rgb(142, 205, 230)\",\"rgb(182, 228, 104)\",\"rgb(113, 61, 110)\",\"rgb(215, 167, 109)\",\"rgb(16, 107, 161)\",\"rgb(146, 67, 9)\",\"rgb(37, 184, 77)\",\"rgb(136, 38, 254)\",\"rgb(51, 56, 18)\",\"rgb(210, 94, 169)\",\"rgb(89, 144, 80)\",\"rgb(142, 174, 207)\",\"rgb(65, 171, 239)\",\"rgb(71, 253, 207)\",\"rgb(80, 90, 108)\",\"rgb(58, 172, 173)\",\"rgb(162, 170, 6)\",\"rgb(151, 218, 58)\",\"rgb(148, 130, 84)\",\"rgb(165, 68, 153)\",\"rgb(106, 176, 96)\",\"rgb(18, 198, 14)\",\"rgb(159, 141, 70)\",\"rgb(84, 20, 109)\",\"rgb(57, 224, 147)\"]},\"name\":\"1992\",\"orientation\":\"h\",\"x\":[125911,259012,384156,387838,454429,529491,621621,622191,962344,985739,1025384,1050938,1096202,1183669,1342614,1418095,1554253,1803195,1912974,1915208,1999210,2104779,2119465,2312802,2378618,2409073,2484997,3149262,3173216,3219994,3235865,3265124,3326498,3437674,3557761,3585176,3668440,3747553,3867409,4017939,4256013,4260884,4286357,4364501,4483945,4494013,4936550,4981671,5041039,5077347,5171393,5274649,5302888,5809236,5829696,6099799,6326682,6429417,6893451,6990574,6995447,7290203,7351181,7914969,8307920,8381163,8392818,8416215,8486949,8523077,8658506,8718867,8735988,8878303,9826397,9927680,10014249,10045622,10150094,10315702,10325429,10348684,10704340,10723260,10748394,12210395,12467171,12772596,13160731,13219062,13367997,13572994,15174244,16278738,16317921,16945857,17481977,17587060,17861905,18252190,18319502,20265563,20326209,20686918,20711375,22430449,22797027,25020539,25798239,26298373,26605473,28227588,28523502,33958947,34202721,38370697,39549438,39964159,40546538,41672143,43805450,52088559,56667095,56840847,57374179,57866349,58179144,59402198,60397973,67185766,69940728,80597764,88111030,93364244,113704579,120065004,124329269,155975974,184816000,256894189,872000000,1164970000],\"y\":[\"Sao Tome and Principe\",\"Iceland\",\"Djibouti\",\"Equatorial Guinea\",\"Comoros\",\"Bahrain\",\"Montenegro\",\"Reunion\",\"Swaziland\",\"Gabon\",\"Gambia\",\"Guinea-Bissau\",\"Mauritius\",\"Trinidad and Tobago\",\"Botswana\",\"Kuwait\",\"Namibia\",\"Lesotho\",\"Liberia\",\"Oman\",\"Slovenia\",\"West Bank and Gaza\",\"Mauritania\",\"Mongolia\",\"Jamaica\",\"Congo, Rep.\",\"Panama\",\"Uruguay\",\"Costa Rica\",\"Lebanon\",\"Singapore\",\"Central African Republic\",\"Albania\",\"New Zealand\",\"Ireland\",\"Puerto Rico\",\"Eritrea\",\"Togo\",\"Jordan\",\"Nicaragua\",\"Bosnia and Herzegovina\",\"Sierra Leone\",\"Norway\",\"Libya\",\"Paraguay\",\"Croatia\",\"Israel\",\"Benin\",\"Finland\",\"Honduras\",\"Denmark\",\"El Salvador\",\"Slovak Republic\",\"Burundi\",\"Hong Kong, China\",\"Somalia\",\"Haiti\",\"Chad\",\"Bolivia\",\"Guinea\",\"Switzerland\",\"Rwanda\",\"Dominican Republic\",\"Austria\",\"Senegal\",\"Zambia\",\"Niger\",\"Mali\",\"Guatemala\",\"Tunisia\",\"Bulgaria\",\"Sweden\",\"Angola\",\"Burkina Faso\",\"Serbia\",\"Portugal\",\"Malawi\",\"Belgium\",\"Cambodia\",\"Czech Republic\",\"Greece\",\"Hungary\",\"Zimbabwe\",\"Cuba\",\"Ecuador\",\"Madagascar\",\"Cameroon\",\"Cote d'Ivoire\",\"Mozambique\",\"Syria\",\"Yemen, Rep.\",\"Chile\",\"Netherlands\",\"Ghana\",\"Afghanistan\",\"Saudi Arabia\",\"Australia\",\"Sri Lanka\",\"Iraq\",\"Uganda\",\"Malaysia\",\"Venezuela\",\"Nepal\",\"Taiwan\",\"Korea, Dem. Rep.\",\"Peru\",\"Romania\",\"Kenya\",\"Morocco\",\"Algeria\",\"Tanzania\",\"Sudan\",\"Canada\",\"Argentina\",\"Colombia\",\"Poland\",\"Spain\",\"South Africa\",\"Myanmar\",\"Congo, Dem. Rep.\",\"Korea, Rep.\",\"Ethiopia\",\"Thailand\",\"Italy\",\"France\",\"United Kingdom\",\"Turkey\",\"Egypt\",\"Iran\",\"Philippines\",\"Vietnam\",\"Germany\",\"Mexico\",\"Nigeria\",\"Bangladesh\",\"Pakistan\",\"Japan\",\"Brazil\",\"Indonesia\",\"United States\",\"India\",\"China\"],\"type\":\"bar\"},{\"marker\":{\"color\":[\"rgb(6, 219, 17)\",\"rgb(123, 216, 169)\",\"rgb(129, 46, 134)\",\"rgb(26, 99, 15)\",\"rgb(135, 56, 204)\",\"rgb(209, 50, 30)\",\"rgb(214, 250, 16)\",\"rgb(16, 193, 232)\",\"rgb(120, 61, 206)\",\"rgb(62, 157, 216)\",\"rgb(100, 218, 248)\",\"rgb(214, 226, 234)\",\"rgb(35, 141, 179)\",\"rgb(132, 9, 36)\",\"rgb(39, 130, 78)\",\"rgb(253, 234, 92)\",\"rgb(171, 115, 5)\",\"rgb(109, 156, 213)\",\"rgb(150, 100, 91)\",\"rgb(167, 27, 71)\",\"rgb(47, 26, 222)\",\"rgb(123, 86, 137)\",\"rgb(73, 234, 46)\",\"rgb(92, 209, 234)\",\"rgb(142, 115, 181)\",\"rgb(81, 148, 89)\",\"rgb(231, 234, 163)\",\"rgb(201, 244, 118)\",\"rgb(166, 36, 121)\",\"rgb(97, 99, 153)\",\"rgb(143, 91, 73)\",\"rgb(79, 27, 103)\",\"rgb(41, 198, 106)\",\"rgb(204, 197, 116)\",\"rgb(107, 177, 167)\",\"rgb(64, 116, 248)\",\"rgb(55, 36, 34)\",\"rgb(218, 158, 91)\",\"rgb(245, 92, 32)\",\"rgb(114, 225, 154)\",\"rgb(237, 144, 233)\",\"rgb(17, 68, 3)\",\"rgb(222, 37, 139)\",\"rgb(115, 207, 154)\",\"rgb(252, 230, 99)\",\"rgb(120, 61, 25)\",\"rgb(228, 238, 137)\",\"rgb(94, 59, 86)\",\"rgb(31, 16, 125)\",\"rgb(76, 140, 110)\",\"rgb(157, 204, 148)\",\"rgb(238, 180, 102)\",\"rgb(235, 173, 81)\",\"rgb(147, 245, 122)\",\"rgb(4, 223, 79)\",\"rgb(61, 189, 17)\",\"rgb(207, 187, 85)\",\"rgb(29, 12, 251)\",\"rgb(43, 6, 124)\",\"rgb(111, 107, 191)\",\"rgb(226, 202, 63)\",\"rgb(10, 252, 252)\",\"rgb(46, 17, 191)\",\"rgb(124, 203, 158)\",\"rgb(249, 193, 77)\",\"rgb(136, 49, 36)\",\"rgb(112, 86, 160)\",\"rgb(164, 197, 53)\",\"rgb(104, 69, 246)\",\"rgb(92, 247, 203)\",\"rgb(13, 115, 54)\",\"rgb(6, 237, 100)\",\"rgb(35, 75, 164)\",\"rgb(238, 184, 99)\",\"rgb(237, 8, 138)\",\"rgb(70, 241, 141)\",\"rgb(114, 141, 3)\",\"rgb(58, 182, 49)\",\"rgb(91, 109, 193)\",\"rgb(252, 209, 231)\",\"rgb(62, 160, 124)\",\"rgb(130, 113, 41)\",\"rgb(128, 11, 239)\",\"rgb(215, 47, 106)\",\"rgb(57, 254, 105)\",\"rgb(8, 229, 164)\",\"rgb(87, 135, 156)\",\"rgb(8, 184, 247)\",\"rgb(216, 144, 101)\",\"rgb(170, 72, 162)\",\"rgb(15, 213, 93)\",\"rgb(60, 18, 157)\",\"rgb(227, 156, 91)\",\"rgb(147, 29, 1)\",\"rgb(216, 243, 135)\",\"rgb(250, 34, 33)\",\"rgb(150, 227, 114)\",\"rgb(3, 114, 173)\",\"rgb(230, 231, 119)\",\"rgb(98, 55, 107)\",\"rgb(178, 78, 255)\",\"rgb(15, 59, 99)\",\"rgb(249, 98, 179)\",\"rgb(196, 95, 0)\",\"rgb(215, 203, 44)\",\"rgb(97, 10, 78)\",\"rgb(4, 131, 133)\",\"rgb(28, 253, 170)\",\"rgb(161, 104, 38)\",\"rgb(223, 3, 112)\",\"rgb(2, 50, 253)\",\"rgb(175, 18, 72)\",\"rgb(60, 25, 165)\",\"rgb(76, 103, 169)\",\"rgb(92, 180, 15)\",\"rgb(139, 123, 230)\",\"rgb(50, 196, 66)\",\"rgb(142, 205, 230)\",\"rgb(182, 228, 104)\",\"rgb(215, 167, 109)\",\"rgb(113, 61, 110)\",\"rgb(37, 184, 77)\",\"rgb(136, 38, 254)\",\"rgb(51, 56, 18)\",\"rgb(16, 107, 161)\",\"rgb(146, 67, 9)\",\"rgb(210, 94, 169)\",\"rgb(142, 174, 207)\",\"rgb(89, 144, 80)\",\"rgb(65, 171, 239)\",\"rgb(71, 253, 207)\",\"rgb(80, 90, 108)\",\"rgb(58, 172, 173)\",\"rgb(162, 170, 6)\",\"rgb(151, 218, 58)\",\"rgb(165, 68, 153)\",\"rgb(148, 130, 84)\",\"rgb(106, 176, 96)\",\"rgb(18, 198, 14)\",\"rgb(159, 141, 70)\",\"rgb(84, 20, 109)\",\"rgb(57, 224, 147)\"]},\"name\":\"1997\",\"orientation\":\"h\",\"x\":[145608,271192,417908,439971,527982,598561,684810,692651,1054486,1126189,1138101,1149818,1193708,1235767,1536536,1765345,1774766,1982823,2011612,2200725,2283635,2444741,2494803,2531311,2734531,2800947,2826046,3262838,3428038,3430388,3518107,3607000,3667233,3676187,3696513,3759430,3802309,4058319,4320890,4405672,4444595,4526235,4578212,4609572,4759670,5134406,5154123,5283663,5383010,5531387,5783439,5867957,6066080,6121610,6495918,6633514,6913545,7193761,7212583,7562011,7693188,7992357,8048834,8066057,8069876,8897619,9231669,9384984,9417789,9535314,9666252,9803875,9875024,10156415,10199787,10244684,10300707,10336594,10352843,10419991,10502372,10983007,11404948,11782962,11911819,14165114,14195809,14599929,14625967,15081016,15604464,15826497,16603334,18418288,18565243,18698655,20476091,20775703,21210254,21229759,21585105,21628605,22227415,22374398,22562458,23001113,24748122,28263827,28529501,29072015,30305843,30686889,32160729,36203463,37657830,38654957,39855442,42835005,43247867,46173816,47798986,57479469,58623428,58808266,59861301,60216677,63047647,63327987,66134291,75012988,76048996,82011073,95895146,106207839,123315288,125956499,135564834,168546719,199278000,272911760,959000000,1230075000],\"y\":[\"Sao Tome and Principe\",\"Iceland\",\"Djibouti\",\"Equatorial Guinea\",\"Comoros\",\"Bahrain\",\"Reunion\",\"Montenegro\",\"Swaziland\",\"Gabon\",\"Trinidad and Tobago\",\"Mauritius\",\"Guinea-Bissau\",\"Gambia\",\"Botswana\",\"Kuwait\",\"Namibia\",\"Lesotho\",\"Slovenia\",\"Liberia\",\"Oman\",\"Mauritania\",\"Mongolia\",\"Jamaica\",\"Panama\",\"Congo, Rep.\",\"West Bank and Gaza\",\"Uruguay\",\"Albania\",\"Lebanon\",\"Costa Rica\",\"Bosnia and Herzegovina\",\"Ireland\",\"New Zealand\",\"Central African Republic\",\"Puerto Rico\",\"Singapore\",\"Eritrea\",\"Togo\",\"Norway\",\"Croatia\",\"Jordan\",\"Sierra Leone\",\"Nicaragua\",\"Libya\",\"Finland\",\"Paraguay\",\"Denmark\",\"Slovak Republic\",\"Israel\",\"El Salvador\",\"Honduras\",\"Benin\",\"Burundi\",\"Hong Kong, China\",\"Somalia\",\"Haiti\",\"Switzerland\",\"Rwanda\",\"Chad\",\"Bolivia\",\"Dominican Republic\",\"Guinea\",\"Bulgaria\",\"Austria\",\"Sweden\",\"Tunisia\",\"Mali\",\"Zambia\",\"Senegal\",\"Niger\",\"Guatemala\",\"Angola\",\"Portugal\",\"Belgium\",\"Hungary\",\"Czech Republic\",\"Serbia\",\"Burkina Faso\",\"Malawi\",\"Greece\",\"Cuba\",\"Zimbabwe\",\"Cambodia\",\"Ecuador\",\"Madagascar\",\"Cameroon\",\"Chile\",\"Cote d'Ivoire\",\"Syria\",\"Netherlands\",\"Yemen, Rep.\",\"Mozambique\",\"Ghana\",\"Australia\",\"Sri Lanka\",\"Malaysia\",\"Iraq\",\"Uganda\",\"Saudi Arabia\",\"Korea, Dem. Rep.\",\"Taiwan\",\"Afghanistan\",\"Venezuela\",\"Romania\",\"Nepal\",\"Peru\",\"Kenya\",\"Morocco\",\"Algeria\",\"Canada\",\"Tanzania\",\"Sudan\",\"Argentina\",\"Colombia\",\"Poland\",\"Spain\",\"South Africa\",\"Myanmar\",\"Korea, Rep.\",\"Congo, Dem. Rep.\",\"Italy\",\"France\",\"United Kingdom\",\"Ethiopia\",\"Thailand\",\"Turkey\",\"Iran\",\"Egypt\",\"Philippines\",\"Vietnam\",\"Germany\",\"Mexico\",\"Nigeria\",\"Bangladesh\",\"Japan\",\"Pakistan\",\"Brazil\",\"Indonesia\",\"United States\",\"India\",\"China\"],\"type\":\"bar\"},{\"marker\":{\"color\":[\"rgb(6, 219, 17)\",\"rgb(123, 216, 169)\",\"rgb(129, 46, 134)\",\"rgb(26, 99, 15)\",\"rgb(135, 56, 204)\",\"rgb(209, 50, 30)\",\"rgb(16, 193, 232)\",\"rgb(214, 250, 16)\",\"rgb(100, 218, 248)\",\"rgb(120, 61, 206)\",\"rgb(214, 226, 234)\",\"rgb(62, 157, 216)\",\"rgb(35, 141, 179)\",\"rgb(132, 9, 36)\",\"rgb(39, 130, 78)\",\"rgb(171, 115, 5)\",\"rgb(150, 100, 91)\",\"rgb(109, 156, 213)\",\"rgb(253, 234, 92)\",\"rgb(92, 209, 234)\",\"rgb(73, 234, 46)\",\"rgb(47, 26, 222)\",\"rgb(167, 27, 71)\",\"rgb(123, 86, 137)\",\"rgb(142, 115, 181)\",\"rgb(81, 148, 89)\",\"rgb(201, 244, 118)\",\"rgb(231, 234, 163)\",\"rgb(166, 36, 121)\",\"rgb(97, 99, 153)\",\"rgb(143, 91, 73)\",\"rgb(64, 116, 248)\",\"rgb(41, 198, 106)\",\"rgb(204, 197, 116)\",\"rgb(107, 177, 167)\",\"rgb(79, 27, 103)\",\"rgb(55, 36, 34)\",\"rgb(218, 158, 91)\",\"rgb(237, 144, 233)\",\"rgb(114, 225, 154)\",\"rgb(245, 92, 32)\",\"rgb(115, 207, 154)\",\"rgb(120, 61, 25)\",\"rgb(17, 68, 3)\",\"rgb(222, 37, 139)\",\"rgb(252, 230, 99)\",\"rgb(94, 59, 86)\",\"rgb(31, 16, 125)\",\"rgb(228, 238, 137)\",\"rgb(76, 140, 110)\",\"rgb(157, 204, 148)\",\"rgb(238, 180, 102)\",\"rgb(4, 223, 79)\",\"rgb(147, 245, 122)\",\"rgb(235, 173, 81)\",\"rgb(29, 12, 251)\",\"rgb(207, 187, 85)\",\"rgb(124, 203, 158)\",\"rgb(61, 189, 17)\",\"rgb(43, 6, 124)\",\"rgb(249, 193, 77)\",\"rgb(226, 202, 63)\",\"rgb(10, 252, 252)\",\"rgb(46, 17, 191)\",\"rgb(111, 107, 191)\",\"rgb(136, 49, 36)\",\"rgb(112, 86, 160)\",\"rgb(70, 241, 141)\",\"rgb(58, 182, 49)\",\"rgb(114, 141, 3)\",\"rgb(237, 8, 138)\",\"rgb(238, 184, 99)\",\"rgb(164, 197, 53)\",\"rgb(104, 69, 246)\",\"rgb(62, 160, 124)\",\"rgb(35, 75, 164)\",\"rgb(92, 247, 203)\",\"rgb(13, 115, 54)\",\"rgb(6, 237, 100)\",\"rgb(130, 113, 41)\",\"rgb(252, 209, 231)\",\"rgb(128, 11, 239)\",\"rgb(91, 109, 193)\",\"rgb(57, 254, 105)\",\"rgb(215, 47, 106)\",\"rgb(8, 184, 247)\",\"rgb(87, 135, 156)\",\"rgb(15, 213, 93)\",\"rgb(216, 144, 101)\",\"rgb(8, 229, 164)\",\"rgb(170, 72, 162)\",\"rgb(227, 156, 91)\",\"rgb(60, 18, 157)\",\"rgb(216, 243, 135)\",\"rgb(250, 34, 33)\",\"rgb(147, 29, 1)\",\"rgb(178, 78, 255)\",\"rgb(215, 203, 44)\",\"rgb(15, 59, 99)\",\"rgb(150, 227, 114)\",\"rgb(3, 114, 173)\",\"rgb(196, 95, 0)\",\"rgb(98, 55, 107)\",\"rgb(230, 231, 119)\",\"rgb(249, 98, 179)\",\"rgb(97, 10, 78)\",\"rgb(4, 131, 133)\",\"rgb(161, 104, 38)\",\"rgb(223, 3, 112)\",\"rgb(28, 253, 170)\",\"rgb(2, 50, 253)\",\"rgb(175, 18, 72)\",\"rgb(60, 25, 165)\",\"rgb(76, 103, 169)\",\"rgb(139, 123, 230)\",\"rgb(50, 196, 66)\",\"rgb(92, 180, 15)\",\"rgb(142, 205, 230)\",\"rgb(182, 228, 104)\",\"rgb(215, 167, 109)\",\"rgb(113, 61, 110)\",\"rgb(37, 184, 77)\",\"rgb(51, 56, 18)\",\"rgb(136, 38, 254)\",\"rgb(146, 67, 9)\",\"rgb(142, 174, 207)\",\"rgb(210, 94, 169)\",\"rgb(16, 107, 161)\",\"rgb(89, 144, 80)\",\"rgb(71, 253, 207)\",\"rgb(80, 90, 108)\",\"rgb(65, 171, 239)\",\"rgb(58, 172, 173)\",\"rgb(162, 170, 6)\",\"rgb(165, 68, 153)\",\"rgb(151, 218, 58)\",\"rgb(148, 130, 84)\",\"rgb(106, 176, 96)\",\"rgb(18, 198, 14)\",\"rgb(159, 141, 70)\",\"rgb(84, 20, 109)\",\"rgb(57, 224, 147)\"]},\"name\":\"2002\",\"orientation\":\"h\",\"x\":[170372,288030,447416,495627,614382,656397,720230,743981,1101832,1130269,1200206,1299304,1332459,1457766,1630347,1972153,2011497,2046772,2111561,2664659,2674234,2713462,2814651,2828858,2990875,3328795,3363085,3389578,3508512,3677780,3834934,3859606,3879155,3908037,4048013,4165416,4197776,4414865,4481020,4535591,4977378,5146848,5193039,5307470,5359092,5368585,5374693,5410052,5884491,6029529,6353681,6677328,6762476,7021078,7026113,7361757,7607651,7661799,7753310,7852401,8148312,8445134,8650322,8807818,8835739,8954175,9770575,10083313,10111559,10256295,10311970,10433867,10580176,10595811,10603863,10866106,10870037,11140655,11178650,11226999,11824495,11926563,12251209,12921234,12926707,15497046,15929988,16122830,16252726,16473477,17155814,18473780,18701257,19546792,19576783,20550751,22215365,22404337,22454239,22662365,24001816,24287670,24501530,24739869,25268405,25873917,26769436,31167783,31287142,31386842,31902268,34593779,37090298,38331121,38625976,40152517,41008227,44433622,45598081,47969150,55379852,57926999,59912431,59925035,62806748,66907826,67308928,67946797,73312559,80908147,82350671,82995088,102479927,119901274,127065841,135656790,153403524,179914212,211060000,287675526,1034172547,1280400000],\"y\":[\"Sao Tome and Principe\",\"Iceland\",\"Djibouti\",\"Equatorial Guinea\",\"Comoros\",\"Bahrain\",\"Montenegro\",\"Reunion\",\"Trinidad and Tobago\",\"Swaziland\",\"Mauritius\",\"Gabon\",\"Guinea-Bissau\",\"Gambia\",\"Botswana\",\"Namibia\",\"Slovenia\",\"Lesotho\",\"Kuwait\",\"Jamaica\",\"Mongolia\",\"Oman\",\"Liberia\",\"Mauritania\",\"Panama\",\"Congo, Rep.\",\"Uruguay\",\"West Bank and Gaza\",\"Albania\",\"Lebanon\",\"Costa Rica\",\"Puerto Rico\",\"Ireland\",\"New Zealand\",\"Central African Republic\",\"Bosnia and Herzegovina\",\"Singapore\",\"Eritrea\",\"Croatia\",\"Norway\",\"Togo\",\"Nicaragua\",\"Finland\",\"Jordan\",\"Sierra Leone\",\"Libya\",\"Denmark\",\"Slovak Republic\",\"Paraguay\",\"Israel\",\"El Salvador\",\"Honduras\",\"Hong Kong, China\",\"Burundi\",\"Benin\",\"Switzerland\",\"Haiti\",\"Bulgaria\",\"Somalia\",\"Rwanda\",\"Austria\",\"Bolivia\",\"Dominican Republic\",\"Guinea\",\"Chad\",\"Sweden\",\"Tunisia\",\"Hungary\",\"Serbia\",\"Czech Republic\",\"Belgium\",\"Portugal\",\"Mali\",\"Zambia\",\"Greece\",\"Angola\",\"Senegal\",\"Niger\",\"Guatemala\",\"Cuba\",\"Malawi\",\"Zimbabwe\",\"Burkina Faso\",\"Ecuador\",\"Cambodia\",\"Chile\",\"Cameroon\",\"Netherlands\",\"Cote d'Ivoire\",\"Madagascar\",\"Syria\",\"Mozambique\",\"Yemen, Rep.\",\"Australia\",\"Sri Lanka\",\"Ghana\",\"Korea, Dem. Rep.\",\"Romania\",\"Taiwan\",\"Malaysia\",\"Iraq\",\"Venezuela\",\"Saudi Arabia\",\"Uganda\",\"Afghanistan\",\"Nepal\",\"Peru\",\"Morocco\",\"Algeria\",\"Kenya\",\"Canada\",\"Tanzania\",\"Sudan\",\"Argentina\",\"Poland\",\"Spain\",\"Colombia\",\"South Africa\",\"Myanmar\",\"Korea, Rep.\",\"Congo, Dem. Rep.\",\"Italy\",\"United Kingdom\",\"France\",\"Thailand\",\"Iran\",\"Turkey\",\"Ethiopia\",\"Egypt\",\"Vietnam\",\"Germany\",\"Philippines\",\"Mexico\",\"Nigeria\",\"Japan\",\"Bangladesh\",\"Pakistan\",\"Brazil\",\"Indonesia\",\"United States\",\"India\",\"China\"],\"type\":\"bar\",\"visible\":true},{\"marker\":{\"color\":[\"rgb(6, 219, 17)\",\"rgb(123, 216, 169)\",\"rgb(129, 46, 134)\",\"rgb(26, 99, 15)\",\"rgb(16, 193, 232)\",\"rgb(209, 50, 30)\",\"rgb(135, 56, 204)\",\"rgb(214, 250, 16)\",\"rgb(100, 218, 248)\",\"rgb(120, 61, 206)\",\"rgb(214, 226, 234)\",\"rgb(62, 157, 216)\",\"rgb(35, 141, 179)\",\"rgb(39, 130, 78)\",\"rgb(132, 9, 36)\",\"rgb(150, 100, 91)\",\"rgb(109, 156, 213)\",\"rgb(171, 115, 5)\",\"rgb(253, 234, 92)\",\"rgb(92, 209, 234)\",\"rgb(73, 234, 46)\",\"rgb(167, 27, 71)\",\"rgb(47, 26, 222)\",\"rgb(142, 115, 181)\",\"rgb(123, 86, 137)\",\"rgb(201, 244, 118)\",\"rgb(166, 36, 121)\",\"rgb(81, 148, 89)\",\"rgb(97, 99, 153)\",\"rgb(64, 116, 248)\",\"rgb(231, 234, 163)\",\"rgb(41, 198, 106)\",\"rgb(204, 197, 116)\",\"rgb(143, 91, 73)\",\"rgb(107, 177, 167)\",\"rgb(237, 144, 233)\",\"rgb(79, 27, 103)\",\"rgb(55, 36, 34)\",\"rgb(114, 225, 154)\",\"rgb(218, 158, 91)\",\"rgb(120, 61, 25)\",\"rgb(31, 16, 125)\",\"rgb(94, 59, 86)\",\"rgb(115, 207, 154)\",\"rgb(245, 92, 32)\",\"rgb(252, 230, 99)\",\"rgb(17, 68, 3)\",\"rgb(222, 37, 139)\",\"rgb(76, 140, 110)\",\"rgb(228, 238, 137)\",\"rgb(157, 204, 148)\",\"rgb(4, 223, 79)\",\"rgb(124, 203, 158)\",\"rgb(238, 180, 102)\",\"rgb(29, 12, 251)\",\"rgb(235, 173, 81)\",\"rgb(249, 193, 77)\",\"rgb(147, 245, 122)\",\"rgb(207, 187, 85)\",\"rgb(43, 6, 124)\",\"rgb(136, 49, 36)\",\"rgb(61, 189, 17)\",\"rgb(226, 202, 63)\",\"rgb(10, 252, 252)\",\"rgb(46, 17, 191)\",\"rgb(70, 241, 141)\",\"rgb(58, 182, 49)\",\"rgb(114, 141, 3)\",\"rgb(111, 107, 191)\",\"rgb(112, 86, 160)\",\"rgb(237, 8, 138)\",\"rgb(238, 184, 99)\",\"rgb(62, 160, 124)\",\"rgb(130, 113, 41)\",\"rgb(104, 69, 246)\",\"rgb(164, 197, 53)\",\"rgb(92, 247, 203)\",\"rgb(128, 11, 239)\",\"rgb(35, 75, 164)\",\"rgb(6, 237, 100)\",\"rgb(13, 115, 54)\",\"rgb(252, 209, 231)\",\"rgb(57, 254, 105)\",\"rgb(215, 47, 106)\",\"rgb(91, 109, 193)\",\"rgb(8, 184, 247)\",\"rgb(15, 213, 93)\",\"rgb(87, 135, 156)\",\"rgb(216, 144, 101)\",\"rgb(8, 229, 164)\",\"rgb(170, 72, 162)\",\"rgb(227, 156, 91)\",\"rgb(250, 34, 33)\",\"rgb(216, 243, 135)\",\"rgb(60, 18, 157)\",\"rgb(215, 203, 44)\",\"rgb(147, 29, 1)\",\"rgb(15, 59, 99)\",\"rgb(178, 78, 255)\",\"rgb(150, 227, 114)\",\"rgb(196, 95, 0)\",\"rgb(3, 114, 173)\",\"rgb(98, 55, 107)\",\"rgb(4, 131, 133)\",\"rgb(97, 10, 78)\",\"rgb(230, 231, 119)\",\"rgb(249, 98, 179)\",\"rgb(223, 3, 112)\",\"rgb(2, 50, 253)\",\"rgb(161, 104, 38)\",\"rgb(28, 253, 170)\",\"rgb(175, 18, 72)\",\"rgb(139, 123, 230)\",\"rgb(76, 103, 169)\",\"rgb(50, 196, 66)\",\"rgb(60, 25, 165)\",\"rgb(142, 205, 230)\",\"rgb(92, 180, 15)\",\"rgb(182, 228, 104)\",\"rgb(215, 167, 109)\",\"rgb(37, 184, 77)\",\"rgb(51, 56, 18)\",\"rgb(136, 38, 254)\",\"rgb(113, 61, 110)\",\"rgb(146, 67, 9)\",\"rgb(142, 174, 207)\",\"rgb(210, 94, 169)\",\"rgb(16, 107, 161)\",\"rgb(89, 144, 80)\",\"rgb(80, 90, 108)\",\"rgb(71, 253, 207)\",\"rgb(65, 171, 239)\",\"rgb(58, 172, 173)\",\"rgb(165, 68, 153)\",\"rgb(162, 170, 6)\",\"rgb(151, 218, 58)\",\"rgb(148, 130, 84)\",\"rgb(106, 176, 96)\",\"rgb(18, 198, 14)\",\"rgb(159, 141, 70)\",\"rgb(84, 20, 109)\",\"rgb(57, 224, 147)\"]},\"name\":\"2007\",\"orientation\":\"h\",\"x\":[199579,301931,496374,551201,684736,708573,710960,798094,1056608,1133066,1250882,1454867,1472041,1639131,1688359,2009245,2012649,2055080,2505559,2780132,2874127,3193942,3204897,3242173,3270065,3447496,3600523,3800610,3921278,3942491,4018332,4109086,4115771,4133884,4369038,4493312,4552198,4553009,4627926,4906585,5238460,5447502,5468120,5675356,5701579,6036914,6053193,6144562,6426679,6667147,6939688,6980412,7322858,7483763,7554661,8078314,8199783,8390505,8502814,8860588,9031088,9118773,9119152,9319622,9947814,9956108,10150265,10228744,10238807,10276158,10392226,10642836,10706290,11416987,11746035,12031795,12267493,12311143,12420476,12572928,12894865,13327079,13755680,14131858,14326203,16284741,16570613,17696293,18013409,19167654,19314747,19951656,20378239,20434176,22211743,22276056,22873338,23174294,23301725,24821286,26084662,27499638,27601038,28674757,28901790,29170398,31889923,33333216,33390141,33757175,35610177,38139640,38518241,40301927,40448191,42292929,43997828,44227550,47761980,49044790,58147733,60776238,61083916,64606759,65068149,69453570,71158647,76511887,80264543,82400996,85262356,91077287,108700891,127467972,135031164,150448339,169270617,190010647,223547000,301139947,1110396331,1318683096],\"y\":[\"Sao Tome and Principe\",\"Iceland\",\"Djibouti\",\"Equatorial Guinea\",\"Montenegro\",\"Bahrain\",\"Comoros\",\"Reunion\",\"Trinidad and Tobago\",\"Swaziland\",\"Mauritius\",\"Gabon\",\"Guinea-Bissau\",\"Botswana\",\"Gambia\",\"Slovenia\",\"Lesotho\",\"Namibia\",\"Kuwait\",\"Jamaica\",\"Mongolia\",\"Liberia\",\"Oman\",\"Panama\",\"Mauritania\",\"Uruguay\",\"Albania\",\"Congo, Rep.\",\"Lebanon\",\"Puerto Rico\",\"West Bank and Gaza\",\"Ireland\",\"New Zealand\",\"Costa Rica\",\"Central African Republic\",\"Croatia\",\"Bosnia and Herzegovina\",\"Singapore\",\"Norway\",\"Eritrea\",\"Finland\",\"Slovak Republic\",\"Denmark\",\"Nicaragua\",\"Togo\",\"Libya\",\"Jordan\",\"Sierra Leone\",\"Israel\",\"Paraguay\",\"El Salvador\",\"Hong Kong, China\",\"Bulgaria\",\"Honduras\",\"Switzerland\",\"Benin\",\"Austria\",\"Burundi\",\"Haiti\",\"Rwanda\",\"Sweden\",\"Somalia\",\"Bolivia\",\"Dominican Republic\",\"Guinea\",\"Hungary\",\"Serbia\",\"Czech Republic\",\"Chad\",\"Tunisia\",\"Belgium\",\"Portugal\",\"Greece\",\"Cuba\",\"Zambia\",\"Mali\",\"Senegal\",\"Zimbabwe\",\"Angola\",\"Guatemala\",\"Niger\",\"Malawi\",\"Ecuador\",\"Cambodia\",\"Burkina Faso\",\"Chile\",\"Netherlands\",\"Cameroon\",\"Cote d'Ivoire\",\"Madagascar\",\"Syria\",\"Mozambique\",\"Sri Lanka\",\"Australia\",\"Yemen, Rep.\",\"Romania\",\"Ghana\",\"Taiwan\",\"Korea, Dem. Rep.\",\"Malaysia\",\"Venezuela\",\"Iraq\",\"Saudi Arabia\",\"Peru\",\"Nepal\",\"Uganda\",\"Afghanistan\",\"Algeria\",\"Canada\",\"Morocco\",\"Kenya\",\"Tanzania\",\"Poland\",\"Argentina\",\"Spain\",\"Sudan\",\"South Africa\",\"Colombia\",\"Myanmar\",\"Korea, Rep.\",\"Italy\",\"United Kingdom\",\"France\",\"Congo, Dem. Rep.\",\"Thailand\",\"Iran\",\"Turkey\",\"Ethiopia\",\"Egypt\",\"Germany\",\"Vietnam\",\"Philippines\",\"Mexico\",\"Japan\",\"Nigeria\",\"Bangladesh\",\"Pakistan\",\"Brazil\",\"Indonesia\",\"United States\",\"India\",\"China\"],\"type\":\"bar\"}],                        {\"template\":{\"data\":{\"histogram2dcontour\":[{\"type\":\"histogram2dcontour\",\"colorbar\":{\"outlinewidth\":0,\"ticks\":\"\"},\"colorscale\":[[0.0,\"#0d0887\"],[0.1111111111111111,\"#46039f\"],[0.2222222222222222,\"#7201a8\"],[0.3333333333333333,\"#9c179e\"],[0.4444444444444444,\"#bd3786\"],[0.5555555555555556,\"#d8576b\"],[0.6666666666666666,\"#ed7953\"],[0.7777777777777778,\"#fb9f3a\"],[0.8888888888888888,\"#fdca26\"],[1.0,\"#f0f921\"]]}],\"choropleth\":[{\"type\":\"choropleth\",\"colorbar\":{\"outlinewidth\":0,\"ticks\":\"\"}}],\"histogram2d\":[{\"type\":\"histogram2d\",\"colorbar\":{\"outlinewidth\":0,\"ticks\":\"\"},\"colorscale\":[[0.0,\"#0d0887\"],[0.1111111111111111,\"#46039f\"],[0.2222222222222222,\"#7201a8\"],[0.3333333333333333,\"#9c179e\"],[0.4444444444444444,\"#bd3786\"],[0.5555555555555556,\"#d8576b\"],[0.6666666666666666,\"#ed7953\"],[0.7777777777777778,\"#fb9f3a\"],[0.8888888888888888,\"#fdca26\"],[1.0,\"#f0f921\"]]}],\"heatmap\":[{\"type\":\"heatmap\",\"colorbar\":{\"outlinewidth\":0,\"ticks\":\"\"},\"colorscale\":[[0.0,\"#0d0887\"],[0.1111111111111111,\"#46039f\"],[0.2222222222222222,\"#7201a8\"],[0.3333333333333333,\"#9c179e\"],[0.4444444444444444,\"#bd3786\"],[0.5555555555555556,\"#d8576b\"],[0.6666666666666666,\"#ed7953\"],[0.7777777777777778,\"#fb9f3a\"],[0.8888888888888888,\"#fdca26\"],[1.0,\"#f0f921\"]]}],\"heatmapgl\":[{\"type\":\"heatmapgl\",\"colorbar\":{\"outlinewidth\":0,\"ticks\":\"\"},\"colorscale\":[[0.0,\"#0d0887\"],[0.1111111111111111,\"#46039f\"],[0.2222222222222222,\"#7201a8\"],[0.3333333333333333,\"#9c179e\"],[0.4444444444444444,\"#bd3786\"],[0.5555555555555556,\"#d8576b\"],[0.6666666666666666,\"#ed7953\"],[0.7777777777777778,\"#fb9f3a\"],[0.8888888888888888,\"#fdca26\"],[1.0,\"#f0f921\"]]}],\"contourcarpet\":[{\"type\":\"contourcarpet\",\"colorbar\":{\"outlinewidth\":0,\"ticks\":\"\"}}],\"contour\":[{\"type\":\"contour\",\"colorbar\":{\"outlinewidth\":0,\"ticks\":\"\"},\"colorscale\":[[0.0,\"#0d0887\"],[0.1111111111111111,\"#46039f\"],[0.2222222222222222,\"#7201a8\"],[0.3333333333333333,\"#9c179e\"],[0.4444444444444444,\"#bd3786\"],[0.5555555555555556,\"#d8576b\"],[0.6666666666666666,\"#ed7953\"],[0.7777777777777778,\"#fb9f3a\"],[0.8888888888888888,\"#fdca26\"],[1.0,\"#f0f921\"]]}],\"surface\":[{\"type\":\"surface\",\"colorbar\":{\"outlinewidth\":0,\"ticks\":\"\"},\"colorscale\":[[0.0,\"#0d0887\"],[0.1111111111111111,\"#46039f\"],[0.2222222222222222,\"#7201a8\"],[0.3333333333333333,\"#9c179e\"],[0.4444444444444444,\"#bd3786\"],[0.5555555555555556,\"#d8576b\"],[0.6666666666666666,\"#ed7953\"],[0.7777777777777778,\"#fb9f3a\"],[0.8888888888888888,\"#fdca26\"],[1.0,\"#f0f921\"]]}],\"mesh3d\":[{\"type\":\"mesh3d\",\"colorbar\":{\"outlinewidth\":0,\"ticks\":\"\"}}],\"scatter\":[{\"fillpattern\":{\"fillmode\":\"overlay\",\"size\":10,\"solidity\":0.2},\"type\":\"scatter\"}],\"parcoords\":[{\"type\":\"parcoords\",\"line\":{\"colorbar\":{\"outlinewidth\":0,\"ticks\":\"\"}}}],\"scatterpolargl\":[{\"type\":\"scatterpolargl\",\"marker\":{\"colorbar\":{\"outlinewidth\":0,\"ticks\":\"\"}}}],\"bar\":[{\"error_x\":{\"color\":\"#2a3f5f\"},\"error_y\":{\"color\":\"#2a3f5f\"},\"marker\":{\"line\":{\"color\":\"#E5ECF6\",\"width\":0.5},\"pattern\":{\"fillmode\":\"overlay\",\"size\":10,\"solidity\":0.2}},\"type\":\"bar\"}],\"scattergeo\":[{\"type\":\"scattergeo\",\"marker\":{\"colorbar\":{\"outlinewidth\":0,\"ticks\":\"\"}}}],\"scatterpolar\":[{\"type\":\"scatterpolar\",\"marker\":{\"colorbar\":{\"outlinewidth\":0,\"ticks\":\"\"}}}],\"histogram\":[{\"marker\":{\"pattern\":{\"fillmode\":\"overlay\",\"size\":10,\"solidity\":0.2}},\"type\":\"histogram\"}],\"scattergl\":[{\"type\":\"scattergl\",\"marker\":{\"colorbar\":{\"outlinewidth\":0,\"ticks\":\"\"}}}],\"scatter3d\":[{\"type\":\"scatter3d\",\"line\":{\"colorbar\":{\"outlinewidth\":0,\"ticks\":\"\"}},\"marker\":{\"colorbar\":{\"outlinewidth\":0,\"ticks\":\"\"}}}],\"scattermapbox\":[{\"type\":\"scattermapbox\",\"marker\":{\"colorbar\":{\"outlinewidth\":0,\"ticks\":\"\"}}}],\"scatterternary\":[{\"type\":\"scatterternary\",\"marker\":{\"colorbar\":{\"outlinewidth\":0,\"ticks\":\"\"}}}],\"scattercarpet\":[{\"type\":\"scattercarpet\",\"marker\":{\"colorbar\":{\"outlinewidth\":0,\"ticks\":\"\"}}}],\"carpet\":[{\"aaxis\":{\"endlinecolor\":\"#2a3f5f\",\"gridcolor\":\"white\",\"linecolor\":\"white\",\"minorgridcolor\":\"white\",\"startlinecolor\":\"#2a3f5f\"},\"baxis\":{\"endlinecolor\":\"#2a3f5f\",\"gridcolor\":\"white\",\"linecolor\":\"white\",\"minorgridcolor\":\"white\",\"startlinecolor\":\"#2a3f5f\"},\"type\":\"carpet\"}],\"table\":[{\"cells\":{\"fill\":{\"color\":\"#EBF0F8\"},\"line\":{\"color\":\"white\"}},\"header\":{\"fill\":{\"color\":\"#C8D4E3\"},\"line\":{\"color\":\"white\"}},\"type\":\"table\"}],\"barpolar\":[{\"marker\":{\"line\":{\"color\":\"#E5ECF6\",\"width\":0.5},\"pattern\":{\"fillmode\":\"overlay\",\"size\":10,\"solidity\":0.2}},\"type\":\"barpolar\"}],\"pie\":[{\"automargin\":true,\"type\":\"pie\"}]},\"layout\":{\"autotypenumbers\":\"strict\",\"colorway\":[\"#636efa\",\"#EF553B\",\"#00cc96\",\"#ab63fa\",\"#FFA15A\",\"#19d3f3\",\"#FF6692\",\"#B6E880\",\"#FF97FF\",\"#FECB52\"],\"font\":{\"color\":\"#2a3f5f\"},\"hovermode\":\"closest\",\"hoverlabel\":{\"align\":\"left\"},\"paper_bgcolor\":\"white\",\"plot_bgcolor\":\"#E5ECF6\",\"polar\":{\"bgcolor\":\"#E5ECF6\",\"angularaxis\":{\"gridcolor\":\"white\",\"linecolor\":\"white\",\"ticks\":\"\"},\"radialaxis\":{\"gridcolor\":\"white\",\"linecolor\":\"white\",\"ticks\":\"\"}},\"ternary\":{\"bgcolor\":\"#E5ECF6\",\"aaxis\":{\"gridcolor\":\"white\",\"linecolor\":\"white\",\"ticks\":\"\"},\"baxis\":{\"gridcolor\":\"white\",\"linecolor\":\"white\",\"ticks\":\"\"},\"caxis\":{\"gridcolor\":\"white\",\"linecolor\":\"white\",\"ticks\":\"\"}},\"coloraxis\":{\"colorbar\":{\"outlinewidth\":0,\"ticks\":\"\"}},\"colorscale\":{\"sequential\":[[0.0,\"#0d0887\"],[0.1111111111111111,\"#46039f\"],[0.2222222222222222,\"#7201a8\"],[0.3333333333333333,\"#9c179e\"],[0.4444444444444444,\"#bd3786\"],[0.5555555555555556,\"#d8576b\"],[0.6666666666666666,\"#ed7953\"],[0.7777777777777778,\"#fb9f3a\"],[0.8888888888888888,\"#fdca26\"],[1.0,\"#f0f921\"]],\"sequentialminus\":[[0.0,\"#0d0887\"],[0.1111111111111111,\"#46039f\"],[0.2222222222222222,\"#7201a8\"],[0.3333333333333333,\"#9c179e\"],[0.4444444444444444,\"#bd3786\"],[0.5555555555555556,\"#d8576b\"],[0.6666666666666666,\"#ed7953\"],[0.7777777777777778,\"#fb9f3a\"],[0.8888888888888888,\"#fdca26\"],[1.0,\"#f0f921\"]],\"diverging\":[[0,\"#8e0152\"],[0.1,\"#c51b7d\"],[0.2,\"#de77ae\"],[0.3,\"#f1b6da\"],[0.4,\"#fde0ef\"],[0.5,\"#f7f7f7\"],[0.6,\"#e6f5d0\"],[0.7,\"#b8e186\"],[0.8,\"#7fbc41\"],[0.9,\"#4d9221\"],[1,\"#276419\"]]},\"xaxis\":{\"gridcolor\":\"white\",\"linecolor\":\"white\",\"ticks\":\"\",\"title\":{\"standoff\":15},\"zerolinecolor\":\"white\",\"automargin\":true,\"zerolinewidth\":2},\"yaxis\":{\"gridcolor\":\"white\",\"linecolor\":\"white\",\"ticks\":\"\",\"title\":{\"standoff\":15},\"zerolinecolor\":\"white\",\"automargin\":true,\"zerolinewidth\":2},\"scene\":{\"xaxis\":{\"backgroundcolor\":\"#E5ECF6\",\"gridcolor\":\"white\",\"linecolor\":\"white\",\"showbackground\":true,\"ticks\":\"\",\"zerolinecolor\":\"white\",\"gridwidth\":2},\"yaxis\":{\"backgroundcolor\":\"#E5ECF6\",\"gridcolor\":\"white\",\"linecolor\":\"white\",\"showbackground\":true,\"ticks\":\"\",\"zerolinecolor\":\"white\",\"gridwidth\":2},\"zaxis\":{\"backgroundcolor\":\"#E5ECF6\",\"gridcolor\":\"white\",\"linecolor\":\"white\",\"showbackground\":true,\"ticks\":\"\",\"zerolinecolor\":\"white\",\"gridwidth\":2}},\"shapedefaults\":{\"line\":{\"color\":\"#2a3f5f\"}},\"annotationdefaults\":{\"arrowcolor\":\"#2a3f5f\",\"arrowhead\":0,\"arrowwidth\":1},\"geo\":{\"bgcolor\":\"white\",\"landcolor\":\"#E5ECF6\",\"subunitcolor\":\"white\",\"showland\":true,\"showlakes\":true,\"lakecolor\":\"white\"},\"title\":{\"x\":0.05},\"mapbox\":{\"style\":\"light\"}}},\"xaxis\":{\"title\":{\"text\":\"Population\"},\"range\":[0,1450551405.6000001]},\"sliders\":[{\"active\":10,\"currentvalue\":{\"prefix\":\"Year: \"},\"pad\":{\"t\":50},\"steps\":[{\"args\":[\"visible\",[true,false,false,false,false,false,false,false,false,false,false,false]],\"label\":\"1952\",\"method\":\"restyle\"},{\"args\":[\"visible\",[false,true,false,false,false,false,false,false,false,false,false,false]],\"label\":\"1957\",\"method\":\"restyle\"},{\"args\":[\"visible\",[false,false,true,false,false,false,false,false,false,false,false,false]],\"label\":\"1962\",\"method\":\"restyle\"},{\"args\":[\"visible\",[false,false,false,true,false,false,false,false,false,false,false,false]],\"label\":\"1967\",\"method\":\"restyle\"},{\"args\":[\"visible\",[false,false,false,false,true,false,false,false,false,false,false,false]],\"label\":\"1972\",\"method\":\"restyle\"},{\"args\":[\"visible\",[false,false,false,false,false,true,false,false,false,false,false,false]],\"label\":\"1977\",\"method\":\"restyle\"},{\"args\":[\"visible\",[false,false,false,false,false,false,true,false,false,false,false,false]],\"label\":\"1982\",\"method\":\"restyle\"},{\"args\":[\"visible\",[false,false,false,false,false,false,false,true,false,false,false,false]],\"label\":\"1987\",\"method\":\"restyle\"},{\"args\":[\"visible\",[false,false,false,false,false,false,false,false,true,false,false,false]],\"label\":\"1992\",\"method\":\"restyle\"},{\"args\":[\"visible\",[false,false,false,false,false,false,false,false,false,true,false,false]],\"label\":\"1997\",\"method\":\"restyle\"},{\"args\":[\"visible\",[false,false,false,false,false,false,false,false,false,false,true,false]],\"label\":\"2002\",\"method\":\"restyle\"},{\"args\":[\"visible\",[false,false,false,false,false,false,false,false,false,false,false,true]],\"label\":\"2007\",\"method\":\"restyle\"}]}],\"yaxis\":{\"title\":{\"text\":\"Continent\"}},\"height\":1000},                        {\"responsive\": true}                    ).then(function(){\n",
       "                            \n",
       "var gd = document.getElementById('c782986d-07f3-4d2c-85b0-b7ff94576277');\n",
       "var x = new MutationObserver(function (mutations, observer) {{\n",
       "        var display = window.getComputedStyle(gd).display;\n",
       "        if (!display || display === 'none') {{\n",
       "            console.log([gd, 'removed!']);\n",
       "            Plotly.purge(gd);\n",
       "            observer.disconnect();\n",
       "        }}\n",
       "}});\n",
       "\n",
       "// Listen for the removal of the full notebook cells\n",
       "var notebookContainer = gd.closest('#notebook-container');\n",
       "if (notebookContainer) {{\n",
       "    x.observe(notebookContainer, {childList: true});\n",
       "}}\n",
       "\n",
       "// Listen for the clearing of the current output cell\n",
       "var outputEl = gd.closest('.output');\n",
       "if (outputEl) {{\n",
       "    x.observe(outputEl, {childList: true});\n",
       "}}\n",
       "\n",
       "                        })                };                });            </script>        </div>"
      ]
     },
     "metadata": {},
     "output_type": "display_data"
    }
   ],
   "source": [
    "# YOUR CODE HERE\n",
    "import plotly.graph_objects as go\n",
    "import numpy as np\n",
    "import random as random\n",
    "\n",
    "fig = go.Figure()\n",
    "\n",
    "df = px.data.gapminder()\n",
    "country_colors = {}\n",
    "\n",
    "\n",
    "for i, country in enumerate(df[\"country\"]):\n",
    "    if country not in country_colors:\n",
    "        country_colors[country] = f'rgb({random.randint(0, 255)}, {random.randint(0, 255)}, {random.randint(0, 255)})'\n",
    "\n",
    "for year in np.arange(1952, 2008, 5):\n",
    "    df = px.data.gapminder()\n",
    "    df = df[df[\"year\"] == year]\n",
    "    \n",
    "    sorted_df = df.sort_values(by=\"pop\", ascending=True)\n",
    "\n",
    "    colors = [country_colors[country] for country in sorted_df[\"country\"]]\n",
    "\n",
    "    fig.add_trace(\n",
    "        go.Bar(\n",
    "            x=sorted_df[\"pop\"],\n",
    "            y=sorted_df[\"country\"],\n",
    "            orientation='h',\n",
    "            name=str(year),\n",
    "            marker_color=colors\n",
    "        ) \n",
    "    )\n",
    "    \n",
    "\n",
    "fig.data[10].visible = True\n",
    "\n",
    "steps = []\n",
    "for i in range(len(fig.data)):\n",
    "    step = dict(\n",
    "        method=\"restyle\",\n",
    "        args=[\"visible\", [False] * len(fig.data)],\n",
    "        label=str(1952 + 5*i)\n",
    "    )\n",
    "    step[\"args\"][1][i] = True  \n",
    "    steps.append(step)\n",
    "\n",
    "sliders = [dict(\n",
    "    active=10,\n",
    "    steps=steps,\n",
    "    pad={\"t\": 50},\n",
    "    currentvalue={\"prefix\": \"Year: \"}\n",
    ")]\n",
    "\n",
    "xaxis_range = [0, sorted_df[\"pop\"].max() * 1.1]  \n",
    "\n",
    "fig.update_layout(\n",
    "    sliders=sliders,\n",
    "    xaxis_title=\"Population\",\n",
    "    yaxis_title=\"Continent\",\n",
    "    xaxis=dict(range=xaxis_range),\n",
    "    height = 1000\n",
    ")\n",
    "\n",
    "\n",
    "fig.show()"
   ]
  },
  {
   "cell_type": "markdown",
   "id": "ad6c9452",
   "metadata": {
    "heading_collapsed": true,
    "hidden": true
   },
   "source": [
    "## Question 7:\n",
    "\n",
    "Show only the top 10 countries in the animation\n",
    "\n",
    "Hint: Use the axis limit to set this. "
   ]
  },
  {
   "cell_type": "code",
   "execution_count": 110,
   "id": "0db50559",
   "metadata": {
    "hidden": true
   },
   "outputs": [
    {
     "data": {
      "application/vnd.plotly.v1+json": {
       "config": {
        "plotlyServerURL": "https://plot.ly"
       },
       "data": [
        {
         "marker": {
          "color": [
           "rgb(135, 16, 139)",
           "rgb(165, 194, 136)",
           "rgb(166, 146, 31)",
           "rgb(85, 25, 142)",
           "rgb(121, 88, 255)",
           "rgb(193, 110, 4)",
           "rgb(86, 32, 190)",
           "rgb(31, 220, 188)",
           "rgb(215, 240, 95)",
           "rgb(48, 129, 140)"
          ]
         },
         "name": "1952",
         "orientation": "h",
         "type": "bar",
         "x": [
          46886859,
          47666000,
          50430000,
          56602560,
          69145952,
          82052000,
          86459025,
          157553000,
          372000000,
          556263527
         ],
         "y": [
          "Bangladesh",
          "Italy",
          "United Kingdom",
          "Brazil",
          "Germany",
          "Indonesia",
          "Japan",
          "United States",
          "India",
          "China"
         ]
        },
        {
         "marker": {
          "color": [
           "rgb(165, 194, 136)",
           "rgb(135, 16, 139)",
           "rgb(166, 146, 31)",
           "rgb(85, 25, 142)",
           "rgb(121, 88, 255)",
           "rgb(193, 110, 4)",
           "rgb(86, 32, 190)",
           "rgb(31, 220, 188)",
           "rgb(215, 240, 95)",
           "rgb(48, 129, 140)"
          ]
         },
         "name": "1957",
         "orientation": "h",
         "type": "bar",
         "x": [
          49182000,
          51365468,
          51430000,
          65551171,
          71019069,
          90124000,
          91563009,
          171984000,
          409000000,
          637408000
         ],
         "y": [
          "Italy",
          "Bangladesh",
          "United Kingdom",
          "Brazil",
          "Germany",
          "Indonesia",
          "Japan",
          "United States",
          "India",
          "China"
         ]
        },
        {
         "marker": {
          "color": [
           "rgb(70, 178, 198)",
           "rgb(166, 146, 31)",
           "rgb(135, 16, 139)",
           "rgb(121, 88, 255)",
           "rgb(85, 25, 142)",
           "rgb(86, 32, 190)",
           "rgb(193, 110, 4)",
           "rgb(31, 220, 188)",
           "rgb(215, 240, 95)",
           "rgb(48, 129, 140)"
          ]
         },
         "name": "1962",
         "orientation": "h",
         "type": "bar",
         "x": [
          53100671,
          53292000,
          56839289,
          73739117,
          76039390,
          95831757,
          99028000,
          186538000,
          454000000,
          665770000
         ],
         "y": [
          "Pakistan",
          "United Kingdom",
          "Bangladesh",
          "Germany",
          "Brazil",
          "Japan",
          "Indonesia",
          "United States",
          "India",
          "China"
         ]
        },
        {
         "marker": {
          "color": [
           "rgb(166, 146, 31)",
           "rgb(70, 178, 198)",
           "rgb(135, 16, 139)",
           "rgb(121, 88, 255)",
           "rgb(85, 25, 142)",
           "rgb(86, 32, 190)",
           "rgb(193, 110, 4)",
           "rgb(31, 220, 188)",
           "rgb(215, 240, 95)",
           "rgb(48, 129, 140)"
          ]
         },
         "name": "1967",
         "orientation": "h",
         "type": "bar",
         "x": [
          54959000,
          60641899,
          62821884,
          76368453,
          88049823,
          100825279,
          109343000,
          198712000,
          506000000,
          754550000
         ],
         "y": [
          "United Kingdom",
          "Pakistan",
          "Bangladesh",
          "Germany",
          "Brazil",
          "Japan",
          "Indonesia",
          "United States",
          "India",
          "China"
         ]
        },
        {
         "marker": {
          "color": [
           "rgb(166, 146, 31)",
           "rgb(70, 178, 198)",
           "rgb(135, 16, 139)",
           "rgb(121, 88, 255)",
           "rgb(85, 25, 142)",
           "rgb(86, 32, 190)",
           "rgb(193, 110, 4)",
           "rgb(31, 220, 188)",
           "rgb(215, 240, 95)",
           "rgb(48, 129, 140)"
          ]
         },
         "name": "1972",
         "orientation": "h",
         "type": "bar",
         "x": [
          56079000,
          69325921,
          70759295,
          78717088,
          100840058,
          107188273,
          121282000,
          209896000,
          567000000,
          862030000
         ],
         "y": [
          "United Kingdom",
          "Pakistan",
          "Bangladesh",
          "Germany",
          "Brazil",
          "Japan",
          "Indonesia",
          "United States",
          "India",
          "China"
         ]
        },
        {
         "marker": {
          "color": [
           "rgb(220, 23, 22)",
           "rgb(70, 178, 198)",
           "rgb(121, 88, 255)",
           "rgb(135, 16, 139)",
           "rgb(86, 32, 190)",
           "rgb(85, 25, 142)",
           "rgb(193, 110, 4)",
           "rgb(31, 220, 188)",
           "rgb(215, 240, 95)",
           "rgb(48, 129, 140)"
          ]
         },
         "name": "1977",
         "orientation": "h",
         "type": "bar",
         "x": [
          63759976,
          78152686,
          78160773,
          80428306,
          113872473,
          114313951,
          136725000,
          220239000,
          634000000,
          943455000
         ],
         "y": [
          "Mexico",
          "Pakistan",
          "Germany",
          "Bangladesh",
          "Japan",
          "Brazil",
          "Indonesia",
          "United States",
          "India",
          "China"
         ]
        },
        {
         "marker": {
          "color": [
           "rgb(172, 251, 92)",
           "rgb(121, 88, 255)",
           "rgb(70, 178, 198)",
           "rgb(135, 16, 139)",
           "rgb(86, 32, 190)",
           "rgb(85, 25, 142)",
           "rgb(193, 110, 4)",
           "rgb(31, 220, 188)",
           "rgb(215, 240, 95)",
           "rgb(48, 129, 140)"
          ]
         },
         "name": "1982",
         "orientation": "h",
         "type": "bar",
         "x": [
          73039376,
          78335266,
          91462088,
          93074406,
          118454974,
          128962939,
          153343000,
          232187835,
          708000000,
          1000281000
         ],
         "y": [
          "Nigeria",
          "Germany",
          "Pakistan",
          "Bangladesh",
          "Japan",
          "Brazil",
          "Indonesia",
          "United States",
          "India",
          "China"
         ]
        },
        {
         "marker": {
          "color": [
           "rgb(220, 23, 22)",
           "rgb(172, 251, 92)",
           "rgb(135, 16, 139)",
           "rgb(70, 178, 198)",
           "rgb(86, 32, 190)",
           "rgb(85, 25, 142)",
           "rgb(193, 110, 4)",
           "rgb(31, 220, 188)",
           "rgb(215, 240, 95)",
           "rgb(48, 129, 140)"
          ]
         },
         "name": "1987",
         "orientation": "h",
         "type": "bar",
         "x": [
          80122492,
          81551520,
          103764241,
          105186881,
          122091325,
          142938076,
          169276000,
          242803533,
          788000000,
          1084035000
         ],
         "y": [
          "Mexico",
          "Nigeria",
          "Bangladesh",
          "Pakistan",
          "Japan",
          "Brazil",
          "Indonesia",
          "United States",
          "India",
          "China"
         ]
        },
        {
         "marker": {
          "color": [
           "rgb(220, 23, 22)",
           "rgb(172, 251, 92)",
           "rgb(135, 16, 139)",
           "rgb(70, 178, 198)",
           "rgb(86, 32, 190)",
           "rgb(85, 25, 142)",
           "rgb(193, 110, 4)",
           "rgb(31, 220, 188)",
           "rgb(215, 240, 95)",
           "rgb(48, 129, 140)"
          ]
         },
         "name": "1992",
         "orientation": "h",
         "type": "bar",
         "x": [
          88111030,
          93364244,
          113704579,
          120065004,
          124329269,
          155975974,
          184816000,
          256894189,
          872000000,
          1164970000
         ],
         "y": [
          "Mexico",
          "Nigeria",
          "Bangladesh",
          "Pakistan",
          "Japan",
          "Brazil",
          "Indonesia",
          "United States",
          "India",
          "China"
         ]
        },
        {
         "marker": {
          "color": [
           "rgb(220, 23, 22)",
           "rgb(172, 251, 92)",
           "rgb(135, 16, 139)",
           "rgb(86, 32, 190)",
           "rgb(70, 178, 198)",
           "rgb(85, 25, 142)",
           "rgb(193, 110, 4)",
           "rgb(31, 220, 188)",
           "rgb(215, 240, 95)",
           "rgb(48, 129, 140)"
          ]
         },
         "name": "1997",
         "orientation": "h",
         "type": "bar",
         "x": [
          95895146,
          106207839,
          123315288,
          125956499,
          135564834,
          168546719,
          199278000,
          272911760,
          959000000,
          1230075000
         ],
         "y": [
          "Mexico",
          "Nigeria",
          "Bangladesh",
          "Japan",
          "Pakistan",
          "Brazil",
          "Indonesia",
          "United States",
          "India",
          "China"
         ]
        },
        {
         "marker": {
          "color": [
           "rgb(220, 23, 22)",
           "rgb(172, 251, 92)",
           "rgb(86, 32, 190)",
           "rgb(135, 16, 139)",
           "rgb(70, 178, 198)",
           "rgb(85, 25, 142)",
           "rgb(193, 110, 4)",
           "rgb(31, 220, 188)",
           "rgb(215, 240, 95)",
           "rgb(48, 129, 140)"
          ]
         },
         "name": "2002",
         "orientation": "h",
         "type": "bar",
         "visible": true,
         "x": [
          102479927,
          119901274,
          127065841,
          135656790,
          153403524,
          179914212,
          211060000,
          287675526,
          1034172547,
          1280400000
         ],
         "y": [
          "Mexico",
          "Nigeria",
          "Japan",
          "Bangladesh",
          "Pakistan",
          "Brazil",
          "Indonesia",
          "United States",
          "India",
          "China"
         ]
        },
        {
         "marker": {
          "color": [
           "rgb(220, 23, 22)",
           "rgb(86, 32, 190)",
           "rgb(172, 251, 92)",
           "rgb(135, 16, 139)",
           "rgb(70, 178, 198)",
           "rgb(85, 25, 142)",
           "rgb(193, 110, 4)",
           "rgb(31, 220, 188)",
           "rgb(215, 240, 95)",
           "rgb(48, 129, 140)"
          ]
         },
         "name": "2007",
         "orientation": "h",
         "type": "bar",
         "x": [
          108700891,
          127467972,
          135031164,
          150448339,
          169270617,
          190010647,
          223547000,
          301139947,
          1110396331,
          1318683096
         ],
         "y": [
          "Mexico",
          "Japan",
          "Nigeria",
          "Bangladesh",
          "Pakistan",
          "Brazil",
          "Indonesia",
          "United States",
          "India",
          "China"
         ]
        }
       ],
       "layout": {
        "sliders": [
         {
          "active": 10,
          "currentvalue": {
           "prefix": "Year: "
          },
          "pad": {
           "t": 50
          },
          "steps": [
           {
            "args": [
             "visible",
             [
              true,
              false,
              false,
              false,
              false,
              false,
              false,
              false,
              false,
              false,
              false,
              false
             ]
            ],
            "label": "1952",
            "method": "restyle"
           },
           {
            "args": [
             "visible",
             [
              false,
              true,
              false,
              false,
              false,
              false,
              false,
              false,
              false,
              false,
              false,
              false
             ]
            ],
            "label": "1957",
            "method": "restyle"
           },
           {
            "args": [
             "visible",
             [
              false,
              false,
              true,
              false,
              false,
              false,
              false,
              false,
              false,
              false,
              false,
              false
             ]
            ],
            "label": "1962",
            "method": "restyle"
           },
           {
            "args": [
             "visible",
             [
              false,
              false,
              false,
              true,
              false,
              false,
              false,
              false,
              false,
              false,
              false,
              false
             ]
            ],
            "label": "1967",
            "method": "restyle"
           },
           {
            "args": [
             "visible",
             [
              false,
              false,
              false,
              false,
              true,
              false,
              false,
              false,
              false,
              false,
              false,
              false
             ]
            ],
            "label": "1972",
            "method": "restyle"
           },
           {
            "args": [
             "visible",
             [
              false,
              false,
              false,
              false,
              false,
              true,
              false,
              false,
              false,
              false,
              false,
              false
             ]
            ],
            "label": "1977",
            "method": "restyle"
           },
           {
            "args": [
             "visible",
             [
              false,
              false,
              false,
              false,
              false,
              false,
              true,
              false,
              false,
              false,
              false,
              false
             ]
            ],
            "label": "1982",
            "method": "restyle"
           },
           {
            "args": [
             "visible",
             [
              false,
              false,
              false,
              false,
              false,
              false,
              false,
              true,
              false,
              false,
              false,
              false
             ]
            ],
            "label": "1987",
            "method": "restyle"
           },
           {
            "args": [
             "visible",
             [
              false,
              false,
              false,
              false,
              false,
              false,
              false,
              false,
              true,
              false,
              false,
              false
             ]
            ],
            "label": "1992",
            "method": "restyle"
           },
           {
            "args": [
             "visible",
             [
              false,
              false,
              false,
              false,
              false,
              false,
              false,
              false,
              false,
              true,
              false,
              false
             ]
            ],
            "label": "1997",
            "method": "restyle"
           },
           {
            "args": [
             "visible",
             [
              false,
              false,
              false,
              false,
              false,
              false,
              false,
              false,
              false,
              false,
              true,
              false
             ]
            ],
            "label": "2002",
            "method": "restyle"
           },
           {
            "args": [
             "visible",
             [
              false,
              false,
              false,
              false,
              false,
              false,
              false,
              false,
              false,
              false,
              false,
              true
             ]
            ],
            "label": "2007",
            "method": "restyle"
           }
          ]
         }
        ],
        "template": {
         "data": {
          "bar": [
           {
            "error_x": {
             "color": "#2a3f5f"
            },
            "error_y": {
             "color": "#2a3f5f"
            },
            "marker": {
             "line": {
              "color": "#E5ECF6",
              "width": 0.5
             },
             "pattern": {
              "fillmode": "overlay",
              "size": 10,
              "solidity": 0.2
             }
            },
            "type": "bar"
           }
          ],
          "barpolar": [
           {
            "marker": {
             "line": {
              "color": "#E5ECF6",
              "width": 0.5
             },
             "pattern": {
              "fillmode": "overlay",
              "size": 10,
              "solidity": 0.2
             }
            },
            "type": "barpolar"
           }
          ],
          "carpet": [
           {
            "aaxis": {
             "endlinecolor": "#2a3f5f",
             "gridcolor": "white",
             "linecolor": "white",
             "minorgridcolor": "white",
             "startlinecolor": "#2a3f5f"
            },
            "baxis": {
             "endlinecolor": "#2a3f5f",
             "gridcolor": "white",
             "linecolor": "white",
             "minorgridcolor": "white",
             "startlinecolor": "#2a3f5f"
            },
            "type": "carpet"
           }
          ],
          "choropleth": [
           {
            "colorbar": {
             "outlinewidth": 0,
             "ticks": ""
            },
            "type": "choropleth"
           }
          ],
          "contour": [
           {
            "colorbar": {
             "outlinewidth": 0,
             "ticks": ""
            },
            "colorscale": [
             [
              0,
              "#0d0887"
             ],
             [
              0.1111111111111111,
              "#46039f"
             ],
             [
              0.2222222222222222,
              "#7201a8"
             ],
             [
              0.3333333333333333,
              "#9c179e"
             ],
             [
              0.4444444444444444,
              "#bd3786"
             ],
             [
              0.5555555555555556,
              "#d8576b"
             ],
             [
              0.6666666666666666,
              "#ed7953"
             ],
             [
              0.7777777777777778,
              "#fb9f3a"
             ],
             [
              0.8888888888888888,
              "#fdca26"
             ],
             [
              1,
              "#f0f921"
             ]
            ],
            "type": "contour"
           }
          ],
          "contourcarpet": [
           {
            "colorbar": {
             "outlinewidth": 0,
             "ticks": ""
            },
            "type": "contourcarpet"
           }
          ],
          "heatmap": [
           {
            "colorbar": {
             "outlinewidth": 0,
             "ticks": ""
            },
            "colorscale": [
             [
              0,
              "#0d0887"
             ],
             [
              0.1111111111111111,
              "#46039f"
             ],
             [
              0.2222222222222222,
              "#7201a8"
             ],
             [
              0.3333333333333333,
              "#9c179e"
             ],
             [
              0.4444444444444444,
              "#bd3786"
             ],
             [
              0.5555555555555556,
              "#d8576b"
             ],
             [
              0.6666666666666666,
              "#ed7953"
             ],
             [
              0.7777777777777778,
              "#fb9f3a"
             ],
             [
              0.8888888888888888,
              "#fdca26"
             ],
             [
              1,
              "#f0f921"
             ]
            ],
            "type": "heatmap"
           }
          ],
          "heatmapgl": [
           {
            "colorbar": {
             "outlinewidth": 0,
             "ticks": ""
            },
            "colorscale": [
             [
              0,
              "#0d0887"
             ],
             [
              0.1111111111111111,
              "#46039f"
             ],
             [
              0.2222222222222222,
              "#7201a8"
             ],
             [
              0.3333333333333333,
              "#9c179e"
             ],
             [
              0.4444444444444444,
              "#bd3786"
             ],
             [
              0.5555555555555556,
              "#d8576b"
             ],
             [
              0.6666666666666666,
              "#ed7953"
             ],
             [
              0.7777777777777778,
              "#fb9f3a"
             ],
             [
              0.8888888888888888,
              "#fdca26"
             ],
             [
              1,
              "#f0f921"
             ]
            ],
            "type": "heatmapgl"
           }
          ],
          "histogram": [
           {
            "marker": {
             "pattern": {
              "fillmode": "overlay",
              "size": 10,
              "solidity": 0.2
             }
            },
            "type": "histogram"
           }
          ],
          "histogram2d": [
           {
            "colorbar": {
             "outlinewidth": 0,
             "ticks": ""
            },
            "colorscale": [
             [
              0,
              "#0d0887"
             ],
             [
              0.1111111111111111,
              "#46039f"
             ],
             [
              0.2222222222222222,
              "#7201a8"
             ],
             [
              0.3333333333333333,
              "#9c179e"
             ],
             [
              0.4444444444444444,
              "#bd3786"
             ],
             [
              0.5555555555555556,
              "#d8576b"
             ],
             [
              0.6666666666666666,
              "#ed7953"
             ],
             [
              0.7777777777777778,
              "#fb9f3a"
             ],
             [
              0.8888888888888888,
              "#fdca26"
             ],
             [
              1,
              "#f0f921"
             ]
            ],
            "type": "histogram2d"
           }
          ],
          "histogram2dcontour": [
           {
            "colorbar": {
             "outlinewidth": 0,
             "ticks": ""
            },
            "colorscale": [
             [
              0,
              "#0d0887"
             ],
             [
              0.1111111111111111,
              "#46039f"
             ],
             [
              0.2222222222222222,
              "#7201a8"
             ],
             [
              0.3333333333333333,
              "#9c179e"
             ],
             [
              0.4444444444444444,
              "#bd3786"
             ],
             [
              0.5555555555555556,
              "#d8576b"
             ],
             [
              0.6666666666666666,
              "#ed7953"
             ],
             [
              0.7777777777777778,
              "#fb9f3a"
             ],
             [
              0.8888888888888888,
              "#fdca26"
             ],
             [
              1,
              "#f0f921"
             ]
            ],
            "type": "histogram2dcontour"
           }
          ],
          "mesh3d": [
           {
            "colorbar": {
             "outlinewidth": 0,
             "ticks": ""
            },
            "type": "mesh3d"
           }
          ],
          "parcoords": [
           {
            "line": {
             "colorbar": {
              "outlinewidth": 0,
              "ticks": ""
             }
            },
            "type": "parcoords"
           }
          ],
          "pie": [
           {
            "automargin": true,
            "type": "pie"
           }
          ],
          "scatter": [
           {
            "fillpattern": {
             "fillmode": "overlay",
             "size": 10,
             "solidity": 0.2
            },
            "type": "scatter"
           }
          ],
          "scatter3d": [
           {
            "line": {
             "colorbar": {
              "outlinewidth": 0,
              "ticks": ""
             }
            },
            "marker": {
             "colorbar": {
              "outlinewidth": 0,
              "ticks": ""
             }
            },
            "type": "scatter3d"
           }
          ],
          "scattercarpet": [
           {
            "marker": {
             "colorbar": {
              "outlinewidth": 0,
              "ticks": ""
             }
            },
            "type": "scattercarpet"
           }
          ],
          "scattergeo": [
           {
            "marker": {
             "colorbar": {
              "outlinewidth": 0,
              "ticks": ""
             }
            },
            "type": "scattergeo"
           }
          ],
          "scattergl": [
           {
            "marker": {
             "colorbar": {
              "outlinewidth": 0,
              "ticks": ""
             }
            },
            "type": "scattergl"
           }
          ],
          "scattermapbox": [
           {
            "marker": {
             "colorbar": {
              "outlinewidth": 0,
              "ticks": ""
             }
            },
            "type": "scattermapbox"
           }
          ],
          "scatterpolar": [
           {
            "marker": {
             "colorbar": {
              "outlinewidth": 0,
              "ticks": ""
             }
            },
            "type": "scatterpolar"
           }
          ],
          "scatterpolargl": [
           {
            "marker": {
             "colorbar": {
              "outlinewidth": 0,
              "ticks": ""
             }
            },
            "type": "scatterpolargl"
           }
          ],
          "scatterternary": [
           {
            "marker": {
             "colorbar": {
              "outlinewidth": 0,
              "ticks": ""
             }
            },
            "type": "scatterternary"
           }
          ],
          "surface": [
           {
            "colorbar": {
             "outlinewidth": 0,
             "ticks": ""
            },
            "colorscale": [
             [
              0,
              "#0d0887"
             ],
             [
              0.1111111111111111,
              "#46039f"
             ],
             [
              0.2222222222222222,
              "#7201a8"
             ],
             [
              0.3333333333333333,
              "#9c179e"
             ],
             [
              0.4444444444444444,
              "#bd3786"
             ],
             [
              0.5555555555555556,
              "#d8576b"
             ],
             [
              0.6666666666666666,
              "#ed7953"
             ],
             [
              0.7777777777777778,
              "#fb9f3a"
             ],
             [
              0.8888888888888888,
              "#fdca26"
             ],
             [
              1,
              "#f0f921"
             ]
            ],
            "type": "surface"
           }
          ],
          "table": [
           {
            "cells": {
             "fill": {
              "color": "#EBF0F8"
             },
             "line": {
              "color": "white"
             }
            },
            "header": {
             "fill": {
              "color": "#C8D4E3"
             },
             "line": {
              "color": "white"
             }
            },
            "type": "table"
           }
          ]
         },
         "layout": {
          "annotationdefaults": {
           "arrowcolor": "#2a3f5f",
           "arrowhead": 0,
           "arrowwidth": 1
          },
          "autotypenumbers": "strict",
          "coloraxis": {
           "colorbar": {
            "outlinewidth": 0,
            "ticks": ""
           }
          },
          "colorscale": {
           "diverging": [
            [
             0,
             "#8e0152"
            ],
            [
             0.1,
             "#c51b7d"
            ],
            [
             0.2,
             "#de77ae"
            ],
            [
             0.3,
             "#f1b6da"
            ],
            [
             0.4,
             "#fde0ef"
            ],
            [
             0.5,
             "#f7f7f7"
            ],
            [
             0.6,
             "#e6f5d0"
            ],
            [
             0.7,
             "#b8e186"
            ],
            [
             0.8,
             "#7fbc41"
            ],
            [
             0.9,
             "#4d9221"
            ],
            [
             1,
             "#276419"
            ]
           ],
           "sequential": [
            [
             0,
             "#0d0887"
            ],
            [
             0.1111111111111111,
             "#46039f"
            ],
            [
             0.2222222222222222,
             "#7201a8"
            ],
            [
             0.3333333333333333,
             "#9c179e"
            ],
            [
             0.4444444444444444,
             "#bd3786"
            ],
            [
             0.5555555555555556,
             "#d8576b"
            ],
            [
             0.6666666666666666,
             "#ed7953"
            ],
            [
             0.7777777777777778,
             "#fb9f3a"
            ],
            [
             0.8888888888888888,
             "#fdca26"
            ],
            [
             1,
             "#f0f921"
            ]
           ],
           "sequentialminus": [
            [
             0,
             "#0d0887"
            ],
            [
             0.1111111111111111,
             "#46039f"
            ],
            [
             0.2222222222222222,
             "#7201a8"
            ],
            [
             0.3333333333333333,
             "#9c179e"
            ],
            [
             0.4444444444444444,
             "#bd3786"
            ],
            [
             0.5555555555555556,
             "#d8576b"
            ],
            [
             0.6666666666666666,
             "#ed7953"
            ],
            [
             0.7777777777777778,
             "#fb9f3a"
            ],
            [
             0.8888888888888888,
             "#fdca26"
            ],
            [
             1,
             "#f0f921"
            ]
           ]
          },
          "colorway": [
           "#636efa",
           "#EF553B",
           "#00cc96",
           "#ab63fa",
           "#FFA15A",
           "#19d3f3",
           "#FF6692",
           "#B6E880",
           "#FF97FF",
           "#FECB52"
          ],
          "font": {
           "color": "#2a3f5f"
          },
          "geo": {
           "bgcolor": "white",
           "lakecolor": "white",
           "landcolor": "#E5ECF6",
           "showlakes": true,
           "showland": true,
           "subunitcolor": "white"
          },
          "hoverlabel": {
           "align": "left"
          },
          "hovermode": "closest",
          "mapbox": {
           "style": "light"
          },
          "paper_bgcolor": "white",
          "plot_bgcolor": "#E5ECF6",
          "polar": {
           "angularaxis": {
            "gridcolor": "white",
            "linecolor": "white",
            "ticks": ""
           },
           "bgcolor": "#E5ECF6",
           "radialaxis": {
            "gridcolor": "white",
            "linecolor": "white",
            "ticks": ""
           }
          },
          "scene": {
           "xaxis": {
            "backgroundcolor": "#E5ECF6",
            "gridcolor": "white",
            "gridwidth": 2,
            "linecolor": "white",
            "showbackground": true,
            "ticks": "",
            "zerolinecolor": "white"
           },
           "yaxis": {
            "backgroundcolor": "#E5ECF6",
            "gridcolor": "white",
            "gridwidth": 2,
            "linecolor": "white",
            "showbackground": true,
            "ticks": "",
            "zerolinecolor": "white"
           },
           "zaxis": {
            "backgroundcolor": "#E5ECF6",
            "gridcolor": "white",
            "gridwidth": 2,
            "linecolor": "white",
            "showbackground": true,
            "ticks": "",
            "zerolinecolor": "white"
           }
          },
          "shapedefaults": {
           "line": {
            "color": "#2a3f5f"
           }
          },
          "ternary": {
           "aaxis": {
            "gridcolor": "white",
            "linecolor": "white",
            "ticks": ""
           },
           "baxis": {
            "gridcolor": "white",
            "linecolor": "white",
            "ticks": ""
           },
           "bgcolor": "#E5ECF6",
           "caxis": {
            "gridcolor": "white",
            "linecolor": "white",
            "ticks": ""
           }
          },
          "title": {
           "x": 0.05
          },
          "xaxis": {
           "automargin": true,
           "gridcolor": "white",
           "linecolor": "white",
           "ticks": "",
           "title": {
            "standoff": 15
           },
           "zerolinecolor": "white",
           "zerolinewidth": 2
          },
          "yaxis": {
           "automargin": true,
           "gridcolor": "white",
           "linecolor": "white",
           "ticks": "",
           "title": {
            "standoff": 15
           },
           "zerolinecolor": "white",
           "zerolinewidth": 2
          }
         }
        },
        "xaxis": {
         "range": [
          0,
          1450551405.6000001
         ],
         "title": {
          "text": "Population"
         }
        },
        "yaxis": {
         "title": {
          "text": "Continent"
         }
        }
       }
      },
      "text/html": [
       "<div>                            <div id=\"305fd30f-fe12-4f9f-bb2a-5199855adc69\" class=\"plotly-graph-div\" style=\"height:525px; width:100%;\"></div>            <script type=\"text/javascript\">                require([\"plotly\"], function(Plotly) {                    window.PLOTLYENV=window.PLOTLYENV || {};                                    if (document.getElementById(\"305fd30f-fe12-4f9f-bb2a-5199855adc69\")) {                    Plotly.newPlot(                        \"305fd30f-fe12-4f9f-bb2a-5199855adc69\",                        [{\"marker\":{\"color\":[\"rgb(135, 16, 139)\",\"rgb(165, 194, 136)\",\"rgb(166, 146, 31)\",\"rgb(85, 25, 142)\",\"rgb(121, 88, 255)\",\"rgb(193, 110, 4)\",\"rgb(86, 32, 190)\",\"rgb(31, 220, 188)\",\"rgb(215, 240, 95)\",\"rgb(48, 129, 140)\"]},\"name\":\"1952\",\"orientation\":\"h\",\"x\":[46886859,47666000,50430000,56602560,69145952,82052000,86459025,157553000,372000000,556263527],\"y\":[\"Bangladesh\",\"Italy\",\"United Kingdom\",\"Brazil\",\"Germany\",\"Indonesia\",\"Japan\",\"United States\",\"India\",\"China\"],\"type\":\"bar\"},{\"marker\":{\"color\":[\"rgb(165, 194, 136)\",\"rgb(135, 16, 139)\",\"rgb(166, 146, 31)\",\"rgb(85, 25, 142)\",\"rgb(121, 88, 255)\",\"rgb(193, 110, 4)\",\"rgb(86, 32, 190)\",\"rgb(31, 220, 188)\",\"rgb(215, 240, 95)\",\"rgb(48, 129, 140)\"]},\"name\":\"1957\",\"orientation\":\"h\",\"x\":[49182000,51365468,51430000,65551171,71019069,90124000,91563009,171984000,409000000,637408000],\"y\":[\"Italy\",\"Bangladesh\",\"United Kingdom\",\"Brazil\",\"Germany\",\"Indonesia\",\"Japan\",\"United States\",\"India\",\"China\"],\"type\":\"bar\"},{\"marker\":{\"color\":[\"rgb(70, 178, 198)\",\"rgb(166, 146, 31)\",\"rgb(135, 16, 139)\",\"rgb(121, 88, 255)\",\"rgb(85, 25, 142)\",\"rgb(86, 32, 190)\",\"rgb(193, 110, 4)\",\"rgb(31, 220, 188)\",\"rgb(215, 240, 95)\",\"rgb(48, 129, 140)\"]},\"name\":\"1962\",\"orientation\":\"h\",\"x\":[53100671,53292000,56839289,73739117,76039390,95831757,99028000,186538000,454000000,665770000],\"y\":[\"Pakistan\",\"United Kingdom\",\"Bangladesh\",\"Germany\",\"Brazil\",\"Japan\",\"Indonesia\",\"United States\",\"India\",\"China\"],\"type\":\"bar\"},{\"marker\":{\"color\":[\"rgb(166, 146, 31)\",\"rgb(70, 178, 198)\",\"rgb(135, 16, 139)\",\"rgb(121, 88, 255)\",\"rgb(85, 25, 142)\",\"rgb(86, 32, 190)\",\"rgb(193, 110, 4)\",\"rgb(31, 220, 188)\",\"rgb(215, 240, 95)\",\"rgb(48, 129, 140)\"]},\"name\":\"1967\",\"orientation\":\"h\",\"x\":[54959000,60641899,62821884,76368453,88049823,100825279,109343000,198712000,506000000,754550000],\"y\":[\"United Kingdom\",\"Pakistan\",\"Bangladesh\",\"Germany\",\"Brazil\",\"Japan\",\"Indonesia\",\"United States\",\"India\",\"China\"],\"type\":\"bar\"},{\"marker\":{\"color\":[\"rgb(166, 146, 31)\",\"rgb(70, 178, 198)\",\"rgb(135, 16, 139)\",\"rgb(121, 88, 255)\",\"rgb(85, 25, 142)\",\"rgb(86, 32, 190)\",\"rgb(193, 110, 4)\",\"rgb(31, 220, 188)\",\"rgb(215, 240, 95)\",\"rgb(48, 129, 140)\"]},\"name\":\"1972\",\"orientation\":\"h\",\"x\":[56079000,69325921,70759295,78717088,100840058,107188273,121282000,209896000,567000000,862030000],\"y\":[\"United Kingdom\",\"Pakistan\",\"Bangladesh\",\"Germany\",\"Brazil\",\"Japan\",\"Indonesia\",\"United States\",\"India\",\"China\"],\"type\":\"bar\"},{\"marker\":{\"color\":[\"rgb(220, 23, 22)\",\"rgb(70, 178, 198)\",\"rgb(121, 88, 255)\",\"rgb(135, 16, 139)\",\"rgb(86, 32, 190)\",\"rgb(85, 25, 142)\",\"rgb(193, 110, 4)\",\"rgb(31, 220, 188)\",\"rgb(215, 240, 95)\",\"rgb(48, 129, 140)\"]},\"name\":\"1977\",\"orientation\":\"h\",\"x\":[63759976,78152686,78160773,80428306,113872473,114313951,136725000,220239000,634000000,943455000],\"y\":[\"Mexico\",\"Pakistan\",\"Germany\",\"Bangladesh\",\"Japan\",\"Brazil\",\"Indonesia\",\"United States\",\"India\",\"China\"],\"type\":\"bar\"},{\"marker\":{\"color\":[\"rgb(172, 251, 92)\",\"rgb(121, 88, 255)\",\"rgb(70, 178, 198)\",\"rgb(135, 16, 139)\",\"rgb(86, 32, 190)\",\"rgb(85, 25, 142)\",\"rgb(193, 110, 4)\",\"rgb(31, 220, 188)\",\"rgb(215, 240, 95)\",\"rgb(48, 129, 140)\"]},\"name\":\"1982\",\"orientation\":\"h\",\"x\":[73039376,78335266,91462088,93074406,118454974,128962939,153343000,232187835,708000000,1000281000],\"y\":[\"Nigeria\",\"Germany\",\"Pakistan\",\"Bangladesh\",\"Japan\",\"Brazil\",\"Indonesia\",\"United States\",\"India\",\"China\"],\"type\":\"bar\"},{\"marker\":{\"color\":[\"rgb(220, 23, 22)\",\"rgb(172, 251, 92)\",\"rgb(135, 16, 139)\",\"rgb(70, 178, 198)\",\"rgb(86, 32, 190)\",\"rgb(85, 25, 142)\",\"rgb(193, 110, 4)\",\"rgb(31, 220, 188)\",\"rgb(215, 240, 95)\",\"rgb(48, 129, 140)\"]},\"name\":\"1987\",\"orientation\":\"h\",\"x\":[80122492,81551520,103764241,105186881,122091325,142938076,169276000,242803533,788000000,1084035000],\"y\":[\"Mexico\",\"Nigeria\",\"Bangladesh\",\"Pakistan\",\"Japan\",\"Brazil\",\"Indonesia\",\"United States\",\"India\",\"China\"],\"type\":\"bar\"},{\"marker\":{\"color\":[\"rgb(220, 23, 22)\",\"rgb(172, 251, 92)\",\"rgb(135, 16, 139)\",\"rgb(70, 178, 198)\",\"rgb(86, 32, 190)\",\"rgb(85, 25, 142)\",\"rgb(193, 110, 4)\",\"rgb(31, 220, 188)\",\"rgb(215, 240, 95)\",\"rgb(48, 129, 140)\"]},\"name\":\"1992\",\"orientation\":\"h\",\"x\":[88111030,93364244,113704579,120065004,124329269,155975974,184816000,256894189,872000000,1164970000],\"y\":[\"Mexico\",\"Nigeria\",\"Bangladesh\",\"Pakistan\",\"Japan\",\"Brazil\",\"Indonesia\",\"United States\",\"India\",\"China\"],\"type\":\"bar\"},{\"marker\":{\"color\":[\"rgb(220, 23, 22)\",\"rgb(172, 251, 92)\",\"rgb(135, 16, 139)\",\"rgb(86, 32, 190)\",\"rgb(70, 178, 198)\",\"rgb(85, 25, 142)\",\"rgb(193, 110, 4)\",\"rgb(31, 220, 188)\",\"rgb(215, 240, 95)\",\"rgb(48, 129, 140)\"]},\"name\":\"1997\",\"orientation\":\"h\",\"x\":[95895146,106207839,123315288,125956499,135564834,168546719,199278000,272911760,959000000,1230075000],\"y\":[\"Mexico\",\"Nigeria\",\"Bangladesh\",\"Japan\",\"Pakistan\",\"Brazil\",\"Indonesia\",\"United States\",\"India\",\"China\"],\"type\":\"bar\"},{\"marker\":{\"color\":[\"rgb(220, 23, 22)\",\"rgb(172, 251, 92)\",\"rgb(86, 32, 190)\",\"rgb(135, 16, 139)\",\"rgb(70, 178, 198)\",\"rgb(85, 25, 142)\",\"rgb(193, 110, 4)\",\"rgb(31, 220, 188)\",\"rgb(215, 240, 95)\",\"rgb(48, 129, 140)\"]},\"name\":\"2002\",\"orientation\":\"h\",\"x\":[102479927,119901274,127065841,135656790,153403524,179914212,211060000,287675526,1034172547,1280400000],\"y\":[\"Mexico\",\"Nigeria\",\"Japan\",\"Bangladesh\",\"Pakistan\",\"Brazil\",\"Indonesia\",\"United States\",\"India\",\"China\"],\"type\":\"bar\",\"visible\":true},{\"marker\":{\"color\":[\"rgb(220, 23, 22)\",\"rgb(86, 32, 190)\",\"rgb(172, 251, 92)\",\"rgb(135, 16, 139)\",\"rgb(70, 178, 198)\",\"rgb(85, 25, 142)\",\"rgb(193, 110, 4)\",\"rgb(31, 220, 188)\",\"rgb(215, 240, 95)\",\"rgb(48, 129, 140)\"]},\"name\":\"2007\",\"orientation\":\"h\",\"x\":[108700891,127467972,135031164,150448339,169270617,190010647,223547000,301139947,1110396331,1318683096],\"y\":[\"Mexico\",\"Japan\",\"Nigeria\",\"Bangladesh\",\"Pakistan\",\"Brazil\",\"Indonesia\",\"United States\",\"India\",\"China\"],\"type\":\"bar\"}],                        {\"template\":{\"data\":{\"histogram2dcontour\":[{\"type\":\"histogram2dcontour\",\"colorbar\":{\"outlinewidth\":0,\"ticks\":\"\"},\"colorscale\":[[0.0,\"#0d0887\"],[0.1111111111111111,\"#46039f\"],[0.2222222222222222,\"#7201a8\"],[0.3333333333333333,\"#9c179e\"],[0.4444444444444444,\"#bd3786\"],[0.5555555555555556,\"#d8576b\"],[0.6666666666666666,\"#ed7953\"],[0.7777777777777778,\"#fb9f3a\"],[0.8888888888888888,\"#fdca26\"],[1.0,\"#f0f921\"]]}],\"choropleth\":[{\"type\":\"choropleth\",\"colorbar\":{\"outlinewidth\":0,\"ticks\":\"\"}}],\"histogram2d\":[{\"type\":\"histogram2d\",\"colorbar\":{\"outlinewidth\":0,\"ticks\":\"\"},\"colorscale\":[[0.0,\"#0d0887\"],[0.1111111111111111,\"#46039f\"],[0.2222222222222222,\"#7201a8\"],[0.3333333333333333,\"#9c179e\"],[0.4444444444444444,\"#bd3786\"],[0.5555555555555556,\"#d8576b\"],[0.6666666666666666,\"#ed7953\"],[0.7777777777777778,\"#fb9f3a\"],[0.8888888888888888,\"#fdca26\"],[1.0,\"#f0f921\"]]}],\"heatmap\":[{\"type\":\"heatmap\",\"colorbar\":{\"outlinewidth\":0,\"ticks\":\"\"},\"colorscale\":[[0.0,\"#0d0887\"],[0.1111111111111111,\"#46039f\"],[0.2222222222222222,\"#7201a8\"],[0.3333333333333333,\"#9c179e\"],[0.4444444444444444,\"#bd3786\"],[0.5555555555555556,\"#d8576b\"],[0.6666666666666666,\"#ed7953\"],[0.7777777777777778,\"#fb9f3a\"],[0.8888888888888888,\"#fdca26\"],[1.0,\"#f0f921\"]]}],\"heatmapgl\":[{\"type\":\"heatmapgl\",\"colorbar\":{\"outlinewidth\":0,\"ticks\":\"\"},\"colorscale\":[[0.0,\"#0d0887\"],[0.1111111111111111,\"#46039f\"],[0.2222222222222222,\"#7201a8\"],[0.3333333333333333,\"#9c179e\"],[0.4444444444444444,\"#bd3786\"],[0.5555555555555556,\"#d8576b\"],[0.6666666666666666,\"#ed7953\"],[0.7777777777777778,\"#fb9f3a\"],[0.8888888888888888,\"#fdca26\"],[1.0,\"#f0f921\"]]}],\"contourcarpet\":[{\"type\":\"contourcarpet\",\"colorbar\":{\"outlinewidth\":0,\"ticks\":\"\"}}],\"contour\":[{\"type\":\"contour\",\"colorbar\":{\"outlinewidth\":0,\"ticks\":\"\"},\"colorscale\":[[0.0,\"#0d0887\"],[0.1111111111111111,\"#46039f\"],[0.2222222222222222,\"#7201a8\"],[0.3333333333333333,\"#9c179e\"],[0.4444444444444444,\"#bd3786\"],[0.5555555555555556,\"#d8576b\"],[0.6666666666666666,\"#ed7953\"],[0.7777777777777778,\"#fb9f3a\"],[0.8888888888888888,\"#fdca26\"],[1.0,\"#f0f921\"]]}],\"surface\":[{\"type\":\"surface\",\"colorbar\":{\"outlinewidth\":0,\"ticks\":\"\"},\"colorscale\":[[0.0,\"#0d0887\"],[0.1111111111111111,\"#46039f\"],[0.2222222222222222,\"#7201a8\"],[0.3333333333333333,\"#9c179e\"],[0.4444444444444444,\"#bd3786\"],[0.5555555555555556,\"#d8576b\"],[0.6666666666666666,\"#ed7953\"],[0.7777777777777778,\"#fb9f3a\"],[0.8888888888888888,\"#fdca26\"],[1.0,\"#f0f921\"]]}],\"mesh3d\":[{\"type\":\"mesh3d\",\"colorbar\":{\"outlinewidth\":0,\"ticks\":\"\"}}],\"scatter\":[{\"fillpattern\":{\"fillmode\":\"overlay\",\"size\":10,\"solidity\":0.2},\"type\":\"scatter\"}],\"parcoords\":[{\"type\":\"parcoords\",\"line\":{\"colorbar\":{\"outlinewidth\":0,\"ticks\":\"\"}}}],\"scatterpolargl\":[{\"type\":\"scatterpolargl\",\"marker\":{\"colorbar\":{\"outlinewidth\":0,\"ticks\":\"\"}}}],\"bar\":[{\"error_x\":{\"color\":\"#2a3f5f\"},\"error_y\":{\"color\":\"#2a3f5f\"},\"marker\":{\"line\":{\"color\":\"#E5ECF6\",\"width\":0.5},\"pattern\":{\"fillmode\":\"overlay\",\"size\":10,\"solidity\":0.2}},\"type\":\"bar\"}],\"scattergeo\":[{\"type\":\"scattergeo\",\"marker\":{\"colorbar\":{\"outlinewidth\":0,\"ticks\":\"\"}}}],\"scatterpolar\":[{\"type\":\"scatterpolar\",\"marker\":{\"colorbar\":{\"outlinewidth\":0,\"ticks\":\"\"}}}],\"histogram\":[{\"marker\":{\"pattern\":{\"fillmode\":\"overlay\",\"size\":10,\"solidity\":0.2}},\"type\":\"histogram\"}],\"scattergl\":[{\"type\":\"scattergl\",\"marker\":{\"colorbar\":{\"outlinewidth\":0,\"ticks\":\"\"}}}],\"scatter3d\":[{\"type\":\"scatter3d\",\"line\":{\"colorbar\":{\"outlinewidth\":0,\"ticks\":\"\"}},\"marker\":{\"colorbar\":{\"outlinewidth\":0,\"ticks\":\"\"}}}],\"scattermapbox\":[{\"type\":\"scattermapbox\",\"marker\":{\"colorbar\":{\"outlinewidth\":0,\"ticks\":\"\"}}}],\"scatterternary\":[{\"type\":\"scatterternary\",\"marker\":{\"colorbar\":{\"outlinewidth\":0,\"ticks\":\"\"}}}],\"scattercarpet\":[{\"type\":\"scattercarpet\",\"marker\":{\"colorbar\":{\"outlinewidth\":0,\"ticks\":\"\"}}}],\"carpet\":[{\"aaxis\":{\"endlinecolor\":\"#2a3f5f\",\"gridcolor\":\"white\",\"linecolor\":\"white\",\"minorgridcolor\":\"white\",\"startlinecolor\":\"#2a3f5f\"},\"baxis\":{\"endlinecolor\":\"#2a3f5f\",\"gridcolor\":\"white\",\"linecolor\":\"white\",\"minorgridcolor\":\"white\",\"startlinecolor\":\"#2a3f5f\"},\"type\":\"carpet\"}],\"table\":[{\"cells\":{\"fill\":{\"color\":\"#EBF0F8\"},\"line\":{\"color\":\"white\"}},\"header\":{\"fill\":{\"color\":\"#C8D4E3\"},\"line\":{\"color\":\"white\"}},\"type\":\"table\"}],\"barpolar\":[{\"marker\":{\"line\":{\"color\":\"#E5ECF6\",\"width\":0.5},\"pattern\":{\"fillmode\":\"overlay\",\"size\":10,\"solidity\":0.2}},\"type\":\"barpolar\"}],\"pie\":[{\"automargin\":true,\"type\":\"pie\"}]},\"layout\":{\"autotypenumbers\":\"strict\",\"colorway\":[\"#636efa\",\"#EF553B\",\"#00cc96\",\"#ab63fa\",\"#FFA15A\",\"#19d3f3\",\"#FF6692\",\"#B6E880\",\"#FF97FF\",\"#FECB52\"],\"font\":{\"color\":\"#2a3f5f\"},\"hovermode\":\"closest\",\"hoverlabel\":{\"align\":\"left\"},\"paper_bgcolor\":\"white\",\"plot_bgcolor\":\"#E5ECF6\",\"polar\":{\"bgcolor\":\"#E5ECF6\",\"angularaxis\":{\"gridcolor\":\"white\",\"linecolor\":\"white\",\"ticks\":\"\"},\"radialaxis\":{\"gridcolor\":\"white\",\"linecolor\":\"white\",\"ticks\":\"\"}},\"ternary\":{\"bgcolor\":\"#E5ECF6\",\"aaxis\":{\"gridcolor\":\"white\",\"linecolor\":\"white\",\"ticks\":\"\"},\"baxis\":{\"gridcolor\":\"white\",\"linecolor\":\"white\",\"ticks\":\"\"},\"caxis\":{\"gridcolor\":\"white\",\"linecolor\":\"white\",\"ticks\":\"\"}},\"coloraxis\":{\"colorbar\":{\"outlinewidth\":0,\"ticks\":\"\"}},\"colorscale\":{\"sequential\":[[0.0,\"#0d0887\"],[0.1111111111111111,\"#46039f\"],[0.2222222222222222,\"#7201a8\"],[0.3333333333333333,\"#9c179e\"],[0.4444444444444444,\"#bd3786\"],[0.5555555555555556,\"#d8576b\"],[0.6666666666666666,\"#ed7953\"],[0.7777777777777778,\"#fb9f3a\"],[0.8888888888888888,\"#fdca26\"],[1.0,\"#f0f921\"]],\"sequentialminus\":[[0.0,\"#0d0887\"],[0.1111111111111111,\"#46039f\"],[0.2222222222222222,\"#7201a8\"],[0.3333333333333333,\"#9c179e\"],[0.4444444444444444,\"#bd3786\"],[0.5555555555555556,\"#d8576b\"],[0.6666666666666666,\"#ed7953\"],[0.7777777777777778,\"#fb9f3a\"],[0.8888888888888888,\"#fdca26\"],[1.0,\"#f0f921\"]],\"diverging\":[[0,\"#8e0152\"],[0.1,\"#c51b7d\"],[0.2,\"#de77ae\"],[0.3,\"#f1b6da\"],[0.4,\"#fde0ef\"],[0.5,\"#f7f7f7\"],[0.6,\"#e6f5d0\"],[0.7,\"#b8e186\"],[0.8,\"#7fbc41\"],[0.9,\"#4d9221\"],[1,\"#276419\"]]},\"xaxis\":{\"gridcolor\":\"white\",\"linecolor\":\"white\",\"ticks\":\"\",\"title\":{\"standoff\":15},\"zerolinecolor\":\"white\",\"automargin\":true,\"zerolinewidth\":2},\"yaxis\":{\"gridcolor\":\"white\",\"linecolor\":\"white\",\"ticks\":\"\",\"title\":{\"standoff\":15},\"zerolinecolor\":\"white\",\"automargin\":true,\"zerolinewidth\":2},\"scene\":{\"xaxis\":{\"backgroundcolor\":\"#E5ECF6\",\"gridcolor\":\"white\",\"linecolor\":\"white\",\"showbackground\":true,\"ticks\":\"\",\"zerolinecolor\":\"white\",\"gridwidth\":2},\"yaxis\":{\"backgroundcolor\":\"#E5ECF6\",\"gridcolor\":\"white\",\"linecolor\":\"white\",\"showbackground\":true,\"ticks\":\"\",\"zerolinecolor\":\"white\",\"gridwidth\":2},\"zaxis\":{\"backgroundcolor\":\"#E5ECF6\",\"gridcolor\":\"white\",\"linecolor\":\"white\",\"showbackground\":true,\"ticks\":\"\",\"zerolinecolor\":\"white\",\"gridwidth\":2}},\"shapedefaults\":{\"line\":{\"color\":\"#2a3f5f\"}},\"annotationdefaults\":{\"arrowcolor\":\"#2a3f5f\",\"arrowhead\":0,\"arrowwidth\":1},\"geo\":{\"bgcolor\":\"white\",\"landcolor\":\"#E5ECF6\",\"subunitcolor\":\"white\",\"showland\":true,\"showlakes\":true,\"lakecolor\":\"white\"},\"title\":{\"x\":0.05},\"mapbox\":{\"style\":\"light\"}}},\"xaxis\":{\"title\":{\"text\":\"Population\"},\"range\":[0,1450551405.6000001]},\"sliders\":[{\"active\":10,\"currentvalue\":{\"prefix\":\"Year: \"},\"pad\":{\"t\":50},\"steps\":[{\"args\":[\"visible\",[true,false,false,false,false,false,false,false,false,false,false,false]],\"label\":\"1952\",\"method\":\"restyle\"},{\"args\":[\"visible\",[false,true,false,false,false,false,false,false,false,false,false,false]],\"label\":\"1957\",\"method\":\"restyle\"},{\"args\":[\"visible\",[false,false,true,false,false,false,false,false,false,false,false,false]],\"label\":\"1962\",\"method\":\"restyle\"},{\"args\":[\"visible\",[false,false,false,true,false,false,false,false,false,false,false,false]],\"label\":\"1967\",\"method\":\"restyle\"},{\"args\":[\"visible\",[false,false,false,false,true,false,false,false,false,false,false,false]],\"label\":\"1972\",\"method\":\"restyle\"},{\"args\":[\"visible\",[false,false,false,false,false,true,false,false,false,false,false,false]],\"label\":\"1977\",\"method\":\"restyle\"},{\"args\":[\"visible\",[false,false,false,false,false,false,true,false,false,false,false,false]],\"label\":\"1982\",\"method\":\"restyle\"},{\"args\":[\"visible\",[false,false,false,false,false,false,false,true,false,false,false,false]],\"label\":\"1987\",\"method\":\"restyle\"},{\"args\":[\"visible\",[false,false,false,false,false,false,false,false,true,false,false,false]],\"label\":\"1992\",\"method\":\"restyle\"},{\"args\":[\"visible\",[false,false,false,false,false,false,false,false,false,true,false,false]],\"label\":\"1997\",\"method\":\"restyle\"},{\"args\":[\"visible\",[false,false,false,false,false,false,false,false,false,false,true,false]],\"label\":\"2002\",\"method\":\"restyle\"},{\"args\":[\"visible\",[false,false,false,false,false,false,false,false,false,false,false,true]],\"label\":\"2007\",\"method\":\"restyle\"}]}],\"yaxis\":{\"title\":{\"text\":\"Continent\"}}},                        {\"responsive\": true}                    ).then(function(){\n",
       "                            \n",
       "var gd = document.getElementById('305fd30f-fe12-4f9f-bb2a-5199855adc69');\n",
       "var x = new MutationObserver(function (mutations, observer) {{\n",
       "        var display = window.getComputedStyle(gd).display;\n",
       "        if (!display || display === 'none') {{\n",
       "            console.log([gd, 'removed!']);\n",
       "            Plotly.purge(gd);\n",
       "            observer.disconnect();\n",
       "        }}\n",
       "}});\n",
       "\n",
       "// Listen for the removal of the full notebook cells\n",
       "var notebookContainer = gd.closest('#notebook-container');\n",
       "if (notebookContainer) {{\n",
       "    x.observe(notebookContainer, {childList: true});\n",
       "}}\n",
       "\n",
       "// Listen for the clearing of the current output cell\n",
       "var outputEl = gd.closest('.output');\n",
       "if (outputEl) {{\n",
       "    x.observe(outputEl, {childList: true});\n",
       "}}\n",
       "\n",
       "                        })                };                });            </script>        </div>"
      ]
     },
     "metadata": {},
     "output_type": "display_data"
    }
   ],
   "source": [
    "# YOUR CODE HERE\n",
    "import plotly.graph_objects as go\n",
    "import numpy as np\n",
    "import random as random\n",
    "\n",
    "fig = go.Figure()\n",
    "\n",
    "df = px.data.gapminder()\n",
    "country_colors = {}\n",
    "\n",
    "for i, country in enumerate(df[\"country\"]):\n",
    "    if country not in country_colors:\n",
    "        country_colors[country] = f'rgb({random.randint(0, 255)}, {random.randint(0, 255)}, {random.randint(0, 255)})'\n",
    "\n",
    "for year in np.arange(1952, 2008, 5):\n",
    "    df = px.data.gapminder()\n",
    "    df = df[df[\"year\"] == year]\n",
    "    \n",
    "    sorted_df = df.sort_values(by=\"pop\", ascending=False)\n",
    "    top_sorted_df = sorted_df.head(10)\n",
    "    double_sorted_df = top_sorted_df.sort_values(by=\"pop\", ascending=True)\n",
    "\n",
    "    colors = [country_colors[country] for country in double_sorted_df[\"country\"]]\n",
    "\n",
    "\n",
    "    fig.add_trace(\n",
    "        go.Bar(\n",
    "            x=double_sorted_df[\"pop\"],\n",
    "            y=double_sorted_df[\"country\"],\n",
    "            orientation='h',\n",
    "            name=str(year),\n",
    "            marker_color=colors\n",
    "        ) \n",
    "    )\n",
    "    \n",
    "\n",
    "fig.data[10].visible = True\n",
    "\n",
    "steps = []\n",
    "for i in range(len(fig.data)):\n",
    "    step = dict(\n",
    "        method=\"restyle\",\n",
    "        args=[\"visible\", [False] * len(fig.data)],\n",
    "        label=str(1952 + 5*i)\n",
    "    )\n",
    "    step[\"args\"][1][i] = True\n",
    "    steps.append(step)\n",
    "\n",
    "sliders = [dict(\n",
    "    active=10,\n",
    "    steps=steps,\n",
    "    pad={\"t\": 50},\n",
    "    currentvalue={\"prefix\": \"Year: \"}\n",
    ")]\n",
    "\n",
    "xaxis_range = [0, sorted_df[\"pop\"].max() * 1.1]\n",
    "\n",
    "fig.update_layout(\n",
    "    sliders=sliders,\n",
    "    xaxis_title=\"Population\",\n",
    "    yaxis_title=\"Continent\",\n",
    "    xaxis=dict(range=xaxis_range),\n",
    ")\n",
    "\n",
    "\n",
    "fig.show()"
   ]
  }
 ],
 "metadata": {
  "kernelspec": {
   "display_name": "Python 3.7.13 ('TIL6022')",
   "language": "python",
   "name": "python3"
  },
  "language_info": {
   "codemirror_mode": {
    "name": "ipython",
    "version": 3
   },
   "file_extension": ".py",
   "mimetype": "text/x-python",
   "name": "python",
   "nbconvert_exporter": "python",
   "pygments_lexer": "ipython3",
   "version": "3.8.6"
  },
  "vscode": {
   "interpreter": {
    "hash": "235118494f6096765c1deb9d143943fcb560fd7b79d70fb1cbb738bbc852222c"
   }
  }
 },
 "nbformat": 4,
 "nbformat_minor": 5
}
